{
  "nbformat": 4,
  "nbformat_minor": 0,
  "metadata": {
    "colab": {
      "provenance": [],
      "toc_visible": true
    },
    "kernelspec": {
      "name": "python3",
      "display_name": "Python 3"
    },
    "language_info": {
      "name": "python"
    }
  },
  "cells": [
    {
      "cell_type": "markdown",
      "source": [
        "# Introduction"
      ],
      "metadata": {
        "id": "BhuB3NS2ydXa"
      }
    },
    {
      "cell_type": "markdown",
      "source": [
        "This project has been created using the \"Flight Radar API\" from \"Rapid API\" (https://rapidapi.com/apidojo/api/flight-radar1), who tracks the informations form FlightRadar24 (https://www.flightradar24.com/).\n",
        "\n",
        "The aim of this project is to showcase how PySpark can be used to manage data."
      ],
      "metadata": {
        "id": "_iT73SoPyolv"
      }
    },
    {
      "cell_type": "markdown",
      "source": [
        "# Importing libraries"
      ],
      "metadata": {
        "id": "8yWUVd-9ydfx"
      }
    },
    {
      "cell_type": "code",
      "source": [
        "!pip install pyspark"
      ],
      "metadata": {
        "colab": {
          "base_uri": "https://localhost:8080/"
        },
        "id": "0YGXAW0Y_mCo",
        "outputId": "f8e3fc19-7714-42ff-fc54-6be1ef57a596"
      },
      "execution_count": 1,
      "outputs": [
        {
          "output_type": "stream",
          "name": "stdout",
          "text": [
            "Requirement already satisfied: pyspark in /usr/local/lib/python3.10/dist-packages (3.5.2)\n",
            "Requirement already satisfied: py4j==0.10.9.7 in /usr/local/lib/python3.10/dist-packages (from pyspark) (0.10.9.7)\n"
          ]
        }
      ]
    },
    {
      "cell_type": "code",
      "source": [
        "from pyspark.sql import SparkSession, Row, Window\n",
        "from pyspark.sql.types import *\n",
        "from pyspark.sql.functions import col, row_number, when, desc, from_unixtime, length, substring\n",
        "\n",
        "import pandas\n",
        "import csv\n",
        "import requests\n",
        "import json\n",
        "import time"
      ],
      "metadata": {
        "id": "bx0zZhfe_dYN"
      },
      "execution_count": 2,
      "outputs": []
    },
    {
      "cell_type": "code",
      "source": [
        "from google.colab import drive\n",
        "drive.mount('/content/drive')\n",
        "\n",
        "folder = \"/content/drive/MyDrive/portfolio/spark_flight_data/\""
      ],
      "metadata": {
        "colab": {
          "base_uri": "https://localhost:8080/"
        },
        "id": "9w-XRHL34ok0",
        "outputId": "5d914882-71d0-405d-c5fa-cfe78ea5dbfa"
      },
      "execution_count": 3,
      "outputs": [
        {
          "output_type": "stream",
          "name": "stdout",
          "text": [
            "Drive already mounted at /content/drive; to attempt to forcibly remount, call drive.mount(\"/content/drive\", force_remount=True).\n"
          ]
        }
      ]
    },
    {
      "cell_type": "code",
      "source": [
        "with open(folder + \"headers.json\", \"r\") as f:\n",
        "  headers = json.load(f)"
      ],
      "metadata": {
        "id": "dmttNsQbvboZ"
      },
      "execution_count": 4,
      "outputs": []
    },
    {
      "cell_type": "markdown",
      "source": [
        "# Creating Spark Session"
      ],
      "metadata": {
        "id": "ucJHleJ0g6vf"
      }
    },
    {
      "cell_type": "code",
      "source": [
        "spark = SparkSession\\\n",
        "        .builder\\\n",
        "        .appName(\"flight_data\")\\\n",
        "        .getOrCreate()"
      ],
      "metadata": {
        "id": "2clhiUZmLRvz"
      },
      "execution_count": 5,
      "outputs": []
    },
    {
      "cell_type": "markdown",
      "source": [
        "# Creating function to fetch data stored as list"
      ],
      "metadata": {
        "id": "czgYqa6FVFX9"
      }
    },
    {
      "cell_type": "code",
      "source": [
        "def getDataList(file_path, url, headers):\n",
        "  \"\"\"\n",
        "  Get data from API for airlines/list, airports/list and aircrafts/list.\n",
        "\n",
        "  Argument:\n",
        "    file_path: str\n",
        "      If file exist, it will be used as data source. If not, path file to store\n",
        "      data is created.\n",
        "    url: str\n",
        "      url of the API\n",
        "    headers: dict\n",
        "      Identification data to use the API\n",
        "\n",
        "  Return:\n",
        "    List of dictionary containing the data requested\n",
        "  \"\"\"\n",
        "  # Chek if data already available as a file. If not, fetch data from API.\n",
        "  try:\n",
        "    # Open file\n",
        "    f = open(file_path)\n",
        "    # Read file\n",
        "    data = json.load(f)\n",
        "\n",
        "  except:\n",
        "\n",
        "    # Get response from API\n",
        "    response = requests.get(url, headers=headers)\n",
        "\n",
        "    # Save requested data in a new var\n",
        "    data = response.json()['rows']\n",
        "\n",
        "    # Save data in a new file\n",
        "    with open(file_path, 'w') as f:\n",
        "      json.dump(data, f)\n",
        "\n",
        "  # Return data\n",
        "  return data"
      ],
      "metadata": {
        "id": "0ggCEwBV_165"
      },
      "execution_count": 6,
      "outputs": []
    },
    {
      "cell_type": "markdown",
      "source": [
        "# Airline information"
      ],
      "metadata": {
        "id": "J6R6aO8a50Wx"
      }
    },
    {
      "cell_type": "markdown",
      "source": [
        "## Importing JSON"
      ],
      "metadata": {
        "id": "yfonggZeJ6tt"
      }
    },
    {
      "cell_type": "code",
      "source": [
        "# Name of file to use or create\n",
        "airline_file = 'airline_data.json'\n",
        "\n",
        "# Url of the API to call\n",
        "airline_url = \"https://flight-radar1.p.rapidapi.com/airlines/list\"\n",
        "\n",
        "# Fetching data from API\n",
        "airline_data = getDataList(folder + airline_file, airline_url, headers=headers)\n",
        "\n",
        "# Print data\n",
        "airline_data[0:5]"
      ],
      "metadata": {
        "id": "Xvo7UjqChsgv",
        "colab": {
          "base_uri": "https://localhost:8080/"
        },
        "outputId": "8924b4c6-eb0d-448d-ea03-b51a92bd145e"
      },
      "execution_count": 7,
      "outputs": [
        {
          "output_type": "execute_result",
          "data": {
            "text/plain": [
              "[{'Name': '21 Air', 'Code': '2I', 'ICAO': 'CSB'},\n",
              " {'Name': '247 Aviation', 'Code': '', 'ICAO': 'EMC'},\n",
              " {'Name': '2Excel Aviation', 'Code': '', 'ICAO': 'BRO'},\n",
              " {'Name': '4 Airways', 'Code': '', 'ICAO': 'DAK'},\n",
              " {'Name': '40-Mile Air', 'Code': 'Q5', 'ICAO': 'MLA'}]"
            ]
          },
          "metadata": {},
          "execution_count": 7
        }
      ]
    },
    {
      "cell_type": "markdown",
      "source": [
        "## Creating airline_dim"
      ],
      "metadata": {
        "id": "1j0TpRYMKD3N"
      }
    },
    {
      "cell_type": "code",
      "source": [
        "# Creating a RDD using airline_data\n",
        "airline_rdd = spark.sparkContext.parallelize(airline_data)\n",
        "\n",
        "# Convert RDD in DataFrame\n",
        "airline_dim = spark.read.json(airline_rdd)\n",
        "\n",
        "# Print\n",
        "airline_dim.show()"
      ],
      "metadata": {
        "colab": {
          "base_uri": "https://localhost:8080/"
        },
        "id": "AmW-WRoGLGUr",
        "outputId": "ad2e8f6d-c15f-4672-b344-2fc8db7f4bad"
      },
      "execution_count": 8,
      "outputs": [
        {
          "output_type": "stream",
          "name": "stdout",
          "text": [
            "+----+----+------------------+\n",
            "|Code|ICAO|              Name|\n",
            "+----+----+------------------+\n",
            "|  2I| CSB|            21 Air|\n",
            "|    | EMC|      247 Aviation|\n",
            "|    | BRO|   2Excel Aviation|\n",
            "|    | DAK|         4 Airways|\n",
            "|  Q5| MLA|       40-Mile Air|\n",
            "|  FE| IHO|  748 Air Services|\n",
            "|  AQ| JYH|             9 Air|\n",
            "|  S5| NKP|        Abakan Air|\n",
            "|    | ABP|          ABS Jets|\n",
            "|    | BAR|Abu Dhabi Aviation|\n",
            "|  GB| ABX|           ABX Air|\n",
            "|    | SON|     Acass Ireland|\n",
            "|  AN| WSN|      Advanced Air|\n",
            "|  A3| AEE|   Aegean Airlines|\n",
            "|  EI| EIN|        Aer Lingus|\n",
            "|  EG| EUK|     Aer Lingus UK|\n",
            "|  JK| ACL|         AerCaribe|\n",
            "|  5E| BLK|              Aero|\n",
            "|  N2| NIG|              Aero|\n",
            "|    | AKF|        Aero Asahi|\n",
            "+----+----+------------------+\n",
            "only showing top 20 rows\n",
            "\n"
          ]
        }
      ]
    },
    {
      "cell_type": "markdown",
      "source": [
        "# Airports information"
      ],
      "metadata": {
        "id": "88a2G1rv5_2E"
      }
    },
    {
      "cell_type": "code",
      "source": [
        "# Name of file to use or create\n",
        "airports_file = 'airports_data.json'\n",
        "\n",
        "# Url of the API to call\n",
        "airports_url = \"https://flight-radar1.p.rapidapi.com/airports/list\"\n",
        "\n",
        "# Fetching data from API\n",
        "airports_data = getDataList(folder + airports_file, airports_url, headers=headers)\n",
        "\n",
        "# Print data\n",
        "airports_data[0:5]"
      ],
      "metadata": {
        "id": "NGuWB6KaOrD1",
        "colab": {
          "base_uri": "https://localhost:8080/"
        },
        "outputId": "20b014f1-06d8-472d-9b71-ecd6d0acfbb9"
      },
      "execution_count": 9,
      "outputs": [
        {
          "output_type": "execute_result",
          "data": {
            "text/plain": [
              "[{'id': 1900,\n",
              "  'name': 'A Coruna Airport',\n",
              "  'iata': 'LCG',\n",
              "  'icao': 'LECO',\n",
              "  'city': 'A Coruna',\n",
              "  'lat': 43.302059,\n",
              "  'lon': -8.37725,\n",
              "  'country': 'Spain',\n",
              "  'alt': 326,\n",
              "  'size': 4686,\n",
              "  'timezone': {'name': 'Europe/Madrid',\n",
              "   'offset': 7200,\n",
              "   'offsetHours': '2:00',\n",
              "   'abbr': 'CEST',\n",
              "   'abbrName': 'Central European Summer Time',\n",
              "   'isDst': True},\n",
              "  'countryId': 209},\n",
              " {'id': 3,\n",
              "  'name': 'Aachen Merzbruck Airport',\n",
              "  'iata': 'AAH',\n",
              "  'icao': 'EDKA',\n",
              "  'city': 'Aachen',\n",
              "  'lat': 50.821899,\n",
              "  'lon': 6.184759,\n",
              "  'country': 'Germany',\n",
              "  'alt': 626,\n",
              "  'size': 1491,\n",
              "  'timezone': {'name': 'Europe/Berlin',\n",
              "   'offset': 7200,\n",
              "   'offsetHours': '2:00',\n",
              "   'abbr': 'CEST',\n",
              "   'abbrName': 'Central European Summer Time',\n",
              "   'isDst': True},\n",
              "  'countryId': 83},\n",
              " {'id': 4,\n",
              "  'name': 'Aalborg Airport',\n",
              "  'iata': 'AAL',\n",
              "  'icao': 'EKYT',\n",
              "  'city': 'Aalborg',\n",
              "  'lat': 57.095112,\n",
              "  'lon': 9.855172,\n",
              "  'country': 'Denmark',\n",
              "  'alt': 3,\n",
              "  'size': 8856,\n",
              "  'timezone': {'name': 'Europe/Copenhagen',\n",
              "   'offset': 7200,\n",
              "   'offsetHours': '2:00',\n",
              "   'abbr': 'CEST',\n",
              "   'abbrName': 'Central European Summer Time',\n",
              "   'isDst': True},\n",
              "  'countryId': 61},\n",
              " {'id': 9,\n",
              "  'name': 'Aarhus Airport',\n",
              "  'iata': 'AAR',\n",
              "  'icao': 'EKAH',\n",
              "  'city': 'Aarhus',\n",
              "  'lat': 56.303295,\n",
              "  'lon': 10.619129,\n",
              "  'country': 'Denmark',\n",
              "  'alt': 71,\n",
              "  'size': 3919,\n",
              "  'timezone': {'name': 'Europe/Copenhagen',\n",
              "   'offset': 7200,\n",
              "   'offsetHours': '2:00',\n",
              "   'abbr': 'CEST',\n",
              "   'abbrName': 'Central European Summer Time',\n",
              "   'isDst': True},\n",
              "  'countryId': 61},\n",
              " {'id': 7569,\n",
              "  'name': 'Aarhus Sea Airport',\n",
              "  'iata': 'QEA',\n",
              "  'icao': 'EKAC',\n",
              "  'city': 'Aarhus',\n",
              "  'lat': 56.151993,\n",
              "  'lon': 10.247725,\n",
              "  'country': 'Denmark',\n",
              "  'alt': 1,\n",
              "  'size': 139,\n",
              "  'timezone': {'name': 'Europe/Copenhagen',\n",
              "   'offset': 7200,\n",
              "   'offsetHours': '2:00',\n",
              "   'abbr': 'CEST',\n",
              "   'abbrName': 'Central European Summer Time',\n",
              "   'isDst': True},\n",
              "  'countryId': 61}]"
            ]
          },
          "metadata": {},
          "execution_count": 9
        }
      ]
    },
    {
      "cell_type": "code",
      "source": [
        "# Saving timezones info in a Dictionary\n",
        "timezones = {}\n",
        "\n",
        "# Iterate over each Dict in the list\n",
        "for airport in airports_data:\n",
        "\n",
        "  # Get timezone's information for each airport\n",
        "  timezone = airport[\"timezone\"]\n",
        "\n",
        "  # Get timezone name\n",
        "  name = timezone[\"name\"]\n",
        "\n",
        "  # If timezone information not saved in timezones dict, add new item to the dict\n",
        "  if name not in timezones.keys():\n",
        "    timezones[name] = timezone\n",
        "\n",
        "# Print a value from timezones dict to check it worked\n",
        "timezones[ list(timezones.keys())[0] ]"
      ],
      "metadata": {
        "id": "zxPpEsKryhmP",
        "colab": {
          "base_uri": "https://localhost:8080/"
        },
        "outputId": "638d5cd5-393f-405b-a1ec-6f443d30fcb4"
      },
      "execution_count": 10,
      "outputs": [
        {
          "output_type": "execute_result",
          "data": {
            "text/plain": [
              "{'name': 'Europe/Madrid',\n",
              " 'offset': 7200,\n",
              " 'offsetHours': '2:00',\n",
              " 'abbr': 'CEST',\n",
              " 'abbrName': 'Central European Summer Time',\n",
              " 'isDst': True}"
            ]
          },
          "metadata": {},
          "execution_count": 10
        }
      ]
    },
    {
      "cell_type": "markdown",
      "source": [
        "## Timezone information"
      ],
      "metadata": {
        "id": "XUoihtCFwN3M"
      }
    },
    {
      "cell_type": "markdown",
      "source": [
        "### Saving timezone info in a DataFrame"
      ],
      "metadata": {
        "id": "h-1u8OtgyOAm"
      }
    },
    {
      "cell_type": "code",
      "source": [
        "# Converting input in a list of Rows\n",
        "timezones_rows = [Row(**timezones[name]) for name in timezones.keys()]\n",
        "\n",
        "# Printing data\n",
        "timezones_rows[:5]"
      ],
      "metadata": {
        "colab": {
          "base_uri": "https://localhost:8080/"
        },
        "id": "bOwcsrzUwXiD",
        "outputId": "3ea4a1fa-340c-49ad-80a9-e169ba06ae87"
      },
      "execution_count": 11,
      "outputs": [
        {
          "output_type": "execute_result",
          "data": {
            "text/plain": [
              "[Row(name='Europe/Madrid', offset=7200, offsetHours='2:00', abbr='CEST', abbrName='Central European Summer Time', isDst=True),\n",
              " Row(name='Europe/Berlin', offset=7200, offsetHours='2:00', abbr='CEST', abbrName='Central European Summer Time', isDst=True),\n",
              " Row(name='Europe/Copenhagen', offset=7200, offsetHours='2:00', abbr='CEST', abbrName='Central European Summer Time', isDst=True),\n",
              " Row(name='America/Godthab', offset=-3600, offsetHours='-1:00', abbr='-01', abbrName=None, isDst=True),\n",
              " Row(name='Asia/Tehran', offset=12600, offsetHours='3:30', abbr='+0330', abbrName=None, isDst=False)]"
            ]
          },
          "metadata": {},
          "execution_count": 11
        }
      ]
    },
    {
      "cell_type": "code",
      "source": [
        "# Defining DataFrame schema\n",
        "timezones_schema = StructType([\n",
        "    StructField('timezoneName', StringType()),\n",
        "    StructField('offset', IntegerType()),\n",
        "    StructField('offsetHours', StringType()),\n",
        "    StructField('abbr', StringType()),\n",
        "    StructField('abbrName', StringType()),\n",
        "    StructField('isDst', BooleanType())\n",
        "])\n",
        "\n",
        "# Creating DataFrame\n",
        "timezones_df = spark.createDataFrame(timezones_rows, schema = timezones_schema)\n",
        "\n",
        "# Printing data\n",
        "timezones_df.show()"
      ],
      "metadata": {
        "colab": {
          "base_uri": "https://localhost:8080/"
        },
        "id": "nm9gu8ijwf8L",
        "outputId": "7d55e0d1-1a11-4716-926a-26bf7aafe8d0"
      },
      "execution_count": 12,
      "outputs": [
        {
          "output_type": "stream",
          "name": "stdout",
          "text": [
            "+-------------------+------+-----------+-----+--------------------+-----+\n",
            "|       timezoneName|offset|offsetHours| abbr|            abbrName|isDst|\n",
            "+-------------------+------+-----------+-----+--------------------+-----+\n",
            "|      Europe/Madrid|  7200|       2:00| CEST|Central European ...| true|\n",
            "|      Europe/Berlin|  7200|       2:00| CEST|Central European ...| true|\n",
            "|  Europe/Copenhagen|  7200|       2:00| CEST|Central European ...| true|\n",
            "|    America/Godthab| -3600|      -1:00|  -01|                NULL| true|\n",
            "|        Asia/Tehran| 12600|       3:30|+0330|                NULL|false|\n",
            "|   Asia/Krasnoyarsk| 25200|       7:00|  +07|                NULL|false|\n",
            "|  America/Vancouver|-25200|      -7:00|  PDT|Pacific Daylight ...| true|\n",
            "|     Pacific/Tarawa| 43200|      12:00|  +12|                NULL|false|\n",
            "|      Europe/London|  3600|       1:00|  BST| British Summer Time| true|\n",
            "|    America/Chicago|-18000|      -5:00|  CDT|Central Daylight ...| true|\n",
            "|        Asia/Riyadh| 10800|       3:00|  +03|                NULL|false|\n",
            "|     Africa/Abidjan|  NULL|       0:00|  GMT| Greenwich Mean Time|false|\n",
            "|   America/New_York|-14400|      -4:00|  EDT|Eastern Daylight ...| true|\n",
            "|         Asia/Dubai| 14400|       4:00|  +04|                NULL|false|\n",
            "|       Africa/Cairo| 10800|       3:00| EEST|Eastern European ...| true|\n",
            "|       Africa/Lagos|  3600|       1:00|  WAT|    West Africa Time|false|\n",
            "|America/Mexico_City|-21600|      -6:00|  CST|Central Standard ...|false|\n",
            "|       Africa/Accra|  NULL|       0:00|  GMT| Greenwich Mean Time|false|\n",
            "|       America/Adak|-32400|      -9:00|  HDT|                NULL| true|\n",
            "|       Asia/Kolkata| 19800|       5:30|  IST| India Standard Time|false|\n",
            "+-------------------+------+-----------+-----+--------------------+-----+\n",
            "only showing top 20 rows\n",
            "\n"
          ]
        }
      ]
    },
    {
      "cell_type": "markdown",
      "source": [
        "### Checking if the same 'abbr' can correspond to different 'abbrName'"
      ],
      "metadata": {
        "id": "ReGDYusdzHIZ"
      }
    },
    {
      "cell_type": "code",
      "source": [
        "# Creting a DataFrame contarining unique abbr-abbrName pairs\n",
        "abbr_check = timezones_df \\\n",
        "                              .select([\"abbr\", \"abbrName\"]) \\\n",
        "                              .distinct()\n",
        "\n",
        "# Select abbr that appears more than one time\n",
        "abbr_check \\\n",
        "          .groupBy('abbr') \\\n",
        "          .count() \\\n",
        "          .sort(\"count\", ascending=False) \\\n",
        "          .filter( col('count') > 1) \\\n",
        "          .show()"
      ],
      "metadata": {
        "colab": {
          "base_uri": "https://localhost:8080/"
        },
        "id": "XloK7NuCwtfy",
        "outputId": "f60fa432-9441-4921-c935-4d298fef66a8"
      },
      "execution_count": 13,
      "outputs": [
        {
          "output_type": "stream",
          "name": "stdout",
          "text": [
            "+----+-----+\n",
            "|abbr|count|\n",
            "+----+-----+\n",
            "|WEST|    2|\n",
            "| IST|    2|\n",
            "|CEST|    2|\n",
            "| CST|    2|\n",
            "+----+-----+\n",
            "\n"
          ]
        }
      ]
    },
    {
      "cell_type": "code",
      "source": [
        "# Check information about abbr that appears more than one time\n",
        "abbr_check \\\n",
        "          .filter( abbr_check.abbr.isin('IST', 'CST', 'WEST', 'CEST') ) \\\n",
        "          .show(truncate = False)"
      ],
      "metadata": {
        "colab": {
          "base_uri": "https://localhost:8080/"
        },
        "id": "3V4xGp77xHWI",
        "outputId": "b0bcb219-97ba-40a6-e5cb-792bc6538a6e"
      },
      "execution_count": 14,
      "outputs": [
        {
          "output_type": "stream",
          "name": "stdout",
          "text": [
            "+----+----------------------------+\n",
            "|abbr|abbrName                    |\n",
            "+----+----------------------------+\n",
            "|CST |Central Standard Time       |\n",
            "|IST |India Standard Time         |\n",
            "|WEST|Western European Summer Time|\n",
            "|CEST|Central European Summer Time|\n",
            "|CST |China Standard Time         |\n",
            "|IST |Irish Standard Time         |\n",
            "|CEST|NULL                        |\n",
            "|WEST|NULL                        |\n",
            "+----+----------------------------+\n",
            "\n"
          ]
        }
      ]
    },
    {
      "cell_type": "markdown",
      "source": [
        "### Updating DataFrame"
      ],
      "metadata": {
        "id": "PNkoNb1IZ-uJ"
      }
    },
    {
      "cell_type": "code",
      "source": [
        "timezones_df = timezones_df \\\n",
        "                            .withColumn( # Replace conflitting 'abbr' with new value\n",
        "                                      'abbr',\n",
        "                                        when( col('abbrName') == 'China Standard Time', 'ChiST') \\\n",
        "                                        .when( col('abbrName') == 'Irish Standard Time', 'IriST') \\\n",
        "                                        .otherwise(timezones_df.abbr)\n",
        "                                        ). \\\n",
        "                            withColumn( # Fill missing 'abbrName' based on 'abbr'\n",
        "                                      'abbrName',\n",
        "                                      when( col('abbr') == 'CEST', 'Central European Summer Time' ) \\\n",
        "                                      .when( col('abbr') == 'WEST', 'Western European Summer Time') \\\n",
        "                                      .otherwise(timezones_df.abbrName)\n",
        "                                        )\n",
        "\n",
        "# Printing data\n",
        "timezones_df.show()"
      ],
      "metadata": {
        "colab": {
          "base_uri": "https://localhost:8080/"
        },
        "id": "FaWSGraa1dHh",
        "outputId": "743e4084-6b00-4997-9622-87c80a5e5979"
      },
      "execution_count": 15,
      "outputs": [
        {
          "output_type": "stream",
          "name": "stdout",
          "text": [
            "+-------------------+------+-----------+-----+--------------------+-----+\n",
            "|       timezoneName|offset|offsetHours| abbr|            abbrName|isDst|\n",
            "+-------------------+------+-----------+-----+--------------------+-----+\n",
            "|      Europe/Madrid|  7200|       2:00| CEST|Central European ...| true|\n",
            "|      Europe/Berlin|  7200|       2:00| CEST|Central European ...| true|\n",
            "|  Europe/Copenhagen|  7200|       2:00| CEST|Central European ...| true|\n",
            "|    America/Godthab| -3600|      -1:00|  -01|                NULL| true|\n",
            "|        Asia/Tehran| 12600|       3:30|+0330|                NULL|false|\n",
            "|   Asia/Krasnoyarsk| 25200|       7:00|  +07|                NULL|false|\n",
            "|  America/Vancouver|-25200|      -7:00|  PDT|Pacific Daylight ...| true|\n",
            "|     Pacific/Tarawa| 43200|      12:00|  +12|                NULL|false|\n",
            "|      Europe/London|  3600|       1:00|  BST| British Summer Time| true|\n",
            "|    America/Chicago|-18000|      -5:00|  CDT|Central Daylight ...| true|\n",
            "|        Asia/Riyadh| 10800|       3:00|  +03|                NULL|false|\n",
            "|     Africa/Abidjan|  NULL|       0:00|  GMT| Greenwich Mean Time|false|\n",
            "|   America/New_York|-14400|      -4:00|  EDT|Eastern Daylight ...| true|\n",
            "|         Asia/Dubai| 14400|       4:00|  +04|                NULL|false|\n",
            "|       Africa/Cairo| 10800|       3:00| EEST|Eastern European ...| true|\n",
            "|       Africa/Lagos|  3600|       1:00|  WAT|    West Africa Time|false|\n",
            "|America/Mexico_City|-21600|      -6:00|  CST|Central Standard ...|false|\n",
            "|       Africa/Accra|  NULL|       0:00|  GMT| Greenwich Mean Time|false|\n",
            "|       America/Adak|-32400|      -9:00|  HDT|                NULL| true|\n",
            "|       Asia/Kolkata| 19800|       5:30|  IST| India Standard Time|false|\n",
            "+-------------------+------+-----------+-----+--------------------+-----+\n",
            "only showing top 20 rows\n",
            "\n"
          ]
        }
      ]
    },
    {
      "cell_type": "markdown",
      "source": [
        "### Checking if the same 'abbr' can have 'isDst' both as True and False\n",
        "DST = Daylight SAving Time"
      ],
      "metadata": {
        "id": "3DxYgYqgaTWt"
      }
    },
    {
      "cell_type": "code",
      "source": [
        "# Selecting unique 'abbr' and 'isDst' pairs\n",
        "abbr_check = timezones_df \\\n",
        "                              .select([\"abbr\", \"isDst\"]) \\\n",
        "                              .distinct()\n",
        "\n",
        "#  Show 'abbr' that can have 'isDst' both True and False\n",
        "abbr_check \\\n",
        "          .groupBy('abbr') \\\n",
        "          .count() \\\n",
        "          .filter( col('count') == 2) \\\n",
        "          .show()\n",
        "\n",
        "# Since the same 'abbr' can have 'isDst' both True and False, 'isDst' must be\n",
        "# associated with each timezoneName"
      ],
      "metadata": {
        "colab": {
          "base_uri": "https://localhost:8080/"
        },
        "id": "Ce89PD1zX58c",
        "outputId": "693915f8-7e9b-4849-e08f-b513bbf777c0"
      },
      "execution_count": 16,
      "outputs": [
        {
          "output_type": "stream",
          "name": "stdout",
          "text": [
            "+----+-----+\n",
            "|abbr|count|\n",
            "+----+-----+\n",
            "| -01|    2|\n",
            "| -02|    2|\n",
            "+----+-----+\n",
            "\n"
          ]
        }
      ]
    },
    {
      "cell_type": "markdown",
      "source": [
        "### Splitting DataFrame in different tables"
      ],
      "metadata": {
        "id": "k4RizvwYevOR"
      }
    },
    {
      "cell_type": "code",
      "source": [
        "# Printing columns list\n",
        "timezones_df.columns"
      ],
      "metadata": {
        "colab": {
          "base_uri": "https://localhost:8080/"
        },
        "id": "bzLXYyKRez3u",
        "outputId": "07e2521e-9e8b-45fa-8d99-bd5f21ece5fc"
      },
      "execution_count": 17,
      "outputs": [
        {
          "output_type": "execute_result",
          "data": {
            "text/plain": [
              "['timezoneName', 'offset', 'offsetHours', 'abbr', 'abbrName', 'isDst']"
            ]
          },
          "metadata": {},
          "execution_count": 17
        }
      ]
    },
    {
      "cell_type": "markdown",
      "source": [
        "#### timezones_dim"
      ],
      "metadata": {
        "id": "LxSOhTEGhHU7"
      }
    },
    {
      "cell_type": "code",
      "source": [
        "# Main timezone's information\n",
        "timezones_dim = timezones_df \\\n",
        "                            .withColumn( # Create id for each timezone\n",
        "                                'timezoneId', row_number().over( Window.orderBy('offset')) ) \\\n",
        "                            .select( # Select columns\n",
        "                                ['timezoneId', 'timezoneName', 'offset', 'abbr', 'isDst'])\n",
        "\n",
        "# Show DataFrame\n",
        "timezones_dim.show()"
      ],
      "metadata": {
        "colab": {
          "base_uri": "https://localhost:8080/"
        },
        "id": "Re9YWciXeuDB",
        "outputId": "b06f7844-71a4-499c-fbf3-be61f509bc36"
      },
      "execution_count": 18,
      "outputs": [
        {
          "output_type": "stream",
          "name": "stdout",
          "text": [
            "+----------+------------------+------+----+-----+\n",
            "|timezoneId|      timezoneName|offset|abbr|isDst|\n",
            "+----------+------------------+------+----+-----+\n",
            "|         1|      Africa/Dakar|  NULL| GMT|false|\n",
            "|         2|    Africa/Abidjan|  NULL| GMT|false|\n",
            "|         3|      Africa/Accra|  NULL| GMT|false|\n",
            "|         4|   Atlantic/Azores|  NULL| +00| true|\n",
            "|         5|Atlantic/Reykjavik|  NULL| GMT|false|\n",
            "|         6|    Africa/Conakry|  NULL| GMT|false|\n",
            "|         7|     Africa/Bamako|  NULL| GMT|false|\n",
            "|         8|               UTC|  NULL| UTC|false|\n",
            "|         9| Africa/Nouakchott|  NULL| GMT|false|\n",
            "|        10|Africa/Ouagadougou|  NULL| GMT|false|\n",
            "|        11|   Africa/Freetown|  NULL| GMT|false|\n",
            "|        12|       Africa/Lome|  NULL| GMT|false|\n",
            "|        13|Atlantic/St_Helena|  NULL| GMT|false|\n",
            "|        14|     Africa/Banjul|  NULL| GMT|false|\n",
            "|        15|     Africa/Bissau|  NULL| GMT|false|\n",
            "|        16|   Africa/Monrovia|  NULL| GMT|false|\n",
            "|        17|   Africa/Sao_Tome|  NULL| GMT|false|\n",
            "|        18| Pacific/Pago_Pago|-39600| SST|false|\n",
            "|        19|      Pacific/Niue|-39600| -11|false|\n",
            "|        20|  Pacific/Honolulu|-36000| HST|false|\n",
            "+----------+------------------+------+----+-----+\n",
            "only showing top 20 rows\n",
            "\n"
          ]
        }
      ]
    },
    {
      "cell_type": "markdown",
      "source": [
        "#### timezones_abbr_dim"
      ],
      "metadata": {
        "id": "WRzj2O4thPLu"
      }
    },
    {
      "cell_type": "code",
      "source": [
        "# 'abbr' and 'abbrName' pairs\n",
        "timezones_abbr_dim = timezones_df \\\n",
        "                                    .select(['abbr', 'abbrName']) \\\n",
        "                                    .distinct( # Select distinct pairs\n",
        "                                              ) \\\n",
        "                                    .withColumn( # Create unique id for each abbr\n",
        "                                        'abbrId', row_number().over( Window.orderBy('abbr'))) \\\n",
        "                                    .select(['abbrId', 'abbr', 'abbrName'])\n",
        "\n",
        "timezones_abbr_dim.show()"
      ],
      "metadata": {
        "colab": {
          "base_uri": "https://localhost:8080/"
        },
        "id": "c1r11W84ggyg",
        "outputId": "20c18d4d-ca8b-4435-fe89-c5616667f193"
      },
      "execution_count": 19,
      "outputs": [
        {
          "output_type": "stream",
          "name": "stdout",
          "text": [
            "+------+-----+--------+\n",
            "|abbrId| abbr|abbrName|\n",
            "+------+-----+--------+\n",
            "|     1|  +00|    NULL|\n",
            "|     2|  +01|    NULL|\n",
            "|     3|  +03|    NULL|\n",
            "|     4|+0330|    NULL|\n",
            "|     5|  +04|    NULL|\n",
            "|     6|+0430|    NULL|\n",
            "|     7|  +05|    NULL|\n",
            "|     8|+0530|    NULL|\n",
            "|     9|+0545|    NULL|\n",
            "|    10|  +06|    NULL|\n",
            "|    11|+0630|    NULL|\n",
            "|    12|  +07|    NULL|\n",
            "|    13|  +08|    NULL|\n",
            "|    14|+0845|    NULL|\n",
            "|    15|  +09|    NULL|\n",
            "|    16|  +10|    NULL|\n",
            "|    17|+1030|    NULL|\n",
            "|    18|  +11|    NULL|\n",
            "|    19|  +12|    NULL|\n",
            "|    20|+1245|    NULL|\n",
            "+------+-----+--------+\n",
            "only showing top 20 rows\n",
            "\n"
          ]
        }
      ]
    },
    {
      "cell_type": "code",
      "source": [
        "# Replacing 'abbr' with 'abbrId' in timezone_dim\n",
        "timezones_dim = timezones_dim \\\n",
        "                                .join(\n",
        "                                    timezones_abbr_dim,\n",
        "                                    timezones_dim.abbr == timezones_abbr_dim.abbr,\n",
        "                                    'left'\n",
        "                                    ) \\\n",
        "                                .select(['timezoneId', 'timezoneName', 'offset', 'isDst', 'abbrId'])\n",
        "\n",
        "timezones_dim.show()"
      ],
      "metadata": {
        "colab": {
          "base_uri": "https://localhost:8080/"
        },
        "id": "fNHpR1l8hBgj",
        "outputId": "099ee332-89fd-4666-9891-59c5b77c2606"
      },
      "execution_count": 20,
      "outputs": [
        {
          "output_type": "stream",
          "name": "stdout",
          "text": [
            "+----------+------------------+------+-----+------+\n",
            "|timezoneId|      timezoneName|offset|isDst|abbrId|\n",
            "+----------+------------------+------+-----+------+\n",
            "|         1|      Africa/Dakar|  NULL|false|    52|\n",
            "|         2|    Africa/Abidjan|  NULL|false|    52|\n",
            "|         3|      Africa/Accra|  NULL|false|    52|\n",
            "|         4|   Atlantic/Azores|  NULL| true|     1|\n",
            "|         5|Atlantic/Reykjavik|  NULL|false|    52|\n",
            "|         6|    Africa/Conakry|  NULL|false|    52|\n",
            "|         7|     Africa/Bamako|  NULL|false|    52|\n",
            "|         8|               UTC|  NULL|false|    71|\n",
            "|         9| Africa/Nouakchott|  NULL|false|    52|\n",
            "|        10|Africa/Ouagadougou|  NULL|false|    52|\n",
            "|        11|   Africa/Freetown|  NULL|false|    52|\n",
            "|        12|       Africa/Lome|  NULL|false|    52|\n",
            "|        13|Atlantic/St_Helena|  NULL|false|    52|\n",
            "|        14|     Africa/Banjul|  NULL|false|    52|\n",
            "|        15|     Africa/Bissau|  NULL|false|    52|\n",
            "|        16|   Africa/Monrovia|  NULL|false|    52|\n",
            "|        17|   Africa/Sao_Tome|  NULL|false|    52|\n",
            "|        18| Pacific/Pago_Pago|-39600|false|    70|\n",
            "|        19|      Pacific/Niue|-39600|false|    32|\n",
            "|        20|  Pacific/Honolulu|-36000|false|    55|\n",
            "+----------+------------------+------+-----+------+\n",
            "only showing top 20 rows\n",
            "\n"
          ]
        }
      ]
    },
    {
      "cell_type": "markdown",
      "source": [
        "## Geographic information"
      ],
      "metadata": {
        "id": "AZhCExgstPn2"
      }
    },
    {
      "cell_type": "markdown",
      "source": [
        "### Creating countries_dim table"
      ],
      "metadata": {
        "id": "AXO689Gagb4q"
      }
    },
    {
      "cell_type": "code",
      "source": [
        "# Getting set of unique countries name\n",
        "countries_set = { airport['country'] for airport in airports_data}"
      ],
      "metadata": {
        "id": "Ds1hI1sVmlm2"
      },
      "execution_count": 21,
      "outputs": []
    },
    {
      "cell_type": "code",
      "source": [
        "countries_dim = spark \\\n",
        "                    .createDataFrame( # Convert set in DataFrame\n",
        "                        countries_set, StringType()) \\\n",
        "                    .withColumnRenamed( # Rename col 'value'  in 'countryName'\n",
        "                        'value', 'country') \\\n",
        "                    .withColumn( # Add unique id\n",
        "                        'countryId', row_number().over( Window.orderBy('country')))\n",
        "\n",
        "countries_dim.show()"
      ],
      "metadata": {
        "colab": {
          "base_uri": "https://localhost:8080/"
        },
        "id": "UbznUe4rnLFM",
        "outputId": "3d0f87d2-321b-4ae6-9d0d-d3f1ad3c43b9"
      },
      "execution_count": 22,
      "outputs": [
        {
          "output_type": "stream",
          "name": "stdout",
          "text": [
            "+-------------------+---------+\n",
            "|            country|countryId|\n",
            "+-------------------+---------+\n",
            "|        Afghanistan|        1|\n",
            "|            Albania|        2|\n",
            "|            Algeria|        3|\n",
            "|     American Samoa|        4|\n",
            "|             Angola|        5|\n",
            "|           Anguilla|        6|\n",
            "|         Antarctica|        7|\n",
            "|Antigua And Barbuda|        8|\n",
            "|          Argentina|        9|\n",
            "|            Armenia|       10|\n",
            "|              Aruba|       11|\n",
            "|          Australia|       12|\n",
            "|            Austria|       13|\n",
            "|         Azerbaijan|       14|\n",
            "|            Bahamas|       15|\n",
            "|            Bahrain|       16|\n",
            "|         Bangladesh|       17|\n",
            "|           Barbados|       18|\n",
            "|            Belarus|       19|\n",
            "|            Belgium|       20|\n",
            "+-------------------+---------+\n",
            "only showing top 20 rows\n",
            "\n"
          ]
        }
      ]
    },
    {
      "cell_type": "markdown",
      "source": [
        "### Creating cities_dim table"
      ],
      "metadata": {
        "id": "PgudCS0PrARY"
      }
    },
    {
      "cell_type": "code",
      "source": [
        "# Create set of unique city-country pairs\n",
        "cities_set = { (airport['city'], airport['country']) for airport in airports_data}"
      ],
      "metadata": {
        "id": "M52eEv7TqveO"
      },
      "execution_count": 23,
      "outputs": []
    },
    {
      "cell_type": "code",
      "source": [
        "# Converting set in DataFrame\n",
        "cities_dim = spark \\\n",
        "              .createDataFrame(cities_set, schema = [\"city\", \"country\"]) \\\n",
        "              .withColumn( # Create unique id\n",
        "                  'cityId', row_number().over( Window.orderBy('city')))\n",
        "\n",
        "cities_dim.show()"
      ],
      "metadata": {
        "colab": {
          "base_uri": "https://localhost:8080/"
        },
        "id": "LI1o16R9rLsM",
        "outputId": "1a7fcb97-c89c-4977-d0c4-c0cf3c789f8a"
      },
      "execution_count": 24,
      "outputs": [
        {
          "output_type": "stream",
          "name": "stdout",
          "text": [
            "+---------------+--------------------+------+\n",
            "|           city|             country|cityId|\n",
            "+---------------+--------------------+------+\n",
            "|       A Coruna|               Spain|     1|\n",
            "|         Aachen|             Germany|     2|\n",
            "|        Aalborg|             Denmark|     3|\n",
            "|         Aarhus|             Denmark|     4|\n",
            "|        Aasiaat|           Greenland|     5|\n",
            "|         Abadan|                Iran|     6|\n",
            "|         Abakan|              Russia|     7|\n",
            "|     Abbotsford|              Canada|     8|\n",
            "|  Abemama Atoll|            Kiribati|     9|\n",
            "|       Aberdeen|      United Kingdom|    10|\n",
            "|       Aberdeen|       United States|    11|\n",
            "|           Abha|        Saudi Arabia|    12|\n",
            "|        Abidjan|         Ivory Coast|    13|\n",
            "|        Abilene|       United States|    14|\n",
            "|       Abingdon|       United States|    15|\n",
            "|      Abu Dhabi|United Arab Emirates|    16|\n",
            "|Abu Musa Island|                Iran|    17|\n",
            "|     Abu Simbel|               Egypt|    18|\n",
            "|          Abuja|             Nigeria|    19|\n",
            "|       Acapulco|              Mexico|    20|\n",
            "+---------------+--------------------+------+\n",
            "only showing top 20 rows\n",
            "\n"
          ]
        }
      ]
    },
    {
      "cell_type": "code",
      "source": [
        "# Replacing 'country' with 'countryId'\n",
        "cities_dim = cities_dim \\\n",
        "                      .join(\n",
        "                          countries_dim,\n",
        "                          'country',\n",
        "                          'left'\n",
        "                      ) \\\n",
        "                      .select( ['cityId', 'city', 'countryId'])\n",
        "\n",
        "cities_dim.show()"
      ],
      "metadata": {
        "colab": {
          "base_uri": "https://localhost:8080/"
        },
        "id": "CKbVapezsLda",
        "outputId": "ea75a060-8aa3-495e-a7e5-b815ab317e22"
      },
      "execution_count": 25,
      "outputs": [
        {
          "output_type": "stream",
          "name": "stdout",
          "text": [
            "+------+---------------+---------+\n",
            "|cityId|           city|countryId|\n",
            "+------+---------------+---------+\n",
            "|     7|         Abakan|      170|\n",
            "|     9|  Abemama Atoll|      109|\n",
            "|     2|         Aachen|       76|\n",
            "|    13|        Abidjan|      102|\n",
            "|    21|          Accra|       77|\n",
            "|    11|       Aberdeen|      216|\n",
            "|    14|        Abilene|      216|\n",
            "|    15|       Abingdon|      216|\n",
            "|    19|          Abuja|      151|\n",
            "|     1|       A Coruna|      192|\n",
            "|     3|        Aalborg|       54|\n",
            "|     4|         Aarhus|       54|\n",
            "|     6|         Abadan|       96|\n",
            "|    17|Abu Musa Island|       96|\n",
            "|    20|       Acapulco|      133|\n",
            "|    12|           Abha|      179|\n",
            "|    16|      Abu Dhabi|      214|\n",
            "|     8|     Abbotsford|       35|\n",
            "|     5|        Aasiaat|       80|\n",
            "|    18|     Abu Simbel|       59|\n",
            "+------+---------------+---------+\n",
            "only showing top 20 rows\n",
            "\n"
          ]
        }
      ]
    },
    {
      "cell_type": "markdown",
      "source": [
        "### Creating airports_dim\n",
        "\n"
      ],
      "metadata": {
        "id": "RV_jCSjLibFo"
      }
    },
    {
      "cell_type": "code",
      "source": [
        "def airport_typecaster(key, value):\n",
        "\n",
        "  # Keep only the name of the timezone\n",
        "  if key == 'timezone':\n",
        "    return value['name']\n",
        "\n",
        "  # Some 'lat' e 'lon' values are encoded as Float and some as Int,\n",
        "  # so we have to convert all of them to Float\n",
        "  if key in ('lat', 'lon'):\n",
        "    return float(value)\n",
        "\n",
        "  # Some values are encoded as String, so they have to be encoded as Int\n",
        "  if key == 'alt':\n",
        "    return int(value)\n",
        "\n",
        "  return value"
      ],
      "metadata": {
        "id": "t4b4hGDXoFJr"
      },
      "execution_count": 26,
      "outputs": []
    },
    {
      "cell_type": "code",
      "source": [
        "airports_col_to_remove = [\"country\"]\n",
        "\n",
        "airports_data_typecasted = [\n",
        "                            {key: airport_typecaster(key, value) for key, value in airport.items() if key not in airports_col_to_remove }\n",
        "                             for airport in airports_data\n",
        "                            ]"
      ],
      "metadata": {
        "id": "ZjtV2L8ubNPm"
      },
      "execution_count": 27,
      "outputs": []
    },
    {
      "cell_type": "code",
      "source": [
        "airport_rows = [Row(**airport) for airport in airports_data_typecasted]\n",
        "\n",
        "airport_rows[:4]"
      ],
      "metadata": {
        "id": "7s0fdCkkgGPh",
        "colab": {
          "base_uri": "https://localhost:8080/"
        },
        "outputId": "6d62148a-4762-4090-ca2d-a41200f7c70b"
      },
      "execution_count": 28,
      "outputs": [
        {
          "output_type": "execute_result",
          "data": {
            "text/plain": [
              "[Row(id=1900, name='A Coruna Airport', iata='LCG', icao='LECO', city='A Coruna', lat=43.302059, lon=-8.37725, alt=326, size=4686, timezone='Europe/Madrid', countryId=209),\n",
              " Row(id=3, name='Aachen Merzbruck Airport', iata='AAH', icao='EDKA', city='Aachen', lat=50.821899, lon=6.184759, alt=626, size=1491, timezone='Europe/Berlin', countryId=83),\n",
              " Row(id=4, name='Aalborg Airport', iata='AAL', icao='EKYT', city='Aalborg', lat=57.095112, lon=9.855172, alt=3, size=8856, timezone='Europe/Copenhagen', countryId=61),\n",
              " Row(id=9, name='Aarhus Airport', iata='AAR', icao='EKAH', city='Aarhus', lat=56.303295, lon=10.619129, alt=71, size=3919, timezone='Europe/Copenhagen', countryId=61)]"
            ]
          },
          "metadata": {},
          "execution_count": 28
        }
      ]
    },
    {
      "cell_type": "code",
      "source": [
        "airport_schema = StructType([\n",
        "    StructField('id', IntegerType()),\n",
        "    StructField('airportName', StringType()),\n",
        "    StructField('iata', StringType()),\n",
        "    StructField('icao', StringType()),\n",
        "    StructField('city', StringType()),\n",
        "    StructField('lat', DoubleType()),\n",
        "    StructField('lon', DoubleType()),\n",
        "    StructField('alt', IntegerType()),\n",
        "    StructField('size', IntegerType()),\n",
        "    StructField('timezoneName', StringType()),\n",
        "    StructField('countryId', IntegerType()),\n",
        "])"
      ],
      "metadata": {
        "id": "-I8_dQwWpvm6"
      },
      "execution_count": 29,
      "outputs": []
    },
    {
      "cell_type": "code",
      "source": [
        "airport_df = spark.createDataFrame(airport_rows, airport_schema)\n",
        "\n",
        "airport_df.show()"
      ],
      "metadata": {
        "id": "APRIgBqhZ_V2",
        "colab": {
          "base_uri": "https://localhost:8080/"
        },
        "outputId": "342ef72e-0ae9-4c77-b19c-41ac047a1354"
      },
      "execution_count": 30,
      "outputs": [
        {
          "output_type": "stream",
          "name": "stdout",
          "text": [
            "+----+--------------------+----+----+---------------+---------+-----------+----+-----+-----------------+---------+\n",
            "|  id|         airportName|iata|icao|           city|      lat|        lon| alt| size|     timezoneName|countryId|\n",
            "+----+--------------------+----+----+---------------+---------+-----------+----+-----+-----------------+---------+\n",
            "|1900|    A Coruna Airport| LCG|LECO|       A Coruna|43.302059|   -8.37725| 326| 4686|    Europe/Madrid|      209|\n",
            "|   3|Aachen Merzbruck ...| AAH|EDKA|         Aachen|50.821899|   6.184759| 626| 1491|    Europe/Berlin|       83|\n",
            "|   4|     Aalborg Airport| AAL|EKYT|        Aalborg|57.095112|   9.855172|   3| 8856|Europe/Copenhagen|       61|\n",
            "|   9|      Aarhus Airport| AAR|EKAH|         Aarhus|56.303295|  10.619129|  71| 3919|Europe/Copenhagen|       61|\n",
            "|7569|  Aarhus Sea Airport| QEA|EKAC|         Aarhus|56.151993|  10.247725|   1|  139|Europe/Copenhagen|       61|\n",
            "|1596|     Aasiaat Airport| JEG|BGAA|        Aasiaat| 68.72184| -52.784698|  74|  574|  America/Godthab|       87|\n",
            "|  12|      Abadan Airport| ABD|OIAA|         Abadan|30.371111|  48.228329|  19| 2099|      Asia/Tehran|      104|\n",
            "|  11|Abakan Internatio...| ABA|UNAA|         Abakan|53.740002|  91.385002| 831| 2146| Asia/Krasnoyarsk|      182|\n",
            "|4146|Abbotsford Intern...| YXX|CYXX|     Abbotsford|49.025269|-122.360001| 195| 7188|America/Vancouver|       40|\n",
            "|  53|     Abemama Airport| AEA|NGTB|  Abemama Atoll| 0.490833| 173.828598|   8|  248|   Pacific/Tarawa|      116|\n",
            "|  27|Aberdeen Internat...| ABZ|EGPD|       Aberdeen|57.201939|   -2.19777| 215|20546|    Europe/London|      235|\n",
            "|  20|Aberdeen Regional...| ABR|KABR|       Aberdeen|45.439999| -98.419998|1302| 3549|  America/Chicago|      236|\n",
            "|  80|Abha Regional Air...| AHB|OEAB|           Abha| 18.24036|   42.65662|6858|16314|      Asia/Riyadh|      194|\n",
            "|  16|Abidjan Port Boue...| ABJ|DIAP|        Abidjan| 5.261386|   -3.92629|  21|11907|   Africa/Abidjan|       54|\n",
            "|  15|Abilene Regional ...| ABI|KABI|        Abilene|32.411301| -99.681801|1790| 5984|  America/Chicago|      236|\n",
            "|7403|Abingdon Virginia...| VJI|KVJI|       Abingdon|36.686111| -82.033333|2088| 1778| America/New_York|      236|\n",
            "| 251|Abu Dhabi Al Bate...| AZI|OMAD|      Abu Dhabi|24.428329|   54.45808|  16| 1165|       Asia/Dubai|      234|\n",
            "|6183|Abu Dhabi Al Dhaf...| DHF|OMAM|      Abu Dhabi|24.248199|  54.547699|  77|  119|       Asia/Dubai|      234|\n",
            "| 220|Abu Dhabi Zayed I...| AUH|OMAA|      Abu Dhabi|24.442856|  54.651474|  62|74044|       Asia/Dubai|      234|\n",
            "|6156|Abu Musa Island A...| AEU|OIBA|Abu Musa Island|  25.8757|  55.033001|  23|   44|      Asia/Tehran|      104|\n",
            "+----+--------------------+----+----+---------------+---------+-----------+----+-----+-----------------+---------+\n",
            "only showing top 20 rows\n",
            "\n"
          ]
        }
      ]
    },
    {
      "cell_type": "code",
      "source": [
        "cities_dim.show()"
      ],
      "metadata": {
        "colab": {
          "base_uri": "https://localhost:8080/"
        },
        "id": "Z8edcM1hg3Aq",
        "outputId": "8fc276c4-f69b-45ad-eefc-8a95d3a137cc"
      },
      "execution_count": 31,
      "outputs": [
        {
          "output_type": "stream",
          "name": "stdout",
          "text": [
            "+------+---------------+---------+\n",
            "|cityId|           city|countryId|\n",
            "+------+---------------+---------+\n",
            "|     7|         Abakan|      170|\n",
            "|     9|  Abemama Atoll|      109|\n",
            "|     2|         Aachen|       76|\n",
            "|    13|        Abidjan|      102|\n",
            "|    21|          Accra|       77|\n",
            "|    11|       Aberdeen|      216|\n",
            "|    14|        Abilene|      216|\n",
            "|    15|       Abingdon|      216|\n",
            "|    19|          Abuja|      151|\n",
            "|     1|       A Coruna|      192|\n",
            "|     3|        Aalborg|       54|\n",
            "|     4|         Aarhus|       54|\n",
            "|     6|         Abadan|       96|\n",
            "|    17|Abu Musa Island|       96|\n",
            "|    20|       Acapulco|      133|\n",
            "|    12|           Abha|      179|\n",
            "|    16|      Abu Dhabi|      214|\n",
            "|     8|     Abbotsford|       35|\n",
            "|     5|        Aasiaat|       80|\n",
            "|    18|     Abu Simbel|       59|\n",
            "+------+---------------+---------+\n",
            "only showing top 20 rows\n",
            "\n"
          ]
        }
      ]
    },
    {
      "cell_type": "markdown",
      "source": [
        "### Creating airport_dim"
      ],
      "metadata": {
        "id": "SBsy0Z3dlI1Q"
      }
    },
    {
      "cell_type": "code",
      "source": [
        "airport_df.show()"
      ],
      "metadata": {
        "colab": {
          "base_uri": "https://localhost:8080/"
        },
        "id": "mCPCtyZ00lVA",
        "outputId": "0512c0a4-5958-4aab-ff61-a11c5b1f2e03"
      },
      "execution_count": 32,
      "outputs": [
        {
          "output_type": "stream",
          "name": "stdout",
          "text": [
            "+----+--------------------+----+----+---------------+---------+-----------+----+-----+-----------------+---------+\n",
            "|  id|         airportName|iata|icao|           city|      lat|        lon| alt| size|     timezoneName|countryId|\n",
            "+----+--------------------+----+----+---------------+---------+-----------+----+-----+-----------------+---------+\n",
            "|1900|    A Coruna Airport| LCG|LECO|       A Coruna|43.302059|   -8.37725| 326| 4686|    Europe/Madrid|      209|\n",
            "|   3|Aachen Merzbruck ...| AAH|EDKA|         Aachen|50.821899|   6.184759| 626| 1491|    Europe/Berlin|       83|\n",
            "|   4|     Aalborg Airport| AAL|EKYT|        Aalborg|57.095112|   9.855172|   3| 8856|Europe/Copenhagen|       61|\n",
            "|   9|      Aarhus Airport| AAR|EKAH|         Aarhus|56.303295|  10.619129|  71| 3919|Europe/Copenhagen|       61|\n",
            "|7569|  Aarhus Sea Airport| QEA|EKAC|         Aarhus|56.151993|  10.247725|   1|  139|Europe/Copenhagen|       61|\n",
            "|1596|     Aasiaat Airport| JEG|BGAA|        Aasiaat| 68.72184| -52.784698|  74|  574|  America/Godthab|       87|\n",
            "|  12|      Abadan Airport| ABD|OIAA|         Abadan|30.371111|  48.228329|  19| 2099|      Asia/Tehran|      104|\n",
            "|  11|Abakan Internatio...| ABA|UNAA|         Abakan|53.740002|  91.385002| 831| 2146| Asia/Krasnoyarsk|      182|\n",
            "|4146|Abbotsford Intern...| YXX|CYXX|     Abbotsford|49.025269|-122.360001| 195| 7188|America/Vancouver|       40|\n",
            "|  53|     Abemama Airport| AEA|NGTB|  Abemama Atoll| 0.490833| 173.828598|   8|  248|   Pacific/Tarawa|      116|\n",
            "|  27|Aberdeen Internat...| ABZ|EGPD|       Aberdeen|57.201939|   -2.19777| 215|20546|    Europe/London|      235|\n",
            "|  20|Aberdeen Regional...| ABR|KABR|       Aberdeen|45.439999| -98.419998|1302| 3549|  America/Chicago|      236|\n",
            "|  80|Abha Regional Air...| AHB|OEAB|           Abha| 18.24036|   42.65662|6858|16314|      Asia/Riyadh|      194|\n",
            "|  16|Abidjan Port Boue...| ABJ|DIAP|        Abidjan| 5.261386|   -3.92629|  21|11907|   Africa/Abidjan|       54|\n",
            "|  15|Abilene Regional ...| ABI|KABI|        Abilene|32.411301| -99.681801|1790| 5984|  America/Chicago|      236|\n",
            "|7403|Abingdon Virginia...| VJI|KVJI|       Abingdon|36.686111| -82.033333|2088| 1778| America/New_York|      236|\n",
            "| 251|Abu Dhabi Al Bate...| AZI|OMAD|      Abu Dhabi|24.428329|   54.45808|  16| 1165|       Asia/Dubai|      234|\n",
            "|6183|Abu Dhabi Al Dhaf...| DHF|OMAM|      Abu Dhabi|24.248199|  54.547699|  77|  119|       Asia/Dubai|      234|\n",
            "| 220|Abu Dhabi Zayed I...| AUH|OMAA|      Abu Dhabi|24.442856|  54.651474|  62|74044|       Asia/Dubai|      234|\n",
            "|6156|Abu Musa Island A...| AEU|OIBA|Abu Musa Island|  25.8757|  55.033001|  23|   44|      Asia/Tehran|      104|\n",
            "+----+--------------------+----+----+---------------+---------+-----------+----+-----+-----------------+---------+\n",
            "only showing top 20 rows\n",
            "\n"
          ]
        }
      ]
    },
    {
      "cell_type": "code",
      "source": [
        "airport_dim = airport_df \\\n",
        "                            .join( # Replace 'timezone' with 'timezoneId'\n",
        "                                timezones_dim,\n",
        "                                'timezoneName',\n",
        "                                'left'\n",
        "                              ) \\\n",
        "                            .join( # Replace 'city' with 'cityId'\n",
        "                                cities_dim,\n",
        "                                airport_df.city == cities_dim.city,\n",
        "                                'left'\n",
        "                              ) \\\n",
        "                            .select(\n",
        "                                [ 'id', 'airportName', 'iata', 'icao', 'lat', 'lon', 'size', 'cityId', 'timezoneId' ]\n",
        "                            )\n",
        "\n",
        "airport_dim.show()"
      ],
      "metadata": {
        "id": "AQz-nWM17WZs",
        "colab": {
          "base_uri": "https://localhost:8080/"
        },
        "outputId": "ff9e3b64-ca9f-478b-df1a-8d9e3f1961da"
      },
      "execution_count": 33,
      "outputs": [
        {
          "output_type": "stream",
          "name": "stdout",
          "text": [
            "+----+--------------------+----+----+---------+-----------+-----+------+----------+\n",
            "|  id|         airportName|iata|icao|      lat|        lon| size|cityId|timezoneId|\n",
            "+----+--------------------+----+----+---------+-----------+-----+------+----------+\n",
            "|1596|     Aasiaat Airport| JEG|BGAA| 68.72184| -52.784698|  574|     5|       158|\n",
            "|  11|Abakan Internatio...| ABA|UNAA|53.740002|  91.385002| 2146|     7|       308|\n",
            "|4146|Abbotsford Intern...| YXX|CYXX|49.025269|-122.360001| 7188|     8|        32|\n",
            "|  20|Aberdeen Regional...| ABR|KABR|45.439999| -98.419998| 3549|    11|        65|\n",
            "|  20|Aberdeen Regional...| ABR|KABR|45.439999| -98.419998| 3549|    10|        65|\n",
            "|  16|Abidjan Port Boue...| ABJ|DIAP| 5.261386|   -3.92629|11907|    13|         1|\n",
            "|  15|Abilene Regional ...| ABI|KABI|32.411301| -99.681801| 5984|    14|        65|\n",
            "|7403|Abingdon Virginia...| VJI|KVJI|36.686111| -82.033333| 1778|    15|       104|\n",
            "| 251|Abu Dhabi Al Bate...| AZI|OMAD|24.428329|   54.45808| 1165|    16|       274|\n",
            "|6183|Abu Dhabi Al Dhaf...| DHF|OMAM|24.248199|  54.547699|  119|    16|       274|\n",
            "| 220|Abu Dhabi Zayed I...| AUH|OMAA|24.442856|  54.651474|74044|    16|       274|\n",
            "|  21|  Abu Simbel Airport| ABS|HEBL| 22.37595|  31.611719|   70|    18|       264|\n",
            "|4206|      Masset Airport| ZMT|CZMT|    54.02|-132.119995| 1334|  2851|        32|\n",
            "|4041|    Matagami Airport| YNM|CYNM|49.761635| -77.802521|  100|  2854|        78|\n",
            "|6909|Matak Tarempa Air...| MWK|WIOM|  3.34812| 106.258003|    3|  2856|       306|\n",
            "|2094|Matamoros Interna...| MAM|MMMA| 25.76989| -97.525299| 1248|  2857|        67|\n",
            "|7533|Mattoon/Charlesto...| MTO|KMTO|39.477982| -88.279648| 1579|  2863|        65|\n",
            "|2341|Maturin Internati...| MUN|SVMT| 9.749067|   -63.1534| 1092|  2864|        90|\n",
            "|6653|       Maues Airport| MBZ|SWMW| -3.37217|   -57.7248|  150|  2865|        91|\n",
            "|2273|Maumere Frans Sed...| MOF|WATC| -8.64064| 122.236801|  883|  2866|       319|\n",
            "+----+--------------------+----+----+---------+-----------+-----+------+----------+\n",
            "only showing top 20 rows\n",
            "\n"
          ]
        }
      ]
    },
    {
      "cell_type": "markdown",
      "source": [
        "# Aircraft information"
      ],
      "metadata": {
        "id": "xQYIdiXE5608"
      }
    },
    {
      "cell_type": "markdown",
      "source": [
        "## Importing JSON"
      ],
      "metadata": {
        "id": "UdcQQYtdpeo4"
      }
    },
    {
      "cell_type": "code",
      "source": [
        "aircraft_file = 'aircraft_data.json'\n",
        "aircraft_url = \"https://flight-radar1.p.rapidapi.com/aircrafts/list\"\n",
        "\n",
        "aircraft_data = getDataList(folder + aircraft_file, aircraft_url, headers=headers)"
      ],
      "metadata": {
        "id": "OdWQ9JS2cav4"
      },
      "execution_count": 34,
      "outputs": []
    },
    {
      "cell_type": "markdown",
      "source": [
        "## Saving aircarft info in a DataFrame"
      ],
      "metadata": {
        "id": "Ko3v3glYpyJK"
      }
    },
    {
      "cell_type": "code",
      "source": [
        "aircraft_rows = []\n",
        "\n",
        "for family in aircraft_data:\n",
        "  for model in family['models']:\n",
        "      model['family'] = family['description']\n",
        "      aircraft_rows.append(Row(**model))"
      ],
      "metadata": {
        "id": "w9R8uhXk82Br"
      },
      "execution_count": 35,
      "outputs": []
    },
    {
      "cell_type": "code",
      "source": [
        "aircraft_df = spark.createDataFrame(aircraft_rows, schema = ['aircraftName', 'code', 'family'])\n",
        "\n",
        "aircraft_df.show()"
      ],
      "metadata": {
        "id": "KQe3-5Ka_Vz2",
        "colab": {
          "base_uri": "https://localhost:8080/"
        },
        "outputId": "99d04b9a-7c68-4778-8dcf-a71f2cd6bbc8"
      },
      "execution_count": 36,
      "outputs": [
        {
          "output_type": "stream",
          "name": "stdout",
          "text": [
            "+----------------+----+------------------+\n",
            "|    aircraftName|code|            family|\n",
            "+----------------+----+------------------+\n",
            "| Airbus A220-100|BCS1|Airbus A220 family|\n",
            "| Airbus A220-300|BCS3|Airbus A220 family|\n",
            "|     Airbus A300|A30B|Airbus A300 family|\n",
            "| Airbus A300-600|A306|Airbus A300 family|\n",
            "|     Airbus A310|A310|Airbus A310 family|\n",
            "|     Airbus A318|A318|Airbus A320 family|\n",
            "|     Airbus A319|A319|Airbus A320 family|\n",
            "|  Airbus A319neo|A19N|Airbus A320 family|\n",
            "|     Airbus A320|A320|Airbus A320 family|\n",
            "|  Airbus A320neo|A20N|Airbus A320 family|\n",
            "|     Airbus A321|A321|Airbus A320 family|\n",
            "|  Airbus A321neo|A21N|Airbus A320 family|\n",
            "| Airbus A330-200|A332|Airbus A330 family|\n",
            "| Airbus A330-300|A333|Airbus A330 family|\n",
            "| Airbus A330-900|A339|Airbus A330 family|\n",
            "| Airbus A340-200|A342|Airbus A340 family|\n",
            "| Airbus A340-300|A343|Airbus A340 family|\n",
            "| Airbus A340-500|A345|Airbus A340 family|\n",
            "| Airbus A340-600|A346|Airbus A340 family|\n",
            "|Airbus A350-1000|A35K|Airbus A350 family|\n",
            "+----------------+----+------------------+\n",
            "only showing top 20 rows\n",
            "\n"
          ]
        }
      ]
    },
    {
      "cell_type": "code",
      "source": [
        "aircraft_df.groupBy(\"family\").count().sort(\"count\", ascending=False).show()"
      ],
      "metadata": {
        "id": "X0ufjI6YEIlM",
        "colab": {
          "base_uri": "https://localhost:8080/"
        },
        "outputId": "a2f3f28e-e6e8-4013-8c09-7ceeb97b31c5"
      },
      "execution_count": 37,
      "outputs": [
        {
          "output_type": "stream",
          "name": "stdout",
          "text": [
            "+--------------------+-----+\n",
            "|              family|count|\n",
            "+--------------------+-----+\n",
            "|   Boeing 737 family|   11|\n",
            "|  Airbus A320 family|    7|\n",
            "|   Boeing 747 family|    5|\n",
            "|Bombardier CRJ fa...|    5|\n",
            "|McDonnell Douglas...|    5|\n",
            "|Embraer E-Jet family|    5|\n",
            "|  Airbus A340 family|    4|\n",
            "|   Boeing 777 family|    4|\n",
            "|Bombardier Dash 8...|    4|\n",
            "|  Airbus A330 family|    3|\n",
            "|      Avro RJ family|    3|\n",
            "|       ATR 42 family|    3|\n",
            "|       ATR 72 family|    3|\n",
            "|       Fokker family|    3|\n",
            "|   Boeing 787 family|    3|\n",
            "|   Boeing 767 family|    3|\n",
            "|  Airbus A220 family|    2|\n",
            "|  Airbus A350 family|    2|\n",
            "|  Airbus A300 family|    2|\n",
            "|   Boeing 757 family|    2|\n",
            "+--------------------+-----+\n",
            "only showing top 20 rows\n",
            "\n"
          ]
        }
      ]
    },
    {
      "cell_type": "markdown",
      "source": [
        "## Creating aircraft_family_dim"
      ],
      "metadata": {
        "id": "MD-JvgFUqAW4"
      }
    },
    {
      "cell_type": "code",
      "source": [
        "aircraft_family_dim = aircraft_df \\\n",
        "                                  .select('family') \\\n",
        "                                  .distinct() \\\n",
        "                                  .withColumn('familyId', row_number().over( Window.orderBy('family') ))\n",
        "\n",
        "aircraft_family_dim.show()"
      ],
      "metadata": {
        "colab": {
          "base_uri": "https://localhost:8080/"
        },
        "id": "VNX5hRm9qISS",
        "outputId": "4c1fb7d8-949f-45ec-8119-2f6c9f1fb200"
      },
      "execution_count": 38,
      "outputs": [
        {
          "output_type": "stream",
          "name": "stdout",
          "text": [
            "+--------------------+--------+\n",
            "|              family|familyId|\n",
            "+--------------------+--------+\n",
            "|       ATR 42 family|       1|\n",
            "|       ATR 72 family|       2|\n",
            "|  Airbus A220 family|       3|\n",
            "|  Airbus A300 family|       4|\n",
            "|  Airbus A310 family|       5|\n",
            "|  Airbus A320 family|       6|\n",
            "|  Airbus A330 family|       7|\n",
            "|  Airbus A340 family|       8|\n",
            "|  Airbus A350 family|       9|\n",
            "|     Airbus A380-800|      10|\n",
            "|      Avro RJ family|      11|\n",
            "|   Boeing 737 family|      12|\n",
            "|   Boeing 747 family|      13|\n",
            "|   Boeing 757 family|      14|\n",
            "|   Boeing 767 family|      15|\n",
            "|   Boeing 777 family|      16|\n",
            "|   Boeing 787 family|      17|\n",
            "|Bombardier CRJ fa...|      18|\n",
            "|Bombardier Dash 8...|      19|\n",
            "|Embraer E-Jet family|      20|\n",
            "+--------------------+--------+\n",
            "only showing top 20 rows\n",
            "\n"
          ]
        }
      ]
    },
    {
      "cell_type": "markdown",
      "source": [
        "## Creating aircraft_dim"
      ],
      "metadata": {
        "id": "OAOlp74rqmB4"
      }
    },
    {
      "cell_type": "code",
      "source": [
        "aircraft_dim = aircraft_df \\\n",
        "                          .join(\n",
        "                              aircraft_family_dim,\n",
        "                              'family',\n",
        "                              'left'\n",
        "                          ) \\\n",
        "                          .select( [ 'aircraftName', 'code', 'familyId' ] ) \\\n",
        "\n",
        "aircraft_dim.show()"
      ],
      "metadata": {
        "colab": {
          "base_uri": "https://localhost:8080/"
        },
        "id": "zVmq2s3bqkft",
        "outputId": "6dc25e37-bf4b-45aa-ed7f-2c7cafd9b875"
      },
      "execution_count": 39,
      "outputs": [
        {
          "output_type": "stream",
          "name": "stdout",
          "text": [
            "+----------------+----+--------+\n",
            "|    aircraftName|code|familyId|\n",
            "+----------------+----+--------+\n",
            "| Airbus A220-100|BCS1|       3|\n",
            "| Airbus A220-300|BCS3|       3|\n",
            "| Airbus A330-200|A332|       7|\n",
            "| Airbus A330-300|A333|       7|\n",
            "| Airbus A330-900|A339|       7|\n",
            "| Airbus A340-200|A342|       8|\n",
            "| Airbus A340-300|A343|       8|\n",
            "| Airbus A340-500|A345|       8|\n",
            "| Airbus A340-600|A346|       8|\n",
            "|     Airbus A310|A310|       5|\n",
            "|Airbus A350-1000|A35K|       9|\n",
            "| Airbus A350-900|A359|       9|\n",
            "|     Airbus A300|A30B|       4|\n",
            "| Airbus A300-600|A306|       4|\n",
            "|     Airbus A318|A318|       6|\n",
            "|     Airbus A319|A319|       6|\n",
            "|  Airbus A319neo|A19N|       6|\n",
            "|     Airbus A320|A320|       6|\n",
            "|  Airbus A320neo|A20N|       6|\n",
            "|     Airbus A321|A321|       6|\n",
            "+----------------+----+--------+\n",
            "only showing top 20 rows\n",
            "\n"
          ]
        }
      ]
    },
    {
      "cell_type": "markdown",
      "source": [
        "# Flights"
      ],
      "metadata": {
        "id": "tipcqP9pE9BO"
      }
    },
    {
      "cell_type": "markdown",
      "source": [
        "##  Most tracked"
      ],
      "metadata": {
        "id": "xUc63hQKxz2v"
      }
    },
    {
      "cell_type": "markdown",
      "source": [
        "### Importing JSON"
      ],
      "metadata": {
        "id": "e3IvoopitTAh"
      }
    },
    {
      "cell_type": "code",
      "source": [
        "def get_most_tracked_list(folder, url, headers):\n",
        "\n",
        "    response = requests.get(url, headers=headers)\n",
        "\n",
        "    print(response.json())\n",
        "\n",
        "    data = response.json()[\"data\"]\n",
        "\n",
        "    file_name = folder + \"flight\" + str(response.json()[\"update_time\"]) + \".json\"\n",
        "\n",
        "    with open(file_name, 'w') as f:\n",
        "      json.dump(data, f)\n",
        "\n",
        "    return(data)"
      ],
      "metadata": {
        "id": "LOYtLqWm9200"
      },
      "execution_count": 40,
      "outputs": []
    },
    {
      "cell_type": "code",
      "source": [
        "flight_url = \"https://flight-radar1.p.rapidapi.com/flights/list-most-tracked\"\n",
        "flight_folder = \"/content/drive/MyDrive/portfolio/spark_flight_data/flight/\"\n",
        "\n",
        "flight_data = get_most_tracked_list(flight_folder, flight_url, headers)"
      ],
      "metadata": {
        "id": "XjeFXLKlFE0e",
        "colab": {
          "base_uri": "https://localhost:8080/"
        },
        "outputId": "257bd226-9cab-416e-83b7-4d0c6c7960cc"
      },
      "execution_count": 41,
      "outputs": [
        {
          "output_type": "stream",
          "name": "stdout",
          "text": [
            "{'version': '0.3.9', 'update_time': 1725226273.70263, 'data': [{'flight_id': '36e9de21', 'flight': 'EK20', 'callsign': 'UAE20', 'squawk': None, 'clicks': 580, 'from_iata': 'MAN', 'from_city': 'Manchester', 'to_iata': 'DXB', 'to_city': 'Dubai', 'model': 'A388', 'type': 'Airbus A380-842'}, {'flight_id': '36e9ba2d', 'flight': 'U21264', 'callsign': 'EZS61ZK', 'squawk': None, 'clicks': 532, 'from_iata': 'CPH', 'from_city': 'Copenhagen', 'to_iata': 'BSL', 'to_city': 'Basel', 'model': 'A320', 'type': 'Airbus A320-214'}, {'flight_id': '36e985fe', 'flight': 'GM613', 'callsign': 'GSW613', 'squawk': None, 'clicks': 420, 'from_iata': 'PRN', 'from_city': 'Pristina', 'to_iata': 'BSL', 'to_city': 'Basel', 'model': 'A320', 'type': 'Airbus A320-214'}, {'flight_id': '36e9e579', 'flight': 'LX92', 'callsign': 'SWR92', 'squawk': None, 'clicks': 396, 'from_iata': 'ZRH', 'from_city': 'Zurich', 'to_iata': 'GRU', 'to_city': 'Sao Paulo', 'model': 'B77W', 'type': 'Boeing 777-3DE(ER)'}, {'flight_id': '36e9ce0a', 'flight': 'U21056', 'callsign': 'EZS59AU', 'squawk': None, 'clicks': 324, 'from_iata': 'NCE', 'from_city': 'Nice', 'to_iata': 'BSL', 'to_city': 'Basel', 'model': 'A320', 'type': 'Airbus A320-214'}, {'flight_id': '36e9e639', 'flight': 'LX282', 'callsign': 'SWR282', 'squawk': None, 'clicks': 320, 'from_iata': 'ZRH', 'from_city': 'Zurich', 'to_iata': 'JNB', 'to_city': 'Johannesburg', 'model': 'A343', 'type': 'Airbus A340-313'}, {'flight_id': '36e90e5e', 'flight': 'AC2059', 'callsign': 'ACA2059', 'squawk': None, 'clicks': 296, 'from_iata': 'BOG', 'from_city': 'Bogota', 'to_iata': 'YYZ', 'to_city': 'Toronto', 'model': 'A333', 'type': 'Airbus A330-343'}, {'flight_id': '36e9e772', 'flight': 'AV121', 'callsign': 'AVA121', 'squawk': None, 'clicks': 256, 'from_iata': 'LHR', 'from_city': 'London', 'to_iata': 'BOG', 'to_city': 'Bogota', 'model': 'B788', 'type': 'Boeing 787-8 Dreamliner'}, {'flight_id': '36e9accf', 'flight': 'U21184', 'callsign': 'EZS67BT', 'squawk': None, 'clicks': 252, 'from_iata': 'HAM', 'from_city': 'Hamburg', 'to_iata': 'BSL', 'to_city': 'Basel', 'model': 'A320', 'type': 'Airbus A320-214'}, {'flight_id': '36e9e60f', 'flight': 'VS449', 'callsign': 'VIR449', 'squawk': None, 'clicks': 240, 'from_iata': 'LHR', 'from_city': 'London', 'to_iata': 'JNB', 'to_city': 'Johannesburg', 'model': 'B789', 'type': 'Boeing 787-9 Dreamliner'}]}\n"
          ]
        }
      ]
    },
    {
      "cell_type": "markdown",
      "source": [
        "### Saving info in a DataFrame"
      ],
      "metadata": {
        "id": "2fT3JhMztXvd"
      }
    },
    {
      "cell_type": "code",
      "source": [
        "# Converting list of Dictionaries in a list of Rows\n",
        "fligth_rows = [Row(**flight) for flight in flight_data]"
      ],
      "metadata": {
        "id": "L8vNao_m0_8p"
      },
      "execution_count": 42,
      "outputs": []
    },
    {
      "cell_type": "code",
      "source": [
        "# Defining schema\n",
        "flight_schema = StructType([\n",
        "    StructField('flightId', StringType()),\n",
        "    StructField('flight', StringType()),\n",
        "    StructField('callsign', StringType()),\n",
        "    StructField('squawk', StringType()),\n",
        "    StructField('clicks', IntegerType()),\n",
        "    StructField('from_iata', StringType()),\n",
        "    StructField('from_city', StringType()),\n",
        "    StructField('to_iata', StringType()),\n",
        "    StructField('to_city', StringType()),\n",
        "    StructField('model', StringType()),\n",
        "    StructField('type', StringType())\n",
        "])"
      ],
      "metadata": {
        "id": "jskuneFNtoyu"
      },
      "execution_count": 43,
      "outputs": []
    },
    {
      "cell_type": "code",
      "source": [
        "flight_data = spark.read.json(flight_folder + \"flight*.json\")\n",
        "\n",
        "flight_data.show()"
      ],
      "metadata": {
        "id": "Ua8ghWlWvwOr",
        "colab": {
          "base_uri": "https://localhost:8080/"
        },
        "outputId": "d4c5a22b-bd0c-4412-9d11-cbfaba2f50bc"
      },
      "execution_count": 44,
      "outputs": [
        {
          "output_type": "stream",
          "name": "stdout",
          "text": [
            "+--------+------+------+---------+----------+---------+-----+------+------------+-------+--------------------+\n",
            "|callsign|clicks|flight|flight_id| from_city|from_iata|model|squawk|     to_city|to_iata|                type|\n",
            "+--------+------+------+---------+----------+---------+-----+------+------------+-------+--------------------+\n",
            "|   UAE20|   580|  EK20| 36e9de21|Manchester|      MAN| A388|  NULL|       Dubai|    DXB|     Airbus A380-842|\n",
            "| EZS61ZK|   532|U21264| 36e9ba2d|Copenhagen|      CPH| A320|  NULL|       Basel|    BSL|     Airbus A320-214|\n",
            "|  GSW613|   420| GM613| 36e985fe|  Pristina|      PRN| A320|  NULL|       Basel|    BSL|     Airbus A320-214|\n",
            "|   SWR92|   396|  LX92| 36e9e579|    Zurich|      ZRH| B77W|  NULL|   Sao Paulo|    GRU|  Boeing 777-3DE(ER)|\n",
            "| EZS59AU|   324|U21056| 36e9ce0a|      Nice|      NCE| A320|  NULL|       Basel|    BSL|     Airbus A320-214|\n",
            "|  SWR282|   320| LX282| 36e9e639|    Zurich|      ZRH| A343|  NULL|Johannesburg|    JNB|     Airbus A340-313|\n",
            "| ACA2059|   296|AC2059| 36e90e5e|    Bogota|      BOG| A333|  NULL|     Toronto|    YYZ|     Airbus A330-343|\n",
            "|  AVA121|   256| AV121| 36e9e772|    London|      LHR| B788|  NULL|      Bogota|    BOG|Boeing 787-8 Drea...|\n",
            "| EZS67BT|   252|U21184| 36e9accf|   Hamburg|      HAM| A320|  NULL|       Basel|    BSL|     Airbus A320-214|\n",
            "|  VIR449|   240| VS449| 36e9e60f|    London|      LHR| B789|  NULL|Johannesburg|    JNB|Boeing 787-9 Drea...|\n",
            "|   UAE20|   692|  EK20| 36e9de21|Manchester|      MAN| A388|  NULL|       Dubai|    DXB|     Airbus A380-842|\n",
            "| ENT7029|   636|E47029| 36e9e918|    Krakow|      KRK| B738|  NULL|     Antalya|    AYT|      Boeing 737-82R|\n",
            "| GCR7988|   416|GS7988| 36e9db21|    London|      LHR| A333|  NULL|       Xi'an|    XIY|     Airbus A330-343|\n",
            "|  AVA121|   416| AV121| 36e9e772|    London|      LHR| B788|  NULL|      Bogota|    BOG|Boeing 787-8 Drea...|\n",
            "|  GSW613|   356| GM613| 36e985fe|  Pristina|      PRN| A320|  NULL|       Basel|    BSL|     Airbus A320-214|\n",
            "| EZS67BT|   328|U21184| 36e9accf|   Hamburg|      HAM| A320|  NULL|       Basel|    BSL|     Airbus A320-214|\n",
            "| EZS61ZK|   324|U21264| 36e9ba2d|Copenhagen|      CPH| A320|  NULL|       Basel|    BSL|     Airbus A320-214|\n",
            "| EZS59AU|   264|U21056| 36e9ce0a|      Nice|      NCE| A320|  NULL|       Basel|    BSL|     Airbus A320-214|\n",
            "| EZY12EW|   248| U2883| 36e9d7a0|    London|      LGW| A319|  NULL|      Jersey|    JER|     Airbus A319-111|\n",
            "|  VIR449|   224| VS449| 36e9e60f|    London|      LHR| B789|  NULL|Johannesburg|    JNB|Boeing 787-9 Drea...|\n",
            "+--------+------+------+---------+----------+---------+-----+------+------------+-------+--------------------+\n",
            "only showing top 20 rows\n",
            "\n"
          ]
        }
      ]
    },
    {
      "cell_type": "code",
      "source": [
        "flight_data.count()"
      ],
      "metadata": {
        "colab": {
          "base_uri": "https://localhost:8080/"
        },
        "id": "4DIXb6vADjxz",
        "outputId": "e3a156d0-a067-4827-cb3c-5433923bd493"
      },
      "execution_count": 45,
      "outputs": [
        {
          "output_type": "execute_result",
          "data": {
            "text/plain": [
              "150"
            ]
          },
          "metadata": {},
          "execution_count": 45
        }
      ]
    },
    {
      "cell_type": "code",
      "source": [
        "fligth_df = flight_data \\\n",
        "                .select( # Removing 'from_city' and 'to_city' since can be retreved using 'from_iata' e 'to_iata'.\n",
        "                         # Removing aircraft 'type' since can be retreaved using 'model'\n",
        "                    [ 'flight_id', 'flight', 'callsign', 'squawk', 'clicks', 'from_iata', 'to_iata', 'model']\n",
        "                ) \\\n",
        "                .withColumn( # COunt how many times the same id appears\n",
        "                    \"isDuplicate\", row_number().over( Window.orderBy( desc('clicks') ).partitionBy(\"flight_id\") )\n",
        "                ) \\\n",
        "                .filter( # Drop all the outdated rows\n",
        "                    col(\"isDuplicate\") == 1\n",
        "                ) \\\n",
        "                .drop( # Drop 'isDuplicate', since no longer needed\n",
        "                    \"isDuplicate\"\n",
        "                ) \\\n",
        "                .sort('clicks', ascending = False)\n",
        "\n",
        "fligth_df.show()"
      ],
      "metadata": {
        "colab": {
          "base_uri": "https://localhost:8080/"
        },
        "id": "SU2brma3-N8z",
        "outputId": "c1dae84b-9a66-4edb-b22d-4c8faeb38a85"
      },
      "execution_count": 46,
      "outputs": [
        {
          "output_type": "stream",
          "name": "stdout",
          "text": [
            "+---------+-------+--------+------+------+---------+-------+-----+\n",
            "|flight_id| flight|callsign|squawk|clicks|from_iata|to_iata|model|\n",
            "+---------+-------+--------+------+------+---------+-------+-----+\n",
            "| 36560a96|   NULL|   N827V|  7700|  6948|     NULL|   NULL| BE36|\n",
            "| 36556bf9|   NULL| RRR7226|  NULL|  5200|     NULL|   NULL| R135|\n",
            "| 3655eb88|   NULL|NIGHTW12|  NULL|  3124|     NULL|   NULL| EUFI|\n",
            "| 3655e8bd|   NULL|NIGHTW11|  NULL|  2964|     NULL|   NULL| EUFI|\n",
            "| 3653737f| TK6404| THY6404|  NULL|  1812|      FRA|    IST| B77L|\n",
            "| 36510f76|   MR21|    MR21|  NULL|  1672|     NULL|   NULL|  F15|\n",
            "| 36e9d5bf|  AF274|  AFR274|  NULL|  1492|      CDG|    HND| B77W|\n",
            "| 3651e35c|   NULL|   LEE92|  NULL|  1472|      QKG|   NULL| HUNT|\n",
            "| 3650dcff|ROF9142| ROF9142|  NULL|  1460|      OTP|    BCM| DRON|\n",
            "| 364fbb07|   NULL|  SNBD01|  NULL|  1276|      DLH|   NULL| CL41|\n",
            "| 3651aa8f|  CX458|  CPA458|  NULL|  1232|      HKG|    KHH| B773|\n",
            "| 36522d1e|   NULL|    A124|  NULL|  1208|     NULL|   NULL| A124|\n",
            "| 36e9de21|   EK20|   UAE20|  NULL|  1208|      MAN|    DXB| A388|\n",
            "| 36e9ad40|   NULL|    A189|  NULL|  1192|     NULL|   NULL| A189|\n",
            "| 36e8deb8|RRR6400| RRR6400|  NULL|  1156|      QKG|    VBY|  C17|\n",
            "| 3653b695|   NULL| NAF298A|  NULL|  1088|     NULL|   NULL|  H47|\n",
            "| 3651bd5c|   NULL|   SARAB|  NULL|  1076|     NULL|   NULL| HAWK|\n",
            "| 3653b716|   NULL| NAF298B|  NULL|  1024|     NULL|   NULL|  H47|\n",
            "| 36e9e4c0| 3Z7686| TVP7686|  NULL|  1008|      LCJ|    BJV| B738|\n",
            "| 365560d6|   NULL|   TTN59|  NULL|   956|      BZZ|   NULL| A332|\n",
            "+---------+-------+--------+------+------+---------+-------+-----+\n",
            "only showing top 20 rows\n",
            "\n"
          ]
        }
      ]
    },
    {
      "cell_type": "code",
      "source": [
        "fligth_df.count()"
      ],
      "metadata": {
        "colab": {
          "base_uri": "https://localhost:8080/"
        },
        "id": "ORpr-FeU_h4v",
        "outputId": "95f4e503-eec6-4517-82bd-c0e813df4865"
      },
      "execution_count": 47,
      "outputs": [
        {
          "output_type": "execute_result",
          "data": {
            "text/plain": [
              "114"
            ]
          },
          "metadata": {},
          "execution_count": 47
        }
      ]
    },
    {
      "cell_type": "markdown",
      "source": [
        "## In boundary"
      ],
      "metadata": {
        "id": "VOAB0CBuQWPI"
      }
    },
    {
      "cell_type": "markdown",
      "source": [
        "### Importing JSON"
      ],
      "metadata": {
        "id": "NExdZdlYcCPY"
      }
    },
    {
      "cell_type": "code",
      "source": [
        "in_boundary_url = \"https://flight-radar1.p.rapidapi.com/flights/list-in-boundary\"\n",
        "in_bounadary_folder = \"/content/drive/MyDrive/portfolio/spark_flight_data/flight_in_boundary/\"\n",
        "\n",
        "querystring = {\"bl_lat\":\"10\",\"bl_lng\":\"80\",\"tr_lat\":\"15\",\"tr_lng\":\"120\",\"limit\":\"300\"}"
      ],
      "metadata": {
        "id": "T5-27JA_Qjjs"
      },
      "execution_count": 48,
      "outputs": []
    },
    {
      "cell_type": "code",
      "source": [
        "def get_in_boundary_data(folder, url, headers, params):\n",
        "\n",
        "    # Fetch response from API\n",
        "    response = requests.get(url, headers=headers, params=params)\n",
        "\n",
        "    # Get data from JSON\n",
        "    data = response.json()[\"aircraft\"]\n",
        "\n",
        "    # Create spark DataFrame\n",
        "    df = spark \\\n",
        "            .createDataFrame(data) \\\n",
        "            .withColumnRenamed('_1', 'flight_id') \\\n",
        "            .withColumnRenamed('_2', 'mode_s') \\\n",
        "            .withColumnRenamed('_3', 'lat') \\\n",
        "            .withColumnRenamed('_4', 'lon') \\\n",
        "            .withColumnRenamed('_10', 'aircraf_model') \\\n",
        "            .withColumnRenamed('_11', 'aircraft_registration') \\\n",
        "            .withColumnRenamed('_12', 'departure_time') \\\n",
        "            .withColumnRenamed('_13', 'from_iata') \\\n",
        "            .withColumnRenamed('_14', 'to_iata') \\\n",
        "            .withColumnRenamed('_15', 'airline_IATA') \\\n",
        "            .withColumnRenamed('_18', 'airline_ICAO')\n",
        "\n",
        "    # Crete name of the file to create using the current time\n",
        "    file_name = folder + \"flight_in_boundary_\" + str(int(time.time())) + \".csv\"\n",
        "\n",
        "    # Save the DataFrame as CSV\n",
        "    df.write.format('csv').option('header', 'true').save(file_name)"
      ],
      "metadata": {
        "id": "7l50oNpp-5Q-"
      },
      "execution_count": 49,
      "outputs": []
    },
    {
      "cell_type": "markdown",
      "source": [
        "### Saving data in DataFrame"
      ],
      "metadata": {
        "id": "cKFOZdPMcNyd"
      }
    },
    {
      "cell_type": "code",
      "source": [
        "# API url\n",
        "in_boundary_url = \"https://flight-radar1.p.rapidapi.com/flights/list-in-boundary\"\n",
        "\n",
        "# Where to save CSV data\n",
        "in_boundary_folder = \"/content/drive/MyDrive/portfolio/spark_flight_data/flight_in_boundary/\"\n",
        "\n",
        "# Fetch data from API\n",
        "\n",
        "get_in_boundary_data(\n",
        "    url = in_boundary_url,\n",
        "    folder = in_boundary_folder,\n",
        "    headers = headers,\n",
        "    params = querystring\n",
        "    )"
      ],
      "metadata": {
        "id": "cDlvrJnoAMsS"
      },
      "execution_count": 50,
      "outputs": []
    },
    {
      "cell_type": "code",
      "source": [
        "flight_in_boundary_schema = StructType([\n",
        "    StructField('flight_id', StringType()),\n",
        "    StructField('mode_s', StringType()),\n",
        "    StructField('lat', FloatType()),\n",
        "    StructField('lon', FloatType()),\n",
        "    StructField('_5', StringType()),\n",
        "    StructField('_6', StringType()),\n",
        "    StructField('_7', StringType()),\n",
        "    StructField('_8', StringType()),\n",
        "    StructField('_9', StringType()),\n",
        "    StructField('aircraft_model', StringType()),\n",
        "    StructField('aircraft_registration', StringType()),\n",
        "    StructField('departure_time', StringType()),\n",
        "    StructField('from_iata', StringType()),\n",
        "    StructField('to_iata', StringType()),\n",
        "    StructField('airline_IATA', StringType()),\n",
        "    StructField('_16', StringType()),\n",
        "    StructField('_17', StringType()),\n",
        "    StructField('airline_ICAO', StringType()),\n",
        "    StructField('_19', StringType()),\n",
        "])"
      ],
      "metadata": {
        "id": "91ytYVQbq2mS"
      },
      "execution_count": 51,
      "outputs": []
    },
    {
      "cell_type": "code",
      "source": [
        "flight_in_boundary_df = spark \\\n",
        "                            .read.csv(in_boundary_folder + \"flight_in_boundary_*.csv\", header = True, schema = flight_in_boundary_schema) \\\n",
        "                            .dropDuplicates()\n",
        "\n",
        "flight_in_boundary_df.show()"
      ],
      "metadata": {
        "id": "m0BXjK-NQZ7w",
        "colab": {
          "base_uri": "https://localhost:8080/"
        },
        "outputId": "47ee6f4b-f364-4145-8542-99bd8842c97d"
      },
      "execution_count": 52,
      "outputs": [
        {
          "output_type": "stream",
          "name": "stdout",
          "text": [
            "+---------+------+-----+------+---+-----+---+----+-------+--------------+---------------------+--------------+---------+-------+------------+---+-----+------------+---+\n",
            "|flight_id|mode_s|  lat|   lon| _5|   _6| _7|  _8|     _9|aircraft_model|aircraft_registration|departure_time|from_iata|to_iata|airline_IATA|_16|  _17|airline_ICAO|_19|\n",
            "+---------+------+-----+------+---+-----+---+----+-------+--------------+---------------------+--------------+---------+-------+------------+---+-----+------------+---+\n",
            "| 36e984a5|896211|13.69|100.74| 28|    0|  2|NULL|F-VTBS5|          B77W|               A6-EGP|    1725222894|      BKK|    DXB|       EK371|  1|    0|      UAE371|  0|\n",
            "| 3655f133|8881B9|13.27|108.24|185|32000|459|NULL|F-VVPK1|          A321|              VN-A288|    1721998391|      DAD|    SGN|       VU675|  0|    0|      VAG675|  0|\n",
            "| 3656095e|8991DD|13.93|101.75| 67|17950|416|NULL|F-VTBU1|          A339|              B-58302|    1721998392|      BKK|    TPE|       JX746|  0| 1280|      SJX746|  0|\n",
            "| 36550077|AE03E2|12.77|101.35|272| 5500|224|NULL|F-VTBU2|          C130|               164995|    1721998391|      DNA|   NULL|        NULL|  0|-1536|     CNV3329|  0|\n",
            "| 3652fb8b|896450| 12.7| 83.44|117|33000|495|NULL|F-VOMM7|          B77W|               A6-EQA|    1721942826|      DXB|    KUL|       EK344|  0|    0|      UAE344|  0|\n",
            "| 36560cdb|885310|13.33|100.69|183|11200|349|NULL|F-VTPH2|          A320|               HS-TXP|    1721998391|      BKK|    PEN|       TG425|  0| 1024|      THA425|  0|\n",
            "| 365344b8|7813B4|13.08| 112.4|347|31025|495|NULL|T-VVTH3|          A21N|               B-1089|    1721942827|      KUL|    CAN|      CZ8072|  0|    0|     CSN8072|  0|\n",
            "| 36537d87|789203|13.42| 87.95| 66|39012|451|NULL| F-SAT5|          A359|                B-LRV|    1721942695|      BLR|    HKG|       CX624|  0|    0|      CPA624|  0|\n",
            "| 365327e2|76CDB3|12.83| 80.51|294|36000|518|NULL|F-VOMM7|          A359|               9V-SMS|    1721942826|      SIN|    CDG|       SQ334|  0|    0|      SIA334|  0|\n",
            "| 36e92de9|888171|11.62|108.44|245|37975|472|NULL|F-VVTS4|          A21N|              VN-A525|    1725223976|      ICN|    PQC|       VJ975|  0|    0|      VJC975|  0|\n",
            "| 3655fa18|884214|10.57|100.25|  5|24475|395|NULL|F-VTSF2|          A319|               HS-PPT|    1721998390|      USM|    BKK|       PG180|  0| 2368|      BKP180|  0|\n",
            "| 365392f4|780A0A|13.27| 86.22| 66|39000|428|NULL|  F-EST|          A333|                B-LAM|    1721942819|      MAA|    HKG|       CX632|  0|    0|      CPA632|  0|\n",
            "| 36e96ecb|880854|13.39| 95.44| 74|35000|424|NULL|F-VOPB4|          A320|               HS-BBT|    1725223969|      COK|    DMK|       FD171|  0|    0|      AIQ171|  0|\n",
            "| 3655cbed|89662B|13.98|111.42|269|30025|502|NULL|T-VVTH3|          B77W|               A6-ETA|    1721998375|      MNL|    AUH|       EY423|  0|    0|      ETD423|  0|\n",
            "| 3653c610|78045F| 13.7|100.74| 14|    0| 24|NULL|F-VTBS5|          A321|               B-6345|    1721942694|      BKK|    SZX|       MU286|  1|    0|      CES286|  0|\n",
            "| 36e9c0b5|7583A2|11.27|119.48|204|28825|458|NULL|F-RPVS1|          A320|             RP-C4101|    1725223974|      MNL|    PPS|       5J637|  0|-2112|      CEB637|  0|\n",
            "| 36558a1a|780B7E|13.93|109.98|211|36000|478|NULL|F-VVBM1|          A332|               B-5936|    1721998391|      PVG|    CGK|      MU5069|  0|    0|     CES5069|  0|\n",
            "| 3655c4c6|758558|13.98|111.12| 89|32950|442|NULL|T-VVTH3|          A21N|             RP-C9934|    1721998391|      BKK|    MNL|       PR737|  0|    0|      PAL737|  0|\n",
            "| 365281d1|872FC2|13.85|100.78|207| 2400|178|NULL|F-VTBS1|          B789|               JA924A|    1721942694|      HND|    BKK|       NH849|  0|-1152|      ANA849|  0|\n",
            "| 365614a8|884203|13.69|100.74| 14|    0|  1|NULL|F-VTBS5|          A319|               HS-PPC|    1721998393|      BKK|    PNH|       PG935|  1|    0|      BKP935|  0|\n",
            "+---------+------+-----+------+---+-----+---+----+-------+--------------+---------------------+--------------+---------+-------+------------+---+-----+------------+---+\n",
            "only showing top 20 rows\n",
            "\n"
          ]
        }
      ]
    },
    {
      "cell_type": "code",
      "source": [
        "flight_in_boundary_df.groupBy('flight_id').count().filter( col('count') > 1).show()"
      ],
      "metadata": {
        "colab": {
          "base_uri": "https://localhost:8080/"
        },
        "id": "gYjSf-pKn7Ya",
        "outputId": "c8e4ad08-5f4c-4ac3-a590-4e067ad2fe0b"
      },
      "execution_count": 53,
      "outputs": [
        {
          "output_type": "stream",
          "name": "stdout",
          "text": [
            "+---------+-----+\n",
            "|flight_id|count|\n",
            "+---------+-----+\n",
            "| 36e92de9|    6|\n",
            "| 36e9a57b|    3|\n",
            "| 36e94460|    3|\n",
            "| 36e8141c|    4|\n",
            "| 3653c610|    2|\n",
            "| 36e9b2aa|    3|\n",
            "| 365226c8|    2|\n",
            "| 36e96bb2|    4|\n",
            "| 3653b2ea|    2|\n",
            "| 36e80b0f|    3|\n",
            "| 3652df6a|    2|\n",
            "| 36e9a094|    2|\n",
            "| 365344b8|    2|\n",
            "| 36e8016d|    4|\n",
            "| 36e7dcee|    3|\n",
            "| 36533cf0|    2|\n",
            "| 3652deaf|    2|\n",
            "| 36e9b77e|    3|\n",
            "| 365351f5|    2|\n",
            "| 36e96bef|    3|\n",
            "+---------+-----+\n",
            "only showing top 20 rows\n",
            "\n"
          ]
        }
      ]
    },
    {
      "cell_type": "code",
      "source": [
        "flight_in_boundary_df = flight_in_boundary_df \\\n",
        "                        .withColumn('departure_time', from_unixtime( col('departure_time') )) \\\n",
        "                        .withColumn('airline_ICAO_1', substring('airline_ICAO', 0, 3)) \\\n",
        "                        .withColumn('airline_ICAO_2', substring('airline_ICAO', 3, 5)) \\\n",
        "                        .drop('airline_ICAO') \\\n",
        "                        .withColumn('airline_IATA_1', substring('airline_IATA', 0, 2)) \\\n",
        "                        .withColumn('airline_IATA_2', substring('airline_IATA', 2, 5)) \\\n",
        "                        .drop('airline_IATA')\n",
        "\n",
        "flight_in_boundary_df.show()"
      ],
      "metadata": {
        "colab": {
          "base_uri": "https://localhost:8080/"
        },
        "id": "Wk71wVygqxSN",
        "outputId": "6f378fa2-dbc5-4669-f868-221105a404d4"
      },
      "execution_count": 54,
      "outputs": [
        {
          "output_type": "stream",
          "name": "stdout",
          "text": [
            "+---------+------+-----+------+---+-----+---+----+-------+--------------+---------------------+-------------------+---------+-------+---+-----+---+--------------+--------------+--------------+--------------+\n",
            "|flight_id|mode_s|  lat|   lon| _5|   _6| _7|  _8|     _9|aircraft_model|aircraft_registration|     departure_time|from_iata|to_iata|_16|  _17|_19|airline_ICAO_1|airline_ICAO_2|airline_IATA_1|airline_IATA_2|\n",
            "+---------+------+-----+------+---+-----+---+----+-------+--------------+---------------------+-------------------+---------+-------+---+-----+---+--------------+--------------+--------------+--------------+\n",
            "| 36e984a5|896211|13.69|100.74| 28|    0|  2|NULL|F-VTBS5|          B77W|               A6-EGP|2024-09-01 20:34:54|      BKK|    DXB|  1|    0|  0|           UAE|          E371|            EK|          K371|\n",
            "| 3655f133|8881B9|13.27|108.24|185|32000|459|NULL|F-VVPK1|          A321|              VN-A288|2024-07-26 12:53:11|      DAD|    SGN|  0|    0|  0|           VAG|          G675|            VU|          U675|\n",
            "| 3656095e|8991DD|13.93|101.75| 67|17950|416|NULL|F-VTBU1|          A339|              B-58302|2024-07-26 12:53:12|      BKK|    TPE|  0| 1280|  0|           SJX|          X746|            JX|          X746|\n",
            "| 36550077|AE03E2|12.77|101.35|272| 5500|224|NULL|F-VTBU2|          C130|               164995|2024-07-26 12:53:11|      DNA|   NULL|  0|-1536|  0|           CNV|         V3329|          NULL|          NULL|\n",
            "| 3652fb8b|896450| 12.7| 83.44|117|33000|495|NULL|F-VOMM7|          B77W|               A6-EQA|2024-07-25 21:27:06|      DXB|    KUL|  0|    0|  0|           UAE|          E344|            EK|          K344|\n",
            "| 36560cdb|885310|13.33|100.69|183|11200|349|NULL|F-VTPH2|          A320|               HS-TXP|2024-07-26 12:53:11|      BKK|    PEN|  0| 1024|  0|           THA|          A425|            TG|          G425|\n",
            "| 365344b8|7813B4|13.08| 112.4|347|31025|495|NULL|T-VVTH3|          A21N|               B-1089|2024-07-25 21:27:07|      KUL|    CAN|  0|    0|  0|           CSN|         N8072|            CZ|         Z8072|\n",
            "| 36537d87|789203|13.42| 87.95| 66|39012|451|NULL| F-SAT5|          A359|                B-LRV|2024-07-25 21:24:55|      BLR|    HKG|  0|    0|  0|           CPA|          A624|            CX|          X624|\n",
            "| 365327e2|76CDB3|12.83| 80.51|294|36000|518|NULL|F-VOMM7|          A359|               9V-SMS|2024-07-25 21:27:06|      SIN|    CDG|  0|    0|  0|           SIA|          A334|            SQ|          Q334|\n",
            "| 36e92de9|888171|11.62|108.44|245|37975|472|NULL|F-VVTS4|          A21N|              VN-A525|2024-09-01 20:52:56|      ICN|    PQC|  0|    0|  0|           VJC|          C975|            VJ|          J975|\n",
            "| 3655fa18|884214|10.57|100.25|  5|24475|395|NULL|F-VTSF2|          A319|               HS-PPT|2024-07-26 12:53:10|      USM|    BKK|  0| 2368|  0|           BKP|          P180|            PG|          G180|\n",
            "| 365392f4|780A0A|13.27| 86.22| 66|39000|428|NULL|  F-EST|          A333|                B-LAM|2024-07-25 21:26:59|      MAA|    HKG|  0|    0|  0|           CPA|          A632|            CX|          X632|\n",
            "| 36e96ecb|880854|13.39| 95.44| 74|35000|424|NULL|F-VOPB4|          A320|               HS-BBT|2024-09-01 20:52:49|      COK|    DMK|  0|    0|  0|           AIQ|          Q171|            FD|          D171|\n",
            "| 3655cbed|89662B|13.98|111.42|269|30025|502|NULL|T-VVTH3|          B77W|               A6-ETA|2024-07-26 12:52:55|      MNL|    AUH|  0|    0|  0|           ETD|          D423|            EY|          Y423|\n",
            "| 3653c610|78045F| 13.7|100.74| 14|    0| 24|NULL|F-VTBS5|          A321|               B-6345|2024-07-25 21:24:54|      BKK|    SZX|  1|    0|  0|           CES|          S286|            MU|          U286|\n",
            "| 36e9c0b5|7583A2|11.27|119.48|204|28825|458|NULL|F-RPVS1|          A320|             RP-C4101|2024-09-01 20:52:54|      MNL|    PPS|  0|-2112|  0|           CEB|          B637|            5J|          J637|\n",
            "| 36558a1a|780B7E|13.93|109.98|211|36000|478|NULL|F-VVBM1|          A332|               B-5936|2024-07-26 12:53:11|      PVG|    CGK|  0|    0|  0|           CES|         S5069|            MU|         U5069|\n",
            "| 3655c4c6|758558|13.98|111.12| 89|32950|442|NULL|T-VVTH3|          A21N|             RP-C9934|2024-07-26 12:53:11|      BKK|    MNL|  0|    0|  0|           PAL|          L737|            PR|          R737|\n",
            "| 365281d1|872FC2|13.85|100.78|207| 2400|178|NULL|F-VTBS1|          B789|               JA924A|2024-07-25 21:24:54|      HND|    BKK|  0|-1152|  0|           ANA|          A849|            NH|          H849|\n",
            "| 365614a8|884203|13.69|100.74| 14|    0|  1|NULL|F-VTBS5|          A319|               HS-PPC|2024-07-26 12:53:13|      BKK|    PNH|  1|    0|  0|           BKP|          P935|            PG|          G935|\n",
            "+---------+------+-----+------+---+-----+---+----+-------+--------------+---------------------+-------------------+---------+-------+---+-----+---+--------------+--------------+--------------+--------------+\n",
            "only showing top 20 rows\n",
            "\n"
          ]
        }
      ]
    },
    {
      "cell_type": "markdown",
      "source": [
        "### Testing columns"
      ],
      "metadata": {
        "id": "_X4LbN3Ib-xK"
      }
    },
    {
      "cell_type": "code",
      "source": [
        "flight_in_boundary_df \\\n",
        "                  .join(\n",
        "                      aircraft_dim,\n",
        "                      flight_in_boundary_df.aircraft_model == aircraft_dim.code,\n",
        "                      'left'\n",
        "                  ) \\\n",
        "                  .select(\n",
        "                      ['flight_id', 'aircraft_model', 'aircraftName']\n",
        "                  ) \\\n",
        "                  .show()"
      ],
      "metadata": {
        "colab": {
          "base_uri": "https://localhost:8080/"
        },
        "id": "gCIi6xMZSzJe",
        "outputId": "20052229-4aa7-46de-b2d8-83a0dec946bf"
      },
      "execution_count": 55,
      "outputs": [
        {
          "output_type": "stream",
          "name": "stdout",
          "text": [
            "+---------+--------------+----------------+\n",
            "|flight_id|aircraft_model|    aircraftName|\n",
            "+---------+--------------+----------------+\n",
            "| 365344b8|          A21N|  Airbus A321neo|\n",
            "| 36e92de9|          A21N|  Airbus A321neo|\n",
            "| 3655c4c6|          A21N|  Airbus A321neo|\n",
            "| 36558a1a|          A332| Airbus A330-200|\n",
            "| 36550077|          C130|            NULL|\n",
            "| 3655fa18|          A319|     Airbus A319|\n",
            "| 365614a8|          A319|     Airbus A319|\n",
            "| 36560cdb|          A320|     Airbus A320|\n",
            "| 36e96ecb|          A320|     Airbus A320|\n",
            "| 36e9c0b5|          A320|     Airbus A320|\n",
            "| 3655f133|          A321|     Airbus A321|\n",
            "| 3653c610|          A321|     Airbus A321|\n",
            "| 3655cfd1|          A321|     Airbus A321|\n",
            "| 365281d1|          B789|    Boeing 787-9|\n",
            "| 365392f4|          A333| Airbus A330-300|\n",
            "| 3656095e|          A339| Airbus A330-900|\n",
            "| 36e984a5|          B77W|Boeing 777-300ER|\n",
            "| 3652fb8b|          B77W|Boeing 777-300ER|\n",
            "| 3655cbed|          B77W|Boeing 777-300ER|\n",
            "| 36537d87|          A359| Airbus A350-900|\n",
            "+---------+--------------+----------------+\n",
            "only showing top 20 rows\n",
            "\n"
          ]
        }
      ]
    },
    {
      "cell_type": "code",
      "source": [
        "flight_in_boundary_df \\\n",
        "                    .join(\n",
        "                        airline_dim,\n",
        "                        flight_in_boundary_df.airline_ICAO_1 == airline_dim.ICAO,\n",
        "                        'left'\n",
        "                    ) \\\n",
        "                    .select(\n",
        "                        ['flight_id', 'airline_ICAO_1', 'Name']\n",
        "                    ) \\\n",
        "                    .show()"
      ],
      "metadata": {
        "colab": {
          "base_uri": "https://localhost:8080/"
        },
        "id": "01t7zofVXtvQ",
        "outputId": "df191c05-93cf-4e79-f715-8ae4fe7ce52d"
      },
      "execution_count": 56,
      "outputs": [
        {
          "output_type": "stream",
          "name": "stdout",
          "text": [
            "+---------+--------------+--------------------+\n",
            "|flight_id|airline_ICAO_1|                Name|\n",
            "+---------+--------------+--------------------+\n",
            "| 3655cbed|           ETD|      Etihad Airways|\n",
            "| 3655fa18|           BKP|     Bangkok Airways|\n",
            "| 365614a8|           BKP|     Bangkok Airways|\n",
            "| 3656095e|           SJX|             Starlux|\n",
            "| 3655c4c6|           PAL| Philippine Airlines|\n",
            "| 365281d1|           ANA|  All Nippon Airways|\n",
            "| 365344b8|           CSN|China Southern Ai...|\n",
            "| 36560cdb|           THA|        Thai Airways|\n",
            "| 36537d87|           CPA|      Cathay Pacific|\n",
            "| 365392f4|           CPA|      Cathay Pacific|\n",
            "| 36e9c0b5|           CEB|        Cebu Pacific|\n",
            "| 36550077|           CNV|                NULL|\n",
            "| 36e984a5|           UAE|            Emirates|\n",
            "| 3652fb8b|           UAE|            Emirates|\n",
            "| 3655f133|           VAG|  Vietravel Airlines|\n",
            "| 3653c610|           CES|China Eastern Air...|\n",
            "| 36558a1a|           CES|China Eastern Air...|\n",
            "| 36e92de9|           VJC|         VietJet Air|\n",
            "| 36e96ecb|           AIQ|        Thai AirAsia|\n",
            "| 3655cfd1|           VJC|         VietJet Air|\n",
            "+---------+--------------+--------------------+\n",
            "only showing top 20 rows\n",
            "\n"
          ]
        }
      ]
    },
    {
      "cell_type": "code",
      "source": [],
      "metadata": {
        "id": "yrEpM3xezf_o"
      },
      "execution_count": 56,
      "outputs": []
    }
  ]
}