{
  "nbformat": 4,
  "nbformat_minor": 0,
  "metadata": {
    "colab": {
      "provenance": [],
      "toc_visible": true
    },
    "kernelspec": {
      "name": "python3",
      "display_name": "Python 3"
    },
    "language_info": {
      "name": "python"
    }
  },
  "cells": [
    {
      "cell_type": "markdown",
      "source": [
        "# Introduction"
      ],
      "metadata": {
        "id": "BhuB3NS2ydXa"
      }
    },
    {
      "cell_type": "markdown",
      "source": [
        "This project has been created using the \"Flight Radar API\" from \"Rapid API\" (https://rapidapi.com/apidojo/api/flight-radar1), who tracks the informations form FlightRadar24 (https://www.flightradar24.com/).\n",
        "\n",
        "The aim of this project is to showcase how PySpark can be used to manage data."
      ],
      "metadata": {
        "id": "_iT73SoPyolv"
      }
    },
    {
      "cell_type": "markdown",
      "source": [
        "# Importing libraries"
      ],
      "metadata": {
        "id": "8yWUVd-9ydfx"
      }
    },
    {
      "cell_type": "code",
      "source": [
        "!pip install pyspark"
      ],
      "metadata": {
        "colab": {
          "base_uri": "https://localhost:8080/"
        },
        "id": "0YGXAW0Y_mCo",
        "outputId": "68ccf0e2-7766-4d0c-a643-fcb0bd96912f"
      },
      "execution_count": 1,
      "outputs": [
        {
          "output_type": "stream",
          "name": "stdout",
          "text": [
            "Collecting pyspark\n",
            "  Downloading pyspark-3.5.1.tar.gz (317.0 MB)\n",
            "\u001b[2K     \u001b[90m━━━━━━━━━━━━━━━━━━━━━━━━━━━━━━━━━━━━━━━━\u001b[0m \u001b[32m317.0/317.0 MB\u001b[0m \u001b[31m4.5 MB/s\u001b[0m eta \u001b[36m0:00:00\u001b[0m\n",
            "\u001b[?25h  Preparing metadata (setup.py) ... \u001b[?25l\u001b[?25hdone\n",
            "Requirement already satisfied: py4j==0.10.9.7 in /usr/local/lib/python3.10/dist-packages (from pyspark) (0.10.9.7)\n",
            "Building wheels for collected packages: pyspark\n",
            "  Building wheel for pyspark (setup.py) ... \u001b[?25l\u001b[?25hdone\n",
            "  Created wheel for pyspark: filename=pyspark-3.5.1-py2.py3-none-any.whl size=317488490 sha256=6702e306d4e44c37e81aff647f138cc2bbbe133654e46a71cb8bd4998d899263\n",
            "  Stored in directory: /root/.cache/pip/wheels/80/1d/60/2c256ed38dddce2fdd93be545214a63e02fbd8d74fb0b7f3a6\n",
            "Successfully built pyspark\n",
            "Installing collected packages: pyspark\n",
            "Successfully installed pyspark-3.5.1\n"
          ]
        }
      ]
    },
    {
      "cell_type": "code",
      "source": [
        "from pyspark.sql import SparkSession, Row, Window\n",
        "from pyspark.sql.types import *\n",
        "from pyspark.sql.functions import col, row_number, when, desc\n",
        "import requests\n",
        "import json"
      ],
      "metadata": {
        "id": "bx0zZhfe_dYN"
      },
      "execution_count": 54,
      "outputs": []
    },
    {
      "cell_type": "code",
      "source": [
        "from google.colab import drive\n",
        "drive.mount('/content/drive')\n",
        "\n",
        "folder = \"/content/drive/MyDrive/portfolio/spark_flight_data/\""
      ],
      "metadata": {
        "colab": {
          "base_uri": "https://localhost:8080/"
        },
        "id": "9w-XRHL34ok0",
        "outputId": "77221d22-e66f-4c03-fc3c-b472a0048a4a"
      },
      "execution_count": 3,
      "outputs": [
        {
          "output_type": "stream",
          "name": "stdout",
          "text": [
            "Drive already mounted at /content/drive; to attempt to forcibly remount, call drive.mount(\"/content/drive\", force_remount=True).\n"
          ]
        }
      ]
    },
    {
      "cell_type": "code",
      "source": [
        "with open(folder + \"headers.json\", \"r\") as f:\n",
        "  headers = json.load(f)"
      ],
      "metadata": {
        "id": "dmttNsQbvboZ"
      },
      "execution_count": 4,
      "outputs": []
    },
    {
      "cell_type": "markdown",
      "source": [
        "# Creating Saprk Session"
      ],
      "metadata": {
        "id": "ucJHleJ0g6vf"
      }
    },
    {
      "cell_type": "code",
      "source": [
        "spark = SparkSession\\\n",
        "        .builder\\\n",
        "        .appName(\"flight_data\")\\\n",
        "        .getOrCreate()"
      ],
      "metadata": {
        "id": "2clhiUZmLRvz"
      },
      "execution_count": 5,
      "outputs": []
    },
    {
      "cell_type": "markdown",
      "source": [
        "# Airline information"
      ],
      "metadata": {
        "id": "J6R6aO8a50Wx"
      }
    },
    {
      "cell_type": "markdown",
      "source": [
        "## Importing JSON"
      ],
      "metadata": {
        "id": "yfonggZeJ6tt"
      }
    },
    {
      "cell_type": "code",
      "source": [
        "def getData(file_path, url, headers):\n",
        "  try:\n",
        "    f = open(file_path)\n",
        "    data = json.load(f)\n",
        "\n",
        "  except:\n",
        "\n",
        "    response = requests.get(url, headers=headers)\n",
        "\n",
        "    print(response.json())\n",
        "\n",
        "    data = response.json()['rows']\n",
        "\n",
        "    with open(file_path, 'w') as f:\n",
        "      json.dump(data, f)\n",
        "\n",
        "  return data"
      ],
      "metadata": {
        "id": "0ggCEwBV_165"
      },
      "execution_count": 6,
      "outputs": []
    },
    {
      "cell_type": "code",
      "source": [
        "airline_file = 'airline_data.json'\n",
        "airline_url = \"https://flight-radar1.p.rapidapi.com/airlines/list\"\n",
        "\n",
        "airline_data = getData(folder + airline_file, airline_url, headers=headers)\n",
        "\n",
        "airline_data[0]"
      ],
      "metadata": {
        "id": "Xvo7UjqChsgv",
        "colab": {
          "base_uri": "https://localhost:8080/"
        },
        "outputId": "48ed5e46-146a-499b-a4e0-1376010ba2b0"
      },
      "execution_count": 7,
      "outputs": [
        {
          "output_type": "execute_result",
          "data": {
            "text/plain": [
              "{'Name': '21 Air', 'Code': '2I', 'ICAO': 'CSB'}"
            ]
          },
          "metadata": {},
          "execution_count": 7
        }
      ]
    },
    {
      "cell_type": "markdown",
      "source": [
        "## Creating airline_dim"
      ],
      "metadata": {
        "id": "1j0TpRYMKD3N"
      }
    },
    {
      "cell_type": "code",
      "source": [
        "airline_rdd = spark.sparkContext.parallelize(airline_data)"
      ],
      "metadata": {
        "id": "97oB1elKMcxW"
      },
      "execution_count": 8,
      "outputs": []
    },
    {
      "cell_type": "code",
      "source": [
        "airline_dim = spark.read.json(airline_rdd)\n",
        "\n",
        "airline_dim.show()"
      ],
      "metadata": {
        "colab": {
          "base_uri": "https://localhost:8080/"
        },
        "id": "AmW-WRoGLGUr",
        "outputId": "c89f2c18-d0d9-4776-95db-27d8c3af62bd"
      },
      "execution_count": 9,
      "outputs": [
        {
          "output_type": "stream",
          "name": "stdout",
          "text": [
            "+----+----+------------------+\n",
            "|Code|ICAO|              Name|\n",
            "+----+----+------------------+\n",
            "|  2I| CSB|            21 Air|\n",
            "|    | EMC|      247 Aviation|\n",
            "|    | BRO|   2Excel Aviation|\n",
            "|    | DAK|         4 Airways|\n",
            "|  Q5| MLA|       40-Mile Air|\n",
            "|  FE| IHO|  748 Air Services|\n",
            "|  AQ| JYH|             9 Air|\n",
            "|  S5| NKP|        Abakan Air|\n",
            "|    | ABP|          ABS Jets|\n",
            "|    | BAR|Abu Dhabi Aviation|\n",
            "|  GB| ABX|           ABX Air|\n",
            "|    | SON|     Acass Ireland|\n",
            "|  AN| WSN|      Advanced Air|\n",
            "|  A3| AEE|   Aegean Airlines|\n",
            "|  EI| EIN|        Aer Lingus|\n",
            "|  EG| EUK|     Aer Lingus UK|\n",
            "|  JK| ACL|         AerCaribe|\n",
            "|  5E| BLK|              Aero|\n",
            "|  N2| NIG|              Aero|\n",
            "|    | AKF|        Aero Asahi|\n",
            "+----+----+------------------+\n",
            "only showing top 20 rows\n",
            "\n"
          ]
        }
      ]
    },
    {
      "cell_type": "markdown",
      "source": [
        "# Airports information"
      ],
      "metadata": {
        "id": "88a2G1rv5_2E"
      }
    },
    {
      "cell_type": "markdown",
      "source": [
        "## Importing JSON"
      ],
      "metadata": {
        "id": "PROdxroIKRnh"
      }
    },
    {
      "cell_type": "code",
      "source": [
        "airports_file = 'airports_data.json'\n",
        "airports_url = \"https://flight-radar1.p.rapidapi.com/airports/list\"\n",
        "\n",
        "airports_data = getData(folder + airports_file, airports_url, headers=headers)\n",
        "\n",
        "airports_data[0]"
      ],
      "metadata": {
        "id": "NGuWB6KaOrD1",
        "colab": {
          "base_uri": "https://localhost:8080/"
        },
        "outputId": "8e3b9f8f-6658-4d55-c038-e476b860a14a"
      },
      "execution_count": 10,
      "outputs": [
        {
          "output_type": "execute_result",
          "data": {
            "text/plain": [
              "{'id': 1900,\n",
              " 'name': 'A Coruna Airport',\n",
              " 'iata': 'LCG',\n",
              " 'icao': 'LECO',\n",
              " 'city': 'A Coruna',\n",
              " 'lat': 43.302059,\n",
              " 'lon': -8.37725,\n",
              " 'country': 'Spain',\n",
              " 'alt': 326,\n",
              " 'size': 4686,\n",
              " 'timezone': {'name': 'Europe/Madrid',\n",
              "  'offset': 7200,\n",
              "  'offsetHours': '2:00',\n",
              "  'abbr': 'CEST',\n",
              "  'abbrName': 'Central European Summer Time',\n",
              "  'isDst': True},\n",
              " 'countryId': 209}"
            ]
          },
          "metadata": {},
          "execution_count": 10
        }
      ]
    },
    {
      "cell_type": "code",
      "source": [
        "# Saving timezones info in a Dictionary\n",
        "\n",
        "timezones = {}\n",
        "\n",
        "for airport in airports_data:\n",
        "\n",
        "  timezone = airport[\"timezone\"]\n",
        "\n",
        "  timezone_name = timezone[\"name\"]\n",
        "\n",
        "  if timezone_name not in timezones.keys():\n",
        "    timezones[timezone_name] = timezone\n",
        "\n",
        "timezones[ list(timezones.keys())[0] ]"
      ],
      "metadata": {
        "id": "zxPpEsKryhmP",
        "colab": {
          "base_uri": "https://localhost:8080/"
        },
        "outputId": "4c0e6e2a-ff62-472f-ea81-0b61285cd99f"
      },
      "execution_count": 11,
      "outputs": [
        {
          "output_type": "execute_result",
          "data": {
            "text/plain": [
              "{'name': 'Europe/Madrid',\n",
              " 'offset': 7200,\n",
              " 'offsetHours': '2:00',\n",
              " 'abbr': 'CEST',\n",
              " 'abbrName': 'Central European Summer Time',\n",
              " 'isDst': True}"
            ]
          },
          "metadata": {},
          "execution_count": 11
        }
      ]
    },
    {
      "cell_type": "markdown",
      "source": [
        "## Timezone information"
      ],
      "metadata": {
        "id": "XUoihtCFwN3M"
      }
    },
    {
      "cell_type": "markdown",
      "source": [
        "### Saving timezone info in a DataFrame"
      ],
      "metadata": {
        "id": "h-1u8OtgyOAm"
      }
    },
    {
      "cell_type": "code",
      "source": [
        "# Converting input in a list of Rows\n",
        "\n",
        "timezones_rows = [Row(**timezones[timezone_name]) for timezone_name in timezones.keys()]\n",
        "\n",
        "timezones_rows[:5]"
      ],
      "metadata": {
        "colab": {
          "base_uri": "https://localhost:8080/"
        },
        "id": "bOwcsrzUwXiD",
        "outputId": "e863d77b-9046-49b2-b2d2-0f10b0a79400"
      },
      "execution_count": 12,
      "outputs": [
        {
          "output_type": "execute_result",
          "data": {
            "text/plain": [
              "[Row(name='Europe/Madrid', offset=7200, offsetHours='2:00', abbr='CEST', abbrName='Central European Summer Time', isDst=True),\n",
              " Row(name='Europe/Berlin', offset=7200, offsetHours='2:00', abbr='CEST', abbrName='Central European Summer Time', isDst=True),\n",
              " Row(name='Europe/Copenhagen', offset=7200, offsetHours='2:00', abbr='CEST', abbrName='Central European Summer Time', isDst=True),\n",
              " Row(name='America/Godthab', offset=-3600, offsetHours='-1:00', abbr='-01', abbrName=None, isDst=True),\n",
              " Row(name='Asia/Tehran', offset=12600, offsetHours='3:30', abbr='+0330', abbrName=None, isDst=False)]"
            ]
          },
          "metadata": {},
          "execution_count": 12
        }
      ]
    },
    {
      "cell_type": "code",
      "source": [
        "# Defining DataFrame schema\n",
        "timezones_schema = StructType([\n",
        "    StructField('name', StringType()),\n",
        "    StructField('offset', IntegerType()),\n",
        "    StructField('offsetHours', StringType()),\n",
        "    StructField('abbr', StringType()),\n",
        "    StructField('abbrName', StringType()),\n",
        "    StructField('isDst', BooleanType())\n",
        "])\n",
        "\n",
        "# Creating DataFrame\n",
        "timezones_df = spark.createDataFrame(timezones_rows, schema = timezones_schema)\n",
        "\n",
        "timezones_df.show()"
      ],
      "metadata": {
        "colab": {
          "base_uri": "https://localhost:8080/"
        },
        "id": "nm9gu8ijwf8L",
        "outputId": "9c125fc8-db39-410b-95f1-94d892278fcf"
      },
      "execution_count": 13,
      "outputs": [
        {
          "output_type": "stream",
          "name": "stdout",
          "text": [
            "+-------------------+------+-----------+-----+--------------------+-----+\n",
            "|               name|offset|offsetHours| abbr|            abbrName|isDst|\n",
            "+-------------------+------+-----------+-----+--------------------+-----+\n",
            "|      Europe/Madrid|  7200|       2:00| CEST|Central European ...| true|\n",
            "|      Europe/Berlin|  7200|       2:00| CEST|Central European ...| true|\n",
            "|  Europe/Copenhagen|  7200|       2:00| CEST|Central European ...| true|\n",
            "|    America/Godthab| -3600|      -1:00|  -01|                NULL| true|\n",
            "|        Asia/Tehran| 12600|       3:30|+0330|                NULL|false|\n",
            "|   Asia/Krasnoyarsk| 25200|       7:00|  +07|                NULL|false|\n",
            "|  America/Vancouver|-25200|      -7:00|  PDT|Pacific Daylight ...| true|\n",
            "|     Pacific/Tarawa| 43200|      12:00|  +12|                NULL|false|\n",
            "|      Europe/London|  3600|       1:00|  BST| British Summer Time| true|\n",
            "|    America/Chicago|-18000|      -5:00|  CDT|Central Daylight ...| true|\n",
            "|        Asia/Riyadh| 10800|       3:00|  +03|                NULL|false|\n",
            "|     Africa/Abidjan|  NULL|       0:00|  GMT| Greenwich Mean Time|false|\n",
            "|   America/New_York|-14400|      -4:00|  EDT|Eastern Daylight ...| true|\n",
            "|         Asia/Dubai| 14400|       4:00|  +04|                NULL|false|\n",
            "|       Africa/Cairo| 10800|       3:00| EEST|Eastern European ...| true|\n",
            "|       Africa/Lagos|  3600|       1:00|  WAT|    West Africa Time|false|\n",
            "|America/Mexico_City|-21600|      -6:00|  CST|Central Standard ...|false|\n",
            "|       Africa/Accra|  NULL|       0:00|  GMT| Greenwich Mean Time|false|\n",
            "|       America/Adak|-32400|      -9:00|  HDT|                NULL| true|\n",
            "|       Asia/Kolkata| 19800|       5:30|  IST| India Standard Time|false|\n",
            "+-------------------+------+-----------+-----+--------------------+-----+\n",
            "only showing top 20 rows\n",
            "\n"
          ]
        }
      ]
    },
    {
      "cell_type": "markdown",
      "source": [
        "### Checking if the same 'abbr' can correspond to different 'abbrName'"
      ],
      "metadata": {
        "id": "ReGDYusdzHIZ"
      }
    },
    {
      "cell_type": "code",
      "source": [
        "# Creting a DataFrame contarining unique abbr-abbrName pairs\n",
        "abbr_check = timezones_df \\\n",
        "                              .select([\"abbr\", \"abbrName\"]) \\\n",
        "                              .distinct()\n",
        "\n",
        "# Select abbr that appears more than one time\n",
        "abbr_check \\\n",
        "          .groupBy('abbr') \\\n",
        "          .count() \\\n",
        "          .sort(\"count\", ascending=False) \\\n",
        "          .filter( col('count') > 1) \\\n",
        "          .show()"
      ],
      "metadata": {
        "colab": {
          "base_uri": "https://localhost:8080/"
        },
        "id": "XloK7NuCwtfy",
        "outputId": "5b2ad0b4-c009-4057-8639-be5ccf8f46e7"
      },
      "execution_count": 14,
      "outputs": [
        {
          "output_type": "stream",
          "name": "stdout",
          "text": [
            "+----+-----+\n",
            "|abbr|count|\n",
            "+----+-----+\n",
            "|WEST|    2|\n",
            "| IST|    2|\n",
            "|CEST|    2|\n",
            "| CST|    2|\n",
            "+----+-----+\n",
            "\n"
          ]
        }
      ]
    },
    {
      "cell_type": "code",
      "source": [
        "# Check information about abbr that appears more than one time\n",
        "abbr_check \\\n",
        "          .filter( abbr_check.abbr.isin('IST', 'CST', 'WEST', 'CEST') ) \\\n",
        "          .show(truncate = False)"
      ],
      "metadata": {
        "colab": {
          "base_uri": "https://localhost:8080/"
        },
        "id": "3V4xGp77xHWI",
        "outputId": "c9c5989a-070a-43ca-f8b4-7cd94245ebb8"
      },
      "execution_count": 15,
      "outputs": [
        {
          "output_type": "stream",
          "name": "stdout",
          "text": [
            "+----+----------------------------+\n",
            "|abbr|abbrName                    |\n",
            "+----+----------------------------+\n",
            "|CST |Central Standard Time       |\n",
            "|IST |India Standard Time         |\n",
            "|WEST|Western European Summer Time|\n",
            "|CEST|Central European Summer Time|\n",
            "|CST |China Standard Time         |\n",
            "|IST |Irish Standard Time         |\n",
            "|CEST|NULL                        |\n",
            "|WEST|NULL                        |\n",
            "+----+----------------------------+\n",
            "\n"
          ]
        }
      ]
    },
    {
      "cell_type": "markdown",
      "source": [
        "### Updating DataFrame"
      ],
      "metadata": {
        "id": "PNkoNb1IZ-uJ"
      }
    },
    {
      "cell_type": "code",
      "source": [
        "timezones_df = timezones_df \\\n",
        "                            .withColumn( # Replace conflitting 'abbr'\n",
        "                                      'abbr',\n",
        "                                        when( col('abbrName') == 'China Standard Time', 'ChiST') \\\n",
        "                                        .when( col('abbrName') == 'Irish Standard Time', 'IriST') \\\n",
        "                                        .otherwise(timezones_df.abbr)\n",
        "                                        ). \\\n",
        "                            withColumn( # Fill missing 'abbrName'\n",
        "                                      'abbrName',\n",
        "                                      when( col('abbr') == 'CEST', 'Central European Summer Time' ) \\\n",
        "                                      .when( col('abbr') == 'WEST', 'Western European Summer Time') \\\n",
        "                                      .otherwise(timezones_df.abbrName)\n",
        "                                        )\n",
        "\n",
        "\n",
        "\n",
        "timezones_df.show()"
      ],
      "metadata": {
        "colab": {
          "base_uri": "https://localhost:8080/"
        },
        "id": "FaWSGraa1dHh",
        "outputId": "6226fa9e-c194-4fbf-cd0d-3a1803c5d8db"
      },
      "execution_count": 16,
      "outputs": [
        {
          "output_type": "stream",
          "name": "stdout",
          "text": [
            "+-------------------+------+-----------+-----+--------------------+-----+\n",
            "|               name|offset|offsetHours| abbr|            abbrName|isDst|\n",
            "+-------------------+------+-----------+-----+--------------------+-----+\n",
            "|      Europe/Madrid|  7200|       2:00| CEST|Central European ...| true|\n",
            "|      Europe/Berlin|  7200|       2:00| CEST|Central European ...| true|\n",
            "|  Europe/Copenhagen|  7200|       2:00| CEST|Central European ...| true|\n",
            "|    America/Godthab| -3600|      -1:00|  -01|                NULL| true|\n",
            "|        Asia/Tehran| 12600|       3:30|+0330|                NULL|false|\n",
            "|   Asia/Krasnoyarsk| 25200|       7:00|  +07|                NULL|false|\n",
            "|  America/Vancouver|-25200|      -7:00|  PDT|Pacific Daylight ...| true|\n",
            "|     Pacific/Tarawa| 43200|      12:00|  +12|                NULL|false|\n",
            "|      Europe/London|  3600|       1:00|  BST| British Summer Time| true|\n",
            "|    America/Chicago|-18000|      -5:00|  CDT|Central Daylight ...| true|\n",
            "|        Asia/Riyadh| 10800|       3:00|  +03|                NULL|false|\n",
            "|     Africa/Abidjan|  NULL|       0:00|  GMT| Greenwich Mean Time|false|\n",
            "|   America/New_York|-14400|      -4:00|  EDT|Eastern Daylight ...| true|\n",
            "|         Asia/Dubai| 14400|       4:00|  +04|                NULL|false|\n",
            "|       Africa/Cairo| 10800|       3:00| EEST|Eastern European ...| true|\n",
            "|       Africa/Lagos|  3600|       1:00|  WAT|    West Africa Time|false|\n",
            "|America/Mexico_City|-21600|      -6:00|  CST|Central Standard ...|false|\n",
            "|       Africa/Accra|  NULL|       0:00|  GMT| Greenwich Mean Time|false|\n",
            "|       America/Adak|-32400|      -9:00|  HDT|                NULL| true|\n",
            "|       Asia/Kolkata| 19800|       5:30|  IST| India Standard Time|false|\n",
            "+-------------------+------+-----------+-----+--------------------+-----+\n",
            "only showing top 20 rows\n",
            "\n"
          ]
        }
      ]
    },
    {
      "cell_type": "code",
      "source": [
        "# Checking if update was successfull\n",
        "\n",
        "abbr_check = timezones_df \\\n",
        "                              .select([\"abbr\", \"abbrName\"]) \\\n",
        "                              .distinct()"
      ],
      "metadata": {
        "id": "RiaQvJ9g3I7j"
      },
      "execution_count": 17,
      "outputs": []
    },
    {
      "cell_type": "markdown",
      "source": [
        "### Checking if the same 'abbr' can have multiple 'isDst'"
      ],
      "metadata": {
        "id": "3DxYgYqgaTWt"
      }
    },
    {
      "cell_type": "code",
      "source": [
        "abbr_check = timezones_df \\\n",
        "                              .select([\"abbr\", \"isDst\"]) \\\n",
        "                              .distinct()\n",
        "\n",
        "abbr_check \\\n",
        "          .groupBy('abbr') \\\n",
        "          .count() \\\n",
        "          .sort(\"count\", ascending=False) \\\n",
        "          .filter( col('count') > 1) \\\n",
        "          .show()\n",
        "\n",
        "abbr_check.filter( col('abbr').isin('-01', '-02') ).show()"
      ],
      "metadata": {
        "colab": {
          "base_uri": "https://localhost:8080/"
        },
        "id": "Ce89PD1zX58c",
        "outputId": "872726a0-f520-43d4-a41e-1a6c3adac5b7"
      },
      "execution_count": 18,
      "outputs": [
        {
          "output_type": "stream",
          "name": "stdout",
          "text": [
            "+----+-----+\n",
            "|abbr|count|\n",
            "+----+-----+\n",
            "| -01|    2|\n",
            "| -02|    2|\n",
            "+----+-----+\n",
            "\n",
            "+----+-----+\n",
            "|abbr|isDst|\n",
            "+----+-----+\n",
            "| -01| true|\n",
            "| -01|false|\n",
            "| -02|false|\n",
            "| -02| true|\n",
            "+----+-----+\n",
            "\n"
          ]
        }
      ]
    },
    {
      "cell_type": "markdown",
      "source": [
        "### Splitting DataFrame in different tables"
      ],
      "metadata": {
        "id": "k4RizvwYevOR"
      }
    },
    {
      "cell_type": "code",
      "source": [
        "timezones_df.columns"
      ],
      "metadata": {
        "colab": {
          "base_uri": "https://localhost:8080/"
        },
        "id": "bzLXYyKRez3u",
        "outputId": "a0f0b0f8-e8bb-4f68-b5eb-c11beba9d6c0"
      },
      "execution_count": 19,
      "outputs": [
        {
          "output_type": "execute_result",
          "data": {
            "text/plain": [
              "['name', 'offset', 'offsetHours', 'abbr', 'abbrName', 'isDst']"
            ]
          },
          "metadata": {},
          "execution_count": 19
        }
      ]
    },
    {
      "cell_type": "markdown",
      "source": [
        "#### timezones_dim"
      ],
      "metadata": {
        "id": "LxSOhTEGhHU7"
      }
    },
    {
      "cell_type": "code",
      "source": [
        "timezones_dim = timezones_df \\\n",
        "                            .withColumn('timezoneId', row_number().over( Window.orderBy('offset')) ) \\\n",
        "                            .select(['timezoneId', 'name', 'offset', 'abbr', 'isDst']) \\\n",
        "                            .withColumnRenamed('name', 'timezoneName')\n",
        "\n",
        "\n",
        "timezones_dim.show()"
      ],
      "metadata": {
        "colab": {
          "base_uri": "https://localhost:8080/"
        },
        "id": "Re9YWciXeuDB",
        "outputId": "c69f9a5d-28fb-4114-cec4-e57a0f5981d6"
      },
      "execution_count": 20,
      "outputs": [
        {
          "output_type": "stream",
          "name": "stdout",
          "text": [
            "+----------+------------------+------+----+-----+\n",
            "|timezoneId|      timezoneName|offset|abbr|isDst|\n",
            "+----------+------------------+------+----+-----+\n",
            "|         1|      Africa/Dakar|  NULL| GMT|false|\n",
            "|         2|    Africa/Abidjan|  NULL| GMT|false|\n",
            "|         3|      Africa/Accra|  NULL| GMT|false|\n",
            "|         4|   Atlantic/Azores|  NULL| +00| true|\n",
            "|         5|Atlantic/Reykjavik|  NULL| GMT|false|\n",
            "|         6|    Africa/Conakry|  NULL| GMT|false|\n",
            "|         7|     Africa/Bamako|  NULL| GMT|false|\n",
            "|         8|               UTC|  NULL| UTC|false|\n",
            "|         9| Africa/Nouakchott|  NULL| GMT|false|\n",
            "|        10|Africa/Ouagadougou|  NULL| GMT|false|\n",
            "|        11|   Africa/Freetown|  NULL| GMT|false|\n",
            "|        12|       Africa/Lome|  NULL| GMT|false|\n",
            "|        13|Atlantic/St_Helena|  NULL| GMT|false|\n",
            "|        14|     Africa/Banjul|  NULL| GMT|false|\n",
            "|        15|     Africa/Bissau|  NULL| GMT|false|\n",
            "|        16|   Africa/Monrovia|  NULL| GMT|false|\n",
            "|        17|   Africa/Sao_Tome|  NULL| GMT|false|\n",
            "|        18| Pacific/Pago_Pago|-39600| SST|false|\n",
            "|        19|      Pacific/Niue|-39600| -11|false|\n",
            "|        20|  Pacific/Honolulu|-36000| HST|false|\n",
            "+----------+------------------+------+----+-----+\n",
            "only showing top 20 rows\n",
            "\n"
          ]
        }
      ]
    },
    {
      "cell_type": "markdown",
      "source": [
        "#### timezones_abbr_dim"
      ],
      "metadata": {
        "id": "WRzj2O4thPLu"
      }
    },
    {
      "cell_type": "code",
      "source": [
        "timezones_abbr_dim = timezones_df \\\n",
        "                                    .select(['abbr', 'abbrName']) \\\n",
        "                                    .distinct() \\\n",
        "                                    .withColumn('abbrId', row_number().over( Window.orderBy('abbr'))) \\\n",
        "                                    .select(['abbrId', 'abbr', 'abbrName'])\n",
        "\n",
        "timezones_abbr_dim.show()"
      ],
      "metadata": {
        "colab": {
          "base_uri": "https://localhost:8080/"
        },
        "id": "c1r11W84ggyg",
        "outputId": "06055cf9-51ba-4ce7-a646-ae6edf2da2f8"
      },
      "execution_count": 21,
      "outputs": [
        {
          "output_type": "stream",
          "name": "stdout",
          "text": [
            "+------+-----+--------+\n",
            "|abbrId| abbr|abbrName|\n",
            "+------+-----+--------+\n",
            "|     1|  +00|    NULL|\n",
            "|     2|  +01|    NULL|\n",
            "|     3|  +03|    NULL|\n",
            "|     4|+0330|    NULL|\n",
            "|     5|  +04|    NULL|\n",
            "|     6|+0430|    NULL|\n",
            "|     7|  +05|    NULL|\n",
            "|     8|+0530|    NULL|\n",
            "|     9|+0545|    NULL|\n",
            "|    10|  +06|    NULL|\n",
            "|    11|+0630|    NULL|\n",
            "|    12|  +07|    NULL|\n",
            "|    13|  +08|    NULL|\n",
            "|    14|+0845|    NULL|\n",
            "|    15|  +09|    NULL|\n",
            "|    16|  +10|    NULL|\n",
            "|    17|+1030|    NULL|\n",
            "|    18|  +11|    NULL|\n",
            "|    19|  +12|    NULL|\n",
            "|    20|+1245|    NULL|\n",
            "+------+-----+--------+\n",
            "only showing top 20 rows\n",
            "\n"
          ]
        }
      ]
    },
    {
      "cell_type": "markdown",
      "source": [
        "#### Refactoring timezone_dim"
      ],
      "metadata": {
        "id": "bm1jkLOnhd--"
      }
    },
    {
      "cell_type": "code",
      "source": [
        "# Replacing 'abbr' with 'abbrId' in timezone_dim\n",
        "\n",
        "timezones_dim = timezones_dim \\\n",
        "                                .join(\n",
        "                                    timezones_abbr_dim,\n",
        "                                    timezones_dim.abbr == timezones_abbr_dim.abbr,\n",
        "                                    'left'\n",
        "                                    ) \\\n",
        "                                .select(['timezoneId', 'timezoneName', 'offset', 'isDst', 'abbrId'])\n",
        "\n",
        "timezones_dim.show()"
      ],
      "metadata": {
        "colab": {
          "base_uri": "https://localhost:8080/"
        },
        "id": "fNHpR1l8hBgj",
        "outputId": "313ba13b-7c3e-4542-a7d9-cd45b7fdfdd4"
      },
      "execution_count": 22,
      "outputs": [
        {
          "output_type": "stream",
          "name": "stdout",
          "text": [
            "+----------+------------------+------+-----+------+\n",
            "|timezoneId|      timezoneName|offset|isDst|abbrId|\n",
            "+----------+------------------+------+-----+------+\n",
            "|         1|      Africa/Dakar|  NULL|false|    52|\n",
            "|         2|    Africa/Abidjan|  NULL|false|    52|\n",
            "|         3|      Africa/Accra|  NULL|false|    52|\n",
            "|         4|   Atlantic/Azores|  NULL| true|     1|\n",
            "|         5|Atlantic/Reykjavik|  NULL|false|    52|\n",
            "|         6|    Africa/Conakry|  NULL|false|    52|\n",
            "|         7|     Africa/Bamako|  NULL|false|    52|\n",
            "|         8|               UTC|  NULL|false|    71|\n",
            "|         9| Africa/Nouakchott|  NULL|false|    52|\n",
            "|        10|Africa/Ouagadougou|  NULL|false|    52|\n",
            "|        11|   Africa/Freetown|  NULL|false|    52|\n",
            "|        12|       Africa/Lome|  NULL|false|    52|\n",
            "|        13|Atlantic/St_Helena|  NULL|false|    52|\n",
            "|        14|     Africa/Banjul|  NULL|false|    52|\n",
            "|        15|     Africa/Bissau|  NULL|false|    52|\n",
            "|        16|   Africa/Monrovia|  NULL|false|    52|\n",
            "|        17|   Africa/Sao_Tome|  NULL|false|    52|\n",
            "|        18| Pacific/Pago_Pago|-39600|false|    70|\n",
            "|        19|      Pacific/Niue|-39600|false|    32|\n",
            "|        20|  Pacific/Honolulu|-36000|false|    55|\n",
            "+----------+------------------+------+-----+------+\n",
            "only showing top 20 rows\n",
            "\n"
          ]
        }
      ]
    },
    {
      "cell_type": "markdown",
      "source": [
        "## Geographic information"
      ],
      "metadata": {
        "id": "AZhCExgstPn2"
      }
    },
    {
      "cell_type": "markdown",
      "source": [
        "### Creating countries_dim table"
      ],
      "metadata": {
        "id": "AXO689Gagb4q"
      }
    },
    {
      "cell_type": "code",
      "source": [
        "# Getting set of unique countries name\n",
        "countries_set = { airport['country'] for airport in airports_data}"
      ],
      "metadata": {
        "id": "Ds1hI1sVmlm2"
      },
      "execution_count": 23,
      "outputs": []
    },
    {
      "cell_type": "code",
      "source": [
        "# Convert set in DataFrame\n",
        "# Rename 'value' col in 'countryName'\n",
        "# Add 'abbrId'\n",
        "# Change cols order\n",
        "countries_dim = spark \\\n",
        "                    .createDataFrame(countries_set, StringType()) \\\n",
        "                    .withColumnRenamed('value', 'country') \\\n",
        "                    .withColumn('countryId', row_number().over( Window.orderBy('country'))) \\\n",
        "                    .select([\"countryId\", \"country\"])\n",
        "\n",
        "countries_dim.show()"
      ],
      "metadata": {
        "colab": {
          "base_uri": "https://localhost:8080/"
        },
        "id": "UbznUe4rnLFM",
        "outputId": "c2d6e3e1-81f1-4f25-ab43-b22dcbcc9123"
      },
      "execution_count": 24,
      "outputs": [
        {
          "output_type": "stream",
          "name": "stdout",
          "text": [
            "+---------+-------------------+\n",
            "|countryId|            country|\n",
            "+---------+-------------------+\n",
            "|        1|        Afghanistan|\n",
            "|        2|            Albania|\n",
            "|        3|            Algeria|\n",
            "|        4|     American Samoa|\n",
            "|        5|             Angola|\n",
            "|        6|           Anguilla|\n",
            "|        7|         Antarctica|\n",
            "|        8|Antigua And Barbuda|\n",
            "|        9|          Argentina|\n",
            "|       10|            Armenia|\n",
            "|       11|              Aruba|\n",
            "|       12|          Australia|\n",
            "|       13|            Austria|\n",
            "|       14|         Azerbaijan|\n",
            "|       15|            Bahamas|\n",
            "|       16|            Bahrain|\n",
            "|       17|         Bangladesh|\n",
            "|       18|           Barbados|\n",
            "|       19|            Belarus|\n",
            "|       20|            Belgium|\n",
            "+---------+-------------------+\n",
            "only showing top 20 rows\n",
            "\n"
          ]
        }
      ]
    },
    {
      "cell_type": "markdown",
      "source": [
        "### Creating cities_dim table"
      ],
      "metadata": {
        "id": "PgudCS0PrARY"
      }
    },
    {
      "cell_type": "code",
      "source": [
        "# Create set of unique city-country pairs\n",
        "\n",
        "cities_set = { (airport['city'], airport['country']) for airport in airports_data}"
      ],
      "metadata": {
        "id": "M52eEv7TqveO"
      },
      "execution_count": 25,
      "outputs": []
    },
    {
      "cell_type": "code",
      "source": [
        "# Converting set in DataFrame\n",
        "cities_dim = spark \\\n",
        "              .createDataFrame(cities_set, schema = [\"city\", \"country\"]) \\\n",
        "              .withColumn('cityId', row_number().over( Window.orderBy('city')))\n",
        "\n",
        "cities_dim.show()"
      ],
      "metadata": {
        "colab": {
          "base_uri": "https://localhost:8080/"
        },
        "id": "LI1o16R9rLsM",
        "outputId": "7f7a4aa0-ab73-4809-efcd-e1d59b66a51e"
      },
      "execution_count": 26,
      "outputs": [
        {
          "output_type": "stream",
          "name": "stdout",
          "text": [
            "+---------------+--------------------+------+\n",
            "|           city|             country|cityId|\n",
            "+---------------+--------------------+------+\n",
            "|       A Coruna|               Spain|     1|\n",
            "|         Aachen|             Germany|     2|\n",
            "|        Aalborg|             Denmark|     3|\n",
            "|         Aarhus|             Denmark|     4|\n",
            "|        Aasiaat|           Greenland|     5|\n",
            "|         Abadan|                Iran|     6|\n",
            "|         Abakan|              Russia|     7|\n",
            "|     Abbotsford|              Canada|     8|\n",
            "|  Abemama Atoll|            Kiribati|     9|\n",
            "|       Aberdeen|       United States|    10|\n",
            "|       Aberdeen|      United Kingdom|    11|\n",
            "|           Abha|        Saudi Arabia|    12|\n",
            "|        Abidjan|         Ivory Coast|    13|\n",
            "|        Abilene|       United States|    14|\n",
            "|       Abingdon|       United States|    15|\n",
            "|      Abu Dhabi|United Arab Emirates|    16|\n",
            "|Abu Musa Island|                Iran|    17|\n",
            "|     Abu Simbel|               Egypt|    18|\n",
            "|          Abuja|             Nigeria|    19|\n",
            "|       Acapulco|              Mexico|    20|\n",
            "+---------------+--------------------+------+\n",
            "only showing top 20 rows\n",
            "\n"
          ]
        }
      ]
    },
    {
      "cell_type": "code",
      "source": [
        "# Replacing 'country' with 'countryId'\n",
        "\n",
        "cities_dim = cities_dim \\\n",
        "                      .join(\n",
        "                          countries_dim,\n",
        "                          'country',\n",
        "                          'left'\n",
        "                      ) \\\n",
        "                      .select( ['cityId', 'city', 'countryId'])\n",
        "\n",
        "cities_dim.show()"
      ],
      "metadata": {
        "colab": {
          "base_uri": "https://localhost:8080/"
        },
        "id": "CKbVapezsLda",
        "outputId": "76061f66-85e2-49dc-9e87-59cbf9c6dcb4"
      },
      "execution_count": 27,
      "outputs": [
        {
          "output_type": "stream",
          "name": "stdout",
          "text": [
            "+------+---------------+---------+\n",
            "|cityId|           city|countryId|\n",
            "+------+---------------+---------+\n",
            "|     7|         Abakan|      170|\n",
            "|     9|  Abemama Atoll|      109|\n",
            "|     2|         Aachen|       76|\n",
            "|    13|        Abidjan|      102|\n",
            "|    21|          Accra|       77|\n",
            "|    10|       Aberdeen|      216|\n",
            "|    14|        Abilene|      216|\n",
            "|    15|       Abingdon|      216|\n",
            "|    19|          Abuja|      151|\n",
            "|     1|       A Coruna|      192|\n",
            "|     3|        Aalborg|       54|\n",
            "|     4|         Aarhus|       54|\n",
            "|     6|         Abadan|       96|\n",
            "|    17|Abu Musa Island|       96|\n",
            "|    20|       Acapulco|      133|\n",
            "|    12|           Abha|      179|\n",
            "|    16|      Abu Dhabi|      214|\n",
            "|     8|     Abbotsford|       35|\n",
            "|     5|        Aasiaat|       80|\n",
            "|    18|     Abu Simbel|       59|\n",
            "+------+---------------+---------+\n",
            "only showing top 20 rows\n",
            "\n"
          ]
        }
      ]
    },
    {
      "cell_type": "markdown",
      "source": [
        "### Creating airports_dim\n",
        "\n"
      ],
      "metadata": {
        "id": "RV_jCSjLibFo"
      }
    },
    {
      "cell_type": "code",
      "source": [
        "def airport_typecaster(key, value):\n",
        "\n",
        "  # Keep only the name of the timezone\n",
        "  if key == 'timezone':\n",
        "    return value['name']\n",
        "\n",
        "  # Some 'lat' e 'lon' values are encoded as Float and some as Int,\n",
        "  # so we have to convert all of them to Float\n",
        "  if key in ('lat', 'lon'):\n",
        "    return float(value)\n",
        "\n",
        "  # Some values are encoded as String, so they have to be encoded as Int\n",
        "  if key == 'alt':\n",
        "    return int(value)\n",
        "\n",
        "  return value"
      ],
      "metadata": {
        "id": "t4b4hGDXoFJr"
      },
      "execution_count": 28,
      "outputs": []
    },
    {
      "cell_type": "code",
      "source": [
        "airports_col_to_remove = [\"country\"]\n",
        "\n",
        "airports_data_typecasted = [\n",
        "                            {key: airport_typecaster(key, value) for key, value in airport.items() if key not in airports_col_to_remove }\n",
        "                             for airport in airports_data\n",
        "                            ]"
      ],
      "metadata": {
        "id": "ZjtV2L8ubNPm"
      },
      "execution_count": 29,
      "outputs": []
    },
    {
      "cell_type": "code",
      "source": [
        "airport_rows = [Row(**airport) for airport in airports_data_typecasted]\n",
        "\n",
        "airport_rows[:4]"
      ],
      "metadata": {
        "id": "7s0fdCkkgGPh",
        "colab": {
          "base_uri": "https://localhost:8080/"
        },
        "outputId": "b346a0f1-040b-4fcd-8dfe-b177b76bac64"
      },
      "execution_count": 30,
      "outputs": [
        {
          "output_type": "execute_result",
          "data": {
            "text/plain": [
              "[Row(id=1900, name='A Coruna Airport', iata='LCG', icao='LECO', city='A Coruna', lat=43.302059, lon=-8.37725, alt=326, size=4686, timezone='Europe/Madrid', countryId=209),\n",
              " Row(id=3, name='Aachen Merzbruck Airport', iata='AAH', icao='EDKA', city='Aachen', lat=50.821899, lon=6.184759, alt=626, size=1491, timezone='Europe/Berlin', countryId=83),\n",
              " Row(id=4, name='Aalborg Airport', iata='AAL', icao='EKYT', city='Aalborg', lat=57.095112, lon=9.855172, alt=3, size=8856, timezone='Europe/Copenhagen', countryId=61),\n",
              " Row(id=9, name='Aarhus Airport', iata='AAR', icao='EKAH', city='Aarhus', lat=56.303295, lon=10.619129, alt=71, size=3919, timezone='Europe/Copenhagen', countryId=61)]"
            ]
          },
          "metadata": {},
          "execution_count": 30
        }
      ]
    },
    {
      "cell_type": "code",
      "source": [
        "airport_schema = StructType([\n",
        "    StructField('id', IntegerType()),\n",
        "    StructField('airportName', StringType()),\n",
        "    StructField('iata', StringType()),\n",
        "    StructField('icao', StringType()),\n",
        "    StructField('city', StringType()),\n",
        "    StructField('lat', DoubleType()),\n",
        "    StructField('lon', DoubleType()),\n",
        "    StructField('alt', IntegerType()),\n",
        "    StructField('size', IntegerType()),\n",
        "    StructField('timezoneName', StringType()),\n",
        "    StructField('countryId', IntegerType()),\n",
        "])"
      ],
      "metadata": {
        "id": "-I8_dQwWpvm6"
      },
      "execution_count": 31,
      "outputs": []
    },
    {
      "cell_type": "code",
      "source": [
        "airport_df = spark.createDataFrame(airport_rows, airport_schema)\n",
        "\n",
        "airport_df.show()"
      ],
      "metadata": {
        "id": "APRIgBqhZ_V2",
        "colab": {
          "base_uri": "https://localhost:8080/"
        },
        "outputId": "59a3b160-53a1-498c-cf02-dc75d27b0463"
      },
      "execution_count": 32,
      "outputs": [
        {
          "output_type": "stream",
          "name": "stdout",
          "text": [
            "+----+--------------------+----+----+---------------+---------+-----------+----+-----+-----------------+---------+\n",
            "|  id|         airportName|iata|icao|           city|      lat|        lon| alt| size|     timezoneName|countryId|\n",
            "+----+--------------------+----+----+---------------+---------+-----------+----+-----+-----------------+---------+\n",
            "|1900|    A Coruna Airport| LCG|LECO|       A Coruna|43.302059|   -8.37725| 326| 4686|    Europe/Madrid|      209|\n",
            "|   3|Aachen Merzbruck ...| AAH|EDKA|         Aachen|50.821899|   6.184759| 626| 1491|    Europe/Berlin|       83|\n",
            "|   4|     Aalborg Airport| AAL|EKYT|        Aalborg|57.095112|   9.855172|   3| 8856|Europe/Copenhagen|       61|\n",
            "|   9|      Aarhus Airport| AAR|EKAH|         Aarhus|56.303295|  10.619129|  71| 3919|Europe/Copenhagen|       61|\n",
            "|7569|  Aarhus Sea Airport| QEA|EKAC|         Aarhus|56.151993|  10.247725|   1|  139|Europe/Copenhagen|       61|\n",
            "|1596|     Aasiaat Airport| JEG|BGAA|        Aasiaat| 68.72184| -52.784698|  74|  574|  America/Godthab|       87|\n",
            "|  12|      Abadan Airport| ABD|OIAA|         Abadan|30.371111|  48.228329|  19| 2099|      Asia/Tehran|      104|\n",
            "|  11|Abakan Internatio...| ABA|UNAA|         Abakan|53.740002|  91.385002| 831| 2146| Asia/Krasnoyarsk|      182|\n",
            "|4146|Abbotsford Intern...| YXX|CYXX|     Abbotsford|49.025269|-122.360001| 195| 7188|America/Vancouver|       40|\n",
            "|  53|     Abemama Airport| AEA|NGTB|  Abemama Atoll| 0.490833| 173.828598|   8|  248|   Pacific/Tarawa|      116|\n",
            "|  27|Aberdeen Internat...| ABZ|EGPD|       Aberdeen|57.201939|   -2.19777| 215|20546|    Europe/London|      235|\n",
            "|  20|Aberdeen Regional...| ABR|KABR|       Aberdeen|45.439999| -98.419998|1302| 3549|  America/Chicago|      236|\n",
            "|  80|Abha Regional Air...| AHB|OEAB|           Abha| 18.24036|   42.65662|6858|16314|      Asia/Riyadh|      194|\n",
            "|  16|Abidjan Port Boue...| ABJ|DIAP|        Abidjan| 5.261386|   -3.92629|  21|11907|   Africa/Abidjan|       54|\n",
            "|  15|Abilene Regional ...| ABI|KABI|        Abilene|32.411301| -99.681801|1790| 5984|  America/Chicago|      236|\n",
            "|7403|Abingdon Virginia...| VJI|KVJI|       Abingdon|36.686111| -82.033333|2088| 1778| America/New_York|      236|\n",
            "| 251|Abu Dhabi Al Bate...| AZI|OMAD|      Abu Dhabi|24.428329|   54.45808|  16| 1165|       Asia/Dubai|      234|\n",
            "|6183|Abu Dhabi Al Dhaf...| DHF|OMAM|      Abu Dhabi|24.248199|  54.547699|  77|  119|       Asia/Dubai|      234|\n",
            "| 220|Abu Dhabi Zayed I...| AUH|OMAA|      Abu Dhabi|24.442856|  54.651474|  62|74044|       Asia/Dubai|      234|\n",
            "|6156|Abu Musa Island A...| AEU|OIBA|Abu Musa Island|  25.8757|  55.033001|  23|   44|      Asia/Tehran|      104|\n",
            "+----+--------------------+----+----+---------------+---------+-----------+----+-----+-----------------+---------+\n",
            "only showing top 20 rows\n",
            "\n"
          ]
        }
      ]
    },
    {
      "cell_type": "code",
      "source": [
        "cities_dim.show()"
      ],
      "metadata": {
        "colab": {
          "base_uri": "https://localhost:8080/"
        },
        "id": "Z8edcM1hg3Aq",
        "outputId": "4140b7a7-738d-479c-e496-700f97a48f6e"
      },
      "execution_count": 33,
      "outputs": [
        {
          "output_type": "stream",
          "name": "stdout",
          "text": [
            "+------+---------------+---------+\n",
            "|cityId|           city|countryId|\n",
            "+------+---------------+---------+\n",
            "|     7|         Abakan|      170|\n",
            "|     9|  Abemama Atoll|      109|\n",
            "|     2|         Aachen|       76|\n",
            "|    13|        Abidjan|      102|\n",
            "|    21|          Accra|       77|\n",
            "|    10|       Aberdeen|      216|\n",
            "|    14|        Abilene|      216|\n",
            "|    15|       Abingdon|      216|\n",
            "|    19|          Abuja|      151|\n",
            "|     1|       A Coruna|      192|\n",
            "|     3|        Aalborg|       54|\n",
            "|     4|         Aarhus|       54|\n",
            "|     6|         Abadan|       96|\n",
            "|    17|Abu Musa Island|       96|\n",
            "|    20|       Acapulco|      133|\n",
            "|    12|           Abha|      179|\n",
            "|    16|      Abu Dhabi|      214|\n",
            "|     8|     Abbotsford|       35|\n",
            "|     5|        Aasiaat|       80|\n",
            "|    18|     Abu Simbel|       59|\n",
            "+------+---------------+---------+\n",
            "only showing top 20 rows\n",
            "\n"
          ]
        }
      ]
    },
    {
      "cell_type": "markdown",
      "source": [
        "### Creating airport_dim"
      ],
      "metadata": {
        "id": "SBsy0Z3dlI1Q"
      }
    },
    {
      "cell_type": "code",
      "source": [
        "airport_df.show()"
      ],
      "metadata": {
        "colab": {
          "base_uri": "https://localhost:8080/"
        },
        "id": "mCPCtyZ00lVA",
        "outputId": "a52c0b03-e8ba-4ae1-f379-127b9e5ff2c4"
      },
      "execution_count": 34,
      "outputs": [
        {
          "output_type": "stream",
          "name": "stdout",
          "text": [
            "+----+--------------------+----+----+---------------+---------+-----------+----+-----+-----------------+---------+\n",
            "|  id|         airportName|iata|icao|           city|      lat|        lon| alt| size|     timezoneName|countryId|\n",
            "+----+--------------------+----+----+---------------+---------+-----------+----+-----+-----------------+---------+\n",
            "|1900|    A Coruna Airport| LCG|LECO|       A Coruna|43.302059|   -8.37725| 326| 4686|    Europe/Madrid|      209|\n",
            "|   3|Aachen Merzbruck ...| AAH|EDKA|         Aachen|50.821899|   6.184759| 626| 1491|    Europe/Berlin|       83|\n",
            "|   4|     Aalborg Airport| AAL|EKYT|        Aalborg|57.095112|   9.855172|   3| 8856|Europe/Copenhagen|       61|\n",
            "|   9|      Aarhus Airport| AAR|EKAH|         Aarhus|56.303295|  10.619129|  71| 3919|Europe/Copenhagen|       61|\n",
            "|7569|  Aarhus Sea Airport| QEA|EKAC|         Aarhus|56.151993|  10.247725|   1|  139|Europe/Copenhagen|       61|\n",
            "|1596|     Aasiaat Airport| JEG|BGAA|        Aasiaat| 68.72184| -52.784698|  74|  574|  America/Godthab|       87|\n",
            "|  12|      Abadan Airport| ABD|OIAA|         Abadan|30.371111|  48.228329|  19| 2099|      Asia/Tehran|      104|\n",
            "|  11|Abakan Internatio...| ABA|UNAA|         Abakan|53.740002|  91.385002| 831| 2146| Asia/Krasnoyarsk|      182|\n",
            "|4146|Abbotsford Intern...| YXX|CYXX|     Abbotsford|49.025269|-122.360001| 195| 7188|America/Vancouver|       40|\n",
            "|  53|     Abemama Airport| AEA|NGTB|  Abemama Atoll| 0.490833| 173.828598|   8|  248|   Pacific/Tarawa|      116|\n",
            "|  27|Aberdeen Internat...| ABZ|EGPD|       Aberdeen|57.201939|   -2.19777| 215|20546|    Europe/London|      235|\n",
            "|  20|Aberdeen Regional...| ABR|KABR|       Aberdeen|45.439999| -98.419998|1302| 3549|  America/Chicago|      236|\n",
            "|  80|Abha Regional Air...| AHB|OEAB|           Abha| 18.24036|   42.65662|6858|16314|      Asia/Riyadh|      194|\n",
            "|  16|Abidjan Port Boue...| ABJ|DIAP|        Abidjan| 5.261386|   -3.92629|  21|11907|   Africa/Abidjan|       54|\n",
            "|  15|Abilene Regional ...| ABI|KABI|        Abilene|32.411301| -99.681801|1790| 5984|  America/Chicago|      236|\n",
            "|7403|Abingdon Virginia...| VJI|KVJI|       Abingdon|36.686111| -82.033333|2088| 1778| America/New_York|      236|\n",
            "| 251|Abu Dhabi Al Bate...| AZI|OMAD|      Abu Dhabi|24.428329|   54.45808|  16| 1165|       Asia/Dubai|      234|\n",
            "|6183|Abu Dhabi Al Dhaf...| DHF|OMAM|      Abu Dhabi|24.248199|  54.547699|  77|  119|       Asia/Dubai|      234|\n",
            "| 220|Abu Dhabi Zayed I...| AUH|OMAA|      Abu Dhabi|24.442856|  54.651474|  62|74044|       Asia/Dubai|      234|\n",
            "|6156|Abu Musa Island A...| AEU|OIBA|Abu Musa Island|  25.8757|  55.033001|  23|   44|      Asia/Tehran|      104|\n",
            "+----+--------------------+----+----+---------------+---------+-----------+----+-----+-----------------+---------+\n",
            "only showing top 20 rows\n",
            "\n"
          ]
        }
      ]
    },
    {
      "cell_type": "code",
      "source": [
        "airport_dim = airport_df \\\n",
        "                            .join( # Replace 'timezone' with 'timezoneId'\n",
        "                                timezones_dim,\n",
        "                                'timezoneName',\n",
        "                                'left'\n",
        "                              ) \\\n",
        "                            .join( # Replace 'city' with 'cityId'\n",
        "                                cities_dim,\n",
        "                                airport_df.city == cities_dim.city,\n",
        "                                'left'\n",
        "                              ) \\\n",
        "                            .select(\n",
        "                                [ 'id', 'airportName', 'iata', 'icao', 'lat', 'lon', 'size', 'cityId', 'timezoneId' ]\n",
        "                            )\n",
        "\n",
        "airport_dim.show()"
      ],
      "metadata": {
        "id": "AQz-nWM17WZs",
        "colab": {
          "base_uri": "https://localhost:8080/"
        },
        "outputId": "3249da7f-7071-4a17-f2e9-21d00fc70276"
      },
      "execution_count": 35,
      "outputs": [
        {
          "output_type": "stream",
          "name": "stdout",
          "text": [
            "+----+--------------------+----+----+---------+-----------+-----+------+----------+\n",
            "|  id|         airportName|iata|icao|      lat|        lon| size|cityId|timezoneId|\n",
            "+----+--------------------+----+----+---------+-----------+-----+------+----------+\n",
            "|4206|      Masset Airport| ZMT|CZMT|    54.02|-132.119995| 1334|  2851|        32|\n",
            "|7633|      Maxton Airport| MXE|KMEB|34.792423| -79.369392|  435|  2870|       104|\n",
            "|  21|  Abu Simbel Airport| ABS|HEBL| 22.37595|  31.611719|   70|    18|       264|\n",
            "|2094|Matamoros Interna...| MAM|MMMA| 25.76989| -97.525299| 1248|  2857|        67|\n",
            "|6909|Matak Tarempa Air...| MWK|WIOM|  3.34812| 106.258003|    3|  2856|       306|\n",
            "|7403|Abingdon Virginia...| VJI|KVJI|36.686111| -82.033333| 1778|    15|       104|\n",
            "|2273|Maumere Frans Sed...| MOF|WATC| -8.64064| 122.236801|  883|  2866|       319|\n",
            "|  11|Abakan Internatio...| ABA|UNAA|53.740002|  91.385002| 2146|     7|       308|\n",
            "|  16|Abidjan Port Boue...| ABJ|DIAP| 5.261386|   -3.92629|11907|    13|         1|\n",
            "|2335|        Maun Airport| MUB|FBMN| -19.9725|   23.43108| 2957|  2867|       212|\n",
            "|  20|Aberdeen Regional...| ABR|KABR|45.439999| -98.419998| 3549|    11|        65|\n",
            "|  20|Aberdeen Regional...| ABR|KABR|45.439999| -98.419998| 3549|    10|        65|\n",
            "|2341|Maturin Internati...| MUN|SVMT| 9.749067|   -63.1534| 1092|  2864|        90|\n",
            "|1596|     Aasiaat Airport| JEG|BGAA| 68.72184| -52.784698|  574|     5|       158|\n",
            "|7533|Mattoon/Charlesto...| MTO|KMTO|39.477982| -88.279648| 1579|  2863|        65|\n",
            "|4146|Abbotsford Intern...| YXX|CYXX|49.025269|-122.360001| 7188|     8|        32|\n",
            "| 251|Abu Dhabi Al Bate...| AZI|OMAD|24.428329|   54.45808| 1165|    16|       274|\n",
            "|6183|Abu Dhabi Al Dhaf...| DHF|OMAM|24.248199|  54.547699|  119|    16|       274|\n",
            "| 220|Abu Dhabi Zayed I...| AUH|OMAA|24.442856|  54.651474|74044|    16|       274|\n",
            "|6653|       Maues Airport| MBZ|SWMW| -3.37217|   -57.7248|  150|  2865|        91|\n",
            "+----+--------------------+----+----+---------+-----------+-----+------+----------+\n",
            "only showing top 20 rows\n",
            "\n"
          ]
        }
      ]
    },
    {
      "cell_type": "markdown",
      "source": [
        "# Aircraft information"
      ],
      "metadata": {
        "id": "xQYIdiXE5608"
      }
    },
    {
      "cell_type": "markdown",
      "source": [
        "## Importing JSON"
      ],
      "metadata": {
        "id": "UdcQQYtdpeo4"
      }
    },
    {
      "cell_type": "code",
      "source": [
        "aircraft_file = 'aircraft_data.json'\n",
        "aircraft_url = \"https://flight-radar1.p.rapidapi.com/aircrafts/list\"\n",
        "\n",
        "aircraft_data = getData(folder + aircraft_file, aircraft_url, headers=headers)"
      ],
      "metadata": {
        "id": "OdWQ9JS2cav4"
      },
      "execution_count": 36,
      "outputs": []
    },
    {
      "cell_type": "markdown",
      "source": [
        "## Saving aircarft info in a DataFrame"
      ],
      "metadata": {
        "id": "Ko3v3glYpyJK"
      }
    },
    {
      "cell_type": "code",
      "source": [
        "aircraft_rows = []\n",
        "\n",
        "for family in aircraft_data:\n",
        "  for model in family['models']:\n",
        "      model['family'] = family['description']\n",
        "      aircraft_rows.append(Row(**model))"
      ],
      "metadata": {
        "id": "w9R8uhXk82Br"
      },
      "execution_count": 37,
      "outputs": []
    },
    {
      "cell_type": "code",
      "source": [
        "aircraft_df = spark.createDataFrame(aircraft_rows, schema = ['aircraftName', 'code', 'family'])\n",
        "\n",
        "aircraft_df.show()"
      ],
      "metadata": {
        "id": "KQe3-5Ka_Vz2",
        "colab": {
          "base_uri": "https://localhost:8080/"
        },
        "outputId": "e14483fd-87b2-4cc2-8da7-a8b1e10418c0"
      },
      "execution_count": 38,
      "outputs": [
        {
          "output_type": "stream",
          "name": "stdout",
          "text": [
            "+----------------+----+------------------+\n",
            "|    aircraftName|code|            family|\n",
            "+----------------+----+------------------+\n",
            "| Airbus A220-100|BCS1|Airbus A220 family|\n",
            "| Airbus A220-300|BCS3|Airbus A220 family|\n",
            "|     Airbus A300|A30B|Airbus A300 family|\n",
            "| Airbus A300-600|A306|Airbus A300 family|\n",
            "|     Airbus A310|A310|Airbus A310 family|\n",
            "|     Airbus A318|A318|Airbus A320 family|\n",
            "|     Airbus A319|A319|Airbus A320 family|\n",
            "|  Airbus A319neo|A19N|Airbus A320 family|\n",
            "|     Airbus A320|A320|Airbus A320 family|\n",
            "|  Airbus A320neo|A20N|Airbus A320 family|\n",
            "|     Airbus A321|A321|Airbus A320 family|\n",
            "|  Airbus A321neo|A21N|Airbus A320 family|\n",
            "| Airbus A330-200|A332|Airbus A330 family|\n",
            "| Airbus A330-300|A333|Airbus A330 family|\n",
            "| Airbus A330-900|A339|Airbus A330 family|\n",
            "| Airbus A340-200|A342|Airbus A340 family|\n",
            "| Airbus A340-300|A343|Airbus A340 family|\n",
            "| Airbus A340-500|A345|Airbus A340 family|\n",
            "| Airbus A340-600|A346|Airbus A340 family|\n",
            "|Airbus A350-1000|A35K|Airbus A350 family|\n",
            "+----------------+----+------------------+\n",
            "only showing top 20 rows\n",
            "\n"
          ]
        }
      ]
    },
    {
      "cell_type": "code",
      "source": [
        "aircraft_df.groupBy(\"family\").count().sort(\"count\", ascending=False).show()"
      ],
      "metadata": {
        "id": "X0ufjI6YEIlM",
        "colab": {
          "base_uri": "https://localhost:8080/"
        },
        "outputId": "7ad430d0-a684-45c7-8643-b68b45acaf10"
      },
      "execution_count": 39,
      "outputs": [
        {
          "output_type": "stream",
          "name": "stdout",
          "text": [
            "+--------------------+-----+\n",
            "|              family|count|\n",
            "+--------------------+-----+\n",
            "|   Boeing 737 family|   11|\n",
            "|  Airbus A320 family|    7|\n",
            "|   Boeing 747 family|    5|\n",
            "|Bombardier CRJ fa...|    5|\n",
            "|McDonnell Douglas...|    5|\n",
            "|Embraer E-Jet family|    5|\n",
            "|  Airbus A340 family|    4|\n",
            "|   Boeing 777 family|    4|\n",
            "|Bombardier Dash 8...|    4|\n",
            "|  Airbus A330 family|    3|\n",
            "|      Avro RJ family|    3|\n",
            "|       ATR 42 family|    3|\n",
            "|       ATR 72 family|    3|\n",
            "|       Fokker family|    3|\n",
            "|   Boeing 787 family|    3|\n",
            "|   Boeing 767 family|    3|\n",
            "|  Airbus A220 family|    2|\n",
            "|  Airbus A350 family|    2|\n",
            "|  Airbus A300 family|    2|\n",
            "|   Boeing 757 family|    2|\n",
            "+--------------------+-----+\n",
            "only showing top 20 rows\n",
            "\n"
          ]
        }
      ]
    },
    {
      "cell_type": "markdown",
      "source": [
        "## Creating aircraft_family_dim"
      ],
      "metadata": {
        "id": "MD-JvgFUqAW4"
      }
    },
    {
      "cell_type": "code",
      "source": [
        "aircraft_family_dim = aircraft_df \\\n",
        "                                  .select('family') \\\n",
        "                                  .distinct() \\\n",
        "                                  .withColumn('familyId', row_number().over( Window.orderBy('family') ))\n",
        "\n",
        "aircraft_family_dim.show()"
      ],
      "metadata": {
        "colab": {
          "base_uri": "https://localhost:8080/"
        },
        "id": "VNX5hRm9qISS",
        "outputId": "53d9b7c5-276e-41cc-a71a-16f54fde8ae2"
      },
      "execution_count": 40,
      "outputs": [
        {
          "output_type": "stream",
          "name": "stdout",
          "text": [
            "+--------------------+--------+\n",
            "|              family|familyId|\n",
            "+--------------------+--------+\n",
            "|       ATR 42 family|       1|\n",
            "|       ATR 72 family|       2|\n",
            "|  Airbus A220 family|       3|\n",
            "|  Airbus A300 family|       4|\n",
            "|  Airbus A310 family|       5|\n",
            "|  Airbus A320 family|       6|\n",
            "|  Airbus A330 family|       7|\n",
            "|  Airbus A340 family|       8|\n",
            "|  Airbus A350 family|       9|\n",
            "|     Airbus A380-800|      10|\n",
            "|      Avro RJ family|      11|\n",
            "|   Boeing 737 family|      12|\n",
            "|   Boeing 747 family|      13|\n",
            "|   Boeing 757 family|      14|\n",
            "|   Boeing 767 family|      15|\n",
            "|   Boeing 777 family|      16|\n",
            "|   Boeing 787 family|      17|\n",
            "|Bombardier CRJ fa...|      18|\n",
            "|Bombardier Dash 8...|      19|\n",
            "|Embraer E-Jet family|      20|\n",
            "+--------------------+--------+\n",
            "only showing top 20 rows\n",
            "\n"
          ]
        }
      ]
    },
    {
      "cell_type": "markdown",
      "source": [
        "## Creating aircraft_dim"
      ],
      "metadata": {
        "id": "OAOlp74rqmB4"
      }
    },
    {
      "cell_type": "code",
      "source": [
        "aircraft_dim = aircraft_df \\\n",
        "                          .join(\n",
        "                              aircraft_family_dim,\n",
        "                              'family',\n",
        "                              'left'\n",
        "                          ) \\\n",
        "                          .select( [ 'aircraftName', 'code', 'familyId']) \\\n",
        "\n",
        "aircraft_dim.show()"
      ],
      "metadata": {
        "colab": {
          "base_uri": "https://localhost:8080/"
        },
        "id": "zVmq2s3bqkft",
        "outputId": "ca7afd24-1216-4e60-aa14-5381ed16150e"
      },
      "execution_count": 41,
      "outputs": [
        {
          "output_type": "stream",
          "name": "stdout",
          "text": [
            "+----------------+----+--------+\n",
            "|    aircraftName|code|familyId|\n",
            "+----------------+----+--------+\n",
            "| Airbus A220-100|BCS1|       3|\n",
            "| Airbus A220-300|BCS3|       3|\n",
            "| Airbus A330-200|A332|       7|\n",
            "| Airbus A330-300|A333|       7|\n",
            "| Airbus A330-900|A339|       7|\n",
            "| Airbus A340-200|A342|       8|\n",
            "| Airbus A340-300|A343|       8|\n",
            "| Airbus A340-500|A345|       8|\n",
            "| Airbus A340-600|A346|       8|\n",
            "|     Airbus A310|A310|       5|\n",
            "|Airbus A350-1000|A35K|       9|\n",
            "| Airbus A350-900|A359|       9|\n",
            "|     Airbus A300|A30B|       4|\n",
            "| Airbus A300-600|A306|       4|\n",
            "|     Airbus A318|A318|       6|\n",
            "|     Airbus A319|A319|       6|\n",
            "|  Airbus A319neo|A19N|       6|\n",
            "|     Airbus A320|A320|       6|\n",
            "|  Airbus A320neo|A20N|       6|\n",
            "|     Airbus A321|A321|       6|\n",
            "+----------------+----+--------+\n",
            "only showing top 20 rows\n",
            "\n"
          ]
        }
      ]
    },
    {
      "cell_type": "markdown",
      "source": [
        "# Flights"
      ],
      "metadata": {
        "id": "tipcqP9pE9BO"
      }
    },
    {
      "cell_type": "markdown",
      "source": [
        "##  Most tracked"
      ],
      "metadata": {
        "id": "xUc63hQKxz2v"
      }
    },
    {
      "cell_type": "markdown",
      "source": [
        "### Importing JSON"
      ],
      "metadata": {
        "id": "e3IvoopitTAh"
      }
    },
    {
      "cell_type": "code",
      "source": [
        "def get_flight_list(folder, url, headers, params = None):\n",
        "\n",
        "    response = requests.get(url, headers=headers, params=params)\n",
        "\n",
        "    print(response.json())\n",
        "\n",
        "    data = response.json()[\"data\"]\n",
        "\n",
        "    file_name = folder + \"flight\" + str(response.json()[\"update_time\"]) + \".json\"\n",
        "\n",
        "    with open(file_name, 'w') as f:\n",
        "      json.dump(data, f)\n",
        "\n",
        "    return(data)"
      ],
      "metadata": {
        "id": "LOYtLqWm9200"
      },
      "execution_count": 62,
      "outputs": []
    },
    {
      "cell_type": "code",
      "source": [
        "flight_url = \"https://flight-radar1.p.rapidapi.com/flights/list-most-tracked\"\n",
        "flight_folder = \"/content/drive/MyDrive/portfolio/spark_flight_data/flight/\"\n",
        "\n",
        "flight_data = get_flight_list(flight_folder, flight_url, headers)"
      ],
      "metadata": {
        "id": "XjeFXLKlFE0e",
        "colab": {
          "base_uri": "https://localhost:8080/"
        },
        "outputId": "f9d64130-65ea-4942-f901-cc4b474df17b"
      },
      "execution_count": 43,
      "outputs": [
        {
          "output_type": "stream",
          "name": "stdout",
          "text": [
            "{'version': '0.3.9', 'update_time': 1721899393.58544, 'data': [{'flight_id': '36510f76', 'flight': 'MR21', 'callsign': 'MR21', 'squawk': None, 'clicks': 1672, 'from_iata': None, 'from_city': None, 'to_iata': None, 'to_city': None, 'model': 'F15', 'type': 'McDonnell Douglas F-15E Eagle'}, {'flight_id': '3650dcff', 'flight': 'ROF9142', 'callsign': 'ROF9142', 'squawk': None, 'clicks': 1460, 'from_iata': 'OTP', 'from_city': 'Bucharest', 'to_iata': 'BCM', 'to_city': 'Bacau', 'model': 'DRON', 'type': 'Schiebel Camcopter S-100'}, {'flight_id': '36511bdc', 'flight': 'GAF733', 'callsign': 'GAF733', 'squawk': None, 'clicks': 760, 'from_iata': None, 'from_city': None, 'to_iata': None, 'to_city': None, 'model': 'A400', 'type': 'Airbus A400M Atlas'}, {'flight_id': '36513673', 'flight': None, 'callsign': 'CAPTR', 'squawk': None, 'clicks': 484, 'from_iata': None, 'from_city': None, 'to_iata': None, 'to_city': None, 'model': 'HAWK', 'type': 'British Aerospace Hawk MK.167'}, {'flight_id': '3650c1f0', 'flight': None, 'callsign': 'NATO01', 'squawk': None, 'clicks': 448, 'from_iata': 'GKE', 'from_city': 'Geilenkirchen', 'to_iata': None, 'to_city': None, 'model': 'E3TF', 'type': 'Boeing E-3A Sentry'}, {'flight_id': '36513462', 'flight': None, 'callsign': 'CAPTR', 'squawk': None, 'clicks': 444, 'from_iata': 'QKG', 'from_city': 'Leeming', 'to_iata': None, 'to_city': None, 'model': 'HAWK', 'type': 'British Aerospace Hawk Mk.167'}, {'flight_id': '36510808', 'flight': 'GR601', 'callsign': 'AUR601Y', 'squawk': None, 'clicks': 412, 'from_iata': 'LGW', 'from_city': 'London', 'to_iata': 'GCI', 'to_city': 'Guernsey', 'model': 'AT76', 'type': 'ATR 72-600'}, {'flight_id': '36513fbf', 'flight': None, 'callsign': 'SARAB', 'squawk': None, 'clicks': 392, 'from_iata': None, 'from_city': None, 'to_iata': None, 'to_city': None, 'model': 'HAWK', 'type': 'BAe Hawk T2'}, {'flight_id': '365139b2', 'flight': None, 'callsign': 'CAPTR', 'squawk': None, 'clicks': 332, 'from_iata': 'QKG', 'from_city': 'Leeming', 'to_iata': None, 'to_city': None, 'model': 'HAWK', 'type': 'BAe Systems Hawk Mk.167'}, {'flight_id': '364fc8a8', 'flight': 'TK24', 'callsign': 'THY24', 'squawk': None, 'clicks': 296, 'from_iata': 'IST', 'from_city': 'Istanbul', 'to_iata': 'TPE', 'to_city': 'Taipei', 'model': 'B77W', 'type': 'Boeing 777-3F2(ER)'}]}\n"
          ]
        }
      ]
    },
    {
      "cell_type": "markdown",
      "source": [
        "### Saving info in a DataFrame"
      ],
      "metadata": {
        "id": "2fT3JhMztXvd"
      }
    },
    {
      "cell_type": "code",
      "source": [
        "# Converting list of Dictionaries in a list of Rows\n",
        "fligth_rows = [Row(**flight) for flight in flight_data]"
      ],
      "metadata": {
        "id": "L8vNao_m0_8p"
      },
      "execution_count": 45,
      "outputs": []
    },
    {
      "cell_type": "code",
      "source": [
        "# Defining schema\n",
        "flight_schema = StructType([\n",
        "    StructField('flightId', StringType()),\n",
        "    StructField('flight', StringType()),\n",
        "    StructField('callsign', StringType()),\n",
        "    StructField('squawk', StringType()),\n",
        "    StructField('clicks', IntegerType()),\n",
        "    StructField('from_iata', StringType()),\n",
        "    StructField('from_city', StringType()),\n",
        "    StructField('to_iata', StringType()),\n",
        "    StructField('to_city', StringType()),\n",
        "    StructField('model', StringType()),\n",
        "    StructField('type', StringType())\n",
        "])"
      ],
      "metadata": {
        "id": "jskuneFNtoyu"
      },
      "execution_count": 46,
      "outputs": []
    },
    {
      "cell_type": "code",
      "source": [
        "flight_data = spark.read.json(flight_folder + \"flight*.json\")\n",
        "\n",
        "flight_data.show()"
      ],
      "metadata": {
        "id": "Ua8ghWlWvwOr",
        "colab": {
          "base_uri": "https://localhost:8080/"
        },
        "outputId": "b4ed78ea-acd2-4ff7-830e-91066cbc9049"
      },
      "execution_count": 47,
      "outputs": [
        {
          "output_type": "stream",
          "name": "stdout",
          "text": [
            "+--------+------+------+---------+-----------+---------+-----+------+--------+-------+--------------------+\n",
            "|callsign|clicks|flight|flight_id|  from_city|from_iata|model|squawk| to_city|to_iata|                type|\n",
            "+--------+------+------+---------+-----------+---------+-----+------+--------+-------+--------------------+\n",
            "|  CFR230|   440|CFR230| 364fb83b|       NULL|     NULL|  V10|  NULL|    NULL|   NULL|North American OV...|\n",
            "|   CFR88|   352| CFR88| 364f9c6b|       NULL|     NULL|  S2T|  NULL|    NULL|   NULL|Marsh S-2F3AT Tur...|\n",
            "| ABD7743|   268|CC7743| 364e1732|  Frankfurt|      HHN| B744|  NULL| Chicago|    RFD| Boeing 747-481(BCF)|\n",
            "|   CFR91|   264| CFR91| 364fd229|      Chico|      CIC|  S2T|  NULL|    NULL|   NULL|Marsh S-2F3AT Tur...|\n",
            "|   CFR89|   260| CFR89| 364fcf58|      Chico|      CIC|  S2T|  NULL|    NULL|   NULL|Marsh S-2F3AT Tur...|\n",
            "|  ASL135|   200| JU135| 364f809b|     Moscow|      SVO| A320|  NULL|Belgrade|    BEG|     Airbus A320-232|\n",
            "|   CFR93|   156| CFR93| 364fcf0e|      Chico|      CIC|  S2T|  NULL|    NULL|   NULL|Marsh S-2F3AT Tur...|\n",
            "|  AIC984|   152| AI984| 364f468b|      Dubai|      DXB| A359|  NULL|  Mumbai|    BOM|     Airbus A350-941|\n",
            "|   N144P|   116|  NULL| 364fc8f6|    Oshkosh|      OSH| RV14|  NULL|    NULL|   NULL|          Vans RV-14|\n",
            "|  N10601|   112|  NULL| 364fc75f|Fond du Lac|      FLD|  P51|  NULL|    NULL|   NULL|North American P-...|\n",
            "| ABD7743|   672|CC7743| 364e1732|  Frankfurt|      HHN| B744|  NULL| Chicago|    RFD| Boeing 747-481(BCF)|\n",
            "|  CFR230|   436|CFR230| 364fb83b|       NULL|     NULL|  V10|  NULL|    NULL|   NULL|North American OV...|\n",
            "|  ASL135|   200| JU135| 364f809b|     Moscow|      SVO| A320|  NULL|Belgrade|    BEG|     Airbus A320-232|\n",
            "|  TTW230|   172| IT230| 364fcaef|     Taipei|      TPE| A320|  NULL| Okinawa|    OKA|     Airbus A320-232|\n",
            "|   CFR91|   172| CFR91| 364fd229|      Chico|      CIC|  S2T|  NULL|    NULL|   NULL|Marsh S-2F3AT Tur...|\n",
            "| EVA3216|   168|BR3216| 364fd35f|     Taipei|      TPE| A321|  NULL|    NULL|   NULL|     Airbus A321-211|\n",
            "|   CFR88|   160| CFR88| 364f9c6b|       NULL|     NULL|  S2T|  NULL|    NULL|   NULL|Marsh S-2F3AT Tur...|\n",
            "|  TTW654|   152| IT654| 364fca33|     Taipei|      TPE| A320|  NULL|    Jeju|    CJU|     Airbus A320-232|\n",
            "|RRR9959X|   148|  NULL| 364fd02f|       NULL|     NULL| EUFI|  NULL|    NULL|   NULL|Eurofighter Typho...|\n",
            "|   N10BA|   124|  NULL| 364fcdf7|    Oshkosh|      OSH| CC11|  NULL|    NULL|   NULL|CubCrafters Carbo...|\n",
            "+--------+------+------+---------+-----------+---------+-----+------+--------+-------+--------------------+\n",
            "only showing top 20 rows\n",
            "\n"
          ]
        }
      ]
    },
    {
      "cell_type": "code",
      "source": [
        "flight_data.count()"
      ],
      "metadata": {
        "colab": {
          "base_uri": "https://localhost:8080/"
        },
        "id": "4DIXb6vADjxz",
        "outputId": "28eeecf8-2b74-4d6e-fbb1-e228f21e8f2c"
      },
      "execution_count": 48,
      "outputs": [
        {
          "output_type": "execute_result",
          "data": {
            "text/plain": [
              "50"
            ]
          },
          "metadata": {},
          "execution_count": 48
        }
      ]
    },
    {
      "cell_type": "code",
      "source": [
        "fligth_df = flight_data \\\n",
        "                .select( # Removing 'from_city' and 'to_city' since can be retreved using 'from_iata' e 'to_iata'.\n",
        "                         # Removing aircraft 'type' since can be retreaved using 'model'\n",
        "                    [ 'flight_id', 'flight', 'callsign', 'squawk', 'clicks', 'from_iata', 'to_iata', 'model']\n",
        "                ) \\\n",
        "                .withColumn( # COunt how many times the same id appears\n",
        "                    \"isDuplicate\", row_number().over( Window.orderBy( desc('clicks') ).partitionBy(\"flight_id\") )\n",
        "                ) \\\n",
        "                .filter( # Drop all the outdated rows\n",
        "                    col(\"isDuplicate\") == 1\n",
        "                ) \\\n",
        "                .drop( # Drop 'isDuplicate', since no longer needed\n",
        "                    \"isDuplicate\"\n",
        "                ) \\\n",
        "                .sort('clicks', ascending = False)\n",
        "\n",
        "fligth_df.show()"
      ],
      "metadata": {
        "colab": {
          "base_uri": "https://localhost:8080/"
        },
        "id": "SU2brma3-N8z",
        "outputId": "4ea96440-7e94-4b81-eaa4-c3fcce6d8e7e"
      },
      "execution_count": 58,
      "outputs": [
        {
          "output_type": "stream",
          "name": "stdout",
          "text": [
            "+---------+-------+--------+------+------+---------+-------+-----+\n",
            "|flight_id| flight|callsign|squawk|clicks|from_iata|to_iata|model|\n",
            "+---------+-------+--------+------+------+---------+-------+-----+\n",
            "| 36510f76|   MR21|    MR21|  NULL|  1672|     NULL|   NULL|  F15|\n",
            "| 3650dcff|ROF9142| ROF9142|  NULL|  1460|      OTP|    BCM| DRON|\n",
            "| 364fbb07|   NULL|  SNBD01|  NULL|  1276|      DLH|   NULL| CL41|\n",
            "| 364f9cdd|   NULL|   N529B|  NULL|   812|      OSH|   NULL|  B29|\n",
            "| 36511bdc| GAF733|  GAF733|  NULL|   760|     NULL|   NULL| A400|\n",
            "| 364e1732| CC7743| ABD7743|  NULL|   672|      HHN|    RFD| B744|\n",
            "| 364fd7d6|  JX701|  SJX701|  NULL|   508|      TPE|    DAD| A339|\n",
            "| 36513673|   NULL|   CAPTR|  NULL|   484|     NULL|   NULL| HAWK|\n",
            "| 3650c1f0|   NULL|  NATO01|  NULL|   448|      GKE|   NULL| E3TF|\n",
            "| 36513462|   NULL|   CAPTR|  NULL|   444|      QKG|   NULL| HAWK|\n",
            "| 364fb83b| CFR230|  CFR230|  NULL|   440|     NULL|   NULL|  V10|\n",
            "| 36510808|  GR601| AUR601Y|  NULL|   412|      LGW|    GCI| AT76|\n",
            "| 364fddf1|  IT246|  TTW246|  NULL|   404|      TPE|    HSG| A20N|\n",
            "| 36513fbf|   NULL|   SARAB|  NULL|   392|     NULL|   NULL| HAWK|\n",
            "| 364f9c6b|  CFR88|   CFR88|  NULL|   352|     NULL|   NULL|  S2T|\n",
            "| 365139b2|   NULL|   CAPTR|  NULL|   332|      QKG|   NULL| HAWK|\n",
            "| 364fd35f| BR3216| EVA3216|  NULL|   300|      TPE|   NULL| A321|\n",
            "| 364fc8a8|   TK24|   THY24|  NULL|   296|      IST|    TPE| B77W|\n",
            "| 364fdf6d|   NULL|   DIOVP|  NULL|   296|      HAM|    BRU| PAY3|\n",
            "| 364fe062|   NULL|   N10BA|  NULL|   284|      OSH|   NULL| CC11|\n",
            "+---------+-------+--------+------+------+---------+-------+-----+\n",
            "only showing top 20 rows\n",
            "\n"
          ]
        }
      ]
    },
    {
      "cell_type": "code",
      "source": [
        "fligth_df.count()"
      ],
      "metadata": {
        "colab": {
          "base_uri": "https://localhost:8080/"
        },
        "id": "ORpr-FeU_h4v",
        "outputId": "3db0920b-68c4-4718-c263-47d09e4fceb8"
      },
      "execution_count": 50,
      "outputs": [
        {
          "output_type": "execute_result",
          "data": {
            "text/plain": [
              "34"
            ]
          },
          "metadata": {},
          "execution_count": 50
        }
      ]
    },
    {
      "cell_type": "markdown",
      "source": [
        "## In boundary"
      ],
      "metadata": {
        "id": "VOAB0CBuQWPI"
      }
    },
    {
      "cell_type": "markdown",
      "source": [
        "### Importing JSON"
      ],
      "metadata": {
        "id": "NExdZdlYcCPY"
      }
    },
    {
      "cell_type": "code",
      "source": [
        "in_boundary_url = \"https://flight-radar1.p.rapidapi.com/flights/list-in-boundary\"\n",
        "in_bounadary_folder = \"/content/drive/MyDrive/portfolio/spark_flight_data/flight_in_boundary/\"\n",
        "\n",
        "querystring = {\"bl_lat\":\"10\",\"bl_lng\":\"80\",\"tr_lat\":\"15\",\"tr_lng\":\"120\",\"limit\":\"300\"}\n",
        "\n",
        "response = requests.get(in_boundary_url, headers=headers, params=querystring)\n",
        "\n",
        "print(response.json())"
      ],
      "metadata": {
        "colab": {
          "base_uri": "https://localhost:8080/"
        },
        "id": "T5-27JA_Qjjs",
        "outputId": "0957d6d7-cfe7-4941-8f9f-a52bd6b54b9a"
      },
      "execution_count": 65,
      "outputs": [
        {
          "output_type": "stream",
          "name": "stdout",
          "text": [
            "{'full_count': 15824, 'version': 5, 'aircraft': [['3650cd17', '', 13.77, 80.49, 109, 47000, 428, '', 'F-VOMM8', 'GLF6', '', 1721900696, '', '', '', 0, 0, 'GLF6', 0], ['3650fd72', '76BCC3', 13.15, 91.09, 312, 43000, 489, '', 'F-VOPB4', 'B788', '9V-OFC', 1721900695, 'SIN', 'ATQ', 'TR512', 0, 0, 'TGW512', 0], ['3650f033', '76CD12', 13.13, 118.9, 41, 41000, 443, '', 'F-RPVS1', 'A359', '9V-SHR', 1721900695, 'SIN', 'ICN', 'SQ606', 0, 0, 'SIA606', 0], ['36511317', '76CD0A', 12.58, 83.73, 116, 41000, 448, '', 'F-VOMM7', 'A359', '9V-SHJ', 1721900692, 'BOM', 'SIN', 'SQ421', 0, 0, 'SIA421', 0], ['3650f5db', '76CD0B', 10.19, 86.39, 294, 40004, 525, '', 'F-SAT5', 'A359', '9V-SHK', 1721900697, 'SIN', 'DXB', 'SQ494', 0, 0, 'SIA494', 0], ['36511075', '780D77', 11.87, 110.35, 29, 40000, 482, '', 'T-VVTH3', 'B788', 'B-2762', 1721900695, 'SIN', 'XMN', 'MF852', 0, 0, 'CXA852', 0], ['3650ab32', '89916C', 12.45, 111.93, 215, 40000, 499, '', 'T-VVTH3', 'A359', 'B-18919', 1721900678, 'TPE', 'SIN', 'CI753', 0, 0, 'CAL753', 0], ['36510ac2', '750543', 10.82, 108.19, 193, 40000, 476, '', 'F-VVTS4', 'A333', '9M-XBH', 1721900696, 'HKG', 'KUL', 'D7693', 0, 0, 'XAX693', 0], ['3650e2e6', '76CDA5', 13.06, 109.46, 212, 40000, 509, '', 'F-VVPC2', 'A359', '9V-SME', 1721900696, 'PVG', 'SIN', 'SQ831', 0, 0, 'SIA831', 0], ['3650ccaa', '750255', 14.43, 110.35, 216, 40000, 498, '', 'F-VVPC2', 'A333', '9M-MTB', 1721900695, 'PKX', 'KUL', 'MH319', 0, 0, 'MAS319', 0], ['3651279c', '8880DF', 14.65, 108.17, 181, 39975, 488, '', 'F-VVPC2', 'B789', 'VN-A861', 1721900696, 'HAN', 'SGN', 'VN249', 0, -64, 'HVN249', 0], ['36500307', '80073F', 12.45, 93.8, 315, 39975, 478, '', 'F-VOPB4', 'B788', 'VT-ANY', 1721900695, 'MEL', 'DEL', 'AI309', 0, -64, 'AIC309', 0], ['36511929', '780A0D', 13.96, 110.0, 214, 39000, 489, '', 'F-VVPC2', 'A333', 'B-LAP', 1721900696, 'HKG', 'CGK', 'CX719', 0, 0, 'CPA719', 0], ['3650af9b', '70C0F9', 14.86, 93.89, 98, 39000, 482, '', 'F-EST', 'B789', 'A4O-SF', 1721900697, 'MCT', 'BKK', 'WY815', 0, 0, 'OMA815', 0], ['36511257', '7816A2', 12.14, 106.97, 24, 39000, 480, '', 'F-VVTS3', 'B789', 'B-20AJ', 1721900695, 'KUL', 'PVG', 'FM886', 0, -64, 'CSH886', 0], ['3650af2d', '06A0EB', 11.39, 86.21, 116, 39000, 469, '', 'F-EST', 'A359', 'A7-AML', 1721900693, 'DOH', 'SIN', 'QR944', 0, 0, 'QTR944', 0], ['36512545', '7801B4', 14.64, 110.51, 216, 39000, 498, '', 'F-VVPC2', 'A333', 'B-HLU', 1721900696, 'HKG', 'KUL', 'CX729', 0, 0, 'CPA729', 0], ['3650be41', '75054C', 12.77, 80.66, 114, 39000, 482, '', 'F-VOMM8', 'A359', '9M-MAH', 1721900696, 'DOH', 'KUL', 'MH165', 0, 0, 'MAS165', 0], ['3651077e', '76CD74', 12.48, 109.1, 213, 39000, 508, '', 'F-VVTS5', 'A388', '9V-SKT', 1721900694, 'HKG', 'SIN', 'SQ893', 0, 0, 'SIA893', 0], ['36508d95', '77058E', 13.51, 105.39, 261, 38000, 493, '', 'F-VTUU1', 'A333', '4R-ALN', 1721900695, 'NRT', 'CMB', 'UL455', 0, 64, 'ALK455', 0], ['3651338f', '880858', 10.38, 100.32, 359, 38000, 431, '', 'F-VTSF2', 'A20N', 'HS-BBX', 1721900694, 'HDY', 'DMK', 'FD3119', 0, -64, 'AIQ3119', 0], ['3650d83d', '75046A', 10.77, 82.56, 294, 38000, 504, '', 'F-VCCT1', 'A332', '9M-MTU', 1721900696, 'KUL', 'JED', 'MH156', 0, 0, 'MAS156', 0], ['3650fcdb', '77044D', 13.27, 81.33, 200, 38000, 479, '', 'F-VOMM7', 'A320', '4R-ABM', 1721900693, 'KTM', 'CMB', 'UL182', 0, 0, 'ALK182', 0], ['36511e9e', '800D09', 12.62, 82.97, 266, 37975, 475, '', 'F-VOMM7', 'A20N', 'VT-IZB', 1721900694, 'IXZ', 'MAA', '6E2698', 0, 0, 'IGO2698', 0], ['3651218b', '880852', 14.51, 99.76, 357, 37975, 438, '', 'F-VTPH2', 'A320', 'HS-BBR', 1721900694, 'HKT', 'CNX', 'FD3159', 0, -128, 'AIQ3159', 0], ['3650b27b', '896537', 10.36, 88.27, 116, 37016, 478, '', 'F-SAT5', 'B789', 'A6-BLZ', 1721900693, 'AUH', 'KUL', 'EY416', 0, 0, 'ETD416', 0], ['36509647', '758707', 14.97, 97.1, 108, 37000, 457, '', 'F-VYYY2', 'A339', 'RP-C3905', 1721900696, 'DXB', 'MNL', '5J15', 0, 0, 'CEB015', 0], ['36514f47', '70400C', 13.69, 97.93, 143, 37000, 450, '', 'F-VTPH2', 'A319', 'XY-ALK', 1721900693, 'RGN', 'SIN', '8M233', 0, 0, 'MMA233', 0], ['3650bac4', '06A10F', 12.72, 83.44, 116, 37000, 483, '', 'F-VOMM7', 'A35K', 'A7-AOA', 1721900693, 'DOH', 'DPS', 'QR960', 0, 0, 'QTR960', 0], ['36513b0c', '88530B', 10.49, 99.9, 21, 37000, 421, '', 'F-VTSF2', 'A320', 'HS-TXK', 1721900694, 'HKT', 'BKK', 'TG216', 0, 64, 'THA216', 0], ['3650cd56', '7624E3', 12.31, 93.94, 135, 37000, 478, '', 'F-VOPB4', 'CL60', 'AP-IGC', 1721900695, 'LHE', '', '', 0, 64, 'APIGC', 0], ['3650aa1e', '06A2B3', 11.36, 87.23, 105, 37000, 481, '', 'F-SAT5', 'B77W', 'A7-BEO', 1721900697, 'DOH', 'HKT', 'QR846', 0, 0, 'QTR846', 0], ['36513c99', '880C44', 12.02, 100.17, 9, 36975, 424, '', 'F-VTBU2', 'A320', 'HS-CBD', 1721900696, 'KBV', 'DMK', 'FD3224', 0, 0, 'AIQ3224', 0], ['36505111', '7105B1', 13.95, 100.04, 95, 36975, 495, '', 'F-VTPT2', 'B78X', 'HZ-AR32', 1721900694, 'JED', 'MNL', 'SV870', 0, 64, 'SVA870', 0], ['3650d746', '781C9D', 10.13, 107.61, 213, 36050, 463, '', 'F-VVTS4', 'A20N', 'B-326R', 1721900696, 'PVG', 'SIN', '9C8549', 0, -64, 'CQH8549', 0], ['3650b727', '780B33', 11.65, 92.74, 249, 36000, 503, '', 'F-VOPB5', 'A332', 'B-5930', 1721900694, 'PVG', 'MLE', 'MU235', 0, 0, 'CES235', 0], ['365111e6', '780457', 13.53, 100.27, 207, 36000, 461, '', 'F-VTPH2', 'B738', 'B-1308', 1721900693, 'KMG', 'HKT', 'MU5093', 0, 0, 'CES5093', 0], ['36508a54', '71C218', 11.38, 119.22, 233, 36000, 519, '', 'F-RPVP2', 'B77W', 'HL8218', 1721900695, 'ICN', 'SIN', 'KE643', 0, 0, 'KAL643', 0], ['36513394', '880856', 14.4, 99.96, 186, 36000, 462, '', 'F-VTBH2', 'A320', 'HS-BBV', 1721900694, 'CNX', 'HKT', 'FD3162', 0, -64, 'AIQ3162', 0], ['36511168', '702066', 10.85, 99.91, 333, 36000, 426, '', 'F-VTBU2', 'B738', 'S2-AHO', 1721900696, 'SIN', 'DAC', 'BG585', 0, 0, 'BBC585', 0], ['36511e11', '888124', 12.15, 108.14, 157, 36000, 452, '', 'F-VVTS5', 'A359', 'VN-A891', 1721900695, 'HAN', 'SGN', 'VN7221', 0, -512, 'HVN7221', 0], ['365109d9', '8880A1', 13.36, 109.61, 212, 35975, 452, '', 'F-VVDN5', 'A321', 'VN-A393', 1721900696, 'CAN', 'SGN', 'VN503', 0, 0, 'HVN503', 0], ['365129e3', '7504A1', 11.73, 107.0, 249, 35975, 464, '', 'F-VDPP2', 'A320', '9M-RAN', 1721900696, 'DAD', 'KUL', 'AK641', 0, 0, 'AXM641', 0], ['365112d8', '8880A3', 11.01, 105.09, 195, 35975, 489, '', 'F-VDPP2', 'A321', 'VN-A395', 1721900696, 'HAN', 'KUL', 'VN681', 0, 0, 'HVN681', 0], ['3650ecd8', '8881DC', 12.99, 108.26, 176, 35225, 308, '', 'F-VVPC2', 'A333', 'VN-A815', 1721900695, 'HAN', 'SGN', 'VJ137', 0, -512, 'VJC137', 0], ['3650be64', '8881D8', 14.82, 107.87, 341, 35025, 477, '', 'F-VVDN1', 'A21N', 'VN-A527', 1721900694, 'DPS', 'HAN', 'VJ900', 0, 0, 'VJC900', 0], ['365142b8', '880458', 10.25, 99.15, 24, 35025, 402, '', 'F-VTSB1', 'A320', 'HS-ABX', 1721900694, 'HKT', 'DMK', 'FD3024', 0, -64, 'AIQ3024', 0], ['3650fa86', '8990E5', 14.11, 114.19, 29, 35000, 477, '', 'F-SAT5', 'B77W', 'B-16723', 1721900697, 'SIN', 'TPE', 'BR216', 0, 0, 'EVA216', 0], ['36512e65', '76B863', 13.67, 100.81, 136, 35000, 472, '', 'F-VTBH2', 'A21N', '9V-NCC', 1721900695, 'CNX', 'SIN', 'TR675', 0, 0, 'TGW675', 0], ['3651053a', '750485', 12.52, 110.75, 29, 35000, 471, '', 'F-VVPC2', 'A320', '9M-RAG', 1721900695, 'KUL', 'SZX', 'AK122', 0, 0, 'AXM122', 0], ['36512d47', '8007B2', 11.7, 85.57, 116, 35000, 456, '', 'F-EST', 'A320', 'VT-IFK', 1721900697, 'MAA', 'SIN', '6E1003', 0, 0, 'IGO1003', 0], ['36506cdc', '601828', 11.89, 104.54, 118, 35000, 492, '', 'F-VDPP1', 'B77W', 'EZ-A781', 1721900695, 'ASB', 'SGN', 'T5653', 0, 0, 'TUA653', 0], ['36511358', '7502C2', 13.82, 109.84, 212, 35000, 466, '', 'F-VVPC2', 'B38M', '9M-LRR', 1721900695, 'HKG', 'KUL', 'OD606', 0, 0, 'MXD606', 0], ['36512757', '7504B5', 11.14, 119.25, 26, 35000, 436, '', 'F-RPVS1', 'A320', '9M-RAT', 1721900694, 'BKI', 'HGH', 'AK1574', 0, 0, 'AXM1574', 0], ['3650afd3', '89656E', 10.26, 89.15, 113, 35000, 467, '', 'F-VOPB4', 'B78X', 'A6-BMI', 1721900689, 'AUH', 'HKT', 'EY432', 0, 0, 'ETD432', 0], ['36513757', '80152F', 10.92, 80.1, 1, 34975, 469, '', 'F-VOMD4', 'A20N', 'VT-IPF', 1721900695, 'CMB', 'HYD', '6E1182', 0, 0, 'IGO1182', 0], ['3650f229', '758369', 12.86, 118.79, 52, 34950, 452, '', 'F-RPVS1', 'A321', 'RP-C9914', 1721900694, 'SIN', 'MNL', 'PR508', 0, 0, 'PAL508', 0], ['3650d7d5', '8A093E', 10.96, 101.63, 346, 34025, 420, '', 'F-VTBU2', 'B738', 'PK-BGF', 1721900696, 'DPS', 'DMK', 'ID7637', 0, 64, 'BTK7637', 0], ['3650f6c2', '8A0418', 10.05, 101.92, 355, 34025, 431, '', 'F-VDPP1', 'A320', 'PK-AZG', 1721900695, 'CGK', 'DMK', 'QZ256', 0, 0, 'AWQ256', 0], ['36511450', '801441', 12.87, 81.4, 275, 34000, 460, '', 'F-VOMM7', 'A20N', 'VT-TYB', 1721900693, 'IXZ', 'BLR', 'UK508', 0, 0, 'VTI508', 0], ['36510efe', '7586CE', 13.96, 109.6, 273, 34000, 491, '', 'F-VVPC2', 'A339', 'RP-C3901', 1721900695, 'MNL', 'DXB', '5J14', 0, 0, 'CEB014', 0], ['3650f21b', '780558', 11.17, 99.76, 185, 34000, 486, '', 'F-VTPH2', 'A320', 'B-6560', 1721900693, 'TFU', 'HKT', 'MU573', 0, 64, 'CES573', 0], ['3650ac9f', '78124A', 10.36, 107.64, 211, 34000, 458, '', 'F-VVTS4', 'B738', 'B-1332', 1721900696, 'PVG', 'KUL', 'FM865', 0, 64, 'CSH865', 0], ['3650bd7a', '7812E1', 14.09, 100.63, 209, 34000, 472, '', 'F-VTPT2', 'B38M', 'B-1398', 1721900694, 'PEK', 'HKT', 'CA821', 0, -64, 'CCA821', 0], ['365137f9', '880845', 12.14, 104.28, 290, 34000, 464, '', 'F-VVPQ1', 'A320', 'HS-BBE', 1721900695, 'SGN', 'DMK', 'FD655', 0, 0, 'AIQ655', 0], ['36509a39', '886283', 13.98, 111.21, 270, 33996, 455, '', 'F-SAT5', 'A333', 'HS-XTC', 1721900697, 'NRT', 'BKK', 'XJ603', 0, 0, 'TAX603', 0], ['36512f5b', '8880E9', 12.0, 107.39, 249, 33975, 481, '', 'F-VVTS4', 'A321', 'VN-A651', 1721900696, 'DAD', 'VCA', 'VJ701', 0, 0, 'VJC701', 0], ['36512ad7', '88809C', 14.56, 109.12, 6, 33000, 467, '', 'F-VVDN1', 'A321', 'VN-A339', 1721900694, 'SGN', 'KHH', 'VN580', 0, -64, 'HVN580', 0], ['3650cd2c', '89630B', 12.5, 83.9, 115, 33000, 511, '', 'F-VOMM7', 'B77W', 'A6-ENI', 1721900697, 'DXB', 'DPS', 'EK398', 0, 0, 'UAE398', 0], ['36511dba', '780C61', 11.21, 100.0, 17, 33000, 426, '', 'F-VTSF2', 'B738', 'B-1968', 1721900695, 'HKT', 'PVG', 'FM894', 0, 0, 'CSH894', 0], ['36512bee', '7810B9', 12.34, 101.53, 36, 33000, 447, '', 'F-VTPH2', 'A320', 'B-8743', 1721900694, 'HKT', 'HGH', 'CA718', 0, -64, 'CCA718', 0], ['36510211', '885306', 14.19, 116.28, 88, 33000, 470, '', 'F-RPLU2', 'A320', 'HS-TXF', 1721900679, 'BKK', 'MNL', 'TG624', 0, 0, 'THA624', 0], ['3650f880', '899115', 13.03, 113.46, 30, 32975, 451, '', 'F-EST', 'A21N', 'B-18110', 1721900697, 'PEN', 'TPE', 'CI732', 0, 0, 'CAL732', 0], ['3650a589', '781140', 14.6, 81.17, 220, 32675, 478, '', 'F-VOMM8', 'B763', 'B-1423', 1721900696, 'SZX', 'MAA', 'O3103', 0, -1984, 'CSS103', 0], ['3651129b', '76CC6C', 12.34, 101.21, 8, 32450, 462, '', 'F-VTPH2', 'B78X', '9V-SCL', 1721900694, 'SIN', 'BKK', 'SQ712', 0, -2432, 'SIA712', 0], ['36511282', '781CE4', 12.08, 101.34, 352, 32050, 432, '', 'F-VTPH2', 'A21N', 'B-327T', 1721900694, 'SIN', 'TFU', 'CA404', 0, -64, 'CCA404', 0], ['3650f2bd', '781C2A', 11.49, 99.76, 180, 32025, 481, '', 'F-VTPH2', 'A21N', 'B-325F', 1721900694, 'TFU', 'HKT', '3U3931', 0, 0, 'CSC3931', 0], ['36513b9b', '8830F0', 12.35, 99.64, 200, 32000, 474, '', 'F-VTBU2', 'B738', 'HS-LGP', 1721900696, 'DMK', 'URT', 'SL746', 0, 0, 'TLM746', 0], ['3651172c', '780E36', 13.95, 109.87, 212, 32000, 461, '', 'F-VVPC2', 'A320', 'B-MCB', 1721900696, 'MFM', 'CGK', 'NX910', 0, 0, 'AMU910', 0], ['36511ed9', '880451', 11.16, 101.47, 358, 32000, 427, '', 'F-VTPH2', 'A320', 'HS-ABQ', 1721900694, 'JHB', 'DMK', 'FD511', 0, 0, 'AIQ511', 0], ['36512381', '88808C', 11.98, 108.55, 183, 32000, 436, '', 'F-VVTS4', 'A321', 'VN-A325', 1721900696, 'HPH', 'SGN', 'VN1183', 0, 0, 'HVN1183', 0], ['36510558', '781706', 13.01, 116.66, 160, 32000, 456, '', 'F-RPLU2', 'A21N', 'B-309J', 1721900693, 'CAN', 'BKI', 'CZ8335', 0, 0, 'CSN8335', 0], ['36512ad2', '888053', 14.98, 105.52, 194, 32000, 464, '', 'F-VTUU1', 'A321', 'VN-A357', 1721900695, 'HAN', 'SAI', 'VN837', 0, 0, 'HVN837', 0], ['36512e56', '80155F', 14.79, 95.32, 283, 32000, 493, '', 'F-VYYY2', 'A21N', 'VT-TVG', 1721900695, 'BKK', 'BOM', 'UK124', 0, 0, 'VTI124', 0], ['3650df29', '781929', 11.12, 110.01, 28, 31975, 473, '', 'F-VVPC2', 'A21N', 'B-30EQ', 1721900696, 'SIN', 'PVG', 'HO1602', 0, 0, 'DKH1602', 0], ['3650bc1f', '782001', 13.12, 111.07, 30, 31975, 480, '', 'F-VVPC2', 'A21N', 'B-32FS', 1721900696, 'CGK', 'CAN', 'CZ3038', 0, 0, 'CSN3038', 0], ['36513fc3', '880441', 11.12, 99.37, 184, 31700, 469, '', 'F-VTPH2', 'A320', 'HS-ABA', 1721900694, 'DMK', 'URT', 'FD3331', 0, -1472, 'AIQ3331', 0], ['3651495a', '880C4B', 10.41, 99.58, 8, 31000, 418, '', 'F-VTSF2', 'A20N', 'HS-CBK', 1721900694, 'URT', 'DMK', 'FD3232', 0, 0, 'AIQ3232', 0], ['36510663', '888040', 14.21, 105.26, 39, 31000, 466, '', 'F-VTUU1', 'A321', 'VN-A685', 1721900694, 'SIN', 'HAN', 'VJ916', 0, 0, 'VJC916', 0], ['36511819', '8881BA', 12.45, 103.48, 117, 31000, 455, '', 'F-VDPP2', 'A321', 'VN-A289', 1721900696, 'BKK', 'SGN', 'VU120', 0, 0, 'VAG120', 0], ['36512e9f', '781502', 12.62, 100.32, 11, 31000, 452, '', 'F-VTPH2', 'B738', 'B-206E', 1721900694, 'HKT', 'CSX', 'BK2984', 0, 0, 'OKA2984', 0], ['3650fe24', '8881E0', 13.53, 107.34, 19, 30975, 452, '', 'F-VVBM1', 'A321', 'VN-A227', 1721900694, 'SGN', 'DAD', 'QH162', 0, -64, 'BAV162', 0], ['3651179a', '78060C', 14.24, 102.41, 75, 30675, 414, '', 'F-VDBG3', 'A320', 'B-6646', 1721900696, 'DMK', 'NGB', '9C7432', 0, 832, 'CQH7432', 0], ['36513262', '781C1F', 13.77, 108.41, 26, 30575, 476, '', 'F-VVDN5', 'B752', 'B-220Z', 1721900696, 'SGN', 'SZX', 'O3142', 0, 1728, 'CSS142', 0], ['36513e58', '884202', 11.94, 100.65, 181, 30175, 457, '', 'F-VTBU2', 'A319', 'HS-PPB', 1721900696, 'BKK', 'USM', 'PG147', 0, 832, 'BKP147', 0], ['36511f52', '888093', 11.72, 108.46, 173, 30000, 446, '', 'F-VVTS4', 'A321', 'VN-A332', 1721900696, 'DAD', 'SGN', 'VN131', 0, 0, 'HVN131', 0], ['365148cf', '888198', 13.89, 109.06, 359, 29875, 483, '', 'F-VVDN5', 'A21N', 'VN-A512', 1721900696, 'CXR', 'HAN', 'VN1556', 0, 896, 'HVN1556', 0], ['36513d8a', '78927E', 14.52, 102.73, 49, 29250, 468, '', 'F-VTUU1', 'A21N', 'B-KKB', 1721900695, 'BKK', 'HKG', 'UO701', 0, 320, 'HKE701', 0], ['3651192a', '888138', 11.48, 108.4, 231, 28475, 349, '', 'F-VVTS4', 'A359', 'VN-A893', 1721900695, 'HAN', 'SGN', 'VN215', 0, -640, 'HVN215', 0], ['36512c29', '88813F', 11.37, 105.64, 122, 28325, 481, '', 'F-VVTS4', 'A321', 'VN-A636', 1721900696, 'BKK', 'SGN', 'VJ804', 0, -832, 'VJC804', 0], ['3650d6bc', '78193E', 14.51, 101.78, 247, 27025, 436, '', 'F-VTBS3', 'A20N', 'B-30F2', 1721900694, 'HGH', 'BKK', 'GJ8021', 0, -1792, 'CDC8021', 0], ['365134aa', '7800C2', 13.46, 107.9, 68, 27000, 475, '', 'F-VVBM1', 'A321', 'B-6657', 1721900694, 'SGN', 'SZX', 'CZ6096', 0, 0, 'CSN6096', 0], ['36514003', '', 13.73, 101.57, 83, 26900, 466, '', 'F-VTBU2', 'GLF4', '', 1721900696, '', '', '', 0, 768, 'GLF4', 0], ['365133f9', '880855', 12.45, 100.66, 181, 26825, 455, '', 'F-VTBH2', 'A320', 'HS-BBU', 1721900694, 'DMK', 'HDY', 'FD3114', 0, 640, 'AIQ3114', 0], ['3650b08a', '8881E1', 10.44, 105.65, 255, 26675, 422, '', 'F-VVTS4', 'A21N', 'VN-A538', 1721900696, 'TPE', 'PQC', 'VJ845', 0, -2048, 'VJC845', 0], ['36511db1', '885311', 14.76, 103.44, 63, 25850, 488, '', 'F-VDBG3', 'A320', 'HS-TXQ', 1721900696, 'BKK', 'UBP', 'TG28', 0, -3136, 'THA028', 0], ['3650ea88', '76B869', 13.63, 119.8, 52, 25625, 388, '', 'F-RPLU2', 'A21N', '9V-NCI', 1721900694, 'SIN', 'MNL', 'TR390', 0, -960, 'TGW390', 0], ['36514ba8', '88819E', 13.14, 109.11, 355, 25575, 450, '', 'F-VVPC2', 'A321', 'VN-A585', 1721900696, 'CXR', 'HAN', 'QH1416', 0, 1472, 'BAV1416', 0], ['36513d12', '75033C', 12.63, 100.92, 163, 24850, 436, '', 'F-VTPH2', 'A320', '9M-AJE', 1721900694, 'DMK', 'KUL', 'AK887', 0, 640, 'AXM887', 0], ['36514e46', '78088D', 12.51, 108.93, 331, 24275, 406, '', 'F-VVBM1', 'B738', 'B-5645', 1721900694, 'CXR', 'CAN', 'CZ6050', 0, 704, 'CSN6050', 0], ['36513d83', '888052', 11.78, 106.91, 50, 23950, 456, '', 'F-VVTS3', 'A321', 'VN-A356', 1721900693, 'SGN', 'PXU', 'VN1422', 0, 1472, 'HVN1422', 0], ['365141f9', '8015B2', 13.58, 80.9, 77, 23700, 474, '', 'F-VOMM7', 'A21N', 'VT-IBL', 1721900694, 'MAA', 'CCU', '6E986', 0, 1856, 'IGO99C', 0], ['36512f1b', '884203', 13.07, 100.47, 6, 20850, 346, '', 'F-VDBG3', 'A319', 'HS-PPC', 1721900696, 'USM', 'BKK', 'PG146', 0, -2560, 'BKP146', 0], ['36514bb1', '70E064', 13.3, 108.91, 185, 20575, 343, '', 'F-VVBM1', 'A319', 'XU-878', 1721900694, 'UIH', 'SGN', 'VU451', 0, 1024, 'VAG451', 0], ['3650eb77', '8990E1', 11.0, 108.05, 271, 19650, 324, '', 'F-VVTS5', 'B77W', 'B-16719', 1721900694, 'TPE', 'SGN', 'BR391', 0, -768, 'EVA391', 0], ['365146e1', '899084', 11.17, 106.67, 34, 18475, 360, '', 'F-VVTS3', 'B738', 'B-18667', 1721900695, 'SGN', 'RMQ', 'AE1858', 0, 1472, 'MDA1858', 0], ['3650f4ee', '780827', 12.4, 105.9, 230, 18425, 369, '', 'F-VDPP2', 'B738', 'B-5635', 1721900696, 'XMN', 'PNH', 'MF895', 0, -1600, 'CXA895', 0], ['36513965', '70E029', 11.3, 105.67, 311, 17050, 181, '', 'F-VVTS4', 'AT75', 'XU-236', 1721900696, 'SGN', 'SAI', 'K6829', 0, 384, 'KHV829', 0], ['3651439a', '75879A', 12.4, 119.96, 27, 17000, 250, '', 'F-RPLU2', 'AT76', 'RP-C7203', 1721900694, 'ENI', 'MNL', 'T6147', 0, 0, 'ATX147', 0], ['36512c68', '885963', 13.27, 100.62, 39, 15450, 347, '', 'F-VTPH2', 'A320', 'HS-VKC', 1721900694, 'HKT', 'BKK', 'VZ2301', 0, -1536, 'TVJ2301', 0], ['365123f6', '780552', 14.25, 100.51, 53, 15300, 400, '', 'F-VTBD3', 'A320', 'B-6562', 1721900696, 'DMK', 'NNG', '9C7492', 0, 2176, 'CQH7492', 0], ['36513a40', '800CE1', 14.7, 80.48, 187, 14000, 245, '', 'F-VOMM7', 'AT76', 'VT-IYK', 1721900693, 'VGA', 'MAA', '6E7046', 0, 64, 'IGO7046', 0], ['36510490', '780190', 10.99, 107.59, 246, 13850, 288, '', 'F-VVTS4', 'A333', 'B-HLP', 1721900696, 'HKG', 'SGN', 'CX799', 0, -1216, 'CPA799', 0], ['3650e457', '8991DE', 14.2, 101.39, 223, 13200, 360, '', 'F-VTPH2', 'A339', 'B-58303', 1721900694, 'TPE', 'BKK', 'JX745', 0, -1280, 'SJX745', 0], ['3651272c', '88813E', 12.76, 109.35, 183, 12050, 357, '', 'F-VVPC2', 'A321', 'VN-A635', 1721900695, 'HPH', 'CXR', 'VJ731', 0, -256, 'VJC731', 0], ['36510060', '881422', 13.8, 100.29, 31, 11875, 334, '', 'F-VTBH2', 'A21N', 'HS-EAB', 1721900695, 'SIN', 'DMK', 'FD356', 0, -896, 'AIQ356', 0], ['3651466d', '884345', 10.54, 100.18, 6, 11425, 209, '', 'F-VTSF2', 'AT76', 'HS-PZE', 1721900697, 'USM', 'BKK', 'PG150', 0, 0, 'BKP150', 0], ['3650e5b4', '75839F', 13.62, 100.91, 304, 11350, 230, '', 'F-VTBD2', 'A321', 'RP-C9916', 1721900696, 'MNL', 'BKK', 'PR736', 0, -832, 'PAL736', 0], ['36512b91', '70E06E', 13.52, 101.15, 91, 11325, 348, '', 'F-VTBD2', 'A320', 'XU-763', 1721900696, 'BKK', 'PNH', 'KR704', 0, 2944, 'KME704', 0], ['36514281', '886288', 13.71, 100.66, 19, 10850, 314, '', 'F-VTBS5', 'A333', 'HS-XTH', 1721900695, 'BKK', 'ICN', 'XJ702', 0, 1152, 'TAX702', 0], ['365100e5', '8850AE', 14.22, 100.66, 171, 10450, 305, '', 'F-VTPH2', 'A333', 'HS-TEN', 1721900693, 'DAC', 'BKK', 'TG322', 0, -832, 'THA322', 0], ['36510953', '8880AF', 11.01, 107.41, 252, 9425, 243, '', 'F-VVTS4', 'A320', 'VN-A689', 1721900696, 'HAN', 'SGN', 'VJ135', 0, -512, 'VJC135', 0], ['36514932', '880C4C', 13.77, 100.42, 193, 9125, 274, '', 'F-VTBD2', 'A320', 'HS-CBL', 1721900696, 'DMK', 'ROI', 'FD3562', 0, 2560, 'AIQ3562', 0], ['36514203', '882C73', 13.91, 100.49, 291, 8325, 227, '', 'F-VTBD3', 'C750', 'HS-KCS', 1721900696, 'DMK', '', '', 0, -64, 'HSKCS', 0], ['3650f50c', '80155C', 13.08, 80.75, 348, 8325, 222, '', 'F-VOMM7', 'A21N', 'VT-IBH', 1721900694, 'DEL', 'MAA', '6E5154', 0, -768, 'IGO5154', 0], ['36510f9f', 'A046B6', 13.75, 100.9, 347, 7725, 242, '', 'F-VTPH2', 'B763', 'N117FE', 1721900694, 'SIN', 'BKK', 'FX6091', 0, -512, 'FDX6091', 0], ['36514432', '88516E', 13.51, 100.84, 86, 7700, 331, '', 'F-VTBS5', 'B77W', 'HS-TKN', 1721900695, 'BKK', 'SIN', 'TG409', 0, 896, 'THA409', 0], ['3650e97b', '88808D', 10.6, 107.38, 7, 7275, 254, '', 'F-VVTS4', 'A321', 'VN-A326', 1721900696, 'CGK', 'SGN', 'VN630', 0, 0, 'HVN630', 0], ['3651132e', '885118', 13.99, 100.73, 22, 7275, 245, '', 'F-VTPH2', 'A359', 'HS-THX', 1721900694, 'KMG', 'BKK', 'TG613', 0, -960, 'THA613', 0], ['3650ef2e', '7020B4', 13.0, 80.67, 285, 6425, 164, '', 'F-VOMM8', 'B738', 'S2-AJH', 1721900696, 'DAC', 'MAA', 'BS215', 0, -640, 'UBG215', 0], ['3650d392', '780DF1', 14.0, 100.93, 14, 6300, 222, '', 'F-VTBD2', 'A320', 'B-1691', 1721900696, 'NKG', 'BKK', 'JD619', 0, 0, 'CBJ619', 0], ['36510b49', '8880B0', 10.83, 107.36, 7, 6275, 249, '', 'F-VVVT1', 'A320', 'VN-A699', 1721900694, 'DIN', 'SGN', 'VJ299', 0, -1088, 'VJC299', 0], ['3650e8eb', '8832CB', 14.26, 100.66, 169, 6025, 226, '', 'F-VTPH2', 'B739', 'HS-LVK', 1721900694, 'KHN', 'DMK', 'SL939', 0, -896, 'TLM939', 0], ['365137c9', '888076', 10.95, 107.27, 252, 5675, 153, '', 'F-VVTS4', 'AT75', 'VN-B223', 1721900696, 'VCS', 'SGN', 'VN8056', 0, -704, 'VFC8056', 0], ['365130aa', '88530A', 14.09, 100.97, 305, 5225, 188, '', 'F-VTBH2', 'A320', 'HS-TXJ', 1721900695, 'KKC', 'BKK', 'TG45', 0, -192, 'THA045', 0], ['36511855', '885310', 14.06, 100.86, 199, 5150, 186, '', 'F-VTPH2', 'A320', 'HS-TXP', 1721900694, 'CNX', 'BKK', 'TG111', 0, -512, 'THA111', 0], ['36513999', '884343', 12.42, 102.47, 141, 4875, 145, '', 'F-VDSA2', 'AT76', 'HS-PZC', 1721900697, 'BKK', 'TDX', 'PG307', 0, 0, 'BKP307', 0], ['365129ab', '880859', 11.83, 104.7, 118, 4850, 305, '', 'F-VDPP2', 'A20N', 'HS-BBY', 1721900696, 'DMK', 'PNH', 'FD606', 0, -448, 'AIQ606', 0], ['365102d4', '8881B9', 10.92, 107.13, 257, 4450, 216, '', 'F-VVTS4', 'A321', 'VN-A288', 1721900696, 'HAN', 'SGN', 'VU719', 0, -448, 'VAG719', 0], ['3650f581', '800542', 13.08, 80.36, 215, 4075, 30, '', 'T-MLAT5', 'BE20', 'VT-BAF', 1721900697, '', '', '', 0, 0, 'AIC640', 0], ['36512bc9', '885966', 13.9, 100.82, 195, 3900, 157, '', 'F-VTBH2', 'A320', 'HS-VKF', 1721900695, 'CEI', 'BKK', 'VZ133', 0, -512, 'TVJ133', 0], ['3651466b', '789244', 13.61, 100.72, 195, 3775, 186, '', 'F-VTBS5', 'A359', 'B-LQF', 1721900695, 'BKK', 'HKG', 'CX712', 0, 640, 'CPA712', 0], ['365118ee', '888157', 10.91, 106.98, 241, 3525, 166, '', 'F-VVTS4', 'A321', 'VN-A649', 1721900696, 'PQC', 'SGN', 'VJ328', 0, 64, 'VJC328', 0], ['36512d9b', '80057C', 13.04, 80.51, 299, 2650, 156, '', 'F-VOMM7', 'A320', 'VT-EDD', 1721900693, 'IXM', 'MAA', 'AI672', 0, 0, 'AIC672', 0], ['36513c45', '88808A', 10.79, 106.59, 249, 2650, 213, '', 'F-VVTS5', 'A321', 'VN-A323', 1721900695, 'SGN', 'PNH', 'VN920', 0, 1792, 'HVN920', 0], ['3651047e', '750209', 13.81, 100.79, 194, 2300, 154, '', 'F-VTBD2', 'B738', '9M-MXI', 1721900696, 'KUL', 'BKK', 'MH782', 0, 64, 'MAS782', 0], ['365106e5', '76D257', 13.98, 100.82, 195, 2300, 205, '', 'T-VTBD32', 'A320', '9V-TRW', 1721900695, 'SIN', 'BKK', 'TR610', 0, 0, 'TGW610', 0], ['3650b61b', '8991D6', 10.87, 106.88, 279, 2275, 166, '', 'F-VVTS5', 'A21N', 'B-58208', 1721900695, 'TPE', 'SGN', 'JX713', 0, 0, 'SJX713', 0], ['36512289', '88812C', 10.86, 106.77, 249, 2275, 162, '', 'F-VVTS6', 'A321', 'VN-A398', 1721900695, 'PQC', 'SGN', 'VN1826', 0, -128, 'HVN1826', 0], ['3651235f', '80163C', 13.03, 80.27, 249, 2025, 130, '', 'F-VOMM7', 'A20N', 'VT-IQL', 1721900693, 'CMB', 'MAA', '6E1176', 0, -640, 'IGO1176', 0], ['365124d2', '88084D', 14.0, 100.66, 208, 2000, 138, '', 'T-VTBS55', 'A320', 'HS-BBM', 1721900695, 'NAW', 'DMK', 'FD3135', 0, -832, 'AIQ3135', 0], ['365147b4', '881051', 13.9, 100.6, 204, 950, 162, '', 'T-VTBD32', 'B738', 'HS-DBQ', 1721900695, 'DMK', 'PHS', 'DD208', 0, 2432, 'NOK208', 0], ['3650c39e', '800CC8', 13.72, 100.77, 194, 925, 128, '', 'F-VTBS5', 'A20N', 'VT-EXO', 1721900695, 'DEL', 'BKK', 'AI332', 0, -704, 'AIC332', 0], ['3651095e', '888127', 10.83, 106.67, 249, 525, 126, '', 'F-VVTS3', 'A320', 'VN-A676', 1721900695, 'THD', 'SGN', 'VJ243', 0, -576, 'VJC243', 0], ['365124d9', '780DC6', 13.69, 100.74, 194, 325, 139, '', 'F-VTBS5', 'A320', 'B-1657', 1721900695, 'BKK', '', '9C6294', 0, 0, 'CQH6294', 0], ['3650cdbb', '70E06D', 11.55, 104.84, 315, 0, 0, '', 'F-VDPP1', 'A320', 'XU-762', 1721900631, 'NTG', 'PNH', 'KR916', 1, 0, 'KME916', 0], ['36514c27', '880846', 13.93, 100.61, 28, 0, 13, '', 'T-VTBD1', 'A320', 'HS-BBF', 1721900695, 'DMK', 'XIY', 'FD588', 1, 0, 'AIQ588', 0], ['36514bd7', '75864D', 10.82, 106.67, 67, 0, 0, '', 'F-VVTS3', 'A320', 'RP-C9799', 1721900696, 'SGN', 'HAN', 'QH244', 1, 0, 'BAV244', 0], ['36514c66', '70E049', 11.56, 104.85, 227, 0, 1, '', 'F-VDPP1', 'A320', 'XU-356', 1721900695, 'PNH', 'HAN', 'K6850', 1, 0, 'KHV850', 0], ['364fffd9', '461F0C', 13.67, 100.75, 239, 0, 9, '', 'F-VTBS5', 'A333', 'OH-LTS', 1721900695, 'SYD', 'BKK', 'QF295', 1, 0, 'QFA295', 0], ['36515144', '8016A4', 12.99, 80.17, 247, 0, 2, '', 'F-VOMM8', 'A21N', 'VT-ICQ', 1721900696, 'MAA', 'BOM', '6E5258', 1, 0, 'IGO33L', 0], ['365150ec', '8880C5', 10.81, 106.66, 5, 0, 0, '', 'F-VVTS3', 'A321', 'VN-A609', 1721900693, 'SGN', 'HUI', 'VN1374', 1, 0, 'HVN1374', 0], ['3651511d', '88804E', 10.81, 106.66, 188, 0, 10, '', 'F-VVTS3', 'A321', 'VN-A353', 1721900690, 'SGN', '', 'VN7351', 1, 0, 'HVN7351', 0], ['3651523b', '885223', 13.7, 100.76, 109, 0, 5, '', 'F-VTBS5', 'B788', 'HS-TQC', 1721900617, 'BKK', '', '', 1, 0, 'HSTQC', 0], ['365151fa', '899039', 13.69, 100.75, 284, 0, 1, '', 'F-VTBS5', 'B77W', 'B-16735', 1721900695, 'BKK', 'TPE', 'BR68', 1, 0, 'EVA068', 0], ['3651525d', '750280', 10.82, 106.66, 340, 0, 3, '', 'F-VVTS3', 'B738', '9M-MLM', 1721900660, 'SGN', 'KUL', 'MH759', 1, 0, 'MAS759', 0], ['3650624a', '4242F9', 13.91, 100.6, 239, 0, 18, '', 'T-VTBD32', 'GLF6', 'VP-BMP', 1721900695, 'MCT', 'DMK', '', 1, 0, 'VPBMP', 0], ['36514fed', '702033', 13.69, 100.74, 14, 0, 0, '', 'F-VTBS5', 'B738', 'S2-AFL', 1721900694, 'BKK', 'DAC', 'BG389', 1, 0, 'BBC389', 0], ['36507294', '8852E3', 13.68, 100.75, 196, 0, 1, '', 'F-VTBS5', 'B789', 'HS-TWC', 1721900619, 'NRT', 'BKK', 'TG643', 1, 0, 'THA643', 0], ['36514ffd', '888158', 10.81, 106.65, 160, 0, 0, '', 'F-VVTS2', 'A21N', 'VN-A653', 1721900684, 'SGN', 'HND', 'VJ820', 1, 0, 'VJC820', 0], ['3651257f', '888099', 10.16, 104.0, 185, 0, 0, '', 'F-VVPQ1', 'A321', 'VN-A335', 1721900691, 'SGN', 'PQC', 'VN1829', 1, 0, 'HVN1829', 0], ['36512622', '881059', 13.92, 100.61, 120, 0, 0, '', 'T-VTBD32', 'B738', 'HS-DBY', 1721900695, 'NST', 'DMK', 'DD555', 1, 0, 'NOK555', 0], ['365124a8', '800C38', 12.98, 80.17, 157, 0, 1, '', 'F-VOMM7', 'A20N', 'VT-ITX', 1721900696, 'CJB', 'MAA', '6E6011', 1, 0, 'IGO6011', 0], ['365115cd', '89644A', 11.55, 104.84, 45, 0, 17, '', 'F-VDPP1', 'B77W', 'A6-EPU', 1721900694, 'SIN', 'PNH', 'EK348', 1, 0, 'UAE348', 0], ['365117f7', '8840F7', 13.69, 100.76, 194, 0, 1, '', 'F-VTBS5', 'A320', 'HS-PGW', 1721900695, 'HKT', 'BKK', 'PG276', 1, 0, 'BKP276', 0], ['36511b25', '88044D', 13.93, 100.61, 118, 0, 2, '', 'T-VTBD32', 'A320', 'HS-ABM', 1721900696, 'HKT', 'DMK', 'FD3092', 1, 0, 'AIQ3092', 0], ['36511b00', '7705C1', 12.99, 80.17, 250, 0, 58, '', 'F-VOMM7', 'A20N', '4R-ANA', 1721900695, 'CMB', 'MAA', 'UL127', 1, 0, 'ALK127', 0], ['3651375d', '70E083', 11.55, 104.85, 317, 0, 0, '', 'F-VDPP2', 'A320', 'XU-726', 1721900692, 'PNH', '', 'ZA678', 1, 0, 'SWM678', 0], ['365138da', '680009', 13.7, 100.76, 284, 0, 0, '', 'T-VTBS109', 'A319', 'A5-DOR', 1721900692, 'BKK', '', 'B3700', 1, 0, 'BTN700', 0], ['36512e7a', '780957', 13.69, 100.75, 115, 0, 3, '', 'F-VTBS5', 'B738', 'B-5703', 1721900695, 'BKK', '', 'FM834', 1, 0, 'CSH834', 0], ['36513d5f', '8008A2', 12.99, 80.16, 70, 0, 22, '', 'F-VOMM7', 'GRND', '', 1721900694, '', '', '', 1, 0, 'FOLWME01', 0], ['3650f4f2', '781079', 13.68, 100.76, 14, 0, 24, '', 'F-VTBS5', 'A321', 'B-8438', 1721900693, 'TFU', 'BKK', '3U3935', 1, 0, 'CSC3935', 0], ['36514985', '750492', 10.82, 106.67, 337, 0, 5, '', 'F-VVTS3', 'A20N', '9M-RAH', 1721900696, 'SGN', 'KUL', 'AK523', 1, 0, 'AXM523', 0], ['36514afc', '76B866', 13.7, 100.74, 284, 0, 8, '', 'F-VTBS5', 'A21N', '9V-NCF', 1721900695, 'BKK', 'SIN', 'TR605', 1, 0, 'TGW605', 0], ['3650eb1d', '8880ED', 10.16, 104.0, 185, 0, 0, '', 'F-VVPQ1', 'A321', 'VN-A613', 1721900695, 'SGN', 'PQC', 'VN7829', 1, 0, 'HVN7829', 0], ['36514abd', '70E028', 11.55, 104.84, 317, 0, 0, '', 'F-VDPP2', 'AT75', 'XU-235', 1721900691, 'PNH', 'SGN', 'K6816', 1, 0, 'KHV816', 0], ['36514a7b', '884214', 13.69, 100.74, 323, 0, 15, '', 'F-VTBS5', 'A319', 'HS-PPT', 1721900695, 'BKK', 'USM', 'PG165', 1, 0, 'BKP165', 0], ['36514a7a', '884348', 13.7, 100.76, 284, 0, 0, '', 'T-VTBS109', 'AT76', 'HS-PZH', 1721900695, 'BKK', 'LPT', 'PG207', 1, 0, 'BKP207', 0], ['365144e4', '884364', 13.7, 100.76, 0, 0, 0, '', 'T-VTBS109', 'AT76', 'HS-PZD', 1721900691, 'BKK', 'USM', 'PG169', 1, 0, 'BKP169', 0], ['365144bf', '88808E', 10.82, 106.67, 70, 0, 0, '', 'F-VVTS3', 'A321', 'VN-A327', 1721900695, 'SGN', 'DAD', 'VN7110', 1, 0, 'HVN7110', 0], ['365147d9', '881421', 13.92, 100.62, 104, 0, 8, '', 'T-VTBD1', 'A21N', 'HS-EAA', 1721900694, 'DMK', 'HKT', 'FD3021', 1, 0, 'AIQ3021', 0]], 'stats': {'total': {'ads-b': 13052, 'mlat': 718, 'faa': 122, 'flarm': 1194, 'estimated': 436, 'satellite': 201, 'uat': 3, 'other': 36}, 'visible': {'ads-b': 191, 'mlat': 1, 'faa': 0, 'flarm': 0, 'estimated': 4, 'satellite': 5, 'uat': 0, 'other': 0}}}\n"
          ]
        }
      ]
    },
    {
      "cell_type": "markdown",
      "source": [
        "### Saving data in DataFrame"
      ],
      "metadata": {
        "id": "cKFOZdPMcNyd"
      }
    },
    {
      "cell_type": "code",
      "source": [
        "in_bound_data = response.json()['aircraft']"
      ],
      "metadata": {
        "id": "m0BXjK-NQZ7w"
      },
      "execution_count": 73,
      "outputs": []
    },
    {
      "cell_type": "code",
      "source": [
        "in_boundary_df = spark \\\n",
        "                  .createDataFrame(in_bound_data) \\\n",
        "                  .withColumnRenamed('_1', 'flight_id') \\\n",
        "                  .withColumnRenamed('_2', 'flight') \\\n",
        "                  .withColumnRenamed('_3', 'lat') \\\n",
        "                  .withColumnRenamed('_4', 'lon') \\\n",
        "                  .withColumnRenamed('_10', 'aircraf_model') \\\n",
        "                  .withColumnRenamed('_11', 'aircraft_registration') \\\n",
        "                  .withColumnRenamed('_13', 'from_iata') \\\n",
        "                  .withColumnRenamed('_14', 'to_iata') \\\n",
        "                  .withColumn('airline_ICAO', col('_18')[0:3]) \\\n",
        "                  .drop('_18')\n",
        "\n",
        "\n",
        "\n",
        "in_boundary_df.show()"
      ],
      "metadata": {
        "colab": {
          "base_uri": "https://localhost:8080/"
        },
        "id": "GAfFg7gGSV1L",
        "outputId": "3ec918f5-d043-4b72-f268-b81d6a520efb"
      },
      "execution_count": 102,
      "outputs": [
        {
          "output_type": "stream",
          "name": "stdout",
          "text": [
            "+---------+------+-----+------+---+-----+---+---+-------+-------------+---------------------+----------+---------+-------+-----+---+---+---+------------+\n",
            "|flight_id|flight|  lat|   lon| _5|   _6| _7| _8|     _9|aircraf_model|aircraft_registration|       _12|from_iata|to_iata|  _15|_16|_17|_19|airline_ICAO|\n",
            "+---------+------+-----+------+---+-----+---+---+-------+-------------+---------------------+----------+---------+-------+-----+---+---+---+------------+\n",
            "| 3650cd17|      |13.77| 80.49|109|47000|428|   |F-VOMM8|         GLF6|                     |1721900696|         |       |     |  0|  0|  0|         GLF|\n",
            "| 3650fd72|76BCC3|13.15| 91.09|312|43000|489|   |F-VOPB4|         B788|               9V-OFC|1721900695|      SIN|    ATQ|TR512|  0|  0|  0|         TGW|\n",
            "| 3650f033|76CD12|13.13| 118.9| 41|41000|443|   |F-RPVS1|         A359|               9V-SHR|1721900695|      SIN|    ICN|SQ606|  0|  0|  0|         SIA|\n",
            "| 36511317|76CD0A|12.58| 83.73|116|41000|448|   |F-VOMM7|         A359|               9V-SHJ|1721900692|      BOM|    SIN|SQ421|  0|  0|  0|         SIA|\n",
            "| 3650f5db|76CD0B|10.19| 86.39|294|40004|525|   | F-SAT5|         A359|               9V-SHK|1721900697|      SIN|    DXB|SQ494|  0|  0|  0|         SIA|\n",
            "| 36511075|780D77|11.87|110.35| 29|40000|482|   |T-VVTH3|         B788|               B-2762|1721900695|      SIN|    XMN|MF852|  0|  0|  0|         CXA|\n",
            "| 3650ab32|89916C|12.45|111.93|215|40000|499|   |T-VVTH3|         A359|              B-18919|1721900678|      TPE|    SIN|CI753|  0|  0|  0|         CAL|\n",
            "| 36510ac2|750543|10.82|108.19|193|40000|476|   |F-VVTS4|         A333|               9M-XBH|1721900696|      HKG|    KUL|D7693|  0|  0|  0|         XAX|\n",
            "| 3650e2e6|76CDA5|13.06|109.46|212|40000|509|   |F-VVPC2|         A359|               9V-SME|1721900696|      PVG|    SIN|SQ831|  0|  0|  0|         SIA|\n",
            "| 3650ccaa|750255|14.43|110.35|216|40000|498|   |F-VVPC2|         A333|               9M-MTB|1721900695|      PKX|    KUL|MH319|  0|  0|  0|         MAS|\n",
            "| 3651279c|8880DF|14.65|108.17|181|39975|488|   |F-VVPC2|         B789|              VN-A861|1721900696|      HAN|    SGN|VN249|  0|-64|  0|         HVN|\n",
            "| 36500307|80073F|12.45|  93.8|315|39975|478|   |F-VOPB4|         B788|               VT-ANY|1721900695|      MEL|    DEL|AI309|  0|-64|  0|         AIC|\n",
            "| 36511929|780A0D|13.96| 110.0|214|39000|489|   |F-VVPC2|         A333|                B-LAP|1721900696|      HKG|    CGK|CX719|  0|  0|  0|         CPA|\n",
            "| 3650af9b|70C0F9|14.86| 93.89| 98|39000|482|   |  F-EST|         B789|               A4O-SF|1721900697|      MCT|    BKK|WY815|  0|  0|  0|         OMA|\n",
            "| 36511257|7816A2|12.14|106.97| 24|39000|480|   |F-VVTS3|         B789|               B-20AJ|1721900695|      KUL|    PVG|FM886|  0|-64|  0|         CSH|\n",
            "| 3650af2d|06A0EB|11.39| 86.21|116|39000|469|   |  F-EST|         A359|               A7-AML|1721900693|      DOH|    SIN|QR944|  0|  0|  0|         QTR|\n",
            "| 36512545|7801B4|14.64|110.51|216|39000|498|   |F-VVPC2|         A333|                B-HLU|1721900696|      HKG|    KUL|CX729|  0|  0|  0|         CPA|\n",
            "| 3650be41|75054C|12.77| 80.66|114|39000|482|   |F-VOMM8|         A359|               9M-MAH|1721900696|      DOH|    KUL|MH165|  0|  0|  0|         MAS|\n",
            "| 3651077e|76CD74|12.48| 109.1|213|39000|508|   |F-VVTS5|         A388|               9V-SKT|1721900694|      HKG|    SIN|SQ893|  0|  0|  0|         SIA|\n",
            "| 36508d95|77058E|13.51|105.39|261|38000|493|   |F-VTUU1|         A333|               4R-ALN|1721900695|      NRT|    CMB|UL455|  0| 64|  0|         ALK|\n",
            "+---------+------+-----+------+---+-----+---+---+-------+-------------+---------------------+----------+---------+-------+-----+---+---+---+------------+\n",
            "only showing top 20 rows\n",
            "\n"
          ]
        }
      ]
    },
    {
      "cell_type": "markdown",
      "source": [
        "### Testing columns"
      ],
      "metadata": {
        "id": "_X4LbN3Ib-xK"
      }
    },
    {
      "cell_type": "code",
      "source": [
        "in_boundary_df \\\n",
        "              .join(\n",
        "                  aircraft_dim,\n",
        "                  in_boundary_df.aircraf_model == aircraft_dim.code,\n",
        "                  'left'\n",
        "              ) \\\n",
        "              .select(\n",
        "                  ['flight_id', 'aircraf_model', 'aircraftName']\n",
        "              ) \\\n",
        "              .show()"
      ],
      "metadata": {
        "colab": {
          "base_uri": "https://localhost:8080/"
        },
        "id": "gCIi6xMZSzJe",
        "outputId": "f0941aa9-070d-40f1-ccfd-2d0cd1475174"
      },
      "execution_count": 81,
      "outputs": [
        {
          "output_type": "stream",
          "name": "stdout",
          "text": [
            "+---------+-------------+---------------+\n",
            "|flight_id|aircraf_model|   aircraftName|\n",
            "+---------+-------------+---------------+\n",
            "| 3651338f|         A20N| Airbus A320neo|\n",
            "| 3650d6bc|         A20N| Airbus A320neo|\n",
            "| 3650b08a|         A21N| Airbus A321neo|\n",
            "| 3650ea88|         A21N| Airbus A321neo|\n",
            "| 365141f9|         A21N| Airbus A321neo|\n",
            "| 36512f1b|         A319|    Airbus A319|\n",
            "| 36514bb1|         A319|    Airbus A319|\n",
            "| 365133f9|         A320|    Airbus A320|\n",
            "| 36511db1|         A320|    Airbus A320|\n",
            "| 36513d12|         A320|    Airbus A320|\n",
            "| 36512c68|         A320|    Airbus A320|\n",
            "| 365123f6|         A320|    Airbus A320|\n",
            "| 365134aa|         A321|    Airbus A321|\n",
            "| 36514ba8|         A321|    Airbus A321|\n",
            "| 36513d83|         A321|    Airbus A321|\n",
            "| 36510ac2|         A333|Airbus A330-300|\n",
            "| 3650ccaa|         A333|Airbus A330-300|\n",
            "| 36511929|         A333|Airbus A330-300|\n",
            "| 36512545|         A333|Airbus A330-300|\n",
            "| 36508d95|         A333|Airbus A330-300|\n",
            "+---------+-------------+---------------+\n",
            "only showing top 20 rows\n",
            "\n"
          ]
        }
      ]
    },
    {
      "cell_type": "code",
      "source": [
        "in_boundary_df \\\n",
        "              .join(\n",
        "                  airline_dim,\n",
        "                  in_boundary_df.airline_ICAO == airline_dim.ICAO,\n",
        "                  'left'\n",
        "              ) \\\n",
        "              .select(\n",
        "                  ['flight_id', 'airline_ICAO', 'Name']\n",
        "              ) \\\n",
        "              .show()"
      ],
      "metadata": {
        "colab": {
          "base_uri": "https://localhost:8080/"
        },
        "id": "01t7zofVXtvQ",
        "outputId": "22174dbf-c6ba-46cc-c409-0910395bcfa4"
      },
      "execution_count": 98,
      "outputs": [
        {
          "output_type": "stream",
          "name": "stdout",
          "text": [
            "+---------+------------+--------------------+\n",
            "|flight_id|airline_ICAO|                Name|\n",
            "+---------+------------+--------------------+\n",
            "| 36500307|         AIC|           Air India|\n",
            "| 3651338f|         AIQ|        Thai AirAsia|\n",
            "| 365133f9|         AIQ|        Thai AirAsia|\n",
            "| 36508d95|         ALK|  SriLankan Airlines|\n",
            "| 3651439a|         ATX|            AirSWIFT|\n",
            "| 36513d12|         AXM|             AirAsia|\n",
            "| 36514ba8|         BAV|      Bamboo Airways|\n",
            "| 36512f1b|         BKP|     Bangkok Airways|\n",
            "| 3650ab32|         CAL|      China Airlines|\n",
            "| 3650d6bc|         CDC|           Loong Air|\n",
            "| 36511929|         CPA|      Cathay Pacific|\n",
            "| 36512545|         CPA|      Cathay Pacific|\n",
            "| 365123f6|         CQH|     Spring Airlines|\n",
            "| 36511257|         CSH|   Shanghai Airlines|\n",
            "| 365134aa|         CSN|China Southern Ai...|\n",
            "| 36514e46|         CSN|China Southern Ai...|\n",
            "| 36511075|         CXA|          Xiamen Air|\n",
            "| 3650f4ee|         CXA|          Xiamen Air|\n",
            "| 3650eb77|         EVA|             EVA Air|\n",
            "| 3650cd17|         GLF|                NULL|\n",
            "+---------+------------+--------------------+\n",
            "only showing top 20 rows\n",
            "\n"
          ]
        }
      ]
    }
  ]
}