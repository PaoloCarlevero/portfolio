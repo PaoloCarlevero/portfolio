{
  "nbformat": 4,
  "nbformat_minor": 0,
  "metadata": {
    "colab": {
      "provenance": []
    },
    "kernelspec": {
      "name": "python3",
      "display_name": "Python 3"
    },
    "language_info": {
      "name": "python"
    }
  },
  "cells": [
    {
      "cell_type": "markdown",
      "source": [
        "# Introduction"
      ],
      "metadata": {
        "id": "BhuB3NS2ydXa"
      }
    },
    {
      "cell_type": "markdown",
      "source": [
        "This project has been created using the \"Flight Radar API\" from \"Rapid API\" (https://rapidapi.com/apidojo/api/flight-radar1), who tracks the informations form FlightRadar24 (https://www.flightradar24.com/).\n",
        "\n",
        "The aim of this project is to showcase how PySpark can be used to manage data."
      ],
      "metadata": {
        "id": "_iT73SoPyolv"
      }
    },
    {
      "cell_type": "markdown",
      "source": [
        "# Importing libraries"
      ],
      "metadata": {
        "id": "8yWUVd-9ydfx"
      }
    },
    {
      "cell_type": "code",
      "source": [
        "!pip install pyspark"
      ],
      "metadata": {
        "colab": {
          "base_uri": "https://localhost:8080/"
        },
        "id": "0YGXAW0Y_mCo",
        "outputId": "9b31a9ae-ae1d-4537-b197-179b7f216736"
      },
      "execution_count": 47,
      "outputs": [
        {
          "output_type": "stream",
          "name": "stdout",
          "text": [
            "Requirement already satisfied: pyspark in /usr/local/lib/python3.10/dist-packages (3.5.1)\n",
            "Requirement already satisfied: py4j==0.10.9.7 in /usr/local/lib/python3.10/dist-packages (from pyspark) (0.10.9.7)\n"
          ]
        }
      ]
    },
    {
      "cell_type": "code",
      "source": [
        "from pyspark.sql import SparkSession, Row, Window\n",
        "from pyspark.sql.types import *\n",
        "from pyspark.sql.functions import col, row_number, when\n",
        "import requests\n",
        "import json"
      ],
      "metadata": {
        "id": "bx0zZhfe_dYN"
      },
      "execution_count": 48,
      "outputs": []
    },
    {
      "cell_type": "code",
      "source": [
        "from google.colab import drive\n",
        "drive.mount('/content/drive')\n",
        "\n",
        "folder = \"/content/drive/MyDrive/portfolio/spark_flight_data/\""
      ],
      "metadata": {
        "colab": {
          "base_uri": "https://localhost:8080/"
        },
        "id": "9w-XRHL34ok0",
        "outputId": "c41a6d68-9a49-47e7-e108-e13b7d402eda"
      },
      "execution_count": 100,
      "outputs": [
        {
          "output_type": "stream",
          "name": "stdout",
          "text": [
            "Drive already mounted at /content/drive; to attempt to forcibly remount, call drive.mount(\"/content/drive\", force_remount=True).\n"
          ]
        }
      ]
    },
    {
      "cell_type": "code",
      "source": [
        "with open(folder + \"headers.json\", \"r\") as f:\n",
        "  headers = json.load(f)"
      ],
      "metadata": {
        "id": "dmttNsQbvboZ"
      },
      "execution_count": 50,
      "outputs": []
    },
    {
      "cell_type": "markdown",
      "source": [
        "# Creating Saprk Session"
      ],
      "metadata": {
        "id": "ucJHleJ0g6vf"
      }
    },
    {
      "cell_type": "code",
      "source": [
        "spark = SparkSession\\\n",
        "        .builder\\\n",
        "        .appName(\"flight_data\")\\\n",
        "        .getOrCreate()"
      ],
      "metadata": {
        "id": "2clhiUZmLRvz"
      },
      "execution_count": 51,
      "outputs": []
    },
    {
      "cell_type": "markdown",
      "source": [
        "# Airline information"
      ],
      "metadata": {
        "id": "J6R6aO8a50Wx"
      }
    },
    {
      "cell_type": "markdown",
      "source": [
        "## Importing JSON"
      ],
      "metadata": {
        "id": "yfonggZeJ6tt"
      }
    },
    {
      "cell_type": "code",
      "source": [
        "def getData(file_path, url, headers):\n",
        "  try:\n",
        "    f = open(file_path)\n",
        "    data = json.load(f)\n",
        "\n",
        "  except:\n",
        "\n",
        "    response = requests.get(url, headers=headers)\n",
        "\n",
        "    print(response.json())\n",
        "\n",
        "    data = response.json()['rows']\n",
        "\n",
        "    with open(file_path, 'w') as f:\n",
        "      json.dump(data, f)\n",
        "\n",
        "  return data"
      ],
      "metadata": {
        "id": "0ggCEwBV_165"
      },
      "execution_count": 52,
      "outputs": []
    },
    {
      "cell_type": "code",
      "source": [
        "airline_file = 'airline_data.json'\n",
        "airline_url = \"https://flight-radar1.p.rapidapi.com/airlines/list\"\n",
        "\n",
        "airline_data = getData(folder + airline_file, airline_url, headers=headers)\n",
        "\n",
        "airline_data[0]"
      ],
      "metadata": {
        "id": "Xvo7UjqChsgv",
        "colab": {
          "base_uri": "https://localhost:8080/"
        },
        "outputId": "ee8c1aeb-b8f9-463b-c4fa-9add712b5160"
      },
      "execution_count": 53,
      "outputs": [
        {
          "output_type": "execute_result",
          "data": {
            "text/plain": [
              "{'Name': '21 Air', 'Code': '2I', 'ICAO': 'CSB'}"
            ]
          },
          "metadata": {},
          "execution_count": 53
        }
      ]
    },
    {
      "cell_type": "markdown",
      "source": [
        "## Creating airline_dim"
      ],
      "metadata": {
        "id": "1j0TpRYMKD3N"
      }
    },
    {
      "cell_type": "code",
      "source": [
        "airline_rdd = spark.sparkContext.parallelize(airline_data)"
      ],
      "metadata": {
        "id": "97oB1elKMcxW"
      },
      "execution_count": 54,
      "outputs": []
    },
    {
      "cell_type": "code",
      "source": [
        "airline_dim = spark.read.json(airline_rdd)\n",
        "\n",
        "airline_dim.show()"
      ],
      "metadata": {
        "colab": {
          "base_uri": "https://localhost:8080/"
        },
        "id": "AmW-WRoGLGUr",
        "outputId": "a159cf05-bdc7-462c-a5e9-5ba2343a2a67"
      },
      "execution_count": 55,
      "outputs": [
        {
          "output_type": "stream",
          "name": "stdout",
          "text": [
            "+----+----+------------------+\n",
            "|Code|ICAO|              Name|\n",
            "+----+----+------------------+\n",
            "|  2I| CSB|            21 Air|\n",
            "|    | EMC|      247 Aviation|\n",
            "|    | BRO|   2Excel Aviation|\n",
            "|    | DAK|         4 Airways|\n",
            "|  Q5| MLA|       40-Mile Air|\n",
            "|  FE| IHO|  748 Air Services|\n",
            "|  AQ| JYH|             9 Air|\n",
            "|  S5| NKP|        Abakan Air|\n",
            "|    | ABP|          ABS Jets|\n",
            "|    | BAR|Abu Dhabi Aviation|\n",
            "|  GB| ABX|           ABX Air|\n",
            "|    | SON|     Acass Ireland|\n",
            "|  AN| WSN|      Advanced Air|\n",
            "|  A3| AEE|   Aegean Airlines|\n",
            "|  EI| EIN|        Aer Lingus|\n",
            "|  EG| EUK|     Aer Lingus UK|\n",
            "|  JK| ACL|         AerCaribe|\n",
            "|  5E| BLK|              Aero|\n",
            "|  N2| NIG|              Aero|\n",
            "|    | AKF|        Aero Asahi|\n",
            "+----+----+------------------+\n",
            "only showing top 20 rows\n",
            "\n"
          ]
        }
      ]
    },
    {
      "cell_type": "markdown",
      "source": [
        "# Airports information"
      ],
      "metadata": {
        "id": "88a2G1rv5_2E"
      }
    },
    {
      "cell_type": "markdown",
      "source": [
        "## Importing JSON"
      ],
      "metadata": {
        "id": "PROdxroIKRnh"
      }
    },
    {
      "cell_type": "code",
      "source": [
        "airports_file = 'airports_data.json'\n",
        "airports_url = \"https://flight-radar1.p.rapidapi.com/airports/list\"\n",
        "\n",
        "airports_data = getData(folder + airports_file, airports_url, headers=headers)\n",
        "\n",
        "airports_data[0]"
      ],
      "metadata": {
        "id": "NGuWB6KaOrD1",
        "colab": {
          "base_uri": "https://localhost:8080/"
        },
        "outputId": "5ddea1d1-8514-4fd5-9fc7-71b0564c7660"
      },
      "execution_count": 56,
      "outputs": [
        {
          "output_type": "execute_result",
          "data": {
            "text/plain": [
              "{'id': 1900,\n",
              " 'name': 'A Coruna Airport',\n",
              " 'iata': 'LCG',\n",
              " 'icao': 'LECO',\n",
              " 'city': 'A Coruna',\n",
              " 'lat': 43.302059,\n",
              " 'lon': -8.37725,\n",
              " 'country': 'Spain',\n",
              " 'alt': 326,\n",
              " 'size': 4686,\n",
              " 'timezone': {'name': 'Europe/Madrid',\n",
              "  'offset': 7200,\n",
              "  'offsetHours': '2:00',\n",
              "  'abbr': 'CEST',\n",
              "  'abbrName': 'Central European Summer Time',\n",
              "  'isDst': True},\n",
              " 'countryId': 209}"
            ]
          },
          "metadata": {},
          "execution_count": 56
        }
      ]
    },
    {
      "cell_type": "code",
      "source": [
        "# Saving timezones info in a Dictionary\n",
        "\n",
        "timezones = {}\n",
        "\n",
        "for airport in airports_data:\n",
        "\n",
        "  timezone = airport[\"timezone\"]\n",
        "\n",
        "  timezone_name = timezone[\"name\"]\n",
        "\n",
        "  if timezone_name not in timezones.keys():\n",
        "    timezones[timezone_name] = timezone\n",
        "\n",
        "timezones[ list(timezones.keys())[0] ]"
      ],
      "metadata": {
        "id": "zxPpEsKryhmP",
        "colab": {
          "base_uri": "https://localhost:8080/"
        },
        "outputId": "da35efa2-7a99-43a0-a35f-53747325efc2"
      },
      "execution_count": 57,
      "outputs": [
        {
          "output_type": "execute_result",
          "data": {
            "text/plain": [
              "{'name': 'Europe/Madrid',\n",
              " 'offset': 7200,\n",
              " 'offsetHours': '2:00',\n",
              " 'abbr': 'CEST',\n",
              " 'abbrName': 'Central European Summer Time',\n",
              " 'isDst': True}"
            ]
          },
          "metadata": {},
          "execution_count": 57
        }
      ]
    },
    {
      "cell_type": "markdown",
      "source": [
        "## Timezone information"
      ],
      "metadata": {
        "id": "XUoihtCFwN3M"
      }
    },
    {
      "cell_type": "markdown",
      "source": [
        "### Saving timezone info in a DataFrame"
      ],
      "metadata": {
        "id": "h-1u8OtgyOAm"
      }
    },
    {
      "cell_type": "code",
      "source": [
        "# Converting input in a list of Rows\n",
        "\n",
        "timezones_rows = [Row(**timezones[timezone_name]) for timezone_name in timezones.keys()]\n",
        "\n",
        "timezones_rows[:5]"
      ],
      "metadata": {
        "colab": {
          "base_uri": "https://localhost:8080/"
        },
        "id": "bOwcsrzUwXiD",
        "outputId": "f36db3d6-6aa2-48b9-ddf7-33b5421c6773"
      },
      "execution_count": 58,
      "outputs": [
        {
          "output_type": "execute_result",
          "data": {
            "text/plain": [
              "[Row(name='Europe/Madrid', offset=7200, offsetHours='2:00', abbr='CEST', abbrName='Central European Summer Time', isDst=True),\n",
              " Row(name='Europe/Berlin', offset=7200, offsetHours='2:00', abbr='CEST', abbrName='Central European Summer Time', isDst=True),\n",
              " Row(name='Europe/Copenhagen', offset=7200, offsetHours='2:00', abbr='CEST', abbrName='Central European Summer Time', isDst=True),\n",
              " Row(name='America/Godthab', offset=-3600, offsetHours='-1:00', abbr='-01', abbrName=None, isDst=True),\n",
              " Row(name='Asia/Tehran', offset=12600, offsetHours='3:30', abbr='+0330', abbrName=None, isDst=False)]"
            ]
          },
          "metadata": {},
          "execution_count": 58
        }
      ]
    },
    {
      "cell_type": "code",
      "source": [
        "# Defining DataFrame schema\n",
        "timezones_schema = StructType([\n",
        "    StructField('name', StringType()),\n",
        "    StructField('offset', IntegerType()),\n",
        "    StructField('offsetHours', StringType()),\n",
        "    StructField('abbr', StringType()),\n",
        "    StructField('abbrName', StringType()),\n",
        "    StructField('isDst', BooleanType())\n",
        "])\n",
        "\n",
        "# Creating DataFrame\n",
        "timezones_df = spark.createDataFrame(timezones_rows, schema = timezones_schema)\n",
        "\n",
        "timezones_df.show()"
      ],
      "metadata": {
        "colab": {
          "base_uri": "https://localhost:8080/"
        },
        "id": "nm9gu8ijwf8L",
        "outputId": "7d9b94a8-8922-4a3d-d7be-4f7e795550e7"
      },
      "execution_count": 59,
      "outputs": [
        {
          "output_type": "stream",
          "name": "stdout",
          "text": [
            "+-------------------+------+-----------+-----+--------------------+-----+\n",
            "|               name|offset|offsetHours| abbr|            abbrName|isDst|\n",
            "+-------------------+------+-----------+-----+--------------------+-----+\n",
            "|      Europe/Madrid|  7200|       2:00| CEST|Central European ...| true|\n",
            "|      Europe/Berlin|  7200|       2:00| CEST|Central European ...| true|\n",
            "|  Europe/Copenhagen|  7200|       2:00| CEST|Central European ...| true|\n",
            "|    America/Godthab| -3600|      -1:00|  -01|                NULL| true|\n",
            "|        Asia/Tehran| 12600|       3:30|+0330|                NULL|false|\n",
            "|   Asia/Krasnoyarsk| 25200|       7:00|  +07|                NULL|false|\n",
            "|  America/Vancouver|-25200|      -7:00|  PDT|Pacific Daylight ...| true|\n",
            "|     Pacific/Tarawa| 43200|      12:00|  +12|                NULL|false|\n",
            "|      Europe/London|  3600|       1:00|  BST| British Summer Time| true|\n",
            "|    America/Chicago|-18000|      -5:00|  CDT|Central Daylight ...| true|\n",
            "|        Asia/Riyadh| 10800|       3:00|  +03|                NULL|false|\n",
            "|     Africa/Abidjan|  NULL|       0:00|  GMT| Greenwich Mean Time|false|\n",
            "|   America/New_York|-14400|      -4:00|  EDT|Eastern Daylight ...| true|\n",
            "|         Asia/Dubai| 14400|       4:00|  +04|                NULL|false|\n",
            "|       Africa/Cairo| 10800|       3:00| EEST|Eastern European ...| true|\n",
            "|       Africa/Lagos|  3600|       1:00|  WAT|    West Africa Time|false|\n",
            "|America/Mexico_City|-21600|      -6:00|  CST|Central Standard ...|false|\n",
            "|       Africa/Accra|  NULL|       0:00|  GMT| Greenwich Mean Time|false|\n",
            "|       America/Adak|-32400|      -9:00|  HDT|                NULL| true|\n",
            "|       Asia/Kolkata| 19800|       5:30|  IST| India Standard Time|false|\n",
            "+-------------------+------+-----------+-----+--------------------+-----+\n",
            "only showing top 20 rows\n",
            "\n"
          ]
        }
      ]
    },
    {
      "cell_type": "markdown",
      "source": [
        "### Checking if the same 'abbr' can correspond to different 'abbrName'"
      ],
      "metadata": {
        "id": "ReGDYusdzHIZ"
      }
    },
    {
      "cell_type": "code",
      "source": [
        "# Creting a DataFrame contarining unique abbr-abbrName pairs\n",
        "abbr_check = timezones_df \\\n",
        "                              .select([\"abbr\", \"abbrName\"]) \\\n",
        "                              .distinct()\n",
        "\n",
        "# Select abbr that appears more than one time\n",
        "abbr_check \\\n",
        "          .groupBy('abbr') \\\n",
        "          .count() \\\n",
        "          .sort(\"count\", ascending=False) \\\n",
        "          .filter( col('count') > 1) \\\n",
        "          .show()"
      ],
      "metadata": {
        "colab": {
          "base_uri": "https://localhost:8080/"
        },
        "id": "XloK7NuCwtfy",
        "outputId": "fb4a9bf5-db4b-4a13-c05f-0a887fd9599e"
      },
      "execution_count": 60,
      "outputs": [
        {
          "output_type": "stream",
          "name": "stdout",
          "text": [
            "+----+-----+\n",
            "|abbr|count|\n",
            "+----+-----+\n",
            "|WEST|    2|\n",
            "| IST|    2|\n",
            "|CEST|    2|\n",
            "| CST|    2|\n",
            "+----+-----+\n",
            "\n"
          ]
        }
      ]
    },
    {
      "cell_type": "code",
      "source": [
        "# Check information about abbr that appears more than one time\n",
        "abbr_check \\\n",
        "          .filter( abbr_check.abbr.isin('IST', 'CST', 'WEST', 'CEST') ) \\\n",
        "          .show(truncate = False)"
      ],
      "metadata": {
        "colab": {
          "base_uri": "https://localhost:8080/"
        },
        "id": "3V4xGp77xHWI",
        "outputId": "d07fdd5c-2a01-4da5-9ea7-5aaff5745596"
      },
      "execution_count": 61,
      "outputs": [
        {
          "output_type": "stream",
          "name": "stdout",
          "text": [
            "+----+----------------------------+\n",
            "|abbr|abbrName                    |\n",
            "+----+----------------------------+\n",
            "|CST |Central Standard Time       |\n",
            "|IST |India Standard Time         |\n",
            "|WEST|Western European Summer Time|\n",
            "|CEST|Central European Summer Time|\n",
            "|CST |China Standard Time         |\n",
            "|IST |Irish Standard Time         |\n",
            "|CEST|NULL                        |\n",
            "|WEST|NULL                        |\n",
            "+----+----------------------------+\n",
            "\n"
          ]
        }
      ]
    },
    {
      "cell_type": "markdown",
      "source": [
        "### Updating DataFrame"
      ],
      "metadata": {
        "id": "PNkoNb1IZ-uJ"
      }
    },
    {
      "cell_type": "code",
      "source": [
        "timezones_df = timezones_df \\\n",
        "                            .withColumn( # Replace conflitting 'abbr'\n",
        "                                      'abbr',\n",
        "                                        when( col('abbrName') == 'China Standard Time', 'ChiST') \\\n",
        "                                        .when( col('abbrName') == 'Irish Standard Time', 'IriST') \\\n",
        "                                        .otherwise(timezones_df.abbr)\n",
        "                                        ). \\\n",
        "                            withColumn( # Fill missing 'abbrName'\n",
        "                                      'abbrName',\n",
        "                                      when( col('abbr') == 'CEST', 'Central European Summer Time' ) \\\n",
        "                                      .when( col('abbr') == 'WEST', 'Western European Summer Time') \\\n",
        "                                      .otherwise(timezones_df.abbrName)\n",
        "                                        )\n",
        "\n",
        "\n",
        "\n",
        "timezones_df.show()"
      ],
      "metadata": {
        "colab": {
          "base_uri": "https://localhost:8080/"
        },
        "id": "FaWSGraa1dHh",
        "outputId": "fb1e103d-198a-4f4c-d4e5-e019c96967e2"
      },
      "execution_count": 62,
      "outputs": [
        {
          "output_type": "stream",
          "name": "stdout",
          "text": [
            "+-------------------+------+-----------+-----+--------------------+-----+\n",
            "|               name|offset|offsetHours| abbr|            abbrName|isDst|\n",
            "+-------------------+------+-----------+-----+--------------------+-----+\n",
            "|      Europe/Madrid|  7200|       2:00| CEST|Central European ...| true|\n",
            "|      Europe/Berlin|  7200|       2:00| CEST|Central European ...| true|\n",
            "|  Europe/Copenhagen|  7200|       2:00| CEST|Central European ...| true|\n",
            "|    America/Godthab| -3600|      -1:00|  -01|                NULL| true|\n",
            "|        Asia/Tehran| 12600|       3:30|+0330|                NULL|false|\n",
            "|   Asia/Krasnoyarsk| 25200|       7:00|  +07|                NULL|false|\n",
            "|  America/Vancouver|-25200|      -7:00|  PDT|Pacific Daylight ...| true|\n",
            "|     Pacific/Tarawa| 43200|      12:00|  +12|                NULL|false|\n",
            "|      Europe/London|  3600|       1:00|  BST| British Summer Time| true|\n",
            "|    America/Chicago|-18000|      -5:00|  CDT|Central Daylight ...| true|\n",
            "|        Asia/Riyadh| 10800|       3:00|  +03|                NULL|false|\n",
            "|     Africa/Abidjan|  NULL|       0:00|  GMT| Greenwich Mean Time|false|\n",
            "|   America/New_York|-14400|      -4:00|  EDT|Eastern Daylight ...| true|\n",
            "|         Asia/Dubai| 14400|       4:00|  +04|                NULL|false|\n",
            "|       Africa/Cairo| 10800|       3:00| EEST|Eastern European ...| true|\n",
            "|       Africa/Lagos|  3600|       1:00|  WAT|    West Africa Time|false|\n",
            "|America/Mexico_City|-21600|      -6:00|  CST|Central Standard ...|false|\n",
            "|       Africa/Accra|  NULL|       0:00|  GMT| Greenwich Mean Time|false|\n",
            "|       America/Adak|-32400|      -9:00|  HDT|                NULL| true|\n",
            "|       Asia/Kolkata| 19800|       5:30|  IST| India Standard Time|false|\n",
            "+-------------------+------+-----------+-----+--------------------+-----+\n",
            "only showing top 20 rows\n",
            "\n"
          ]
        }
      ]
    },
    {
      "cell_type": "code",
      "source": [
        "# Checking if update was successfull\n",
        "\n",
        "abbr_check = timezones_df \\\n",
        "                              .select([\"abbr\", \"abbrName\"]) \\\n",
        "                              .distinct()"
      ],
      "metadata": {
        "id": "RiaQvJ9g3I7j"
      },
      "execution_count": 63,
      "outputs": []
    },
    {
      "cell_type": "markdown",
      "source": [
        "### Checking if the same 'abbr' can have multiple 'isDst'"
      ],
      "metadata": {
        "id": "3DxYgYqgaTWt"
      }
    },
    {
      "cell_type": "code",
      "source": [
        "abbr_check = timezones_df \\\n",
        "                              .select([\"abbr\", \"isDst\"]) \\\n",
        "                              .distinct()\n",
        "\n",
        "abbr_check \\\n",
        "          .groupBy('abbr') \\\n",
        "          .count() \\\n",
        "          .sort(\"count\", ascending=False) \\\n",
        "          .filter( col('count') > 1) \\\n",
        "          .show()\n",
        "\n",
        "abbr_check.filter( col('abbr').isin('-01', '-02') ).show()"
      ],
      "metadata": {
        "colab": {
          "base_uri": "https://localhost:8080/"
        },
        "id": "Ce89PD1zX58c",
        "outputId": "5e15f42f-6c8e-40db-bf95-a0a87b21e6e9"
      },
      "execution_count": 64,
      "outputs": [
        {
          "output_type": "stream",
          "name": "stdout",
          "text": [
            "+----+-----+\n",
            "|abbr|count|\n",
            "+----+-----+\n",
            "| -01|    2|\n",
            "| -02|    2|\n",
            "+----+-----+\n",
            "\n",
            "+----+-----+\n",
            "|abbr|isDst|\n",
            "+----+-----+\n",
            "| -01| true|\n",
            "| -01|false|\n",
            "| -02|false|\n",
            "| -02| true|\n",
            "+----+-----+\n",
            "\n"
          ]
        }
      ]
    },
    {
      "cell_type": "markdown",
      "source": [
        "### Splitting DataFrame in different tables"
      ],
      "metadata": {
        "id": "k4RizvwYevOR"
      }
    },
    {
      "cell_type": "code",
      "source": [
        "timezones_df.columns"
      ],
      "metadata": {
        "colab": {
          "base_uri": "https://localhost:8080/"
        },
        "id": "bzLXYyKRez3u",
        "outputId": "a7fb175f-8a26-444b-b721-d2828dfef393"
      },
      "execution_count": 65,
      "outputs": [
        {
          "output_type": "execute_result",
          "data": {
            "text/plain": [
              "['name', 'offset', 'offsetHours', 'abbr', 'abbrName', 'isDst']"
            ]
          },
          "metadata": {},
          "execution_count": 65
        }
      ]
    },
    {
      "cell_type": "markdown",
      "source": [
        "#### timezones_dim"
      ],
      "metadata": {
        "id": "LxSOhTEGhHU7"
      }
    },
    {
      "cell_type": "code",
      "source": [
        "timezones_dim = timezones_df \\\n",
        "                            .withColumn('timezoneId', row_number().over( Window.orderBy('offset')) ) \\\n",
        "                            .select(['timezoneId', 'name', 'offset', 'abbr', 'isDst']) \\\n",
        "                            .withColumnRenamed('name', 'timezoneName')\n",
        "\n",
        "\n",
        "timezones_dim.show()"
      ],
      "metadata": {
        "colab": {
          "base_uri": "https://localhost:8080/"
        },
        "id": "Re9YWciXeuDB",
        "outputId": "687b3147-e7e4-4f38-ccef-159ec02b1898"
      },
      "execution_count": 66,
      "outputs": [
        {
          "output_type": "stream",
          "name": "stdout",
          "text": [
            "+----------+------------------+------+----+-----+\n",
            "|timezoneId|      timezoneName|offset|abbr|isDst|\n",
            "+----------+------------------+------+----+-----+\n",
            "|         1|      Africa/Dakar|  NULL| GMT|false|\n",
            "|         2|    Africa/Abidjan|  NULL| GMT|false|\n",
            "|         3|      Africa/Accra|  NULL| GMT|false|\n",
            "|         4|   Atlantic/Azores|  NULL| +00| true|\n",
            "|         5|Atlantic/Reykjavik|  NULL| GMT|false|\n",
            "|         6|    Africa/Conakry|  NULL| GMT|false|\n",
            "|         7|     Africa/Bamako|  NULL| GMT|false|\n",
            "|         8|               UTC|  NULL| UTC|false|\n",
            "|         9| Africa/Nouakchott|  NULL| GMT|false|\n",
            "|        10|Africa/Ouagadougou|  NULL| GMT|false|\n",
            "|        11|   Africa/Freetown|  NULL| GMT|false|\n",
            "|        12|       Africa/Lome|  NULL| GMT|false|\n",
            "|        13|Atlantic/St_Helena|  NULL| GMT|false|\n",
            "|        14|     Africa/Banjul|  NULL| GMT|false|\n",
            "|        15|     Africa/Bissau|  NULL| GMT|false|\n",
            "|        16|   Africa/Monrovia|  NULL| GMT|false|\n",
            "|        17|   Africa/Sao_Tome|  NULL| GMT|false|\n",
            "|        18| Pacific/Pago_Pago|-39600| SST|false|\n",
            "|        19|      Pacific/Niue|-39600| -11|false|\n",
            "|        20|  Pacific/Honolulu|-36000| HST|false|\n",
            "+----------+------------------+------+----+-----+\n",
            "only showing top 20 rows\n",
            "\n"
          ]
        }
      ]
    },
    {
      "cell_type": "markdown",
      "source": [
        "#### timezones_abbr_dim"
      ],
      "metadata": {
        "id": "WRzj2O4thPLu"
      }
    },
    {
      "cell_type": "code",
      "source": [
        "timezones_abbr_dim = timezones_df \\\n",
        "                                    .select(['abbr', 'abbrName']) \\\n",
        "                                    .distinct() \\\n",
        "                                    .withColumn('abbrId', row_number().over( Window.orderBy('abbr'))) \\\n",
        "                                    .select(['abbrId', 'abbr', 'abbrName'])\n",
        "\n",
        "timezones_abbr_dim.show()"
      ],
      "metadata": {
        "colab": {
          "base_uri": "https://localhost:8080/"
        },
        "id": "c1r11W84ggyg",
        "outputId": "20a015db-ab78-4ad1-fcb9-967a68a27bde"
      },
      "execution_count": 67,
      "outputs": [
        {
          "output_type": "stream",
          "name": "stdout",
          "text": [
            "+------+-----+--------+\n",
            "|abbrId| abbr|abbrName|\n",
            "+------+-----+--------+\n",
            "|     1|  +00|    NULL|\n",
            "|     2|  +01|    NULL|\n",
            "|     3|  +03|    NULL|\n",
            "|     4|+0330|    NULL|\n",
            "|     5|  +04|    NULL|\n",
            "|     6|+0430|    NULL|\n",
            "|     7|  +05|    NULL|\n",
            "|     8|+0530|    NULL|\n",
            "|     9|+0545|    NULL|\n",
            "|    10|  +06|    NULL|\n",
            "|    11|+0630|    NULL|\n",
            "|    12|  +07|    NULL|\n",
            "|    13|  +08|    NULL|\n",
            "|    14|+0845|    NULL|\n",
            "|    15|  +09|    NULL|\n",
            "|    16|  +10|    NULL|\n",
            "|    17|+1030|    NULL|\n",
            "|    18|  +11|    NULL|\n",
            "|    19|  +12|    NULL|\n",
            "|    20|+1245|    NULL|\n",
            "+------+-----+--------+\n",
            "only showing top 20 rows\n",
            "\n"
          ]
        }
      ]
    },
    {
      "cell_type": "markdown",
      "source": [
        "#### Refactoring timezone_dim"
      ],
      "metadata": {
        "id": "bm1jkLOnhd--"
      }
    },
    {
      "cell_type": "code",
      "source": [
        "# Replacing 'abbr' with 'abbrId' in timezone_dim\n",
        "\n",
        "timezones_dim = timezones_dim \\\n",
        "                                .join(\n",
        "                                    timezones_abbr_dim,\n",
        "                                    timezones_dim.abbr == timezones_abbr_dim.abbr,\n",
        "                                    'left'\n",
        "                                    ) \\\n",
        "                                .select(['timezoneId', 'timezoneName', 'offset', 'isDst', 'abbrId'])\n",
        "\n",
        "timezones_dim.show()"
      ],
      "metadata": {
        "colab": {
          "base_uri": "https://localhost:8080/"
        },
        "id": "fNHpR1l8hBgj",
        "outputId": "63a6e203-a3e4-4a1b-8115-03dacd66d43a"
      },
      "execution_count": 68,
      "outputs": [
        {
          "output_type": "stream",
          "name": "stdout",
          "text": [
            "+----------+------------------+------+-----+------+\n",
            "|timezoneId|      timezoneName|offset|isDst|abbrId|\n",
            "+----------+------------------+------+-----+------+\n",
            "|         1|      Africa/Dakar|  NULL|false|    52|\n",
            "|         2|    Africa/Abidjan|  NULL|false|    52|\n",
            "|         3|      Africa/Accra|  NULL|false|    52|\n",
            "|         4|   Atlantic/Azores|  NULL| true|     1|\n",
            "|         5|Atlantic/Reykjavik|  NULL|false|    52|\n",
            "|         6|    Africa/Conakry|  NULL|false|    52|\n",
            "|         7|     Africa/Bamako|  NULL|false|    52|\n",
            "|         8|               UTC|  NULL|false|    71|\n",
            "|         9| Africa/Nouakchott|  NULL|false|    52|\n",
            "|        10|Africa/Ouagadougou|  NULL|false|    52|\n",
            "|        11|   Africa/Freetown|  NULL|false|    52|\n",
            "|        12|       Africa/Lome|  NULL|false|    52|\n",
            "|        13|Atlantic/St_Helena|  NULL|false|    52|\n",
            "|        14|     Africa/Banjul|  NULL|false|    52|\n",
            "|        15|     Africa/Bissau|  NULL|false|    52|\n",
            "|        16|   Africa/Monrovia|  NULL|false|    52|\n",
            "|        17|   Africa/Sao_Tome|  NULL|false|    52|\n",
            "|        18| Pacific/Pago_Pago|-39600|false|    70|\n",
            "|        19|      Pacific/Niue|-39600|false|    32|\n",
            "|        20|  Pacific/Honolulu|-36000|false|    55|\n",
            "+----------+------------------+------+-----+------+\n",
            "only showing top 20 rows\n",
            "\n"
          ]
        }
      ]
    },
    {
      "cell_type": "markdown",
      "source": [
        "## Geographic information"
      ],
      "metadata": {
        "id": "AZhCExgstPn2"
      }
    },
    {
      "cell_type": "markdown",
      "source": [
        "### Creating countries_dim table"
      ],
      "metadata": {
        "id": "AXO689Gagb4q"
      }
    },
    {
      "cell_type": "code",
      "source": [
        "# Getting set of unique countries name\n",
        "countries_set = { airport['country'] for airport in airports_data}"
      ],
      "metadata": {
        "id": "Ds1hI1sVmlm2"
      },
      "execution_count": 69,
      "outputs": []
    },
    {
      "cell_type": "code",
      "source": [
        "# Convert set in DataFrame\n",
        "# Rename 'value' col in 'countryName'\n",
        "# Add 'abbrId'\n",
        "# Change cols order\n",
        "countries_dim = spark \\\n",
        "                    .createDataFrame(countries_set, StringType()) \\\n",
        "                    .withColumnRenamed('value', 'country') \\\n",
        "                    .withColumn('countryId', row_number().over( Window.orderBy('country'))) \\\n",
        "                    .select([\"countryId\", \"country\"])\n",
        "\n",
        "countries_dim.show()"
      ],
      "metadata": {
        "colab": {
          "base_uri": "https://localhost:8080/"
        },
        "id": "UbznUe4rnLFM",
        "outputId": "f057c80a-24ad-445c-841d-8ce64e932d60"
      },
      "execution_count": 70,
      "outputs": [
        {
          "output_type": "stream",
          "name": "stdout",
          "text": [
            "+---------+-------------------+\n",
            "|countryId|            country|\n",
            "+---------+-------------------+\n",
            "|        1|        Afghanistan|\n",
            "|        2|            Albania|\n",
            "|        3|            Algeria|\n",
            "|        4|     American Samoa|\n",
            "|        5|             Angola|\n",
            "|        6|           Anguilla|\n",
            "|        7|         Antarctica|\n",
            "|        8|Antigua And Barbuda|\n",
            "|        9|          Argentina|\n",
            "|       10|            Armenia|\n",
            "|       11|              Aruba|\n",
            "|       12|          Australia|\n",
            "|       13|            Austria|\n",
            "|       14|         Azerbaijan|\n",
            "|       15|            Bahamas|\n",
            "|       16|            Bahrain|\n",
            "|       17|         Bangladesh|\n",
            "|       18|           Barbados|\n",
            "|       19|            Belarus|\n",
            "|       20|            Belgium|\n",
            "+---------+-------------------+\n",
            "only showing top 20 rows\n",
            "\n"
          ]
        }
      ]
    },
    {
      "cell_type": "markdown",
      "source": [
        "### Creating cities_dim table"
      ],
      "metadata": {
        "id": "PgudCS0PrARY"
      }
    },
    {
      "cell_type": "code",
      "source": [
        "# Create set of unique city-country pairs\n",
        "\n",
        "cities_set = { (airport['city'], airport['country']) for airport in airports_data}"
      ],
      "metadata": {
        "id": "M52eEv7TqveO"
      },
      "execution_count": 71,
      "outputs": []
    },
    {
      "cell_type": "code",
      "source": [
        "# Converting set in DataFrame\n",
        "cities_dim = spark \\\n",
        "              .createDataFrame(cities_set, schema = [\"city\", \"country\"]) \\\n",
        "              .withColumn('cityId', row_number().over( Window.orderBy('city')))\n",
        "\n",
        "cities_dim.show()"
      ],
      "metadata": {
        "colab": {
          "base_uri": "https://localhost:8080/"
        },
        "id": "LI1o16R9rLsM",
        "outputId": "73b39d70-836b-4c44-dd4d-9c7c5fb7fce5"
      },
      "execution_count": 72,
      "outputs": [
        {
          "output_type": "stream",
          "name": "stdout",
          "text": [
            "+---------------+--------------------+------+\n",
            "|           city|             country|cityId|\n",
            "+---------------+--------------------+------+\n",
            "|       A Coruna|               Spain|     1|\n",
            "|         Aachen|             Germany|     2|\n",
            "|        Aalborg|             Denmark|     3|\n",
            "|         Aarhus|             Denmark|     4|\n",
            "|        Aasiaat|           Greenland|     5|\n",
            "|         Abadan|                Iran|     6|\n",
            "|         Abakan|              Russia|     7|\n",
            "|     Abbotsford|              Canada|     8|\n",
            "|  Abemama Atoll|            Kiribati|     9|\n",
            "|       Aberdeen|      United Kingdom|    10|\n",
            "|       Aberdeen|       United States|    11|\n",
            "|           Abha|        Saudi Arabia|    12|\n",
            "|        Abidjan|         Ivory Coast|    13|\n",
            "|        Abilene|       United States|    14|\n",
            "|       Abingdon|       United States|    15|\n",
            "|      Abu Dhabi|United Arab Emirates|    16|\n",
            "|Abu Musa Island|                Iran|    17|\n",
            "|     Abu Simbel|               Egypt|    18|\n",
            "|          Abuja|             Nigeria|    19|\n",
            "|       Acapulco|              Mexico|    20|\n",
            "+---------------+--------------------+------+\n",
            "only showing top 20 rows\n",
            "\n"
          ]
        }
      ]
    },
    {
      "cell_type": "code",
      "source": [
        "# Replacing 'country' with 'countryId'\n",
        "\n",
        "cities_dim = cities_dim \\\n",
        "                      .join(\n",
        "                          countries_dim,\n",
        "                          'country',\n",
        "                          'left'\n",
        "                      ) \\\n",
        "                      .select( ['cityId', 'city', 'countryId'])\n",
        "\n",
        "cities_dim.show()"
      ],
      "metadata": {
        "colab": {
          "base_uri": "https://localhost:8080/"
        },
        "id": "CKbVapezsLda",
        "outputId": "0693a00d-ff8d-4e47-b0fa-62bed0a79d96"
      },
      "execution_count": 73,
      "outputs": [
        {
          "output_type": "stream",
          "name": "stdout",
          "text": [
            "+------+---------------+---------+\n",
            "|cityId|           city|countryId|\n",
            "+------+---------------+---------+\n",
            "|     7|         Abakan|      170|\n",
            "|     9|  Abemama Atoll|      109|\n",
            "|     2|         Aachen|       76|\n",
            "|    13|        Abidjan|      102|\n",
            "|    21|          Accra|       77|\n",
            "|    11|       Aberdeen|      216|\n",
            "|    14|        Abilene|      216|\n",
            "|    15|       Abingdon|      216|\n",
            "|    19|          Abuja|      151|\n",
            "|     1|       A Coruna|      192|\n",
            "|     3|        Aalborg|       54|\n",
            "|     4|         Aarhus|       54|\n",
            "|     6|         Abadan|       96|\n",
            "|    17|Abu Musa Island|       96|\n",
            "|    20|       Acapulco|      133|\n",
            "|    12|           Abha|      179|\n",
            "|    16|      Abu Dhabi|      214|\n",
            "|     8|     Abbotsford|       35|\n",
            "|     5|        Aasiaat|       80|\n",
            "|    18|     Abu Simbel|       59|\n",
            "+------+---------------+---------+\n",
            "only showing top 20 rows\n",
            "\n"
          ]
        }
      ]
    },
    {
      "cell_type": "markdown",
      "source": [
        "### Creating airports_dim\n",
        "\n"
      ],
      "metadata": {
        "id": "RV_jCSjLibFo"
      }
    },
    {
      "cell_type": "code",
      "source": [
        "def airport_typecaster(key, value):\n",
        "\n",
        "  # Keep only the name of the timezone\n",
        "  if key == 'timezone':\n",
        "    return value['name']\n",
        "\n",
        "  # Some 'lat' e 'lon' values are encoded as Float and some as Int,\n",
        "  # so we have to convert all of them to Float\n",
        "  if key in ('lat', 'lon'):\n",
        "    return float(value)\n",
        "\n",
        "  # Some values are encoded as String, so they have to be encoded as Int\n",
        "  if key == 'alt':\n",
        "    return int(value)\n",
        "\n",
        "  return value"
      ],
      "metadata": {
        "id": "t4b4hGDXoFJr"
      },
      "execution_count": 74,
      "outputs": []
    },
    {
      "cell_type": "code",
      "source": [
        "airports_col_to_remove = [\"country\"]\n",
        "\n",
        "airports_data_typecasted = [\n",
        "                            {key: airport_typecaster(key, value) for key, value in airport.items() if key not in airports_col_to_remove }\n",
        "                             for airport in airports_data\n",
        "                            ]"
      ],
      "metadata": {
        "id": "ZjtV2L8ubNPm"
      },
      "execution_count": 75,
      "outputs": []
    },
    {
      "cell_type": "code",
      "source": [
        "airport_rows = [Row(**airport) for airport in airports_data_typecasted]\n",
        "\n",
        "airport_rows[:4]"
      ],
      "metadata": {
        "id": "7s0fdCkkgGPh",
        "colab": {
          "base_uri": "https://localhost:8080/"
        },
        "outputId": "a65397b3-f6cc-4e6e-a4be-8509687b0ec0"
      },
      "execution_count": 76,
      "outputs": [
        {
          "output_type": "execute_result",
          "data": {
            "text/plain": [
              "[Row(id=1900, name='A Coruna Airport', iata='LCG', icao='LECO', city='A Coruna', lat=43.302059, lon=-8.37725, alt=326, size=4686, timezone='Europe/Madrid', countryId=209),\n",
              " Row(id=3, name='Aachen Merzbruck Airport', iata='AAH', icao='EDKA', city='Aachen', lat=50.821899, lon=6.184759, alt=626, size=1491, timezone='Europe/Berlin', countryId=83),\n",
              " Row(id=4, name='Aalborg Airport', iata='AAL', icao='EKYT', city='Aalborg', lat=57.095112, lon=9.855172, alt=3, size=8856, timezone='Europe/Copenhagen', countryId=61),\n",
              " Row(id=9, name='Aarhus Airport', iata='AAR', icao='EKAH', city='Aarhus', lat=56.303295, lon=10.619129, alt=71, size=3919, timezone='Europe/Copenhagen', countryId=61)]"
            ]
          },
          "metadata": {},
          "execution_count": 76
        }
      ]
    },
    {
      "cell_type": "code",
      "source": [
        "airport_schema = StructType([\n",
        "    StructField('id', IntegerType()),\n",
        "    StructField('airportName', StringType()),\n",
        "    StructField('iata', StringType()),\n",
        "    StructField('icao', StringType()),\n",
        "    StructField('city', StringType()),\n",
        "    StructField('lat', DoubleType()),\n",
        "    StructField('lon', DoubleType()),\n",
        "    StructField('alt', IntegerType()),\n",
        "    StructField('size', IntegerType()),\n",
        "    StructField('timezoneName', StringType()),\n",
        "    StructField('countryId', IntegerType()),\n",
        "])"
      ],
      "metadata": {
        "id": "-I8_dQwWpvm6"
      },
      "execution_count": 77,
      "outputs": []
    },
    {
      "cell_type": "code",
      "source": [
        "airport_df = spark.createDataFrame(airport_rows, airport_schema)\n",
        "\n",
        "airport_df.show()"
      ],
      "metadata": {
        "id": "APRIgBqhZ_V2",
        "colab": {
          "base_uri": "https://localhost:8080/"
        },
        "outputId": "a9ae2f73-efa2-4389-d0ad-d05acb3819de"
      },
      "execution_count": 78,
      "outputs": [
        {
          "output_type": "stream",
          "name": "stdout",
          "text": [
            "+----+--------------------+----+----+---------------+---------+-----------+----+-----+-----------------+---------+\n",
            "|  id|         airportName|iata|icao|           city|      lat|        lon| alt| size|     timezoneName|countryId|\n",
            "+----+--------------------+----+----+---------------+---------+-----------+----+-----+-----------------+---------+\n",
            "|1900|    A Coruna Airport| LCG|LECO|       A Coruna|43.302059|   -8.37725| 326| 4686|    Europe/Madrid|      209|\n",
            "|   3|Aachen Merzbruck ...| AAH|EDKA|         Aachen|50.821899|   6.184759| 626| 1491|    Europe/Berlin|       83|\n",
            "|   4|     Aalborg Airport| AAL|EKYT|        Aalborg|57.095112|   9.855172|   3| 8856|Europe/Copenhagen|       61|\n",
            "|   9|      Aarhus Airport| AAR|EKAH|         Aarhus|56.303295|  10.619129|  71| 3919|Europe/Copenhagen|       61|\n",
            "|7569|  Aarhus Sea Airport| QEA|EKAC|         Aarhus|56.151993|  10.247725|   1|  139|Europe/Copenhagen|       61|\n",
            "|1596|     Aasiaat Airport| JEG|BGAA|        Aasiaat| 68.72184| -52.784698|  74|  574|  America/Godthab|       87|\n",
            "|  12|      Abadan Airport| ABD|OIAA|         Abadan|30.371111|  48.228329|  19| 2099|      Asia/Tehran|      104|\n",
            "|  11|Abakan Internatio...| ABA|UNAA|         Abakan|53.740002|  91.385002| 831| 2146| Asia/Krasnoyarsk|      182|\n",
            "|4146|Abbotsford Intern...| YXX|CYXX|     Abbotsford|49.025269|-122.360001| 195| 7188|America/Vancouver|       40|\n",
            "|  53|     Abemama Airport| AEA|NGTB|  Abemama Atoll| 0.490833| 173.828598|   8|  248|   Pacific/Tarawa|      116|\n",
            "|  27|Aberdeen Internat...| ABZ|EGPD|       Aberdeen|57.201939|   -2.19777| 215|20546|    Europe/London|      235|\n",
            "|  20|Aberdeen Regional...| ABR|KABR|       Aberdeen|45.439999| -98.419998|1302| 3549|  America/Chicago|      236|\n",
            "|  80|Abha Regional Air...| AHB|OEAB|           Abha| 18.24036|   42.65662|6858|16314|      Asia/Riyadh|      194|\n",
            "|  16|Abidjan Port Boue...| ABJ|DIAP|        Abidjan| 5.261386|   -3.92629|  21|11907|   Africa/Abidjan|       54|\n",
            "|  15|Abilene Regional ...| ABI|KABI|        Abilene|32.411301| -99.681801|1790| 5984|  America/Chicago|      236|\n",
            "|7403|Abingdon Virginia...| VJI|KVJI|       Abingdon|36.686111| -82.033333|2088| 1778| America/New_York|      236|\n",
            "| 251|Abu Dhabi Al Bate...| AZI|OMAD|      Abu Dhabi|24.428329|   54.45808|  16| 1165|       Asia/Dubai|      234|\n",
            "|6183|Abu Dhabi Al Dhaf...| DHF|OMAM|      Abu Dhabi|24.248199|  54.547699|  77|  119|       Asia/Dubai|      234|\n",
            "| 220|Abu Dhabi Zayed I...| AUH|OMAA|      Abu Dhabi|24.442856|  54.651474|  62|74044|       Asia/Dubai|      234|\n",
            "|6156|Abu Musa Island A...| AEU|OIBA|Abu Musa Island|  25.8757|  55.033001|  23|   44|      Asia/Tehran|      104|\n",
            "+----+--------------------+----+----+---------------+---------+-----------+----+-----+-----------------+---------+\n",
            "only showing top 20 rows\n",
            "\n"
          ]
        }
      ]
    },
    {
      "cell_type": "code",
      "source": [
        "cities_dim.show()"
      ],
      "metadata": {
        "colab": {
          "base_uri": "https://localhost:8080/"
        },
        "id": "Z8edcM1hg3Aq",
        "outputId": "cf1f5b26-7508-4487-b519-3984e54ed773"
      },
      "execution_count": 79,
      "outputs": [
        {
          "output_type": "stream",
          "name": "stdout",
          "text": [
            "+------+---------------+---------+\n",
            "|cityId|           city|countryId|\n",
            "+------+---------------+---------+\n",
            "|     7|         Abakan|      170|\n",
            "|     9|  Abemama Atoll|      109|\n",
            "|     2|         Aachen|       76|\n",
            "|    13|        Abidjan|      102|\n",
            "|    21|          Accra|       77|\n",
            "|    11|       Aberdeen|      216|\n",
            "|    14|        Abilene|      216|\n",
            "|    15|       Abingdon|      216|\n",
            "|    19|          Abuja|      151|\n",
            "|     1|       A Coruna|      192|\n",
            "|     3|        Aalborg|       54|\n",
            "|     4|         Aarhus|       54|\n",
            "|     6|         Abadan|       96|\n",
            "|    17|Abu Musa Island|       96|\n",
            "|    20|       Acapulco|      133|\n",
            "|    12|           Abha|      179|\n",
            "|    16|      Abu Dhabi|      214|\n",
            "|     8|     Abbotsford|       35|\n",
            "|     5|        Aasiaat|       80|\n",
            "|    18|     Abu Simbel|       59|\n",
            "+------+---------------+---------+\n",
            "only showing top 20 rows\n",
            "\n"
          ]
        }
      ]
    },
    {
      "cell_type": "markdown",
      "source": [
        "### Creating airport_dim"
      ],
      "metadata": {
        "id": "SBsy0Z3dlI1Q"
      }
    },
    {
      "cell_type": "code",
      "source": [
        "airport_df.show()"
      ],
      "metadata": {
        "colab": {
          "base_uri": "https://localhost:8080/"
        },
        "id": "mCPCtyZ00lVA",
        "outputId": "c98cd586-12bc-47b1-d1a9-64460e2e9e1b"
      },
      "execution_count": 80,
      "outputs": [
        {
          "output_type": "stream",
          "name": "stdout",
          "text": [
            "+----+--------------------+----+----+---------------+---------+-----------+----+-----+-----------------+---------+\n",
            "|  id|         airportName|iata|icao|           city|      lat|        lon| alt| size|     timezoneName|countryId|\n",
            "+----+--------------------+----+----+---------------+---------+-----------+----+-----+-----------------+---------+\n",
            "|1900|    A Coruna Airport| LCG|LECO|       A Coruna|43.302059|   -8.37725| 326| 4686|    Europe/Madrid|      209|\n",
            "|   3|Aachen Merzbruck ...| AAH|EDKA|         Aachen|50.821899|   6.184759| 626| 1491|    Europe/Berlin|       83|\n",
            "|   4|     Aalborg Airport| AAL|EKYT|        Aalborg|57.095112|   9.855172|   3| 8856|Europe/Copenhagen|       61|\n",
            "|   9|      Aarhus Airport| AAR|EKAH|         Aarhus|56.303295|  10.619129|  71| 3919|Europe/Copenhagen|       61|\n",
            "|7569|  Aarhus Sea Airport| QEA|EKAC|         Aarhus|56.151993|  10.247725|   1|  139|Europe/Copenhagen|       61|\n",
            "|1596|     Aasiaat Airport| JEG|BGAA|        Aasiaat| 68.72184| -52.784698|  74|  574|  America/Godthab|       87|\n",
            "|  12|      Abadan Airport| ABD|OIAA|         Abadan|30.371111|  48.228329|  19| 2099|      Asia/Tehran|      104|\n",
            "|  11|Abakan Internatio...| ABA|UNAA|         Abakan|53.740002|  91.385002| 831| 2146| Asia/Krasnoyarsk|      182|\n",
            "|4146|Abbotsford Intern...| YXX|CYXX|     Abbotsford|49.025269|-122.360001| 195| 7188|America/Vancouver|       40|\n",
            "|  53|     Abemama Airport| AEA|NGTB|  Abemama Atoll| 0.490833| 173.828598|   8|  248|   Pacific/Tarawa|      116|\n",
            "|  27|Aberdeen Internat...| ABZ|EGPD|       Aberdeen|57.201939|   -2.19777| 215|20546|    Europe/London|      235|\n",
            "|  20|Aberdeen Regional...| ABR|KABR|       Aberdeen|45.439999| -98.419998|1302| 3549|  America/Chicago|      236|\n",
            "|  80|Abha Regional Air...| AHB|OEAB|           Abha| 18.24036|   42.65662|6858|16314|      Asia/Riyadh|      194|\n",
            "|  16|Abidjan Port Boue...| ABJ|DIAP|        Abidjan| 5.261386|   -3.92629|  21|11907|   Africa/Abidjan|       54|\n",
            "|  15|Abilene Regional ...| ABI|KABI|        Abilene|32.411301| -99.681801|1790| 5984|  America/Chicago|      236|\n",
            "|7403|Abingdon Virginia...| VJI|KVJI|       Abingdon|36.686111| -82.033333|2088| 1778| America/New_York|      236|\n",
            "| 251|Abu Dhabi Al Bate...| AZI|OMAD|      Abu Dhabi|24.428329|   54.45808|  16| 1165|       Asia/Dubai|      234|\n",
            "|6183|Abu Dhabi Al Dhaf...| DHF|OMAM|      Abu Dhabi|24.248199|  54.547699|  77|  119|       Asia/Dubai|      234|\n",
            "| 220|Abu Dhabi Zayed I...| AUH|OMAA|      Abu Dhabi|24.442856|  54.651474|  62|74044|       Asia/Dubai|      234|\n",
            "|6156|Abu Musa Island A...| AEU|OIBA|Abu Musa Island|  25.8757|  55.033001|  23|   44|      Asia/Tehran|      104|\n",
            "+----+--------------------+----+----+---------------+---------+-----------+----+-----+-----------------+---------+\n",
            "only showing top 20 rows\n",
            "\n"
          ]
        }
      ]
    },
    {
      "cell_type": "code",
      "source": [
        "airport_dim = airport_df \\\n",
        "                            .join( # Replace 'timezone' with 'timezoneId'\n",
        "                                timezones_dim,\n",
        "                                'timezoneName',\n",
        "                                'left'\n",
        "                              ) \\\n",
        "                            .join( # Replace 'city' with 'cityId'\n",
        "                                cities_dim,\n",
        "                                airport_df.city == cities_dim.city,\n",
        "                                'left'\n",
        "                              ) \\\n",
        "                            .select(\n",
        "                                [ 'id', 'airportName', 'iata', 'icao', 'lat', 'lon', 'size', 'cityId', 'timezoneId' ]\n",
        "                            )\n",
        "\n",
        "airport_dim.show()"
      ],
      "metadata": {
        "id": "AQz-nWM17WZs",
        "colab": {
          "base_uri": "https://localhost:8080/"
        },
        "outputId": "f8fc502f-6164-4513-eac0-8d9f4f4bdcd4"
      },
      "execution_count": 81,
      "outputs": [
        {
          "output_type": "stream",
          "name": "stdout",
          "text": [
            "+----+--------------------+----+----+---------+-----------+-----+------+----------+\n",
            "|  id|         airportName|iata|icao|      lat|        lon| size|cityId|timezoneId|\n",
            "+----+--------------------+----+----+---------+-----------+-----+------+----------+\n",
            "|4206|      Masset Airport| ZMT|CZMT|    54.02|-132.119995| 1334|  2851|        32|\n",
            "|7633|      Maxton Airport| MXE|KMEB|34.792423| -79.369392|  435|  2870|       104|\n",
            "|  21|  Abu Simbel Airport| ABS|HEBL| 22.37595|  31.611719|   70|    18|       264|\n",
            "|2094|Matamoros Interna...| MAM|MMMA| 25.76989| -97.525299| 1248|  2857|        67|\n",
            "|6909|Matak Tarempa Air...| MWK|WIOM|  3.34812| 106.258003|    3|  2856|       306|\n",
            "|7403|Abingdon Virginia...| VJI|KVJI|36.686111| -82.033333| 1778|    15|       104|\n",
            "|2273|Maumere Frans Sed...| MOF|WATC| -8.64064| 122.236801|  883|  2866|       319|\n",
            "|  11|Abakan Internatio...| ABA|UNAA|53.740002|  91.385002| 2146|     7|       308|\n",
            "|  16|Abidjan Port Boue...| ABJ|DIAP| 5.261386|   -3.92629|11907|    13|         1|\n",
            "|2335|        Maun Airport| MUB|FBMN| -19.9725|   23.43108| 2957|  2867|       212|\n",
            "|  20|Aberdeen Regional...| ABR|KABR|45.439999| -98.419998| 3549|    10|        65|\n",
            "|  20|Aberdeen Regional...| ABR|KABR|45.439999| -98.419998| 3549|    11|        65|\n",
            "|2341|Maturin Internati...| MUN|SVMT| 9.749067|   -63.1534| 1092|  2864|        90|\n",
            "|1596|     Aasiaat Airport| JEG|BGAA| 68.72184| -52.784698|  574|     5|       158|\n",
            "|7533|Mattoon/Charlesto...| MTO|KMTO|39.477982| -88.279648| 1579|  2863|        65|\n",
            "|4146|Abbotsford Intern...| YXX|CYXX|49.025269|-122.360001| 7188|     8|        32|\n",
            "| 251|Abu Dhabi Al Bate...| AZI|OMAD|24.428329|   54.45808| 1165|    16|       274|\n",
            "|6183|Abu Dhabi Al Dhaf...| DHF|OMAM|24.248199|  54.547699|  119|    16|       274|\n",
            "| 220|Abu Dhabi Zayed I...| AUH|OMAA|24.442856|  54.651474|74044|    16|       274|\n",
            "|6653|       Maues Airport| MBZ|SWMW| -3.37217|   -57.7248|  150|  2865|        91|\n",
            "+----+--------------------+----+----+---------+-----------+-----+------+----------+\n",
            "only showing top 20 rows\n",
            "\n"
          ]
        }
      ]
    },
    {
      "cell_type": "markdown",
      "source": [
        "# Aircraft information"
      ],
      "metadata": {
        "id": "xQYIdiXE5608"
      }
    },
    {
      "cell_type": "markdown",
      "source": [
        "## Importing JSON"
      ],
      "metadata": {
        "id": "UdcQQYtdpeo4"
      }
    },
    {
      "cell_type": "code",
      "source": [
        "aircraft_file = 'aircraft_data.json'\n",
        "aircraft_url = \"https://flight-radar1.p.rapidapi.com/aircrafts/list\"\n",
        "\n",
        "aircraft_data = getData(folder + aircraft_file, aircraft_url, headers=headers)"
      ],
      "metadata": {
        "id": "OdWQ9JS2cav4"
      },
      "execution_count": 82,
      "outputs": []
    },
    {
      "cell_type": "markdown",
      "source": [
        "## Saving aircarft info in a DataFrame"
      ],
      "metadata": {
        "id": "Ko3v3glYpyJK"
      }
    },
    {
      "cell_type": "code",
      "source": [
        "aircraft_rows = []\n",
        "\n",
        "for family in aircraft_data:\n",
        "  for model in family['models']:\n",
        "      model['family'] = family['description']\n",
        "      aircraft_rows.append(Row(**model))"
      ],
      "metadata": {
        "id": "w9R8uhXk82Br"
      },
      "execution_count": 83,
      "outputs": []
    },
    {
      "cell_type": "code",
      "source": [
        "aircraft_df = spark.createDataFrame(aircraft_rows, schema = ['aircraftName', 'code', 'family'])\n",
        "\n",
        "aircraft_df.show()"
      ],
      "metadata": {
        "id": "KQe3-5Ka_Vz2",
        "colab": {
          "base_uri": "https://localhost:8080/"
        },
        "outputId": "5ca2471d-0946-4cbd-ddf6-f0d5bf924965"
      },
      "execution_count": 84,
      "outputs": [
        {
          "output_type": "stream",
          "name": "stdout",
          "text": [
            "+----------------+----+------------------+\n",
            "|    aircraftName|code|            family|\n",
            "+----------------+----+------------------+\n",
            "| Airbus A220-100|BCS1|Airbus A220 family|\n",
            "| Airbus A220-300|BCS3|Airbus A220 family|\n",
            "|     Airbus A300|A30B|Airbus A300 family|\n",
            "| Airbus A300-600|A306|Airbus A300 family|\n",
            "|     Airbus A310|A310|Airbus A310 family|\n",
            "|     Airbus A318|A318|Airbus A320 family|\n",
            "|     Airbus A319|A319|Airbus A320 family|\n",
            "|  Airbus A319neo|A19N|Airbus A320 family|\n",
            "|     Airbus A320|A320|Airbus A320 family|\n",
            "|  Airbus A320neo|A20N|Airbus A320 family|\n",
            "|     Airbus A321|A321|Airbus A320 family|\n",
            "|  Airbus A321neo|A21N|Airbus A320 family|\n",
            "| Airbus A330-200|A332|Airbus A330 family|\n",
            "| Airbus A330-300|A333|Airbus A330 family|\n",
            "| Airbus A330-900|A339|Airbus A330 family|\n",
            "| Airbus A340-200|A342|Airbus A340 family|\n",
            "| Airbus A340-300|A343|Airbus A340 family|\n",
            "| Airbus A340-500|A345|Airbus A340 family|\n",
            "| Airbus A340-600|A346|Airbus A340 family|\n",
            "|Airbus A350-1000|A35K|Airbus A350 family|\n",
            "+----------------+----+------------------+\n",
            "only showing top 20 rows\n",
            "\n"
          ]
        }
      ]
    },
    {
      "cell_type": "code",
      "source": [
        "aircraft_df.groupBy(\"family\").count().sort(\"count\", ascending=False).show()"
      ],
      "metadata": {
        "id": "X0ufjI6YEIlM",
        "colab": {
          "base_uri": "https://localhost:8080/"
        },
        "outputId": "3a9725cc-cbfd-408f-e3a3-5c58464fa2f6"
      },
      "execution_count": 85,
      "outputs": [
        {
          "output_type": "stream",
          "name": "stdout",
          "text": [
            "+--------------------+-----+\n",
            "|              family|count|\n",
            "+--------------------+-----+\n",
            "|   Boeing 737 family|   11|\n",
            "|  Airbus A320 family|    7|\n",
            "|   Boeing 747 family|    5|\n",
            "|Bombardier CRJ fa...|    5|\n",
            "|McDonnell Douglas...|    5|\n",
            "|Embraer E-Jet family|    5|\n",
            "|  Airbus A340 family|    4|\n",
            "|   Boeing 777 family|    4|\n",
            "|Bombardier Dash 8...|    4|\n",
            "|  Airbus A330 family|    3|\n",
            "|      Avro RJ family|    3|\n",
            "|       ATR 42 family|    3|\n",
            "|       ATR 72 family|    3|\n",
            "|       Fokker family|    3|\n",
            "|   Boeing 787 family|    3|\n",
            "|   Boeing 767 family|    3|\n",
            "|  Airbus A220 family|    2|\n",
            "|  Airbus A350 family|    2|\n",
            "|  Airbus A300 family|    2|\n",
            "|   Boeing 757 family|    2|\n",
            "+--------------------+-----+\n",
            "only showing top 20 rows\n",
            "\n"
          ]
        }
      ]
    },
    {
      "cell_type": "markdown",
      "source": [
        "## Creating aircraft_family_dim"
      ],
      "metadata": {
        "id": "MD-JvgFUqAW4"
      }
    },
    {
      "cell_type": "code",
      "source": [
        "aircraft_family_dim = aircraft_df \\\n",
        "                                  .select('family') \\\n",
        "                                  .distinct() \\\n",
        "                                  .withColumn('familyId', row_number().over( Window.orderBy('family') ))\n",
        "\n",
        "aircraft_family_dim.show()"
      ],
      "metadata": {
        "colab": {
          "base_uri": "https://localhost:8080/"
        },
        "id": "VNX5hRm9qISS",
        "outputId": "855dcf9e-adc1-4241-bd65-6a70e66f901c"
      },
      "execution_count": 86,
      "outputs": [
        {
          "output_type": "stream",
          "name": "stdout",
          "text": [
            "+--------------------+--------+\n",
            "|              family|familyId|\n",
            "+--------------------+--------+\n",
            "|       ATR 42 family|       1|\n",
            "|       ATR 72 family|       2|\n",
            "|  Airbus A220 family|       3|\n",
            "|  Airbus A300 family|       4|\n",
            "|  Airbus A310 family|       5|\n",
            "|  Airbus A320 family|       6|\n",
            "|  Airbus A330 family|       7|\n",
            "|  Airbus A340 family|       8|\n",
            "|  Airbus A350 family|       9|\n",
            "|     Airbus A380-800|      10|\n",
            "|      Avro RJ family|      11|\n",
            "|   Boeing 737 family|      12|\n",
            "|   Boeing 747 family|      13|\n",
            "|   Boeing 757 family|      14|\n",
            "|   Boeing 767 family|      15|\n",
            "|   Boeing 777 family|      16|\n",
            "|   Boeing 787 family|      17|\n",
            "|Bombardier CRJ fa...|      18|\n",
            "|Bombardier Dash 8...|      19|\n",
            "|Embraer E-Jet family|      20|\n",
            "+--------------------+--------+\n",
            "only showing top 20 rows\n",
            "\n"
          ]
        }
      ]
    },
    {
      "cell_type": "markdown",
      "source": [
        "## Creating aircraft_dim"
      ],
      "metadata": {
        "id": "OAOlp74rqmB4"
      }
    },
    {
      "cell_type": "code",
      "source": [
        "aircraft_dim = aircraft_df \\\n",
        "                          .join(\n",
        "                              aircraft_family_dim,\n",
        "                              'family',\n",
        "                              'left'\n",
        "                          ) \\\n",
        "                          .select( [ 'aircraftName', 'code', 'familyId']) \\\n",
        "\n",
        "aircraft_dim.show()"
      ],
      "metadata": {
        "colab": {
          "base_uri": "https://localhost:8080/"
        },
        "id": "zVmq2s3bqkft",
        "outputId": "8f0a5d3b-83d6-4e0a-f6b6-033caf61acac"
      },
      "execution_count": 87,
      "outputs": [
        {
          "output_type": "stream",
          "name": "stdout",
          "text": [
            "+----------------+----+--------+\n",
            "|    aircraftName|code|familyId|\n",
            "+----------------+----+--------+\n",
            "| Airbus A220-100|BCS1|       3|\n",
            "| Airbus A220-300|BCS3|       3|\n",
            "| Airbus A330-200|A332|       7|\n",
            "| Airbus A330-300|A333|       7|\n",
            "| Airbus A330-900|A339|       7|\n",
            "| Airbus A340-200|A342|       8|\n",
            "| Airbus A340-300|A343|       8|\n",
            "| Airbus A340-500|A345|       8|\n",
            "| Airbus A340-600|A346|       8|\n",
            "|     Airbus A310|A310|       5|\n",
            "|Airbus A350-1000|A35K|       9|\n",
            "| Airbus A350-900|A359|       9|\n",
            "|     Airbus A300|A30B|       4|\n",
            "| Airbus A300-600|A306|       4|\n",
            "|     Airbus A318|A318|       6|\n",
            "|     Airbus A319|A319|       6|\n",
            "|  Airbus A319neo|A19N|       6|\n",
            "|     Airbus A320|A320|       6|\n",
            "|  Airbus A320neo|A20N|       6|\n",
            "|     Airbus A321|A321|       6|\n",
            "+----------------+----+--------+\n",
            "only showing top 20 rows\n",
            "\n"
          ]
        }
      ]
    },
    {
      "cell_type": "markdown",
      "source": [
        "# Flights"
      ],
      "metadata": {
        "id": "tipcqP9pE9BO"
      }
    },
    {
      "cell_type": "markdown",
      "source": [
        "##  Most tracked"
      ],
      "metadata": {
        "id": "xUc63hQKxz2v"
      }
    },
    {
      "cell_type": "markdown",
      "source": [
        "### Importing JSON"
      ],
      "metadata": {
        "id": "e3IvoopitTAh"
      }
    },
    {
      "cell_type": "code",
      "source": [
        "def get_flight_data(folder, url, headers):\n",
        "\n",
        "    response = requests.get(url, headers=headers)\n",
        "\n",
        "    print(response.json())\n",
        "\n",
        "    data = response.json()[\"data\"]\n",
        "\n",
        "    file_name = folder + \"flight\" + str(response.json()[\"update_time\"]) + \".json\"\n",
        "\n",
        "    with open(file_name, 'w') as f:\n",
        "      json.dump(data, f)\n",
        "\n",
        "    return(data)"
      ],
      "metadata": {
        "id": "LOYtLqWm9200"
      },
      "execution_count": 115,
      "outputs": []
    },
    {
      "cell_type": "code",
      "source": [
        "flight_url = \"https://flight-radar1.p.rapidapi.com/flights/list-most-tracked\"\n",
        "flight_folder = \"/content/drive/MyDrive/portfolio/spark_flight_data/flight/\"\n",
        "\n",
        "flight_data = get_flight_data(flight_folder, flight_url, headers)"
      ],
      "metadata": {
        "id": "XjeFXLKlFE0e",
        "colab": {
          "base_uri": "https://localhost:8080/"
        },
        "outputId": "ec5c7988-2481-4c9c-97a8-5035d319e963"
      },
      "execution_count": 146,
      "outputs": [
        {
          "output_type": "stream",
          "name": "stdout",
          "text": [
            "{'version': '0.3.9', 'update_time': 1721863313.602942, 'data': [{'flight_id': '364fbb07', 'flight': None, 'callsign': 'SNBD01', 'squawk': None, 'clicks': 1276, 'from_iata': 'DLH', 'from_city': 'Duluth', 'to_iata': None, 'to_city': None, 'model': 'CL41', 'type': 'Canadair CT-114 Tutor'}, {'flight_id': '364f9cdd', 'flight': None, 'callsign': 'N529B', 'squawk': None, 'clicks': 720, 'from_iata': 'OSH', 'from_city': 'Oshkosh', 'to_iata': None, 'to_city': None, 'model': 'B29', 'type': 'Boeing B-29A Superfortress'}, {'flight_id': '364fd7d6', 'flight': 'JX701', 'callsign': 'SJX701', 'squawk': None, 'clicks': 456, 'from_iata': 'TPE', 'from_city': 'Taipei', 'to_iata': 'DAD', 'to_city': 'Da Nang', 'model': 'A339', 'type': 'Airbus A330-941'}, {'flight_id': '364fddf1', 'flight': 'IT246', 'callsign': 'TTW246', 'squawk': None, 'clicks': 404, 'from_iata': 'TPE', 'from_city': 'Taipei', 'to_iata': 'HSG', 'to_city': 'Saga', 'model': 'A20N', 'type': 'Airbus A320-271N'}, {'flight_id': '364fdf6d', 'flight': None, 'callsign': 'DIOVP', 'squawk': None, 'clicks': 296, 'from_iata': 'HAM', 'from_city': 'Hamburg', 'to_iata': 'BRU', 'to_city': 'Brussels', 'model': 'PAY3', 'type': 'Piper PA-42-720 Cheyenne III'}, {'flight_id': '364fe062', 'flight': None, 'callsign': 'N10BA', 'squawk': None, 'clicks': 284, 'from_iata': 'OSH', 'from_city': 'Oshkosh', 'to_iata': None, 'to_city': None, 'model': 'CC11', 'type': 'CubCrafters Carbon Cub FX-3'}, {'flight_id': '364fd35f', 'flight': 'BR3216', 'callsign': 'EVA3216', 'squawk': None, 'clicks': 232, 'from_iata': 'TPE', 'from_city': 'Taipei', 'to_iata': None, 'to_city': None, 'model': 'A321', 'type': 'Airbus A321-211'}, {'flight_id': '364fe38d', 'flight': 'A3635', 'callsign': 'AEE635', 'squawk': None, 'clicks': 224, 'from_iata': 'NCL', 'from_city': 'Newcastle', 'to_iata': 'ATH', 'to_city': 'Athens', 'model': 'A320', 'type': 'Airbus A320-232'}, {'flight_id': '364fdf2e', 'flight': None, 'callsign': 'A189', 'squawk': None, 'clicks': 184, 'from_iata': None, 'from_city': None, 'to_iata': None, 'to_city': None, 'model': 'A189', 'type': None}, {'flight_id': '364fd948', 'flight': None, 'callsign': 'N224HF', 'squawk': None, 'clicks': 132, 'from_iata': 'OSH', 'from_city': 'Oshkosh', 'to_iata': None, 'to_city': None, 'model': 'SR22', 'type': 'Cirrus SR22'}]}\n"
          ]
        }
      ]
    },
    {
      "cell_type": "code",
      "source": [
        "flight_data"
      ],
      "metadata": {
        "colab": {
          "base_uri": "https://localhost:8080/"
        },
        "id": "m5z3lKGTDQ1b",
        "outputId": "4e0af4c0-cb39-4afd-bd71-dc64f1a47026"
      },
      "execution_count": 145,
      "outputs": [
        {
          "output_type": "execute_result",
          "data": {
            "text/plain": [
              "[{'flight_id': '364fbb07',\n",
              "  'flight': None,\n",
              "  'callsign': 'SNBD01',\n",
              "  'squawk': None,\n",
              "  'clicks': 1264,\n",
              "  'from_iata': 'DLH',\n",
              "  'from_city': 'Duluth',\n",
              "  'to_iata': None,\n",
              "  'to_city': None,\n",
              "  'model': 'CL41',\n",
              "  'type': 'Canadair CT-114 Tutor'},\n",
              " {'flight_id': '364f9cdd',\n",
              "  'flight': None,\n",
              "  'callsign': 'N529B',\n",
              "  'squawk': None,\n",
              "  'clicks': 812,\n",
              "  'from_iata': 'OSH',\n",
              "  'from_city': 'Oshkosh',\n",
              "  'to_iata': None,\n",
              "  'to_city': None,\n",
              "  'model': 'B29',\n",
              "  'type': 'Boeing B-29A Superfortress'},\n",
              " {'flight_id': '364fd7d6',\n",
              "  'flight': 'JX701',\n",
              "  'callsign': 'SJX701',\n",
              "  'squawk': None,\n",
              "  'clicks': 508,\n",
              "  'from_iata': 'TPE',\n",
              "  'from_city': 'Taipei',\n",
              "  'to_iata': 'DAD',\n",
              "  'to_city': 'Da Nang',\n",
              "  'model': 'A339',\n",
              "  'type': 'Airbus A330-941'},\n",
              " {'flight_id': '364fddf1',\n",
              "  'flight': 'IT246',\n",
              "  'callsign': 'TTW246',\n",
              "  'squawk': None,\n",
              "  'clicks': 388,\n",
              "  'from_iata': 'TPE',\n",
              "  'from_city': 'Taipei',\n",
              "  'to_iata': 'HSG',\n",
              "  'to_city': 'Saga',\n",
              "  'model': 'A20N',\n",
              "  'type': 'Airbus A320-271N'},\n",
              " {'flight_id': '364fd35f',\n",
              "  'flight': 'BR3216',\n",
              "  'callsign': 'EVA3216',\n",
              "  'squawk': None,\n",
              "  'clicks': 300,\n",
              "  'from_iata': 'TPE',\n",
              "  'from_city': 'Taipei',\n",
              "  'to_iata': None,\n",
              "  'to_city': None,\n",
              "  'model': 'A321',\n",
              "  'type': 'Airbus A321-211'},\n",
              " {'flight_id': '364fdf6d',\n",
              "  'flight': None,\n",
              "  'callsign': 'DIOVP',\n",
              "  'squawk': None,\n",
              "  'clicks': 296,\n",
              "  'from_iata': 'HAM',\n",
              "  'from_city': 'Hamburg',\n",
              "  'to_iata': 'BRU',\n",
              "  'to_city': 'Brussels',\n",
              "  'model': 'PAY3',\n",
              "  'type': 'Piper PA-42-720 Cheyenne III'},\n",
              " {'flight_id': '364fe062',\n",
              "  'flight': None,\n",
              "  'callsign': 'N10BA',\n",
              "  'squawk': None,\n",
              "  'clicks': 284,\n",
              "  'from_iata': 'OSH',\n",
              "  'from_city': 'Oshkosh',\n",
              "  'to_iata': None,\n",
              "  'to_city': None,\n",
              "  'model': 'CC11',\n",
              "  'type': 'CubCrafters Carbon Cub FX-3'},\n",
              " {'flight_id': '364fe38d',\n",
              "  'flight': 'A3635',\n",
              "  'callsign': 'AEE635',\n",
              "  'squawk': None,\n",
              "  'clicks': 180,\n",
              "  'from_iata': 'NCL',\n",
              "  'from_city': 'Newcastle',\n",
              "  'to_iata': 'ATH',\n",
              "  'to_city': 'Athens',\n",
              "  'model': 'A320',\n",
              "  'type': 'Airbus A320-232'},\n",
              " {'flight_id': '364fd948',\n",
              "  'flight': None,\n",
              "  'callsign': 'N224HF',\n",
              "  'squawk': None,\n",
              "  'clicks': 148,\n",
              "  'from_iata': 'OSH',\n",
              "  'from_city': 'Oshkosh',\n",
              "  'to_iata': None,\n",
              "  'to_city': None,\n",
              "  'model': 'SR22',\n",
              "  'type': 'Cirrus SR22'},\n",
              " {'flight_id': '364fdf2e',\n",
              "  'flight': None,\n",
              "  'callsign': 'A189',\n",
              "  'squawk': None,\n",
              "  'clicks': 144,\n",
              "  'from_iata': None,\n",
              "  'from_city': None,\n",
              "  'to_iata': None,\n",
              "  'to_city': None,\n",
              "  'model': 'A189',\n",
              "  'type': None}]"
            ]
          },
          "metadata": {},
          "execution_count": 145
        }
      ]
    },
    {
      "cell_type": "markdown",
      "source": [
        "### Saving info in a DataFrame"
      ],
      "metadata": {
        "id": "2fT3JhMztXvd"
      }
    },
    {
      "cell_type": "code",
      "source": [
        "# Converting list of Dictionaries in a list of Rows\n",
        "fligth_rows = [Row(**flight) for flight in flight_data]"
      ],
      "metadata": {
        "id": "L8vNao_m0_8p"
      },
      "execution_count": 147,
      "outputs": []
    },
    {
      "cell_type": "code",
      "source": [
        "# Defining schema\n",
        "flight_schema = StructType([\n",
        "    StructField('flightId', StringType()),\n",
        "    StructField('flight', StringType()),\n",
        "    StructField('callsign', StringType()),\n",
        "    StructField('squawk', StringType()),\n",
        "    StructField('clicks', IntegerType()),\n",
        "    StructField('from_iata', StringType()),\n",
        "    StructField('from_city', StringType()),\n",
        "    StructField('to_iata', StringType()),\n",
        "    StructField('to_city', StringType()),\n",
        "    StructField('model', StringType()),\n",
        "    StructField('type', StringType())\n",
        "])"
      ],
      "metadata": {
        "id": "jskuneFNtoyu"
      },
      "execution_count": 148,
      "outputs": []
    },
    {
      "cell_type": "code",
      "source": [
        "flight_data = spark.read.json(flight_folder + \"flight*.json\")\n",
        "\n",
        "flight_data.show()"
      ],
      "metadata": {
        "id": "Ua8ghWlWvwOr",
        "colab": {
          "base_uri": "https://localhost:8080/"
        },
        "outputId": "d49670a9-33b5-4590-9bf3-69483d743e7e"
      },
      "execution_count": 149,
      "outputs": [
        {
          "output_type": "stream",
          "name": "stdout",
          "text": [
            "+--------+------+------+---------+-----------+---------+-----+------+--------+-------+--------------------+\n",
            "|callsign|clicks|flight|flight_id|  from_city|from_iata|model|squawk| to_city|to_iata|                type|\n",
            "+--------+------+------+---------+-----------+---------+-----+------+--------+-------+--------------------+\n",
            "|  CFR230|   440|CFR230| 364fb83b|       NULL|     NULL|  V10|  NULL|    NULL|   NULL|North American OV...|\n",
            "|   CFR88|   352| CFR88| 364f9c6b|       NULL|     NULL|  S2T|  NULL|    NULL|   NULL|Marsh S-2F3AT Tur...|\n",
            "| ABD7743|   268|CC7743| 364e1732|  Frankfurt|      HHN| B744|  NULL| Chicago|    RFD| Boeing 747-481(BCF)|\n",
            "|   CFR91|   264| CFR91| 364fd229|      Chico|      CIC|  S2T|  NULL|    NULL|   NULL|Marsh S-2F3AT Tur...|\n",
            "|   CFR89|   260| CFR89| 364fcf58|      Chico|      CIC|  S2T|  NULL|    NULL|   NULL|Marsh S-2F3AT Tur...|\n",
            "|  ASL135|   200| JU135| 364f809b|     Moscow|      SVO| A320|  NULL|Belgrade|    BEG|     Airbus A320-232|\n",
            "|   CFR93|   156| CFR93| 364fcf0e|      Chico|      CIC|  S2T|  NULL|    NULL|   NULL|Marsh S-2F3AT Tur...|\n",
            "|  AIC984|   152| AI984| 364f468b|      Dubai|      DXB| A359|  NULL|  Mumbai|    BOM|     Airbus A350-941|\n",
            "|   N144P|   116|  NULL| 364fc8f6|    Oshkosh|      OSH| RV14|  NULL|    NULL|   NULL|          Vans RV-14|\n",
            "|  N10601|   112|  NULL| 364fc75f|Fond du Lac|      FLD|  P51|  NULL|    NULL|   NULL|North American P-...|\n",
            "| ABD7743|   672|CC7743| 364e1732|  Frankfurt|      HHN| B744|  NULL| Chicago|    RFD| Boeing 747-481(BCF)|\n",
            "|  CFR230|   436|CFR230| 364fb83b|       NULL|     NULL|  V10|  NULL|    NULL|   NULL|North American OV...|\n",
            "|  ASL135|   200| JU135| 364f809b|     Moscow|      SVO| A320|  NULL|Belgrade|    BEG|     Airbus A320-232|\n",
            "|  TTW230|   172| IT230| 364fcaef|     Taipei|      TPE| A320|  NULL| Okinawa|    OKA|     Airbus A320-232|\n",
            "|   CFR91|   172| CFR91| 364fd229|      Chico|      CIC|  S2T|  NULL|    NULL|   NULL|Marsh S-2F3AT Tur...|\n",
            "| EVA3216|   168|BR3216| 364fd35f|     Taipei|      TPE| A321|  NULL|    NULL|   NULL|     Airbus A321-211|\n",
            "|   CFR88|   160| CFR88| 364f9c6b|       NULL|     NULL|  S2T|  NULL|    NULL|   NULL|Marsh S-2F3AT Tur...|\n",
            "|  TTW654|   152| IT654| 364fca33|     Taipei|      TPE| A320|  NULL|    Jeju|    CJU|     Airbus A320-232|\n",
            "|RRR9959X|   148|  NULL| 364fd02f|       NULL|     NULL| EUFI|  NULL|    NULL|   NULL|Eurofighter Typho...|\n",
            "|   N10BA|   124|  NULL| 364fcdf7|    Oshkosh|      OSH| CC11|  NULL|    NULL|   NULL|CubCrafters Carbo...|\n",
            "+--------+------+------+---------+-----------+---------+-----+------+--------+-------+--------------------+\n",
            "only showing top 20 rows\n",
            "\n"
          ]
        }
      ]
    },
    {
      "cell_type": "code",
      "source": [
        "flight_data.count()"
      ],
      "metadata": {
        "colab": {
          "base_uri": "https://localhost:8080/"
        },
        "id": "4DIXb6vADjxz",
        "outputId": "75822254-ed67-4eef-a3a3-f1d61dac34a2"
      },
      "execution_count": 151,
      "outputs": [
        {
          "output_type": "execute_result",
          "data": {
            "text/plain": [
              "40"
            ]
          },
          "metadata": {},
          "execution_count": 151
        }
      ]
    },
    {
      "cell_type": "code",
      "source": [
        "fligth_df = flight_data \\\n",
        "                .select( # Removing 'from_city' and 'to_city' since can be retreved using 'from_iata' e 'to_iata'.\n",
        "                         # Removing aircraft 'type' since can be retreaved using 'model'\n",
        "                    [ 'flight_id', 'flight', 'callsign', 'squawk', 'clicks', 'from_iata', 'to_iata', 'model']\n",
        "                ) \\\n",
        "                .withColumn( # COunt how many times the same id appears\n",
        "                    \"isDuplicate\", row_number().over( Window.orderBy(\"clicks\").partitionBy(\"flight_id\") )\n",
        "                ) \\\n",
        "                .filter( # Drop all the outdated rows\n",
        "                    col(\"isDuplicate\") == 1\n",
        "                ) \\\n",
        "                .drop( # Drop 'isDuplicate', since no longer needed\n",
        "                    \"isDuplicate\"\n",
        "                )\n",
        "\n",
        "fligth_df.show()"
      ],
      "metadata": {
        "colab": {
          "base_uri": "https://localhost:8080/"
        },
        "id": "SU2brma3-N8z",
        "outputId": "8815d627-915b-4b73-b9f1-e695dc5a35d9"
      },
      "execution_count": 150,
      "outputs": [
        {
          "output_type": "stream",
          "name": "stdout",
          "text": [
            "+---------+------+--------+------+------+---------+-------+-----+\n",
            "|flight_id|flight|callsign|squawk|clicks|from_iata|to_iata|model|\n",
            "+---------+------+--------+------+------+---------+-------+-----+\n",
            "| 364e1732|CC7743| ABD7743|  NULL|   268|      HHN|    RFD| B744|\n",
            "| 364f468b| AI984|  AIC984|  NULL|   152|      DXB|    BOM| A359|\n",
            "| 364f809b| JU135|  ASL135|  NULL|   200|      SVO|    BEG| A320|\n",
            "| 364f9c6b| CFR88|   CFR88|  NULL|   160|     NULL|   NULL|  S2T|\n",
            "| 364f9cdd|  NULL|   N529B|  NULL|   720|      OSH|   NULL|  B29|\n",
            "| 364fb83b|CFR230|  CFR230|  NULL|   436|     NULL|   NULL|  V10|\n",
            "| 364fbb07|  NULL|  SNBD01|  NULL|  1264|      DLH|   NULL| CL41|\n",
            "| 364fc75f|  NULL|  N10601|  NULL|   112|      FLD|   NULL|  P51|\n",
            "| 364fc8f6|  NULL|   N144P|  NULL|   116|      OSH|   NULL| RV14|\n",
            "| 364fca33| IT654|  TTW654|  NULL|   152|      TPE|    CJU| A320|\n",
            "| 364fcaef| IT230|  TTW230|  NULL|   172|      TPE|    OKA| A320|\n",
            "| 364fcdf7|  NULL|   N10BA|  NULL|   124|      OSH|   NULL| CC11|\n",
            "| 364fcf0e| CFR93|   CFR93|  NULL|   156|      CIC|   NULL|  S2T|\n",
            "| 364fcf58| CFR89|   CFR89|  NULL|   260|      CIC|   NULL|  S2T|\n",
            "| 364fd02f|  NULL|RRR9959X|  NULL|   148|     NULL|   NULL| EUFI|\n",
            "| 364fd229| CFR91|   CFR91|  NULL|   172|      CIC|   NULL|  S2T|\n",
            "| 364fd35f|BR3216| EVA3216|  NULL|   168|      TPE|   NULL| A321|\n",
            "| 364fd7d6| JX701|  SJX701|  NULL|   456|      TPE|    DAD| A339|\n",
            "| 364fd948|  NULL|  N224HF|  NULL|   132|      OSH|   NULL| SR22|\n",
            "| 364fddf1| IT246|  TTW246|  NULL|   388|      TPE|    HSG| A20N|\n",
            "+---------+------+--------+------+------+---------+-------+-----+\n",
            "only showing top 20 rows\n",
            "\n"
          ]
        }
      ]
    },
    {
      "cell_type": "code",
      "source": [
        "fligth_df.count()"
      ],
      "metadata": {
        "colab": {
          "base_uri": "https://localhost:8080/"
        },
        "id": "ORpr-FeU_h4v",
        "outputId": "bd31e4fb-0ea3-424e-f792-75dd54e86d5c"
      },
      "execution_count": 152,
      "outputs": [
        {
          "output_type": "execute_result",
          "data": {
            "text/plain": [
              "24"
            ]
          },
          "metadata": {},
          "execution_count": 152
        }
      ]
    }
  ]
}