{
  "cells": [
    {
      "cell_type": "markdown",
      "metadata": {
        "id": "BhuB3NS2ydXa"
      },
      "source": [
        "# Introduction"
      ]
    },
    {
      "cell_type": "markdown",
      "metadata": {
        "id": "_iT73SoPyolv"
      },
      "source": [
        "This project has been created using the \"Flight Radar API\" from \"Rapid API\" (https://rapidapi.com/apidojo/api/flight-radar1), who tracks the informations form FlightRadar24 (https://www.flightradar24.com/)."
      ]
    },
    {
      "cell_type": "markdown",
      "metadata": {
        "id": "8yWUVd-9ydfx"
      },
      "source": [
        "# Importing libraries"
      ]
    },
    {
      "cell_type": "code",
      "execution_count": null,
      "metadata": {
        "colab": {
          "base_uri": "https://localhost:8080/"
        },
        "id": "0YGXAW0Y_mCo",
        "outputId": "ce1d3c46-30e3-44e2-df82-20a7b143c60a"
      },
      "outputs": [
        {
          "name": "stdout",
          "output_type": "stream",
          "text": [
            "Requirement already satisfied: pyspark in /usr/local/lib/python3.10/dist-packages (3.5.1)\n",
            "Requirement already satisfied: py4j==0.10.9.7 in /usr/local/lib/python3.10/dist-packages (from pyspark) (0.10.9.7)\n"
          ]
        }
      ],
      "source": [
        "!pip install pyspark"
      ]
    },
    {
      "cell_type": "code",
      "execution_count": null,
      "metadata": {
        "id": "bx0zZhfe_dYN"
      },
      "outputs": [],
      "source": [
        "from pyspark.sql import SparkSession, Row, Window\n",
        "from pyspark.sql.types import *\n",
        "from pyspark.sql.functions import col, row_number, when\n",
        "import requests\n",
        "import json"
      ]
    },
    {
      "cell_type": "code",
      "execution_count": null,
      "metadata": {
        "colab": {
          "base_uri": "https://localhost:8080/"
        },
        "id": "9w-XRHL34ok0",
        "outputId": "04bf7055-a6d9-45dc-86f4-102cc203e45d"
      },
      "outputs": [
        {
          "name": "stdout",
          "output_type": "stream",
          "text": [
            "Drive already mounted at /content/drive; to attempt to forcibly remount, call drive.mount(\"/content/drive\", force_remount=True).\n"
          ]
        }
      ],
      "source": [
        "from google.colab import drive\n",
        "drive.mount('/content/drive')\n",
        "\n",
        "path = \"/content/drive/MyDrive/portfolio/spark_flight_data/\""
      ]
    },
    {
      "cell_type": "code",
      "execution_count": null,
      "metadata": {
        "id": "dmttNsQbvboZ"
      },
      "outputs": [],
      "source": [
        "with open(path + \"headers.json\", \"r\") as f:\n",
        "  headers = json.load(f)"
      ]
    },
    {
      "cell_type": "markdown",
      "metadata": {
        "id": "ucJHleJ0g6vf"
      },
      "source": [
        "# Creating Saprk Session"
      ]
    },
    {
      "cell_type": "code",
      "execution_count": null,
      "metadata": {
        "id": "2clhiUZmLRvz"
      },
      "outputs": [],
      "source": [
        "spark = SparkSession\\\n",
        "        .builder\\\n",
        "        .appName(\"flight_data\")\\\n",
        "        .getOrCreate()"
      ]
    },
    {
      "cell_type": "markdown",
      "metadata": {
        "id": "J6R6aO8a50Wx"
      },
      "source": [
        "# Airline information"
      ]
    },
    {
      "cell_type": "markdown",
      "metadata": {
        "id": "yfonggZeJ6tt"
      },
      "source": [
        "## Importing JSON"
      ]
    },
    {
      "cell_type": "code",
      "execution_count": null,
      "metadata": {
        "id": "0ggCEwBV_165"
      },
      "outputs": [],
      "source": [
        "def getData(file_path, url, headers):\n",
        "  try:\n",
        "    f = open(file_path)\n",
        "    data = json.load(f)\n",
        "\n",
        "  except:\n",
        "\n",
        "    response = requests.get(url, headers=headers)\n",
        "\n",
        "    print(response)\n",
        "\n",
        "    data = response.json()['rows']\n",
        "\n",
        "    with open(file_path, 'w') as f:\n",
        "      json.dump(data, f)\n",
        "\n",
        "  return data"
      ]
    },
    {
      "cell_type": "code",
      "execution_count": null,
      "metadata": {
        "colab": {
          "base_uri": "https://localhost:8080/"
        },
        "id": "Xvo7UjqChsgv",
        "outputId": "21ff18ce-9cbe-4959-9ac6-62005dcb721d"
      },
      "outputs": [
        {
          "data": {
            "text/plain": [
              "{'Name': '21 Air', 'Code': '2I', 'ICAO': 'CSB'}"
            ]
          },
          "execution_count": 43,
          "metadata": {},
          "output_type": "execute_result"
        }
      ],
      "source": [
        "airline_file = 'airline_data.json'\n",
        "airline_url = \"https://flight-radar1.p.rapidapi.com/airlines/list\"\n",
        "\n",
        "airline_data = getData(path + airline_file, airline_url, headers=headers)\n",
        "\n",
        "airline_data[0]"
      ]
    },
    {
      "cell_type": "markdown",
      "metadata": {
        "id": "1j0TpRYMKD3N"
      },
      "source": [
        "## Creating airline_dim"
      ]
    },
    {
      "cell_type": "code",
      "execution_count": null,
      "metadata": {
        "id": "97oB1elKMcxW"
      },
      "outputs": [],
      "source": [
        "airline_rdd = spark.sparkContext.parallelize(airline_data)"
      ]
    },
    {
      "cell_type": "code",
      "execution_count": null,
      "metadata": {
        "colab": {
          "base_uri": "https://localhost:8080/"
        },
        "id": "AmW-WRoGLGUr",
        "outputId": "db76c25d-9d27-43e0-ec20-67340f9f371c"
      },
      "outputs": [
        {
          "name": "stdout",
          "output_type": "stream",
          "text": [
            "+----+----+------------------+\n",
            "|Code|ICAO|              Name|\n",
            "+----+----+------------------+\n",
            "|  2I| CSB|            21 Air|\n",
            "|    | EMC|      247 Aviation|\n",
            "|    | BRO|   2Excel Aviation|\n",
            "|    | DAK|         4 Airways|\n",
            "|  Q5| MLA|       40-Mile Air|\n",
            "|  FE| IHO|  748 Air Services|\n",
            "|  AQ| JYH|             9 Air|\n",
            "|  S5| NKP|        Abakan Air|\n",
            "|    | ABP|          ABS Jets|\n",
            "|    | BAR|Abu Dhabi Aviation|\n",
            "|  GB| ABX|           ABX Air|\n",
            "|    | SON|     Acass Ireland|\n",
            "|  AN| WSN|      Advanced Air|\n",
            "|  A3| AEE|   Aegean Airlines|\n",
            "|  EI| EIN|        Aer Lingus|\n",
            "|  EG| EUK|     Aer Lingus UK|\n",
            "|  JK| ACL|         AerCaribe|\n",
            "|  5E| BLK|              Aero|\n",
            "|  N2| NIG|              Aero|\n",
            "|    | AKF|        Aero Asahi|\n",
            "+----+----+------------------+\n",
            "only showing top 20 rows\n",
            "\n"
          ]
        }
      ],
      "source": [
        "airline_dim = spark.read.json(airline_rdd)\n",
        "\n",
        "airline_dim.show()"
      ]
    },
    {
      "cell_type": "markdown",
      "metadata": {
        "id": "88a2G1rv5_2E"
      },
      "source": [
        "# Airports information"
      ]
    },
    {
      "cell_type": "markdown",
      "metadata": {
        "id": "PROdxroIKRnh"
      },
      "source": [
        "## Importing JSON"
      ]
    },
    {
      "cell_type": "code",
      "execution_count": null,
      "metadata": {
        "colab": {
          "base_uri": "https://localhost:8080/"
        },
        "id": "NGuWB6KaOrD1",
        "outputId": "a022e887-c4ea-427f-9a84-580fc866b88a"
      },
      "outputs": [
        {
          "data": {
            "text/plain": [
              "{'id': 1900,\n",
              " 'name': 'A Coruna Airport',\n",
              " 'iata': 'LCG',\n",
              " 'icao': 'LECO',\n",
              " 'city': 'A Coruna',\n",
              " 'lat': 43.302059,\n",
              " 'lon': -8.37725,\n",
              " 'country': 'Spain',\n",
              " 'alt': 326,\n",
              " 'size': 4686,\n",
              " 'timezone': {'name': 'Europe/Madrid',\n",
              "  'offset': 7200,\n",
              "  'offsetHours': '2:00',\n",
              "  'abbr': 'CEST',\n",
              "  'abbrName': 'Central European Summer Time',\n",
              "  'isDst': True},\n",
              " 'countryId': 209}"
            ]
          },
          "execution_count": 46,
          "metadata": {},
          "output_type": "execute_result"
        }
      ],
      "source": [
        "airports_file = 'airports_data.json'\n",
        "airports_url = \"https://flight-radar1.p.rapidapi.com/airports/list\"\n",
        "\n",
        "airports_data = getData(path + airports_file, airports_url, headers=headers)\n",
        "\n",
        "airports_data[0]"
      ]
    },
    {
      "cell_type": "code",
      "execution_count": null,
      "metadata": {
        "colab": {
          "base_uri": "https://localhost:8080/"
        },
        "id": "zxPpEsKryhmP",
        "outputId": "ed708a09-1612-4be6-c387-2115a50fe7d7"
      },
      "outputs": [
        {
          "data": {
            "text/plain": [
              "{'name': 'Europe/Madrid',\n",
              " 'offset': 7200,\n",
              " 'offsetHours': '2:00',\n",
              " 'abbr': 'CEST',\n",
              " 'abbrName': 'Central European Summer Time',\n",
              " 'isDst': True}"
            ]
          },
          "execution_count": 47,
          "metadata": {},
          "output_type": "execute_result"
        }
      ],
      "source": [
        "# Saving timezones info in a Dictionary\n",
        "\n",
        "timezones = {}\n",
        "\n",
        "for airport in airports_data:\n",
        "\n",
        "  timezone = airport[\"timezone\"]\n",
        "\n",
        "  timezone_name = timezone[\"name\"]\n",
        "\n",
        "  if timezone_name not in timezones.keys():\n",
        "    timezones[timezone_name] = timezone\n",
        "\n",
        "timezones[ list(timezones.keys())[0] ]"
      ]
    },
    {
      "cell_type": "markdown",
      "metadata": {
        "id": "XUoihtCFwN3M"
      },
      "source": [
        "## Timezone information"
      ]
    },
    {
      "cell_type": "markdown",
      "metadata": {
        "id": "h-1u8OtgyOAm"
      },
      "source": [
        "### Saving timezone info in a DataFrame"
      ]
    },
    {
      "cell_type": "code",
      "execution_count": null,
      "metadata": {
        "colab": {
          "base_uri": "https://localhost:8080/"
        },
        "id": "bOwcsrzUwXiD",
        "outputId": "e956c192-3cb3-4cd2-dc95-b12e6f5a82c4"
      },
      "outputs": [
        {
          "data": {
            "text/plain": [
              "[Row(name='Europe/Madrid', offset=7200, offsetHours='2:00', abbr='CEST', abbrName='Central European Summer Time', isDst=True),\n",
              " Row(name='Europe/Berlin', offset=7200, offsetHours='2:00', abbr='CEST', abbrName='Central European Summer Time', isDst=True),\n",
              " Row(name='Europe/Copenhagen', offset=7200, offsetHours='2:00', abbr='CEST', abbrName='Central European Summer Time', isDst=True),\n",
              " Row(name='America/Godthab', offset=-3600, offsetHours='-1:00', abbr='-01', abbrName=None, isDst=True),\n",
              " Row(name='Asia/Tehran', offset=12600, offsetHours='3:30', abbr='+0330', abbrName=None, isDst=False)]"
            ]
          },
          "execution_count": 48,
          "metadata": {},
          "output_type": "execute_result"
        }
      ],
      "source": [
        "# Converting input in a list of Rows\n",
        "\n",
        "timezones_rows = [Row(**timezones[timezone_name]) for timezone_name in timezones.keys()]\n",
        "\n",
        "timezones_rows[:5]"
      ]
    },
    {
      "cell_type": "code",
      "execution_count": null,
      "metadata": {
        "colab": {
          "base_uri": "https://localhost:8080/"
        },
        "id": "nm9gu8ijwf8L",
        "outputId": "566ce6c0-d695-4f64-a3ae-444e47fb29a9"
      },
      "outputs": [
        {
          "name": "stdout",
          "output_type": "stream",
          "text": [
            "+-------------------+------+-----------+-----+--------------------+-----+\n",
            "|               name|offset|offsetHours| abbr|            abbrName|isDst|\n",
            "+-------------------+------+-----------+-----+--------------------+-----+\n",
            "|      Europe/Madrid|  7200|       2:00| CEST|Central European ...| true|\n",
            "|      Europe/Berlin|  7200|       2:00| CEST|Central European ...| true|\n",
            "|  Europe/Copenhagen|  7200|       2:00| CEST|Central European ...| true|\n",
            "|    America/Godthab| -3600|      -1:00|  -01|                NULL| true|\n",
            "|        Asia/Tehran| 12600|       3:30|+0330|                NULL|false|\n",
            "|   Asia/Krasnoyarsk| 25200|       7:00|  +07|                NULL|false|\n",
            "|  America/Vancouver|-25200|      -7:00|  PDT|Pacific Daylight ...| true|\n",
            "|     Pacific/Tarawa| 43200|      12:00|  +12|                NULL|false|\n",
            "|      Europe/London|  3600|       1:00|  BST| British Summer Time| true|\n",
            "|    America/Chicago|-18000|      -5:00|  CDT|Central Daylight ...| true|\n",
            "|        Asia/Riyadh| 10800|       3:00|  +03|                NULL|false|\n",
            "|     Africa/Abidjan|  NULL|       0:00|  GMT| Greenwich Mean Time|false|\n",
            "|   America/New_York|-14400|      -4:00|  EDT|Eastern Daylight ...| true|\n",
            "|         Asia/Dubai| 14400|       4:00|  +04|                NULL|false|\n",
            "|       Africa/Cairo| 10800|       3:00| EEST|Eastern European ...| true|\n",
            "|       Africa/Lagos|  3600|       1:00|  WAT|    West Africa Time|false|\n",
            "|America/Mexico_City|-21600|      -6:00|  CST|Central Standard ...|false|\n",
            "|       Africa/Accra|  NULL|       0:00|  GMT| Greenwich Mean Time|false|\n",
            "|       America/Adak|-32400|      -9:00|  HDT|                NULL| true|\n",
            "|       Asia/Kolkata| 19800|       5:30|  IST| India Standard Time|false|\n",
            "+-------------------+------+-----------+-----+--------------------+-----+\n",
            "only showing top 20 rows\n",
            "\n"
          ]
        }
      ],
      "source": [
        "# Defining DataFrame schema\n",
        "timezones_schema = StructType([\n",
        "    StructField('name', StringType()),\n",
        "    StructField('offset', IntegerType()),\n",
        "    StructField('offsetHours', StringType()),\n",
        "    StructField('abbr', StringType()),\n",
        "    StructField('abbrName', StringType()),\n",
        "    StructField('isDst', BooleanType())\n",
        "])\n",
        "\n",
        "# Creating DataFrame\n",
        "timezones_df = spark.createDataFrame(timezones_rows, schema = timezones_schema)\n",
        "\n",
        "timezones_df.show()"
      ]
    },
    {
      "cell_type": "markdown",
      "metadata": {
        "id": "ReGDYusdzHIZ"
      },
      "source": [
        "### Checking if the same 'abbr' can correspond to different 'abbrName'"
      ]
    },
    {
      "cell_type": "code",
      "execution_count": null,
      "metadata": {
        "colab": {
          "base_uri": "https://localhost:8080/"
        },
        "id": "XloK7NuCwtfy",
        "outputId": "2307a24e-8e5c-41d5-efe7-b26ee41ed590"
      },
      "outputs": [
        {
          "name": "stdout",
          "output_type": "stream",
          "text": [
            "+----+-----+\n",
            "|abbr|count|\n",
            "+----+-----+\n",
            "|WEST|    2|\n",
            "| IST|    2|\n",
            "|CEST|    2|\n",
            "| CST|    2|\n",
            "+----+-----+\n",
            "\n"
          ]
        }
      ],
      "source": [
        "# Creting a DataFrame contarining unique abbr-abbrName pairs\n",
        "abbr_check = timezones_df \\\n",
        "                              .select([\"abbr\", \"abbrName\"]) \\\n",
        "                              .distinct()\n",
        "\n",
        "# Select abbr that appears more than one time\n",
        "abbr_check \\\n",
        "          .groupBy('abbr') \\\n",
        "          .count() \\\n",
        "          .sort(\"count\", ascending=False) \\\n",
        "          .filter( col('count') > 1) \\\n",
        "          .show()"
      ]
    },
    {
      "cell_type": "code",
      "execution_count": null,
      "metadata": {
        "colab": {
          "base_uri": "https://localhost:8080/"
        },
        "id": "3V4xGp77xHWI",
        "outputId": "3d15ffb7-ed7b-4320-d0bb-a12e16aa9435"
      },
      "outputs": [
        {
          "name": "stdout",
          "output_type": "stream",
          "text": [
            "+----+----------------------------+\n",
            "|abbr|abbrName                    |\n",
            "+----+----------------------------+\n",
            "|CST |Central Standard Time       |\n",
            "|IST |India Standard Time         |\n",
            "|WEST|Western European Summer Time|\n",
            "|CEST|Central European Summer Time|\n",
            "|CST |China Standard Time         |\n",
            "|IST |Irish Standard Time         |\n",
            "|CEST|NULL                        |\n",
            "|WEST|NULL                        |\n",
            "+----+----------------------------+\n",
            "\n"
          ]
        }
      ],
      "source": [
        "# Check information about abbr that appears more than one time\n",
        "abbr_check \\\n",
        "          .filter( abbr_check.abbr.isin('IST', 'CST', 'WEST', 'CEST') ) \\\n",
        "          .show(truncate = False)"
      ]
    },
    {
      "cell_type": "markdown",
      "metadata": {
        "id": "PNkoNb1IZ-uJ"
      },
      "source": [
        "### Updating DataFrame"
      ]
    },
    {
      "cell_type": "code",
      "execution_count": null,
      "metadata": {
        "colab": {
          "base_uri": "https://localhost:8080/"
        },
        "id": "FaWSGraa1dHh",
        "outputId": "cbb6ff45-4c6e-4731-ab6b-1b86a6208ff2"
      },
      "outputs": [
        {
          "name": "stdout",
          "output_type": "stream",
          "text": [
            "+-------------------+------+-----------+-----+--------------------+-----+\n",
            "|               name|offset|offsetHours| abbr|            abbrName|isDst|\n",
            "+-------------------+------+-----------+-----+--------------------+-----+\n",
            "|      Europe/Madrid|  7200|       2:00| CEST|Central European ...| true|\n",
            "|      Europe/Berlin|  7200|       2:00| CEST|Central European ...| true|\n",
            "|  Europe/Copenhagen|  7200|       2:00| CEST|Central European ...| true|\n",
            "|    America/Godthab| -3600|      -1:00|  -01|                NULL| true|\n",
            "|        Asia/Tehran| 12600|       3:30|+0330|                NULL|false|\n",
            "|   Asia/Krasnoyarsk| 25200|       7:00|  +07|                NULL|false|\n",
            "|  America/Vancouver|-25200|      -7:00|  PDT|Pacific Daylight ...| true|\n",
            "|     Pacific/Tarawa| 43200|      12:00|  +12|                NULL|false|\n",
            "|      Europe/London|  3600|       1:00|  BST| British Summer Time| true|\n",
            "|    America/Chicago|-18000|      -5:00|  CDT|Central Daylight ...| true|\n",
            "|        Asia/Riyadh| 10800|       3:00|  +03|                NULL|false|\n",
            "|     Africa/Abidjan|  NULL|       0:00|  GMT| Greenwich Mean Time|false|\n",
            "|   America/New_York|-14400|      -4:00|  EDT|Eastern Daylight ...| true|\n",
            "|         Asia/Dubai| 14400|       4:00|  +04|                NULL|false|\n",
            "|       Africa/Cairo| 10800|       3:00| EEST|Eastern European ...| true|\n",
            "|       Africa/Lagos|  3600|       1:00|  WAT|    West Africa Time|false|\n",
            "|America/Mexico_City|-21600|      -6:00|  CST|Central Standard ...|false|\n",
            "|       Africa/Accra|  NULL|       0:00|  GMT| Greenwich Mean Time|false|\n",
            "|       America/Adak|-32400|      -9:00|  HDT|                NULL| true|\n",
            "|       Asia/Kolkata| 19800|       5:30|  IST| India Standard Time|false|\n",
            "+-------------------+------+-----------+-----+--------------------+-----+\n",
            "only showing top 20 rows\n",
            "\n"
          ]
        }
      ],
      "source": [
        "timezones_df = timezones_df \\\n",
        "                            .withColumn( # Replace conflitting 'abbr'\n",
        "                                      'abbr',\n",
        "                                        when( col('abbrName') == 'China Standard Time', 'ChiST') \\\n",
        "                                        .when( col('abbrName') == 'Irish Standard Time', 'IriST') \\\n",
        "                                        .otherwise(timezones_df.abbr)\n",
        "                                        ). \\\n",
        "                            withColumn( # Fill missing 'abbrName'\n",
        "                                      'abbrName',\n",
        "                                      when( col('abbr') == 'CEST', 'Central European Summer Time' ) \\\n",
        "                                      .when( col('abbr') == 'WEST', 'Western European Summer Time') \\\n",
        "                                      .otherwise(timezones_df.abbrName)\n",
        "                                        )\n",
        "\n",
        "\n",
        "\n",
        "timezones_df.show()"
      ]
    },
    {
      "cell_type": "code",
      "execution_count": null,
      "metadata": {
        "id": "RiaQvJ9g3I7j"
      },
      "outputs": [],
      "source": [
        "# Checking if update was successfull\n",
        "\n",
        "abbr_check = timezones_df \\\n",
        "                              .select([\"abbr\", \"abbrName\"]) \\\n",
        "                              .distinct()"
      ]
    },
    {
      "cell_type": "markdown",
      "metadata": {
        "id": "3DxYgYqgaTWt"
      },
      "source": [
        "### Checking if the same 'abbr' can have multiple 'isDst'"
      ]
    },
    {
      "cell_type": "code",
      "execution_count": null,
      "metadata": {
        "colab": {
          "base_uri": "https://localhost:8080/"
        },
        "id": "Ce89PD1zX58c",
        "outputId": "07287de4-9a2f-42b5-ad4f-29b1651c44ac"
      },
      "outputs": [
        {
          "name": "stdout",
          "output_type": "stream",
          "text": [
            "+----+-----+\n",
            "|abbr|count|\n",
            "+----+-----+\n",
            "| -01|    2|\n",
            "| -02|    2|\n",
            "+----+-----+\n",
            "\n",
            "+----+-----+\n",
            "|abbr|isDst|\n",
            "+----+-----+\n",
            "| -01| true|\n",
            "| -01|false|\n",
            "| -02|false|\n",
            "| -02| true|\n",
            "+----+-----+\n",
            "\n"
          ]
        }
      ],
      "source": [
        "abbr_check = timezones_df \\\n",
        "                              .select([\"abbr\", \"isDst\"]) \\\n",
        "                              .distinct()\n",
        "\n",
        "abbr_check \\\n",
        "          .groupBy('abbr') \\\n",
        "          .count() \\\n",
        "          .sort(\"count\", ascending=False) \\\n",
        "          .filter( col('count') > 1) \\\n",
        "          .show()\n",
        "\n",
        "abbr_check.filter( col('abbr').isin('-01', '-02') ).show()"
      ]
    },
    {
      "cell_type": "markdown",
      "metadata": {
        "id": "k4RizvwYevOR"
      },
      "source": [
        "### Splitting DataFrame in different tables"
      ]
    },
    {
      "cell_type": "code",
      "execution_count": null,
      "metadata": {
        "colab": {
          "base_uri": "https://localhost:8080/"
        },
        "id": "bzLXYyKRez3u",
        "outputId": "afbc4b9b-bb74-4b1e-a3c9-36ae9f41eea0"
      },
      "outputs": [
        {
          "data": {
            "text/plain": [
              "['name', 'offset', 'offsetHours', 'abbr', 'abbrName', 'isDst']"
            ]
          },
          "execution_count": 55,
          "metadata": {},
          "output_type": "execute_result"
        }
      ],
      "source": [
        "timezones_df.columns"
      ]
    },
    {
      "cell_type": "markdown",
      "metadata": {
        "id": "LxSOhTEGhHU7"
      },
      "source": [
        "#### timezones_dim"
      ]
    },
    {
      "cell_type": "code",
      "execution_count": null,
      "metadata": {
        "colab": {
          "base_uri": "https://localhost:8080/"
        },
        "id": "Re9YWciXeuDB",
        "outputId": "ba6106ce-c20c-4570-deb6-7249fbf0b2ea"
      },
      "outputs": [
        {
          "name": "stdout",
          "output_type": "stream",
          "text": [
            "+----------+------------------+------+----+-----+\n",
            "|timezoneId|      timezoneName|offset|abbr|isDst|\n",
            "+----------+------------------+------+----+-----+\n",
            "|         1|      Africa/Dakar|  NULL| GMT|false|\n",
            "|         2|    Africa/Abidjan|  NULL| GMT|false|\n",
            "|         3|      Africa/Accra|  NULL| GMT|false|\n",
            "|         4|   Atlantic/Azores|  NULL| +00| true|\n",
            "|         5|Atlantic/Reykjavik|  NULL| GMT|false|\n",
            "|         6|    Africa/Conakry|  NULL| GMT|false|\n",
            "|         7|     Africa/Bamako|  NULL| GMT|false|\n",
            "|         8|               UTC|  NULL| UTC|false|\n",
            "|         9| Africa/Nouakchott|  NULL| GMT|false|\n",
            "|        10|Africa/Ouagadougou|  NULL| GMT|false|\n",
            "|        11|   Africa/Freetown|  NULL| GMT|false|\n",
            "|        12|       Africa/Lome|  NULL| GMT|false|\n",
            "|        13|Atlantic/St_Helena|  NULL| GMT|false|\n",
            "|        14|     Africa/Banjul|  NULL| GMT|false|\n",
            "|        15|     Africa/Bissau|  NULL| GMT|false|\n",
            "|        16|   Africa/Monrovia|  NULL| GMT|false|\n",
            "|        17|   Africa/Sao_Tome|  NULL| GMT|false|\n",
            "|        18| Pacific/Pago_Pago|-39600| SST|false|\n",
            "|        19|      Pacific/Niue|-39600| -11|false|\n",
            "|        20|  Pacific/Honolulu|-36000| HST|false|\n",
            "+----------+------------------+------+----+-----+\n",
            "only showing top 20 rows\n",
            "\n"
          ]
        }
      ],
      "source": [
        "timezones_dim = timezones_df \\\n",
        "                            .withColumn('timezoneId', row_number().over( Window.orderBy('offset')) ) \\\n",
        "                            .select(['timezoneId', 'name', 'offset', 'abbr', 'isDst']) \\\n",
        "                            .withColumnRenamed('name', 'timezoneName')\n",
        "\n",
        "\n",
        "timezones_dim.show()"
      ]
    },
    {
      "cell_type": "markdown",
      "metadata": {
        "id": "WRzj2O4thPLu"
      },
      "source": [
        "#### timezones_abbr_dim"
      ]
    },
    {
      "cell_type": "code",
      "execution_count": null,
      "metadata": {
        "colab": {
          "base_uri": "https://localhost:8080/"
        },
        "id": "c1r11W84ggyg",
        "outputId": "2489aa94-bf37-45ce-9d89-6b00025b31fa"
      },
      "outputs": [
        {
          "name": "stdout",
          "output_type": "stream",
          "text": [
            "+------+-----+--------+\n",
            "|abbrId| abbr|abbrName|\n",
            "+------+-----+--------+\n",
            "|     1|  +00|    NULL|\n",
            "|     2|  +01|    NULL|\n",
            "|     3|  +03|    NULL|\n",
            "|     4|+0330|    NULL|\n",
            "|     5|  +04|    NULL|\n",
            "|     6|+0430|    NULL|\n",
            "|     7|  +05|    NULL|\n",
            "|     8|+0530|    NULL|\n",
            "|     9|+0545|    NULL|\n",
            "|    10|  +06|    NULL|\n",
            "|    11|+0630|    NULL|\n",
            "|    12|  +07|    NULL|\n",
            "|    13|  +08|    NULL|\n",
            "|    14|+0845|    NULL|\n",
            "|    15|  +09|    NULL|\n",
            "|    16|  +10|    NULL|\n",
            "|    17|+1030|    NULL|\n",
            "|    18|  +11|    NULL|\n",
            "|    19|  +12|    NULL|\n",
            "|    20|+1245|    NULL|\n",
            "+------+-----+--------+\n",
            "only showing top 20 rows\n",
            "\n"
          ]
        }
      ],
      "source": [
        "timezones_abbr_dim = timezones_df \\\n",
        "                                    .select(['abbr', 'abbrName']) \\\n",
        "                                    .distinct() \\\n",
        "                                    .withColumn('abbrId', row_number().over( Window.orderBy('abbr'))) \\\n",
        "                                    .select(['abbrId', 'abbr', 'abbrName'])\n",
        "\n",
        "timezones_abbr_dim.show()"
      ]
    },
    {
      "cell_type": "markdown",
      "metadata": {
        "id": "bm1jkLOnhd--"
      },
      "source": [
        "#### Refactoring timezone_dim"
      ]
    },
    {
      "cell_type": "code",
      "execution_count": null,
      "metadata": {
        "colab": {
          "base_uri": "https://localhost:8080/"
        },
        "id": "fNHpR1l8hBgj",
        "outputId": "d6fd7515-1a0b-4f22-d797-cd606d8e7898"
      },
      "outputs": [
        {
          "name": "stdout",
          "output_type": "stream",
          "text": [
            "+----------+------------------+------+-----+------+\n",
            "|timezoneId|      timezoneName|offset|isDst|abbrId|\n",
            "+----------+------------------+------+-----+------+\n",
            "|         1|      Africa/Dakar|  NULL|false|    52|\n",
            "|         2|    Africa/Abidjan|  NULL|false|    52|\n",
            "|         3|      Africa/Accra|  NULL|false|    52|\n",
            "|         4|   Atlantic/Azores|  NULL| true|     1|\n",
            "|         5|Atlantic/Reykjavik|  NULL|false|    52|\n",
            "|         6|    Africa/Conakry|  NULL|false|    52|\n",
            "|         7|     Africa/Bamako|  NULL|false|    52|\n",
            "|         8|               UTC|  NULL|false|    71|\n",
            "|         9| Africa/Nouakchott|  NULL|false|    52|\n",
            "|        10|Africa/Ouagadougou|  NULL|false|    52|\n",
            "|        11|   Africa/Freetown|  NULL|false|    52|\n",
            "|        12|       Africa/Lome|  NULL|false|    52|\n",
            "|        13|Atlantic/St_Helena|  NULL|false|    52|\n",
            "|        14|     Africa/Banjul|  NULL|false|    52|\n",
            "|        15|     Africa/Bissau|  NULL|false|    52|\n",
            "|        16|   Africa/Monrovia|  NULL|false|    52|\n",
            "|        17|   Africa/Sao_Tome|  NULL|false|    52|\n",
            "|        18| Pacific/Pago_Pago|-39600|false|    70|\n",
            "|        19|      Pacific/Niue|-39600|false|    32|\n",
            "|        20|  Pacific/Honolulu|-36000|false|    55|\n",
            "+----------+------------------+------+-----+------+\n",
            "only showing top 20 rows\n",
            "\n"
          ]
        }
      ],
      "source": [
        "# Replacing 'abbr' with 'abbrId' in timezone_dim\n",
        "\n",
        "timezones_dim = timezones_dim \\\n",
        "                                .join(\n",
        "                                    timezones_abbr_dim,\n",
        "                                    timezones_dim.abbr == timezones_abbr_dim.abbr,\n",
        "                                    'left'\n",
        "                                    ) \\\n",
        "                                .select(['timezoneId', 'timezoneName', 'offset', 'isDst', 'abbrId'])\n",
        "\n",
        "timezones_dim.show()"
      ]
    },
    {
      "cell_type": "markdown",
      "metadata": {
        "id": "AZhCExgstPn2"
      },
      "source": [
        "## Geographic information"
      ]
    },
    {
      "cell_type": "markdown",
      "metadata": {
        "id": "AXO689Gagb4q"
      },
      "source": [
        "### Creating countries_dim table"
      ]
    },
    {
      "cell_type": "code",
      "execution_count": null,
      "metadata": {
        "id": "Ds1hI1sVmlm2"
      },
      "outputs": [],
      "source": [
        "# Getting set of unique countries name\n",
        "countries_set = { airport['country'] for airport in airports_data}"
      ]
    },
    {
      "cell_type": "code",
      "execution_count": null,
      "metadata": {
        "colab": {
          "base_uri": "https://localhost:8080/"
        },
        "id": "UbznUe4rnLFM",
        "outputId": "8e9d856b-3117-4dcc-c80d-508f587275e5"
      },
      "outputs": [
        {
          "name": "stdout",
          "output_type": "stream",
          "text": [
            "+---------+-------------------+\n",
            "|countryId|            country|\n",
            "+---------+-------------------+\n",
            "|        1|        Afghanistan|\n",
            "|        2|            Albania|\n",
            "|        3|            Algeria|\n",
            "|        4|     American Samoa|\n",
            "|        5|             Angola|\n",
            "|        6|           Anguilla|\n",
            "|        7|         Antarctica|\n",
            "|        8|Antigua And Barbuda|\n",
            "|        9|          Argentina|\n",
            "|       10|            Armenia|\n",
            "|       11|              Aruba|\n",
            "|       12|          Australia|\n",
            "|       13|            Austria|\n",
            "|       14|         Azerbaijan|\n",
            "|       15|            Bahamas|\n",
            "|       16|            Bahrain|\n",
            "|       17|         Bangladesh|\n",
            "|       18|           Barbados|\n",
            "|       19|            Belarus|\n",
            "|       20|            Belgium|\n",
            "+---------+-------------------+\n",
            "only showing top 20 rows\n",
            "\n"
          ]
        }
      ],
      "source": [
        "# Convert set in DataFrame\n",
        "# Rename 'value' col in 'countryName'\n",
        "# Add 'abbrId'\n",
        "# Change cols order\n",
        "countries_dim = spark \\\n",
        "                    .createDataFrame(countries_set, StringType()) \\\n",
        "                    .withColumnRenamed('value', 'country') \\\n",
        "                    .withColumn('countryId', row_number().over( Window.orderBy('country'))) \\\n",
        "                    .select([\"countryId\", \"country\"])\n",
        "\n",
        "countries_dim.show()"
      ]
    },
    {
      "cell_type": "markdown",
      "metadata": {
        "id": "PgudCS0PrARY"
      },
      "source": [
        "### Creating cities_dim table"
      ]
    },
    {
      "cell_type": "code",
      "execution_count": null,
      "metadata": {
        "id": "M52eEv7TqveO"
      },
      "outputs": [],
      "source": [
        "# Create set of unique city-country pairs\n",
        "\n",
        "cities_set = { (airport['city'], airport['country']) for airport in airports_data}"
      ]
    },
    {
      "cell_type": "code",
      "execution_count": null,
      "metadata": {
        "colab": {
          "base_uri": "https://localhost:8080/"
        },
        "id": "LI1o16R9rLsM",
        "outputId": "b25436ce-24ee-4633-8bde-018c0b08bbdd"
      },
      "outputs": [
        {
          "name": "stdout",
          "output_type": "stream",
          "text": [
            "+---------------+--------------------+------+\n",
            "|           city|             country|cityId|\n",
            "+---------------+--------------------+------+\n",
            "|       A Coruna|               Spain|     1|\n",
            "|         Aachen|             Germany|     2|\n",
            "|        Aalborg|             Denmark|     3|\n",
            "|         Aarhus|             Denmark|     4|\n",
            "|        Aasiaat|           Greenland|     5|\n",
            "|         Abadan|                Iran|     6|\n",
            "|         Abakan|              Russia|     7|\n",
            "|     Abbotsford|              Canada|     8|\n",
            "|  Abemama Atoll|            Kiribati|     9|\n",
            "|       Aberdeen|       United States|    10|\n",
            "|       Aberdeen|      United Kingdom|    11|\n",
            "|           Abha|        Saudi Arabia|    12|\n",
            "|        Abidjan|         Ivory Coast|    13|\n",
            "|        Abilene|       United States|    14|\n",
            "|       Abingdon|       United States|    15|\n",
            "|      Abu Dhabi|United Arab Emirates|    16|\n",
            "|Abu Musa Island|                Iran|    17|\n",
            "|     Abu Simbel|               Egypt|    18|\n",
            "|          Abuja|             Nigeria|    19|\n",
            "|       Acapulco|              Mexico|    20|\n",
            "+---------------+--------------------+------+\n",
            "only showing top 20 rows\n",
            "\n"
          ]
        }
      ],
      "source": [
        "# Converting set in DataFrame\n",
        "cities_dim = spark \\\n",
        "              .createDataFrame(cities_set, schema = [\"city\", \"country\"]) \\\n",
        "              .withColumn('cityId', row_number().over( Window.orderBy('city')))\n",
        "\n",
        "cities_dim.show()"
      ]
    },
    {
      "cell_type": "code",
      "execution_count": null,
      "metadata": {
        "colab": {
          "base_uri": "https://localhost:8080/"
        },
        "id": "CKbVapezsLda",
        "outputId": "19c02075-fb1f-406f-9eaa-3ef9d335b542"
      },
      "outputs": [
        {
          "name": "stdout",
          "output_type": "stream",
          "text": [
            "+------+---------------+---------+\n",
            "|cityId|           city|countryId|\n",
            "+------+---------------+---------+\n",
            "|     7|         Abakan|      170|\n",
            "|     9|  Abemama Atoll|      109|\n",
            "|     2|         Aachen|       76|\n",
            "|    13|        Abidjan|      102|\n",
            "|    21|          Accra|       77|\n",
            "|    10|       Aberdeen|      216|\n",
            "|    14|        Abilene|      216|\n",
            "|    15|       Abingdon|      216|\n",
            "|    19|          Abuja|      151|\n",
            "|     1|       A Coruna|      192|\n",
            "|     3|        Aalborg|       54|\n",
            "|     4|         Aarhus|       54|\n",
            "|     6|         Abadan|       96|\n",
            "|    17|Abu Musa Island|       96|\n",
            "|    20|       Acapulco|      133|\n",
            "|    12|           Abha|      179|\n",
            "|    16|      Abu Dhabi|      214|\n",
            "|     8|     Abbotsford|       35|\n",
            "|     5|        Aasiaat|       80|\n",
            "|    18|     Abu Simbel|       59|\n",
            "+------+---------------+---------+\n",
            "only showing top 20 rows\n",
            "\n"
          ]
        }
      ],
      "source": [
        "# Replacing 'country' with 'countryId'\n",
        "\n",
        "cities_dim = cities_dim \\\n",
        "                      .join(\n",
        "                          countries_dim,\n",
        "                          'country',\n",
        "                          'left'\n",
        "                      ) \\\n",
        "                      .select( ['cityId', 'city', 'countryId'])\n",
        "\n",
        "cities_dim.show()"
      ]
    },
    {
      "cell_type": "markdown",
      "metadata": {
        "id": "RV_jCSjLibFo"
      },
      "source": [
        "### Creating airports_dim\n",
        "\n"
      ]
    },
    {
      "cell_type": "code",
      "execution_count": null,
      "metadata": {
        "id": "t4b4hGDXoFJr"
      },
      "outputs": [],
      "source": [
        "def airport_typecaster(key, value):\n",
        "\n",
        "  # Keep only the name of the timezone\n",
        "  if key == 'timezone':\n",
        "    return value['name']\n",
        "\n",
        "  # Some 'lat' e 'lon' values are encoded as Float and some as Int,\n",
        "  # so we have to convert all of them to Float\n",
        "  if key in ('lat', 'lon'):\n",
        "    return float(value)\n",
        "\n",
        "  # Some values are encoded as String, so they have to be encoded as Int\n",
        "  if key == 'alt':\n",
        "    return int(value)\n",
        "\n",
        "  return value"
      ]
    },
    {
      "cell_type": "code",
      "execution_count": null,
      "metadata": {
        "id": "ZjtV2L8ubNPm"
      },
      "outputs": [],
      "source": [
        "airports_col_to_remove = [\"country\"]\n",
        "\n",
        "airports_data_typecasted = [\n",
        "                            {key: airport_typecaster(key, value) for key, value in airport.items() if key not in airports_col_to_remove }\n",
        "                             for airport in airports_data\n",
        "                            ]"
      ]
    },
    {
      "cell_type": "code",
      "execution_count": null,
      "metadata": {
        "colab": {
          "base_uri": "https://localhost:8080/"
        },
        "id": "7s0fdCkkgGPh",
        "outputId": "56826300-7568-4cb3-a8e5-f3ac2d1bad09"
      },
      "outputs": [
        {
          "data": {
            "text/plain": [
              "[Row(id=1900, name='A Coruna Airport', iata='LCG', icao='LECO', city='A Coruna', lat=43.302059, lon=-8.37725, alt=326, size=4686, timezone='Europe/Madrid', countryId=209),\n",
              " Row(id=3, name='Aachen Merzbruck Airport', iata='AAH', icao='EDKA', city='Aachen', lat=50.821899, lon=6.184759, alt=626, size=1491, timezone='Europe/Berlin', countryId=83),\n",
              " Row(id=4, name='Aalborg Airport', iata='AAL', icao='EKYT', city='Aalborg', lat=57.095112, lon=9.855172, alt=3, size=8856, timezone='Europe/Copenhagen', countryId=61),\n",
              " Row(id=9, name='Aarhus Airport', iata='AAR', icao='EKAH', city='Aarhus', lat=56.303295, lon=10.619129, alt=71, size=3919, timezone='Europe/Copenhagen', countryId=61)]"
            ]
          },
          "execution_count": 66,
          "metadata": {},
          "output_type": "execute_result"
        }
      ],
      "source": [
        "airport_rows = [Row(**airport) for airport in airports_data_typecasted]\n",
        "\n",
        "airport_rows[:4]"
      ]
    },
    {
      "cell_type": "code",
      "execution_count": null,
      "metadata": {
        "id": "-I8_dQwWpvm6"
      },
      "outputs": [],
      "source": [
        "airport_schema = StructType([\n",
        "    StructField('id', IntegerType()),\n",
        "    StructField('airportName', StringType()),\n",
        "    StructField('iata', StringType()),\n",
        "    StructField('icao', StringType()),\n",
        "    StructField('city', StringType()),\n",
        "    StructField('lat', DoubleType()),\n",
        "    StructField('lon', DoubleType()),\n",
        "    StructField('alt', IntegerType()),\n",
        "    StructField('size', IntegerType()),\n",
        "    StructField('timezoneName', StringType()),\n",
        "    StructField('countryId', IntegerType()),\n",
        "])"
      ]
    },
    {
      "cell_type": "code",
      "execution_count": null,
      "metadata": {
        "colab": {
          "base_uri": "https://localhost:8080/"
        },
        "id": "APRIgBqhZ_V2",
        "outputId": "0e2bb71c-5d48-476e-bd63-a3d470d1de91"
      },
      "outputs": [
        {
          "name": "stdout",
          "output_type": "stream",
          "text": [
            "+----+--------------------+----+----+---------------+---------+-----------+----+-----+-----------------+---------+\n",
            "|  id|         airportName|iata|icao|           city|      lat|        lon| alt| size|     timezoneName|countryId|\n",
            "+----+--------------------+----+----+---------------+---------+-----------+----+-----+-----------------+---------+\n",
            "|1900|    A Coruna Airport| LCG|LECO|       A Coruna|43.302059|   -8.37725| 326| 4686|    Europe/Madrid|      209|\n",
            "|   3|Aachen Merzbruck ...| AAH|EDKA|         Aachen|50.821899|   6.184759| 626| 1491|    Europe/Berlin|       83|\n",
            "|   4|     Aalborg Airport| AAL|EKYT|        Aalborg|57.095112|   9.855172|   3| 8856|Europe/Copenhagen|       61|\n",
            "|   9|      Aarhus Airport| AAR|EKAH|         Aarhus|56.303295|  10.619129|  71| 3919|Europe/Copenhagen|       61|\n",
            "|7569|  Aarhus Sea Airport| QEA|EKAC|         Aarhus|56.151993|  10.247725|   1|  139|Europe/Copenhagen|       61|\n",
            "|1596|     Aasiaat Airport| JEG|BGAA|        Aasiaat| 68.72184| -52.784698|  74|  574|  America/Godthab|       87|\n",
            "|  12|      Abadan Airport| ABD|OIAA|         Abadan|30.371111|  48.228329|  19| 2099|      Asia/Tehran|      104|\n",
            "|  11|Abakan Internatio...| ABA|UNAA|         Abakan|53.740002|  91.385002| 831| 2146| Asia/Krasnoyarsk|      182|\n",
            "|4146|Abbotsford Intern...| YXX|CYXX|     Abbotsford|49.025269|-122.360001| 195| 7188|America/Vancouver|       40|\n",
            "|  53|     Abemama Airport| AEA|NGTB|  Abemama Atoll| 0.490833| 173.828598|   8|  248|   Pacific/Tarawa|      116|\n",
            "|  27|Aberdeen Internat...| ABZ|EGPD|       Aberdeen|57.201939|   -2.19777| 215|20546|    Europe/London|      235|\n",
            "|  20|Aberdeen Regional...| ABR|KABR|       Aberdeen|45.439999| -98.419998|1302| 3549|  America/Chicago|      236|\n",
            "|  80|Abha Regional Air...| AHB|OEAB|           Abha| 18.24036|   42.65662|6858|16314|      Asia/Riyadh|      194|\n",
            "|  16|Abidjan Port Boue...| ABJ|DIAP|        Abidjan| 5.261386|   -3.92629|  21|11907|   Africa/Abidjan|       54|\n",
            "|  15|Abilene Regional ...| ABI|KABI|        Abilene|32.411301| -99.681801|1790| 5984|  America/Chicago|      236|\n",
            "|7403|Abingdon Virginia...| VJI|KVJI|       Abingdon|36.686111| -82.033333|2088| 1778| America/New_York|      236|\n",
            "| 251|Abu Dhabi Al Bate...| AZI|OMAD|      Abu Dhabi|24.428329|   54.45808|  16| 1165|       Asia/Dubai|      234|\n",
            "|6183|Abu Dhabi Al Dhaf...| DHF|OMAM|      Abu Dhabi|24.248199|  54.547699|  77|  119|       Asia/Dubai|      234|\n",
            "| 220|Abu Dhabi Zayed I...| AUH|OMAA|      Abu Dhabi|24.442856|  54.651474|  62|74044|       Asia/Dubai|      234|\n",
            "|6156|Abu Musa Island A...| AEU|OIBA|Abu Musa Island|  25.8757|  55.033001|  23|   44|      Asia/Tehran|      104|\n",
            "+----+--------------------+----+----+---------------+---------+-----------+----+-----+-----------------+---------+\n",
            "only showing top 20 rows\n",
            "\n"
          ]
        }
      ],
      "source": [
        "airport_df = spark.createDataFrame(airport_rows, airport_schema)\n",
        "\n",
        "airport_df.show()"
      ]
    },
    {
      "cell_type": "code",
      "execution_count": null,
      "metadata": {
        "colab": {
          "base_uri": "https://localhost:8080/"
        },
        "id": "Z8edcM1hg3Aq",
        "outputId": "23797ae4-c512-438d-c8e5-910a1b64b65b"
      },
      "outputs": [
        {
          "name": "stdout",
          "output_type": "stream",
          "text": [
            "+------+---------------+---------+\n",
            "|cityId|           city|countryId|\n",
            "+------+---------------+---------+\n",
            "|     7|         Abakan|      170|\n",
            "|     9|  Abemama Atoll|      109|\n",
            "|     2|         Aachen|       76|\n",
            "|    13|        Abidjan|      102|\n",
            "|    21|          Accra|       77|\n",
            "|    10|       Aberdeen|      216|\n",
            "|    14|        Abilene|      216|\n",
            "|    15|       Abingdon|      216|\n",
            "|    19|          Abuja|      151|\n",
            "|     1|       A Coruna|      192|\n",
            "|     3|        Aalborg|       54|\n",
            "|     4|         Aarhus|       54|\n",
            "|     6|         Abadan|       96|\n",
            "|    17|Abu Musa Island|       96|\n",
            "|    20|       Acapulco|      133|\n",
            "|    12|           Abha|      179|\n",
            "|    16|      Abu Dhabi|      214|\n",
            "|     8|     Abbotsford|       35|\n",
            "|     5|        Aasiaat|       80|\n",
            "|    18|     Abu Simbel|       59|\n",
            "+------+---------------+---------+\n",
            "only showing top 20 rows\n",
            "\n"
          ]
        }
      ],
      "source": [
        "cities_dim.show()"
      ]
    },
    {
      "cell_type": "markdown",
      "metadata": {
        "id": "SBsy0Z3dlI1Q"
      },
      "source": [
        "### Creating airport_dim"
      ]
    },
    {
      "cell_type": "code",
      "execution_count": null,
      "metadata": {
        "colab": {
          "base_uri": "https://localhost:8080/"
        },
        "id": "mCPCtyZ00lVA",
        "outputId": "384be24c-95e6-42d1-c741-b4a730178067"
      },
      "outputs": [
        {
          "name": "stdout",
          "output_type": "stream",
          "text": [
            "+----+--------------------+----+----+---------------+---------+-----------+----+-----+-----------------+---------+\n",
            "|  id|         airportName|iata|icao|           city|      lat|        lon| alt| size|     timezoneName|countryId|\n",
            "+----+--------------------+----+----+---------------+---------+-----------+----+-----+-----------------+---------+\n",
            "|1900|    A Coruna Airport| LCG|LECO|       A Coruna|43.302059|   -8.37725| 326| 4686|    Europe/Madrid|      209|\n",
            "|   3|Aachen Merzbruck ...| AAH|EDKA|         Aachen|50.821899|   6.184759| 626| 1491|    Europe/Berlin|       83|\n",
            "|   4|     Aalborg Airport| AAL|EKYT|        Aalborg|57.095112|   9.855172|   3| 8856|Europe/Copenhagen|       61|\n",
            "|   9|      Aarhus Airport| AAR|EKAH|         Aarhus|56.303295|  10.619129|  71| 3919|Europe/Copenhagen|       61|\n",
            "|7569|  Aarhus Sea Airport| QEA|EKAC|         Aarhus|56.151993|  10.247725|   1|  139|Europe/Copenhagen|       61|\n",
            "|1596|     Aasiaat Airport| JEG|BGAA|        Aasiaat| 68.72184| -52.784698|  74|  574|  America/Godthab|       87|\n",
            "|  12|      Abadan Airport| ABD|OIAA|         Abadan|30.371111|  48.228329|  19| 2099|      Asia/Tehran|      104|\n",
            "|  11|Abakan Internatio...| ABA|UNAA|         Abakan|53.740002|  91.385002| 831| 2146| Asia/Krasnoyarsk|      182|\n",
            "|4146|Abbotsford Intern...| YXX|CYXX|     Abbotsford|49.025269|-122.360001| 195| 7188|America/Vancouver|       40|\n",
            "|  53|     Abemama Airport| AEA|NGTB|  Abemama Atoll| 0.490833| 173.828598|   8|  248|   Pacific/Tarawa|      116|\n",
            "|  27|Aberdeen Internat...| ABZ|EGPD|       Aberdeen|57.201939|   -2.19777| 215|20546|    Europe/London|      235|\n",
            "|  20|Aberdeen Regional...| ABR|KABR|       Aberdeen|45.439999| -98.419998|1302| 3549|  America/Chicago|      236|\n",
            "|  80|Abha Regional Air...| AHB|OEAB|           Abha| 18.24036|   42.65662|6858|16314|      Asia/Riyadh|      194|\n",
            "|  16|Abidjan Port Boue...| ABJ|DIAP|        Abidjan| 5.261386|   -3.92629|  21|11907|   Africa/Abidjan|       54|\n",
            "|  15|Abilene Regional ...| ABI|KABI|        Abilene|32.411301| -99.681801|1790| 5984|  America/Chicago|      236|\n",
            "|7403|Abingdon Virginia...| VJI|KVJI|       Abingdon|36.686111| -82.033333|2088| 1778| America/New_York|      236|\n",
            "| 251|Abu Dhabi Al Bate...| AZI|OMAD|      Abu Dhabi|24.428329|   54.45808|  16| 1165|       Asia/Dubai|      234|\n",
            "|6183|Abu Dhabi Al Dhaf...| DHF|OMAM|      Abu Dhabi|24.248199|  54.547699|  77|  119|       Asia/Dubai|      234|\n",
            "| 220|Abu Dhabi Zayed I...| AUH|OMAA|      Abu Dhabi|24.442856|  54.651474|  62|74044|       Asia/Dubai|      234|\n",
            "|6156|Abu Musa Island A...| AEU|OIBA|Abu Musa Island|  25.8757|  55.033001|  23|   44|      Asia/Tehran|      104|\n",
            "+----+--------------------+----+----+---------------+---------+-----------+----+-----+-----------------+---------+\n",
            "only showing top 20 rows\n",
            "\n"
          ]
        }
      ],
      "source": [
        "airport_df.show()"
      ]
    },
    {
      "cell_type": "code",
      "execution_count": null,
      "metadata": {
        "colab": {
          "base_uri": "https://localhost:8080/"
        },
        "id": "AQz-nWM17WZs",
        "outputId": "44474520-1384-44ba-eb54-5760d7f0448d"
      },
      "outputs": [
        {
          "name": "stdout",
          "output_type": "stream",
          "text": [
            "+----+--------------------+----+----+---------+-----------+-----+------+----------+\n",
            "|  id|         airportName|iata|icao|      lat|        lon| size|cityId|timezoneId|\n",
            "+----+--------------------+----+----+---------+-----------+-----+------+----------+\n",
            "|4206|      Masset Airport| ZMT|CZMT|    54.02|-132.119995| 1334|  2851|        32|\n",
            "|7633|      Maxton Airport| MXE|KMEB|34.792423| -79.369392|  435|  2870|       104|\n",
            "|  21|  Abu Simbel Airport| ABS|HEBL| 22.37595|  31.611719|   70|    18|       264|\n",
            "|2094|Matamoros Interna...| MAM|MMMA| 25.76989| -97.525299| 1248|  2857|        67|\n",
            "|6909|Matak Tarempa Air...| MWK|WIOM|  3.34812| 106.258003|    3|  2856|       306|\n",
            "|7403|Abingdon Virginia...| VJI|KVJI|36.686111| -82.033333| 1778|    15|       104|\n",
            "|2273|Maumere Frans Sed...| MOF|WATC| -8.64064| 122.236801|  883|  2866|       319|\n",
            "|  11|Abakan Internatio...| ABA|UNAA|53.740002|  91.385002| 2146|     7|       308|\n",
            "|  16|Abidjan Port Boue...| ABJ|DIAP| 5.261386|   -3.92629|11907|    13|         1|\n",
            "|2335|        Maun Airport| MUB|FBMN| -19.9725|   23.43108| 2957|  2867|       212|\n",
            "|  20|Aberdeen Regional...| ABR|KABR|45.439999| -98.419998| 3549|    10|        65|\n",
            "|  20|Aberdeen Regional...| ABR|KABR|45.439999| -98.419998| 3549|    11|        65|\n",
            "|2341|Maturin Internati...| MUN|SVMT| 9.749067|   -63.1534| 1092|  2864|        90|\n",
            "|1596|     Aasiaat Airport| JEG|BGAA| 68.72184| -52.784698|  574|     5|       158|\n",
            "|7533|Mattoon/Charlesto...| MTO|KMTO|39.477982| -88.279648| 1579|  2863|        65|\n",
            "|4146|Abbotsford Intern...| YXX|CYXX|49.025269|-122.360001| 7188|     8|        32|\n",
            "| 251|Abu Dhabi Al Bate...| AZI|OMAD|24.428329|   54.45808| 1165|    16|       274|\n",
            "|6183|Abu Dhabi Al Dhaf...| DHF|OMAM|24.248199|  54.547699|  119|    16|       274|\n",
            "| 220|Abu Dhabi Zayed I...| AUH|OMAA|24.442856|  54.651474|74044|    16|       274|\n",
            "|6653|       Maues Airport| MBZ|SWMW| -3.37217|   -57.7248|  150|  2865|        91|\n",
            "+----+--------------------+----+----+---------+-----------+-----+------+----------+\n",
            "only showing top 20 rows\n",
            "\n"
          ]
        }
      ],
      "source": [
        "airport_dim = airport_df \\\n",
        "                            .join( # Replace 'timezone' with 'timezoneId'\n",
        "                                timezones_dim,\n",
        "                                'timezoneName',\n",
        "                                'left'\n",
        "                              ) \\\n",
        "                            .join( # Replace 'city' with 'cityId'\n",
        "                                cities_dim,\n",
        "                                airport_df.city == cities_dim.city,\n",
        "                                'left'\n",
        "                              ) \\\n",
        "                            .select(\n",
        "                                [ 'id', 'airportName', 'iata', 'icao', 'lat', 'lon', 'size', 'cityId', 'timezoneId' ]\n",
        "                            )\n",
        "\n",
        "airport_dim.show()"
      ]
    },
    {
      "cell_type": "markdown",
      "metadata": {
        "id": "xQYIdiXE5608"
      },
      "source": [
        "# Aircraft information"
      ]
    },
    {
      "cell_type": "markdown",
      "metadata": {
        "id": "UdcQQYtdpeo4"
      },
      "source": [
        "## Importing JSON"
      ]
    },
    {
      "cell_type": "code",
      "execution_count": null,
      "metadata": {
        "id": "OdWQ9JS2cav4"
      },
      "outputs": [],
      "source": [
        "aircraft_file = 'aircraft_data.json'\n",
        "aircraft_url = \"https://flight-radar1.p.rapidapi.com/aircrafts/list\"\n",
        "\n",
        "aircraft_data = getData(path + aircraft_file, aircraft_url, headers=headers)"
      ]
    },
    {
      "cell_type": "markdown",
      "metadata": {
        "id": "Ko3v3glYpyJK"
      },
      "source": [
        "## Saving aircarft info in a DataFrame"
      ]
    },
    {
      "cell_type": "code",
      "execution_count": null,
      "metadata": {
        "id": "w9R8uhXk82Br"
      },
      "outputs": [],
      "source": [
        "aircraft_rows = []\n",
        "\n",
        "for family in aircraft_data:\n",
        "  for model in family['models']:\n",
        "      model['family'] = family['description']\n",
        "      aircraft_rows.append(Row(**model))"
      ]
    },
    {
      "cell_type": "code",
      "execution_count": null,
      "metadata": {
        "colab": {
          "base_uri": "https://localhost:8080/"
        },
        "id": "KQe3-5Ka_Vz2",
        "outputId": "32c8b54b-f987-4645-9c74-481f1cdc2313"
      },
      "outputs": [
        {
          "name": "stdout",
          "output_type": "stream",
          "text": [
            "+----------------+----+------------------+\n",
            "|    aircraftName|code|            family|\n",
            "+----------------+----+------------------+\n",
            "| Airbus A220-100|BCS1|Airbus A220 family|\n",
            "| Airbus A220-300|BCS3|Airbus A220 family|\n",
            "|     Airbus A300|A30B|Airbus A300 family|\n",
            "| Airbus A300-600|A306|Airbus A300 family|\n",
            "|     Airbus A310|A310|Airbus A310 family|\n",
            "|     Airbus A318|A318|Airbus A320 family|\n",
            "|     Airbus A319|A319|Airbus A320 family|\n",
            "|  Airbus A319neo|A19N|Airbus A320 family|\n",
            "|     Airbus A320|A320|Airbus A320 family|\n",
            "|  Airbus A320neo|A20N|Airbus A320 family|\n",
            "|     Airbus A321|A321|Airbus A320 family|\n",
            "|  Airbus A321neo|A21N|Airbus A320 family|\n",
            "| Airbus A330-200|A332|Airbus A330 family|\n",
            "| Airbus A330-300|A333|Airbus A330 family|\n",
            "| Airbus A330-900|A339|Airbus A330 family|\n",
            "| Airbus A340-200|A342|Airbus A340 family|\n",
            "| Airbus A340-300|A343|Airbus A340 family|\n",
            "| Airbus A340-500|A345|Airbus A340 family|\n",
            "| Airbus A340-600|A346|Airbus A340 family|\n",
            "|Airbus A350-1000|A35K|Airbus A350 family|\n",
            "+----------------+----+------------------+\n",
            "only showing top 20 rows\n",
            "\n"
          ]
        }
      ],
      "source": [
        "aircraft_df = spark.createDataFrame(aircraft_rows, schema = ['aircraftName', 'code', 'family'])\n",
        "\n",
        "aircraft_df.show()"
      ]
    },
    {
      "cell_type": "code",
      "execution_count": null,
      "metadata": {
        "colab": {
          "base_uri": "https://localhost:8080/"
        },
        "id": "X0ufjI6YEIlM",
        "outputId": "f19e1fda-0a47-4698-ec4e-df93f85d3095"
      },
      "outputs": [
        {
          "name": "stdout",
          "output_type": "stream",
          "text": [
            "+--------------------+-----+\n",
            "|              family|count|\n",
            "+--------------------+-----+\n",
            "|   Boeing 737 family|   11|\n",
            "|  Airbus A320 family|    7|\n",
            "|   Boeing 747 family|    5|\n",
            "|Bombardier CRJ fa...|    5|\n",
            "|McDonnell Douglas...|    5|\n",
            "|Embraer E-Jet family|    5|\n",
            "|  Airbus A340 family|    4|\n",
            "|   Boeing 777 family|    4|\n",
            "|Bombardier Dash 8...|    4|\n",
            "|  Airbus A330 family|    3|\n",
            "|      Avro RJ family|    3|\n",
            "|       ATR 42 family|    3|\n",
            "|       ATR 72 family|    3|\n",
            "|       Fokker family|    3|\n",
            "|   Boeing 787 family|    3|\n",
            "|   Boeing 767 family|    3|\n",
            "|  Airbus A220 family|    2|\n",
            "|  Airbus A350 family|    2|\n",
            "|  Airbus A300 family|    2|\n",
            "|   Boeing 757 family|    2|\n",
            "+--------------------+-----+\n",
            "only showing top 20 rows\n",
            "\n"
          ]
        }
      ],
      "source": [
        "aircraft_df.groupBy(\"family\").count().sort(\"count\", ascending=False).show()"
      ]
    },
    {
      "cell_type": "markdown",
      "metadata": {
        "id": "MD-JvgFUqAW4"
      },
      "source": [
        "## Creating aircraft_family_dim"
      ]
    },
    {
      "cell_type": "code",
      "execution_count": null,
      "metadata": {
        "colab": {
          "base_uri": "https://localhost:8080/"
        },
        "id": "VNX5hRm9qISS",
        "outputId": "fa24cf6f-43f5-429e-ba1f-dd8b8a620684"
      },
      "outputs": [
        {
          "name": "stdout",
          "output_type": "stream",
          "text": [
            "+--------------------+--------+\n",
            "|              family|familyId|\n",
            "+--------------------+--------+\n",
            "|       ATR 42 family|       1|\n",
            "|       ATR 72 family|       2|\n",
            "|  Airbus A220 family|       3|\n",
            "|  Airbus A300 family|       4|\n",
            "|  Airbus A310 family|       5|\n",
            "|  Airbus A320 family|       6|\n",
            "|  Airbus A330 family|       7|\n",
            "|  Airbus A340 family|       8|\n",
            "|  Airbus A350 family|       9|\n",
            "|     Airbus A380-800|      10|\n",
            "|      Avro RJ family|      11|\n",
            "|   Boeing 737 family|      12|\n",
            "|   Boeing 747 family|      13|\n",
            "|   Boeing 757 family|      14|\n",
            "|   Boeing 767 family|      15|\n",
            "|   Boeing 777 family|      16|\n",
            "|   Boeing 787 family|      17|\n",
            "|Bombardier CRJ fa...|      18|\n",
            "|Bombardier Dash 8...|      19|\n",
            "|Embraer E-Jet family|      20|\n",
            "+--------------------+--------+\n",
            "only showing top 20 rows\n",
            "\n"
          ]
        }
      ],
      "source": [
        "aircraft_family_dim = aircraft_df \\\n",
        "                                  .select('family') \\\n",
        "                                  .distinct() \\\n",
        "                                  .withColumn('familyId', row_number().over( Window.orderBy('family') ))\n",
        "\n",
        "aircraft_family_dim.show()"
      ]
    },
    {
      "cell_type": "markdown",
      "metadata": {
        "id": "OAOlp74rqmB4"
      },
      "source": [
        "## Creating aircraft_dim"
      ]
    },
    {
      "cell_type": "code",
      "execution_count": null,
      "metadata": {
        "colab": {
          "base_uri": "https://localhost:8080/"
        },
        "id": "zVmq2s3bqkft",
        "outputId": "364c91dd-6fe8-4f53-fe3b-98dc4434eb15"
      },
      "outputs": [
        {
          "name": "stdout",
          "output_type": "stream",
          "text": [
            "+----------------+----+--------+\n",
            "|    aircraftName|code|familyId|\n",
            "+----------------+----+--------+\n",
            "| Airbus A220-100|BCS1|       3|\n",
            "| Airbus A220-300|BCS3|       3|\n",
            "| Airbus A330-200|A332|       7|\n",
            "| Airbus A330-300|A333|       7|\n",
            "| Airbus A330-900|A339|       7|\n",
            "| Airbus A340-200|A342|       8|\n",
            "| Airbus A340-300|A343|       8|\n",
            "| Airbus A340-500|A345|       8|\n",
            "| Airbus A340-600|A346|       8|\n",
            "|     Airbus A310|A310|       5|\n",
            "|Airbus A350-1000|A35K|       9|\n",
            "| Airbus A350-900|A359|       9|\n",
            "|     Airbus A300|A30B|       4|\n",
            "| Airbus A300-600|A306|       4|\n",
            "|     Airbus A318|A318|       6|\n",
            "|     Airbus A319|A319|       6|\n",
            "|  Airbus A319neo|A19N|       6|\n",
            "|     Airbus A320|A320|       6|\n",
            "|  Airbus A320neo|A20N|       6|\n",
            "|     Airbus A321|A321|       6|\n",
            "+----------------+----+--------+\n",
            "only showing top 20 rows\n",
            "\n"
          ]
        }
      ],
      "source": [
        "aircraft_dim = aircraft_df \\\n",
        "                          .join(\n",
        "                              aircraft_family_dim,\n",
        "                              'family',\n",
        "                              'left'\n",
        "                          ) \\\n",
        "                          .select( [ 'aircraftName', 'code', 'familyId']) \\\n",
        "\n",
        "aircraft_dim.show()"
      ]
    },
    {
      "cell_type": "markdown",
      "metadata": {
        "id": "tipcqP9pE9BO"
      },
      "source": [
        "# Flights"
      ]
    },
    {
      "cell_type": "markdown",
      "metadata": {
        "id": "xUc63hQKxz2v"
      },
      "source": [
        "##  Most tracked"
      ]
    },
    {
      "cell_type": "markdown",
      "metadata": {
        "id": "e3IvoopitTAh"
      },
      "source": [
        "### Importing JSON"
      ]
    },
    {
      "cell_type": "code",
      "execution_count": null,
      "metadata": {
        "id": "LOYtLqWm9200"
      },
      "outputs": [],
      "source": [
        "def get_flight_data(path, url, headers):\n",
        "  try:\n",
        "    f = open(path)\n",
        "    data = json.load(f)\n",
        "\n",
        "  except:\n",
        "    response = requests.get(url, headers=headers)\n",
        "\n",
        "    print(response)\n",
        "\n",
        "    data = response.json()[\"data\"]\n",
        "\n",
        "    with open(path, 'w') as f:\n",
        "      json.dump(data, f)\n",
        "\n",
        "  return(data)"
      ]
    },
    {
      "cell_type": "code",
      "execution_count": null,
      "metadata": {
        "id": "XjeFXLKlFE0e"
      },
      "outputs": [],
      "source": [
        "flight_url = \"https://flight-radar1.p.rapidapi.com/flights/list-most-tracked\"\n",
        "flight_file = \"flight_data.json\"\n",
        "\n",
        "flight_data = get_flight_data(path + flight_file, flight_url, headers)"
      ]
    },
    {
      "cell_type": "markdown",
      "metadata": {
        "id": "2fT3JhMztXvd"
      },
      "source": [
        "### Saving info in a DataFrame"
      ]
    },
    {
      "cell_type": "code",
      "execution_count": null,
      "metadata": {
        "id": "L8vNao_m0_8p"
      },
      "outputs": [],
      "source": [
        "# Converting list of Dictionaries in a list of Rows\n",
        "fligth_rows = [Row(**flight) for flight in flight_data]"
      ]
    },
    {
      "cell_type": "code",
      "execution_count": null,
      "metadata": {
        "id": "jskuneFNtoyu"
      },
      "outputs": [],
      "source": [
        "# Defining schema\n",
        "flight_schema = StructType([\n",
        "    StructField('flightId', StringType()),\n",
        "    StructField('flight', StringType()),\n",
        "    StructField('callsign', StringType()),\n",
        "    StructField('squawk', StringType()),\n",
        "    StructField('clicks', IntegerType()),\n",
        "    StructField('from_iata', StringType()),\n",
        "    StructField('from_city', StringType()),\n",
        "    StructField('to_iata', StringType()),\n",
        "    StructField('to_city', StringType()),\n",
        "    StructField('model', StringType()),\n",
        "    StructField('type', StringType())\n",
        "])"
      ]
    },
    {
      "cell_type": "code",
      "execution_count": null,
      "metadata": {
        "colab": {
          "base_uri": "https://localhost:8080/"
        },
        "id": "YbexXdDc1lXz",
        "outputId": "e24a3e52-10ed-46ee-9f48-c79b2cdb5e28"
      },
      "outputs": [
        {
          "name": "stdout",
          "output_type": "stream",
          "text": [
            "+--------+------+--------+------+------+---------+-------+-----+\n",
            "|flightId|flight|callsign|squawk|clicks|from_iata|to_iata|model|\n",
            "+--------+------+--------+------+------+---------+-------+-----+\n",
            "|3639009f|PLF250|  PLF250|  NULL|  2576|      AOI|    WAW| C130|\n",
            "|363970db|  NULL|   CFARA|  NULL|  1136|      BZZ|   NULL|  SC7|\n",
            "|36392e15| LH410|  DLH410|  NULL|  1124|      MUC|    JFK| A388|\n",
            "|36393bf5| LO784|  LOT4KK|  NULL|   732|      RIX|    WAW| B738|\n",
            "|363953b3|  NULL|   2HELI|  NULL|   576|      QKE|   NULL| A109|\n",
            "|36397193|  LX54|  SWR54G|  NULL|   368|      ZRH|    BOS| A333|\n",
            "|3638e3f9|  NULL|    NULL|  NULL|   360|     NULL|   NULL|   P8|\n",
            "|35f37370|  NULL| HBAL676|  NULL|   320|     NULL|   NULL| BALL|\n",
            "|363974af| FI529|  ICE15M|  NULL|   312|      BER|    KEF| B39M|\n",
            "|36387807|  EK87|  UAE36P|  NULL|   304|      DXB|    ZRH| A388|\n",
            "+--------+------+--------+------+------+---------+-------+-----+\n",
            "\n"
          ]
        }
      ],
      "source": [
        "fligth_df = spark \\\n",
        "                .createDataFrame( # Creating DataFrame\n",
        "                    fligth_rows, schema = flight_schema\n",
        "                    ) \\\n",
        "                .select( # Removing 'from_city' and 'to_city' since can be retreved using 'from_iata' e 'to_iata'.\n",
        "                         # Removing aircraft 'type' since can be retreaved using 'model'\n",
        "                    [ 'flightId', 'flight', 'callsign', 'squawk', 'clicks', 'from_iata', 'to_iata', 'model']\n",
        "                    )\n",
        "\n",
        "fligth_df.show()"
      ]
    },
    {
      "cell_type": "code",
      "execution_count": null,
      "metadata": {
        "id": "Ua8ghWlWvwOr"
      },
      "outputs": [],
      "source": []
    }
  ],
  "metadata": {
    "colab": {
      "provenance": [],
      "toc_visible": true
    },
    "kernelspec": {
      "display_name": "Python 3",
      "name": "python3"
    },
    "language_info": {
      "name": "python"
    }
  },
  "nbformat": 4,
  "nbformat_minor": 0
}
